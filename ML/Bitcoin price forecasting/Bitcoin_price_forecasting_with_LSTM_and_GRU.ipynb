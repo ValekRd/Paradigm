{
 "cells": [
  {
   "cell_type": "markdown",
   "metadata": {
    "_cell_guid": "6fcdcf24-cfee-4c50-b031-db07e9fca09f",
    "_uuid": "b06ac502816f0e04f7b30e248ee2228351839f37"
   },
   "source": [
    "---\n",
    "<u><h1>Bitcoin Price forecasting with LSTM and GRU</h1></u>\n",
    "---\n",
    "---"
   ]
  },
  {
   "cell_type": "markdown",
   "metadata": {},
   "source": [
    "https://medium.com/activewizards-machine-learning-company/bitcoin-price-forecasting-with-deep-learning-algorithms-eb578a2387a3"
   ]
  },
  {
   "cell_type": "markdown",
   "metadata": {
    "_cell_guid": "633e6b60-6a73-4872-84fe-a8d5609690f4",
    "_uuid": "4d752f92c93e81968730924492173a8df65c0d82"
   },
   "source": [
    "Bitcoin is the first decentralized digital currency. This means it is not governed by any central bank or some other authority. This cryptocurrency was created in the 2009 year but it becomes extremely popular in the 2017 year. Some experts call bitcoin \"the currency of the future\" or even lead it as an example of the social revolution. The bitcoin price has increased several times during the 2017 year. At the same time, it is very volatile. Many economic entities are interested in tools for forecasting the bitcoin prices. It is especially important for existing or potential investors and for government structures. The last needs to be ready for significant price movements to prepare consistent economic policy. So, the demand for Bitcoin price prediction mechanism is high.\n",
    "\n",
    "This notebook demonstrates the prediction of the bitcoin price by the neural network model. We are using 2-layers long short term memory (LSTM) as well as Gated Recurrent Unit (GRU) architecture of the Recurrent neural network (RNN). You can read more about these types of NN here:\n",
    "\n",
    "* https://deeplearning4j.org/lstm.html\n",
    "* http://colah.github.io/posts/2015-08-Understanding-LSTMs/\n",
    "* https://arxiv.org/pdf/1412.3555v1.pdf\n",
    "* http://karpathy.github.io/2015/05/21/rnn-effectiveness/\n",
    "\n",
    "The dataset we are using is available here: [Bitcoin Historical Data](https://www.kaggle.com/mczielinski/bitcoin-historical-data/data)\n",
    "\n",
    "The first thing we do is **importing** all the necessary python libraries."
   ]
  },
  {
   "cell_type": "code",
   "execution_count": 1,
   "metadata": {
    "_cell_guid": "bebacf25-09bb-48db-959e-e24e0d597042",
    "_uuid": "275f57000394bcd304aadac3297c68ae4b9438f2"
   },
   "outputs": [
    {
     "name": "stderr",
     "output_type": "stream",
     "text": [
      "Using TensorFlow backend.\n"
     ]
    },
    {
     "data": {
      "text/html": [
       "        <script type=\"text/javascript\">\n",
       "        window.PlotlyConfig = {MathJaxConfig: 'local'};\n",
       "        if (window.MathJax) {MathJax.Hub.Config({SVG: {font: \"STIX-Web\"}});}\n",
       "        if (typeof require !== 'undefined') {\n",
       "        require.undef(\"plotly\");\n",
       "        requirejs.config({\n",
       "            paths: {\n",
       "                'plotly': ['https://cdn.plot.ly/plotly-latest.min']\n",
       "            }\n",
       "        });\n",
       "        require(['plotly'], function(Plotly) {\n",
       "            window._Plotly = Plotly;\n",
       "        });\n",
       "        }\n",
       "        </script>\n",
       "        "
      ]
     },
     "metadata": {},
     "output_type": "display_data"
    }
   ],
   "source": [
    "import warnings\n",
    "warnings.filterwarnings(\"ignore\")\n",
    "\n",
    "import numpy as np\n",
    "import pandas as pd\n",
    "import statsmodels.api as sm\n",
    "from scipy import stats\n",
    "from sklearn.metrics import mean_squared_error\n",
    "from math import sqrt\n",
    "from random import randint\n",
    "from keras.models import Sequential\n",
    "from keras.layers import Dense\n",
    "from keras.layers import LSTM\n",
    "from keras.layers import GRU\n",
    "from keras.callbacks import EarlyStopping\n",
    "from keras import initializers\n",
    "from matplotlib import pyplot\n",
    "from datetime import datetime\n",
    "from matplotlib import pyplot as plt\n",
    "import plotly.offline as py\n",
    "import plotly.graph_objs as go\n",
    "py.init_notebook_mode(connected=True)\n",
    "%matplotlib inline"
   ]
  },
  {
   "cell_type": "markdown",
   "metadata": {
    "_cell_guid": "b429cc14-79ea-4d7b-a712-ee6aab2c6746",
    "_uuid": "a730e42a11f2a2f5f42eb01e0e056fcb6e9cf5dd"
   },
   "source": [
    "Now we **load the dataset** in the memory and testing it for the presence of the null values:"
   ]
  },
  {
   "cell_type": "code",
   "execution_count": 2,
   "metadata": {
    "_cell_guid": "e78285ac-c23e-4862-ba33-3f78c3f01209",
    "_uuid": "ee56fb2e069263d2e69988e9e505271d7962e6ba"
   },
   "outputs": [
    {
     "data": {
      "text/plain": [
       "True"
      ]
     },
     "execution_count": 2,
     "metadata": {},
     "output_type": "execute_result"
    }
   ],
   "source": [
    "data = pd.read_csv('data/bitstampUSD_1-min_data_2012-01-01_to_2019-08-12.csv')\n",
    "data.isnull().values.any()"
   ]
  },
  {
   "cell_type": "markdown",
   "metadata": {
    "_cell_guid": "7f4dfa83-0ed9-42ee-865d-0112a168b1b8",
    "_uuid": "9aef2e2ea28556c94e65a644a5502baa602b1f48"
   },
   "source": [
    "We can see that there are not null values. Now we want to preview the head of the dataset to know the structure of the data:"
   ]
  },
  {
   "cell_type": "code",
   "execution_count": 3,
   "metadata": {
    "_cell_guid": "692083c4-1992-4f26-a0be-be414b377fa2",
    "_uuid": "906e9ec3fa31cf4834bd518713cb8b8d42d8d57d"
   },
   "outputs": [
    {
     "data": {
      "text/html": [
       "<div>\n",
       "<style scoped>\n",
       "    .dataframe tbody tr th:only-of-type {\n",
       "        vertical-align: middle;\n",
       "    }\n",
       "\n",
       "    .dataframe tbody tr th {\n",
       "        vertical-align: top;\n",
       "    }\n",
       "\n",
       "    .dataframe thead th {\n",
       "        text-align: right;\n",
       "    }\n",
       "</style>\n",
       "<table border=\"1\" class=\"dataframe\">\n",
       "  <thead>\n",
       "    <tr style=\"text-align: right;\">\n",
       "      <th></th>\n",
       "      <th>Timestamp</th>\n",
       "      <th>Open</th>\n",
       "      <th>High</th>\n",
       "      <th>Low</th>\n",
       "      <th>Close</th>\n",
       "      <th>Volume_(BTC)</th>\n",
       "      <th>Volume_(Currency)</th>\n",
       "      <th>Weighted_Price</th>\n",
       "    </tr>\n",
       "  </thead>\n",
       "  <tbody>\n",
       "    <tr>\n",
       "      <th>0</th>\n",
       "      <td>1325317920</td>\n",
       "      <td>4.39</td>\n",
       "      <td>4.39</td>\n",
       "      <td>4.39</td>\n",
       "      <td>4.39</td>\n",
       "      <td>0.455581</td>\n",
       "      <td>2.0</td>\n",
       "      <td>4.39</td>\n",
       "    </tr>\n",
       "    <tr>\n",
       "      <th>1</th>\n",
       "      <td>1325317980</td>\n",
       "      <td>NaN</td>\n",
       "      <td>NaN</td>\n",
       "      <td>NaN</td>\n",
       "      <td>NaN</td>\n",
       "      <td>NaN</td>\n",
       "      <td>NaN</td>\n",
       "      <td>NaN</td>\n",
       "    </tr>\n",
       "    <tr>\n",
       "      <th>2</th>\n",
       "      <td>1325318040</td>\n",
       "      <td>NaN</td>\n",
       "      <td>NaN</td>\n",
       "      <td>NaN</td>\n",
       "      <td>NaN</td>\n",
       "      <td>NaN</td>\n",
       "      <td>NaN</td>\n",
       "      <td>NaN</td>\n",
       "    </tr>\n",
       "    <tr>\n",
       "      <th>3</th>\n",
       "      <td>1325318100</td>\n",
       "      <td>NaN</td>\n",
       "      <td>NaN</td>\n",
       "      <td>NaN</td>\n",
       "      <td>NaN</td>\n",
       "      <td>NaN</td>\n",
       "      <td>NaN</td>\n",
       "      <td>NaN</td>\n",
       "    </tr>\n",
       "    <tr>\n",
       "      <th>4</th>\n",
       "      <td>1325318160</td>\n",
       "      <td>NaN</td>\n",
       "      <td>NaN</td>\n",
       "      <td>NaN</td>\n",
       "      <td>NaN</td>\n",
       "      <td>NaN</td>\n",
       "      <td>NaN</td>\n",
       "      <td>NaN</td>\n",
       "    </tr>\n",
       "    <tr>\n",
       "      <th>5</th>\n",
       "      <td>1325318220</td>\n",
       "      <td>NaN</td>\n",
       "      <td>NaN</td>\n",
       "      <td>NaN</td>\n",
       "      <td>NaN</td>\n",
       "      <td>NaN</td>\n",
       "      <td>NaN</td>\n",
       "      <td>NaN</td>\n",
       "    </tr>\n",
       "    <tr>\n",
       "      <th>6</th>\n",
       "      <td>1325318280</td>\n",
       "      <td>NaN</td>\n",
       "      <td>NaN</td>\n",
       "      <td>NaN</td>\n",
       "      <td>NaN</td>\n",
       "      <td>NaN</td>\n",
       "      <td>NaN</td>\n",
       "      <td>NaN</td>\n",
       "    </tr>\n",
       "    <tr>\n",
       "      <th>7</th>\n",
       "      <td>1325318340</td>\n",
       "      <td>NaN</td>\n",
       "      <td>NaN</td>\n",
       "      <td>NaN</td>\n",
       "      <td>NaN</td>\n",
       "      <td>NaN</td>\n",
       "      <td>NaN</td>\n",
       "      <td>NaN</td>\n",
       "    </tr>\n",
       "    <tr>\n",
       "      <th>8</th>\n",
       "      <td>1325318400</td>\n",
       "      <td>NaN</td>\n",
       "      <td>NaN</td>\n",
       "      <td>NaN</td>\n",
       "      <td>NaN</td>\n",
       "      <td>NaN</td>\n",
       "      <td>NaN</td>\n",
       "      <td>NaN</td>\n",
       "    </tr>\n",
       "    <tr>\n",
       "      <th>9</th>\n",
       "      <td>1325318460</td>\n",
       "      <td>NaN</td>\n",
       "      <td>NaN</td>\n",
       "      <td>NaN</td>\n",
       "      <td>NaN</td>\n",
       "      <td>NaN</td>\n",
       "      <td>NaN</td>\n",
       "      <td>NaN</td>\n",
       "    </tr>\n",
       "  </tbody>\n",
       "</table>\n",
       "</div>"
      ],
      "text/plain": [
       "    Timestamp  Open  High   Low  Close  Volume_(BTC)  Volume_(Currency)  \\\n",
       "0  1325317920  4.39  4.39  4.39   4.39      0.455581                2.0   \n",
       "1  1325317980   NaN   NaN   NaN    NaN           NaN                NaN   \n",
       "2  1325318040   NaN   NaN   NaN    NaN           NaN                NaN   \n",
       "3  1325318100   NaN   NaN   NaN    NaN           NaN                NaN   \n",
       "4  1325318160   NaN   NaN   NaN    NaN           NaN                NaN   \n",
       "5  1325318220   NaN   NaN   NaN    NaN           NaN                NaN   \n",
       "6  1325318280   NaN   NaN   NaN    NaN           NaN                NaN   \n",
       "7  1325318340   NaN   NaN   NaN    NaN           NaN                NaN   \n",
       "8  1325318400   NaN   NaN   NaN    NaN           NaN                NaN   \n",
       "9  1325318460   NaN   NaN   NaN    NaN           NaN                NaN   \n",
       "\n",
       "   Weighted_Price  \n",
       "0            4.39  \n",
       "1             NaN  \n",
       "2             NaN  \n",
       "3             NaN  \n",
       "4             NaN  \n",
       "5             NaN  \n",
       "6             NaN  \n",
       "7             NaN  \n",
       "8             NaN  \n",
       "9             NaN  "
      ]
     },
     "execution_count": 3,
     "metadata": {},
     "output_type": "execute_result"
    }
   ],
   "source": [
    "data.head(10)"
   ]
  },
  {
   "cell_type": "markdown",
   "metadata": {
    "_cell_guid": "443a79eb-3327-4b72-b491-975d5f40ca65",
    "_uuid": "dc16d401a088cd40fc4b69433afce913ce8d4f59"
   },
   "source": [
    "We want to **transform the data** to get the average price grouped by the day and to see usual datetime format (not a timestamp as above)."
   ]
  },
  {
   "cell_type": "code",
   "execution_count": 4,
   "metadata": {
    "_cell_guid": "b17c4a36-78ca-4401-b1a4-366232e30c48",
    "_uuid": "81683953a2083169f9a5c48317a8219650e0805c"
   },
   "outputs": [
    {
     "data": {
      "text/plain": [
       "date\n",
       "2011-12-31    4.471603\n",
       "2012-01-01    4.806667\n",
       "2012-01-02    5.000000\n",
       "2012-01-03    5.252500\n",
       "2012-01-04    5.208159\n",
       "Name: Weighted_Price, dtype: float64"
      ]
     },
     "execution_count": 4,
     "metadata": {},
     "output_type": "execute_result"
    }
   ],
   "source": [
    "data['date'] = pd.to_datetime(data['Timestamp'],unit='s').dt.date\n",
    "group = data.groupby('date')\n",
    "Daily_Price = group['Weighted_Price'].mean()\n",
    "\n",
    "Daily_Price.head()"
   ]
  },
  {
   "cell_type": "code",
   "execution_count": 5,
   "metadata": {
    "_cell_guid": "0f744f90-3990-41f3-8acc-6a2de6f41a55",
    "_uuid": "18fbecfb11e4c703c849104f9bfdd204d6cfa92c"
   },
   "outputs": [
    {
     "data": {
      "text/plain": [
       "date\n",
       "2019-08-08    11801.348742\n",
       "2019-08-09    11819.342193\n",
       "2019-08-10    11578.771029\n",
       "2019-08-11    11378.232876\n",
       "2019-08-12    11540.450291\n",
       "Name: Weighted_Price, dtype: float64"
      ]
     },
     "execution_count": 5,
     "metadata": {},
     "output_type": "execute_result"
    }
   ],
   "source": [
    "Daily_Price.tail()"
   ]
  },
  {
   "cell_type": "markdown",
   "metadata": {
    "_cell_guid": "624771f3-2ed4-4acc-9d49-b3f321af6b1a",
    "_uuid": "44c2f15458482dcd8aa45df13eb28194387714c5"
   },
   "source": [
    "We need to **split our dataset** because we want to train and test the model only on some chunk of the data. So, in the next cell, we are counting the necessary parameters for splitting (number of days between some dates). We want to train our model on the data from January 1, 2016 until August 21, 2017 and to test the model on the data from August 21, 2017 until October 20, 2017."
   ]
  },
  {
   "cell_type": "code",
   "execution_count": 6,
   "metadata": {
    "_cell_guid": "67035c16-42c6-4f46-9c8c-406365cf8906",
    "_uuid": "d5b105c489dbff9ef2ba0d1eacfaed90b980488e"
   },
   "outputs": [
    {
     "name": "stdout",
     "output_type": "stream",
     "text": [
      "654\n",
      "61\n",
      "6\n"
     ]
    }
   ],
   "source": [
    "from datetime import date\n",
    "d0 = date(2016, 1, 1)\n",
    "d1 = date(2017, 10, 15)\n",
    "delta = d1 - d0\n",
    "days_look = delta.days + 1\n",
    "print(days_look)\n",
    "\n",
    "d0 = date(2017, 8, 21)\n",
    "d1 = date(2017, 10, 20)\n",
    "delta = d1 - d0\n",
    "days_from_train = delta.days + 1\n",
    "print(days_from_train)\n",
    "\n",
    "d0 = date(2017, 10, 15)\n",
    "d1 = date(2017, 10, 20)\n",
    "delta = d1 - d0\n",
    "days_from_end = delta.days + 1\n",
    "print(days_from_end)"
   ]
  },
  {
   "cell_type": "markdown",
   "metadata": {
    "_cell_guid": "72fdd52a-5612-4fc5-b859-fe3b00d4f629",
    "_uuid": "70ad4eae5a4439512296fdf3ccdef03bca1b43ca"
   },
   "source": [
    "Now we are splitting our data into the train and test set:"
   ]
  },
  {
   "cell_type": "code",
   "execution_count": 7,
   "metadata": {
    "_cell_guid": "45f7400b-950e-40e8-aa4f-95652cb4d5c6",
    "_uuid": "9c463ebfdb3856de059a10a17518bce260457f4c"
   },
   "outputs": [
    {
     "name": "stdout",
     "output_type": "stream",
     "text": [
      "599 61\n"
     ]
    }
   ],
   "source": [
    "df_train= Daily_Price[len(Daily_Price)-days_look-days_from_end:len(Daily_Price)-days_from_train]\n",
    "df_test= Daily_Price[len(Daily_Price)-days_from_train:]\n",
    "\n",
    "print(len(df_train), len(df_test))"
   ]
  },
  {
   "cell_type": "markdown",
   "metadata": {
    "_cell_guid": "2333b0f8-b5a5-40a1-974c-65b0e3e65ba6",
    "_uuid": "2e5109c323c820b619a9fe32b7b62551c14a4fd0"
   },
   "source": [
    "# Exploratory Data Analysis\n",
    "\n",
    "We want to estimate some parameters of our data because this can be useful in the further model designing. \n",
    "The first important thing when forecasting time series is to **check if the data is stationary**. This means that our data is influenced by such factors as trend or seasonality. \n",
    "\n",
    "In the next cell, we concatenate train and test data to make analysis and transformations simultaneously."
   ]
  },
  {
   "cell_type": "code",
   "execution_count": 8,
   "metadata": {
    "_cell_guid": "69ed706e-30e4-468b-b59d-015f01fc9588",
    "_uuid": "1a955cc3ad5420393569fed28fc8c240f3f1a56d"
   },
   "outputs": [],
   "source": [
    "working_data = [df_train, df_test]\n",
    "working_data = pd.concat(working_data)\n",
    "\n",
    "working_data = working_data.reset_index()\n",
    "working_data['date'] = pd.to_datetime(working_data['date'])\n",
    "working_data = working_data.set_index('date')"
   ]
  },
  {
   "cell_type": "markdown",
   "metadata": {
    "_cell_guid": "fcc4bd4e-3887-4780-b989-35892e836998",
    "_uuid": "cb51e299cbbeecf65eb45dbdaa7801b4beb07405"
   },
   "source": [
    "In the next couple of cells, we perform seasonal decomposition of the data to estimate its trend and seasonality. You can see actual price movements on the plot below (\"observed\") as well as the trend and seasonality in our data. "
   ]
  },
  {
   "cell_type": "code",
   "execution_count": 9,
   "metadata": {
    "_cell_guid": "3329159a-05a1-4d3d-ba0c-70ea16739bec",
    "_uuid": "5b48e5c15ad389d7f0821eb1b6a86584091a172d"
   },
   "outputs": [],
   "source": [
    "s = sm.tsa.seasonal_decompose(working_data.Weighted_Price.values, freq=60)"
   ]
  },
  {
   "cell_type": "code",
   "execution_count": 10,
   "metadata": {
    "_cell_guid": "ed7763d4-7677-41f2-91d4-71a2124def45",
    "_uuid": "b2eae438265ab1b409090e228c7a110cec6b29d6"
   },
   "outputs": [
    {
     "data": {
      "application/vnd.plotly.v1+json": {
       "config": {
        "linkText": "Export to plot.ly",
        "plotlyServerURL": "https://plot.ly",
        "showLink": false
       },
       "data": [
        {
         "line": {
          "color": "rgb(244, 146, 65)",
          "width": 4
         },
         "mode": "lines",
         "name": "Trend",
         "type": "scatter",
         "x": [
          0,
          1,
          2,
          3,
          4,
          5,
          6,
          7,
          8,
          9,
          10,
          11,
          12,
          13,
          14,
          15,
          16,
          17,
          18,
          19,
          20,
          21,
          22,
          23,
          24,
          25,
          26,
          27,
          28,
          29,
          30,
          31,
          32,
          33,
          34,
          35,
          36,
          37,
          38,
          39,
          40,
          41,
          42,
          43,
          44,
          45,
          46,
          47,
          48,
          49,
          50,
          51,
          52,
          53,
          54,
          55,
          56,
          57,
          58,
          59,
          60,
          61,
          62,
          63,
          64,
          65,
          66,
          67,
          68,
          69,
          70,
          71,
          72,
          73,
          74,
          75,
          76,
          77,
          78,
          79,
          80,
          81,
          82,
          83,
          84,
          85,
          86,
          87,
          88,
          89,
          90,
          91,
          92,
          93,
          94,
          95,
          96,
          97,
          98,
          99,
          100,
          101,
          102,
          103,
          104,
          105,
          106,
          107,
          108,
          109,
          110,
          111,
          112,
          113,
          114,
          115,
          116,
          117,
          118,
          119,
          120,
          121,
          122,
          123,
          124,
          125,
          126,
          127,
          128,
          129,
          130,
          131,
          132,
          133,
          134,
          135,
          136,
          137,
          138,
          139,
          140,
          141,
          142,
          143,
          144,
          145,
          146,
          147,
          148,
          149,
          150,
          151,
          152,
          153,
          154,
          155,
          156,
          157,
          158,
          159,
          160,
          161,
          162,
          163,
          164,
          165,
          166,
          167,
          168,
          169,
          170,
          171,
          172,
          173,
          174,
          175,
          176,
          177,
          178,
          179,
          180,
          181,
          182,
          183,
          184,
          185,
          186,
          187,
          188,
          189,
          190,
          191,
          192,
          193,
          194,
          195,
          196,
          197,
          198,
          199,
          200,
          201,
          202,
          203,
          204,
          205,
          206,
          207,
          208,
          209,
          210,
          211,
          212,
          213,
          214,
          215,
          216,
          217,
          218,
          219,
          220,
          221,
          222,
          223,
          224,
          225,
          226,
          227,
          228,
          229,
          230,
          231,
          232,
          233,
          234,
          235,
          236,
          237,
          238,
          239,
          240,
          241,
          242,
          243,
          244,
          245,
          246,
          247,
          248,
          249,
          250,
          251,
          252,
          253,
          254,
          255,
          256,
          257,
          258,
          259,
          260,
          261,
          262,
          263,
          264,
          265,
          266,
          267,
          268,
          269,
          270,
          271,
          272,
          273,
          274,
          275,
          276,
          277,
          278,
          279,
          280,
          281,
          282,
          283,
          284,
          285,
          286,
          287,
          288,
          289,
          290,
          291,
          292,
          293,
          294,
          295,
          296,
          297,
          298,
          299,
          300,
          301,
          302,
          303,
          304,
          305,
          306,
          307,
          308,
          309,
          310,
          311,
          312,
          313,
          314,
          315,
          316,
          317,
          318,
          319,
          320,
          321,
          322,
          323,
          324,
          325,
          326,
          327,
          328,
          329,
          330,
          331,
          332,
          333,
          334,
          335,
          336,
          337,
          338,
          339,
          340,
          341,
          342,
          343,
          344,
          345,
          346,
          347,
          348,
          349,
          350,
          351,
          352,
          353,
          354,
          355,
          356,
          357,
          358,
          359,
          360,
          361,
          362,
          363,
          364,
          365,
          366,
          367,
          368,
          369,
          370,
          371,
          372,
          373,
          374,
          375,
          376,
          377,
          378,
          379,
          380,
          381,
          382,
          383,
          384,
          385,
          386,
          387,
          388,
          389,
          390,
          391,
          392,
          393,
          394,
          395,
          396,
          397,
          398,
          399,
          400,
          401,
          402,
          403,
          404,
          405,
          406,
          407,
          408,
          409,
          410,
          411,
          412,
          413,
          414,
          415,
          416,
          417,
          418,
          419,
          420,
          421,
          422,
          423,
          424,
          425,
          426,
          427,
          428,
          429,
          430,
          431,
          432,
          433,
          434,
          435,
          436,
          437,
          438,
          439,
          440,
          441,
          442,
          443,
          444,
          445,
          446,
          447,
          448,
          449,
          450,
          451,
          452,
          453,
          454,
          455,
          456,
          457,
          458,
          459,
          460,
          461,
          462,
          463,
          464,
          465,
          466,
          467,
          468,
          469,
          470,
          471,
          472,
          473,
          474,
          475,
          476,
          477,
          478,
          479,
          480,
          481,
          482,
          483,
          484,
          485,
          486,
          487,
          488,
          489,
          490,
          491,
          492,
          493,
          494,
          495,
          496,
          497,
          498,
          499,
          500,
          501,
          502,
          503,
          504,
          505,
          506,
          507,
          508,
          509,
          510,
          511,
          512,
          513,
          514,
          515,
          516,
          517,
          518,
          519,
          520,
          521,
          522,
          523,
          524,
          525,
          526,
          527,
          528,
          529,
          530,
          531,
          532,
          533,
          534,
          535,
          536,
          537,
          538,
          539,
          540,
          541,
          542,
          543,
          544,
          545,
          546,
          547,
          548,
          549,
          550,
          551,
          552,
          553,
          554,
          555,
          556,
          557,
          558,
          559,
          560,
          561,
          562,
          563,
          564,
          565,
          566,
          567,
          568,
          569,
          570,
          571,
          572,
          573,
          574,
          575,
          576,
          577,
          578,
          579,
          580,
          581,
          582,
          583,
          584,
          585,
          586,
          587,
          588,
          589,
          590,
          591,
          592,
          593,
          594,
          595,
          596,
          597,
          598,
          599,
          600,
          601,
          602,
          603,
          604,
          605,
          606,
          607,
          608,
          609,
          610,
          611,
          612,
          613,
          614,
          615,
          616,
          617,
          618,
          619,
          620,
          621,
          622,
          623,
          624,
          625,
          626,
          627,
          628,
          629,
          630,
          631,
          632,
          633,
          634,
          635,
          636,
          637,
          638,
          639,
          640,
          641,
          642,
          643,
          644,
          645,
          646,
          647,
          648,
          649,
          650,
          651,
          652,
          653,
          654,
          655,
          656,
          657,
          658,
          659
         ],
         "y": [
          null,
          null,
          null,
          null,
          null,
          null,
          null,
          null,
          null,
          null,
          null,
          null,
          null,
          null,
          null,
          null,
          null,
          null,
          null,
          null,
          null,
          null,
          null,
          null,
          null,
          null,
          null,
          null,
          null,
          null,
          9966.759767393454,
          10118.425174287602,
          10260.063381655813,
          10403.498634527157,
          10538.857239511613,
          10685.187170651105,
          10845.63316390357,
          10997.19409081343,
          11136.91524631928,
          11265.061439913108,
          11380.075741528937,
          11490.954909000902,
          11600.186913799684,
          11719.697668244233,
          11845.216059190554,
          11977.895547741145,
          12128.947261461379,
          12284.720597765332,
          12427.931875313001,
          12560.955767511352,
          12690.4985394561,
          12817.327987666977,
          12941.43893085716,
          13065.991988219332,
          13184.876339280208,
          13293.13610073998,
          13382.27289250059,
          13443.274422575747,
          13498.703166622498,
          13557.793545933368,
          13622.281152984713,
          13689.07281972608,
          13744.539398675808,
          13790.481574831458,
          13833.259101348673,
          13874.136068738375,
          13905.65434205965,
          13929.48842996584,
          13951.684935506195,
          13973.797210676898,
          13989.028466622425,
          13984.693268467377,
          13961.797132737993,
          13923.601008497088,
          13877.506695742111,
          13822.482621285395,
          13730.622503547698,
          13599.244360233824,
          13470.142748186976,
          13363.419221511402,
          13247.956408713908,
          13114.511578261736,
          12977.629956580633,
          12843.756019978126,
          12706.539266854066,
          12557.34069821993,
          12402.889541446355,
          12252.268745419344,
          12116.16434815328,
          12001.700541560222,
          11906.317189441532,
          11842.896750265416,
          11790.959649832188,
          11729.670053333415,
          11668.558032153138,
          11591.348476945397,
          11497.201556936088,
          11411.193469082013,
          11341.88856176516,
          11287.151605065186,
          11243.191686653845,
          11200.449316440421,
          11158.988392585125,
          11106.867439309688,
          11048.396446154507,
          10981.179918414691,
          10889.213164926896,
          10780.241910741202,
          10670.223480448854,
          10570.043813210421,
          10480.35402053265,
          10402.087830402696,
          10329.07021430065,
          10246.068320799921,
          10154.198779580303,
          10061.923188212924,
          9981.985193724406,
          9922.924078131004,
          9871.753494241391,
          9821.506751491126,
          9768.344765173646,
          9713.414629365037,
          9665.888829027563,
          9628.65650665306,
          9592.485695757543,
          9546.092413538128,
          9494.944872986023,
          9441.892362893843,
          9379.573242667007,
          9308.30437786589,
          9241.498801451853,
          9184.752388895402,
          9137.191397558021,
          9105.939409816481,
          9080.397268681634,
          9048.783136857684,
          9024.430647019866,
          9016.952228121849,
          9009.77818719989,
          8991.029520705051,
          8967.645722233476,
          8940.499161504904,
          8918.60024336987,
          8906.241739803343,
          8895.995460029446,
          8884.256848693738,
          8863.144773623546,
          8832.20762347633,
          8793.788755375517,
          8750.912271275343,
          8709.687323931948,
          8667.019940225025,
          8628.679390873389,
          8601.348615594961,
          8584.057375967885,
          8572.332629080898,
          8560.49622393358,
          8548.785307931297,
          8532.068230167471,
          8510.594842761526,
          8488.727895736842,
          8460.792054013782,
          8425.589715173137,
          8391.47473448587,
          8360.416461794413,
          8334.948440384964,
          8318.489266744873,
          8308.942743103635,
          8308.867092553668,
          8311.435490537542,
          8312.777115185969,
          8308.367637894698,
          8296.13666915425,
          8288.215109411998,
          8290.306110672187,
          8296.928578089384,
          8301.358157952342,
          8308.05742202382,
          8310.96966780028,
          8305.813355099233,
          8297.557354045171,
          8289.575729260869,
          8284.292257593637,
          8272.873918011392,
          8255.623021520933,
          8241.30855905766,
          8231.33582407768,
          8222.368040683554,
          8215.179126149578,
          8216.366146113027,
          8223.300425412028,
          8232.717259210915,
          8242.770653359845,
          8249.228245654449,
          8256.60012866726,
          8268.521265076097,
          8282.351513004498,
          8295.317754573745,
          8307.136159626707,
          8319.150682158925,
          8332.38742274532,
          8341.585629737849,
          8338.888487660475,
          8323.754218785725,
          8300.348299185303,
          8272.995736340716,
          8245.974592656392,
          8220.104894127035,
          8194.07979766832,
          8167.09803067165,
          8138.622531733388,
          8106.56093656574,
          8070.959286639636,
          8031.890858713163,
          7984.26968266274,
          7931.137018369349,
          7882.157711756794,
          7834.696950004542,
          7783.3665264636475,
          7729.8759369774525,
          7674.363007798535,
          7624.26359105207,
          7579.370718074951,
          7531.963785958915,
          7482.080287240397,
          7429.434285416229,
          7376.994226579969,
          7328.3544532076685,
          7282.612642748765,
          7239.771948026482,
          7197.992432033336,
          7158.154528914305,
          7122.40764871201,
          7085.741472388712,
          7046.785838586818,
          7007.205576973158,
          6970.78551562616,
          6939.7790114442305,
          6914.903259378181,
          6897.569403778371,
          6882.373484269735,
          6865.649590074963,
          6849.638439971029,
          6839.445167479328,
          6837.8174434873,
          6843.871892435309,
          6855.116494637061,
          6868.814818068708,
          6882.527639315115,
          6896.30158870658,
          6910.1118261959255,
          6921.812156088448,
          6930.708887827873,
          6934.0964771507315,
          6933.029991050223,
          6930.677374152743,
          6927.125543912345,
          6919.995557283641,
          6909.029833671129,
          6897.799888805957,
          6882.562003098068,
          6866.5234493093485,
          6857.321843181686,
          6849.532794245533,
          6843.646671403163,
          6841.198411961959,
          6835.767778816429,
          6830.88497598019,
          6828.760842827914,
          6826.924907609651,
          6824.164061941253,
          6819.555710040995,
          6814.798275439551,
          6812.697667075516,
          6816.731108990551,
          6823.840429557153,
          6830.169367512826,
          6837.352981630162,
          6846.409207108265,
          6856.463591370886,
          6870.771609770987,
          6885.5262410990445,
          6896.041532678297,
          6905.230858690993,
          6913.904594169566,
          6923.773883938845,
          6935.017932250876,
          6947.188835258047,
          6958.1875265036215,
          6960.031199797605,
          6955.199891068134,
          6951.919576297787,
          6950.341339462806,
          6950.427419026819,
          6951.439818113038,
          6952.148875726478,
          6953.444785556385,
          6954.298082450523,
          6951.144361092694,
          6940.492387431699,
          6924.4599079546515,
          6906.74224693934,
          6888.965473945663,
          6871.918522992488,
          6854.784828389746,
          6834.900060112174,
          6810.638927516172,
          6784.743535031901,
          6758.324455241615,
          6730.612397041583,
          6702.29865102015,
          6676.062074175748,
          6652.372996118527,
          6632.651827588121,
          6615.922793822285,
          6600.344214694247,
          6586.56764882668,
          6576.169770279412,
          6568.744195060659,
          6561.46475031734,
          6558.618145815961,
          6560.976741760511,
          6564.198215703689,
          6568.561457094714,
          6570.553994960602,
          6568.588970674942,
          6568.556912125301,
          6568.524216815234,
          6567.580891018843,
          6567.595928525834,
          6567.315061022204,
          6567.4744691477335,
          6567.188145605306,
          6566.681765684054,
          6565.4541195475185,
          6564.007119660256,
          6562.455582994668,
          6558.739928465335,
          6554.091526005516,
          6549.24212469571,
          6541.787677003538,
          6531.54785323717,
          6521.149990629095,
          6510.182265176965,
          6497.280212637555,
          6482.595858170008,
          6467.281183090574,
          6451.459197192925,
          6437.02048022268,
          6430.687337119894,
          6430.294606662943,
          6431.3616051812405,
          6433.948079552505,
          6435.867431401756,
          6437.058899984419,
          6438.183111791036,
          6438.005213951824,
          6435.493488654747,
          6429.458550582104,
          6416.947446056949,
          6401.582276822744,
          6387.6771522174495,
          6374.229518764692,
          6357.447857336066,
          6329.603128708888,
          6293.039355704264,
          6255.546613015975,
          6216.990276468745,
          6178.643292583536,
          6137.632156403159,
          6092.826257747193,
          6045.877818771816,
          6000.499390183384,
          5960.2011631328605,
          5919.760995701858,
          5878.442705391451,
          5838.563657516412,
          5797.316299286875,
          5753.458240783228,
          5708.509936219748,
          5661.901853664895,
          5611.34101856961,
          5557.758297435732,
          5505.712535069311,
          5457.472459521573,
          5410.9566409953295,
          5364.007279746791,
          5316.818171372559,
          5266.7485604881895,
          5213.402548693475,
          5159.405962298613,
          5106.834602591755,
          5057.131337156767,
          5011.085438412458,
          4968.089744482795,
          4926.894399117613,
          4885.425752133304,
          4843.8353278528975,
          4804.486989705402,
          4763.63628865986,
          4719.844685660684,
          4675.576928235911,
          4631.341592167075,
          4589.553537225838,
          4548.877788491157,
          4506.83527753658,
          4463.451664765846,
          4420.455340669779,
          4378.378164847611,
          4335.373757135005,
          4292.0483807487,
          4248.709535847131,
          4206.646908041481,
          4166.777848214471,
          4127.589995842584,
          4086.8421495779066,
          4043.0159673860912,
          3998.2073275174007,
          3955.7536571851792,
          3919.5639009838587,
          3887.880101872188,
          3856.44868097323,
          3824.6732369304664,
          3795.3686677195346,
          3775.0469174931645,
          3760.878895650926,
          3746.065105856263,
          3732.5051616891406,
          3721.4705902747555,
          3714.548525260995,
          3710.4067288556334,
          3706.8597754565576,
          3701.4949835646275,
          3690.6574954004222,
          3678.452941175966,
          3667.333885829271,
          3656.051398894313,
          3646.0184128350584,
          3637.8503817100845,
          3630.7684075557945,
          3625.2880846269704,
          3623.4460201646034,
          3623.8244372256313,
          3622.82968004364,
          3621.8485638999537,
          3623.832735276073,
          3627.663257925253,
          3631.3622442441156,
          3636.19202946957,
          3642.4250211685976,
          3648.7118122426,
          3653.577521468744,
          3656.1725354683313,
          3655.4714145480466,
          3652.723003298415,
          3650.739124346138,
          3650.6376652362287,
          3650.5352568281523,
          3648.268403449516,
          3648.361956288589,
          3651.8453390081436,
          3654.19470311287,
          3655.640053596794,
          3655.8037634800257,
          3655.3404905839893,
          3656.002919905842,
          3657.3462048504707,
          3658.0201091649715,
          3656.9447381877,
          3655.937927266301,
          3655.8556742406904,
          3655.6995994091126,
          3654.2458014343138,
          3652.0297684665775,
          3650.0864382083396,
          3649.6969076839086,
          3652.0437510107217,
          3655.687282194096,
          3659.865561050156,
          3664.622760903031,
          3669.9092926152,
          3675.728205777925,
          3681.776275682489,
          3687.8410754025545,
          3693.523177279032,
          3699.5617441323175,
          3706.6501842713806,
          3713.9342686212062,
          3720.832231031077,
          3727.451035631931,
          3733.6717410407573,
          3740.1227850070227,
          3747.5128920137176,
          3756.5589659615935,
          3767.451770443493,
          3778.7059393239306,
          3790.0875901059485,
          3806.203653901173,
          3829.8605033354725,
          3856.1355899663868,
          3882.0810420285966,
          3908.6765408486026,
          3936.8593311564223,
          3967.130030598728,
          3997.4686480924656,
          4025.9791214947927,
          4052.46004669955,
          4077.244503692433,
          4101.903112535614,
          4126.933660336686,
          4152.34525332088,
          4178.019378028174,
          4204.347559902612,
          4231.926415555299,
          4258.435141819418,
          4282.726557277845,
          4305.966772840115,
          4329.19746595865,
          4354.352330142536,
          4380.269106899468,
          4404.772909969908,
          4428.055426509151,
          4450.736197661357,
          4473.570590023551,
          4496.228922544207,
          4518.993193790339,
          4543.0508862627785,
          4568.558642906882,
          4597.364447875013,
          4629.207482768962,
          4660.945431697904,
          4691.5984245948075,
          4723.164424497623,
          4756.043160530494,
          4790.276518678267,
          4828.4655242503395,
          4873.357003555955,
          4925.533700556678,
          4982.70893155962,
          5046.645779002074,
          5114.890745616249,
          5182.440417084179,
          5243.469369292218,
          5298.821426157558,
          5359.544270368675,
          5424.867429581294,
          5490.463686058947,
          5556.136140332088,
          5619.838190778175,
          5684.575872639174,
          5752.678435657112,
          5821.616244058236,
          5895.865352067569,
          5974.57182023677,
          6051.5187096200825,
          6127.423582604706,
          6200.510325715221,
          6268.184416599426,
          6330.906719107504,
          6390.8477811814155,
          6444.442415596073,
          6491.106925095628,
          6535.71215809007,
          6580.049412214636,
          6625.188077037346,
          6668.914018674914,
          6712.394267135374,
          6758.554721550543,
          6806.898876287779,
          6857.253748810344,
          6909.94224551836,
          6967.115111975568,
          7029.6607389578685,
          7095.066662389715,
          7160.611152483314,
          7225.012311618524,
          7290.852083350526,
          7362.098621718371,
          7442.727467718849,
          7529.81908584293,
          7618.8451919881045,
          7715.432082009713,
          7829.140443070908,
          7946.753768464074,
          8056.417730618483,
          8166.236690277688,
          8273.66739047219,
          8370.034136127793,
          8453.46018918855,
          8539.588334556538,
          8636.980880831297,
          8732.976213921138,
          8824.92341218667,
          8916.740873536386,
          9010.187633221496,
          9109.934802104919,
          9210.479258234853,
          9296.068139618372,
          9367.766454021079,
          9431.19920250272,
          9483.190425663539,
          9526.74315470659,
          9572.719370930525,
          9617.260616592652,
          9653.69345122805,
          9692.748453108814,
          9736.865971399944,
          9781.991552394544,
          9827.281027570167,
          9867.57101083284,
          9898.768275985141,
          9928.307412318418,
          9952.29547474057,
          9968.887381495802,
          9984.200186012651,
          9998.727720856394,
          10016.188599862435,
          10037.042716526696,
          10059.781563634795,
          10087.759199476324,
          10128.395286198687,
          10178.23918139334,
          10236.334982020475,
          10300.859422519201,
          10364.10833509691,
          10428.890574495212,
          10495.579275685213,
          10559.593730450302,
          10618.124266317984,
          10674.062477548545,
          null,
          null,
          null,
          null,
          null,
          null,
          null,
          null,
          null,
          null,
          null,
          null,
          null,
          null,
          null,
          null,
          null,
          null,
          null,
          null,
          null,
          null,
          null,
          null,
          null,
          null,
          null,
          null,
          null,
          null
         ]
        },
        {
         "line": {
          "color": "rgb(66, 244, 155)",
          "width": 2
         },
         "mode": "lines",
         "name": "Seasonal",
         "type": "scatter",
         "x": [
          0,
          1,
          2,
          3,
          4,
          5,
          6,
          7,
          8,
          9,
          10,
          11,
          12,
          13,
          14,
          15,
          16,
          17,
          18,
          19,
          20,
          21,
          22,
          23,
          24,
          25,
          26,
          27,
          28,
          29,
          30,
          31,
          32,
          33,
          34,
          35,
          36,
          37,
          38,
          39,
          40,
          41,
          42,
          43,
          44,
          45,
          46,
          47,
          48,
          49,
          50,
          51,
          52,
          53,
          54,
          55,
          56,
          57,
          58,
          59,
          60,
          61,
          62,
          63,
          64,
          65,
          66,
          67,
          68,
          69,
          70,
          71,
          72,
          73,
          74,
          75,
          76,
          77,
          78,
          79,
          80,
          81,
          82,
          83,
          84,
          85,
          86,
          87,
          88,
          89,
          90,
          91,
          92,
          93,
          94,
          95,
          96,
          97,
          98,
          99,
          100,
          101,
          102,
          103,
          104,
          105,
          106,
          107,
          108,
          109,
          110,
          111,
          112,
          113,
          114,
          115,
          116,
          117,
          118,
          119,
          120,
          121,
          122,
          123,
          124,
          125,
          126,
          127,
          128,
          129,
          130,
          131,
          132,
          133,
          134,
          135,
          136,
          137,
          138,
          139,
          140,
          141,
          142,
          143,
          144,
          145,
          146,
          147,
          148,
          149,
          150,
          151,
          152,
          153,
          154,
          155,
          156,
          157,
          158,
          159,
          160,
          161,
          162,
          163,
          164,
          165,
          166,
          167,
          168,
          169,
          170,
          171,
          172,
          173,
          174,
          175,
          176,
          177,
          178,
          179,
          180,
          181,
          182,
          183,
          184,
          185,
          186,
          187,
          188,
          189,
          190,
          191,
          192,
          193,
          194,
          195,
          196,
          197,
          198,
          199,
          200,
          201,
          202,
          203,
          204,
          205,
          206,
          207,
          208,
          209,
          210,
          211,
          212,
          213,
          214,
          215,
          216,
          217,
          218,
          219,
          220,
          221,
          222,
          223,
          224,
          225,
          226,
          227,
          228,
          229,
          230,
          231,
          232,
          233,
          234,
          235,
          236,
          237,
          238,
          239,
          240,
          241,
          242,
          243,
          244,
          245,
          246,
          247,
          248,
          249,
          250,
          251,
          252,
          253,
          254,
          255,
          256,
          257,
          258,
          259,
          260,
          261,
          262,
          263,
          264,
          265,
          266,
          267,
          268,
          269,
          270,
          271,
          272,
          273,
          274,
          275,
          276,
          277,
          278,
          279,
          280,
          281,
          282,
          283,
          284,
          285,
          286,
          287,
          288,
          289,
          290,
          291,
          292,
          293,
          294,
          295,
          296,
          297,
          298,
          299,
          300,
          301,
          302,
          303,
          304,
          305,
          306,
          307,
          308,
          309,
          310,
          311,
          312,
          313,
          314,
          315,
          316,
          317,
          318,
          319,
          320,
          321,
          322,
          323,
          324,
          325,
          326,
          327,
          328,
          329,
          330,
          331,
          332,
          333,
          334,
          335,
          336,
          337,
          338,
          339,
          340,
          341,
          342,
          343,
          344,
          345,
          346,
          347,
          348,
          349,
          350,
          351,
          352,
          353,
          354,
          355,
          356,
          357,
          358,
          359,
          360,
          361,
          362,
          363,
          364,
          365,
          366,
          367,
          368,
          369,
          370,
          371,
          372,
          373,
          374,
          375,
          376,
          377,
          378,
          379,
          380,
          381,
          382,
          383,
          384,
          385,
          386,
          387,
          388,
          389,
          390,
          391,
          392,
          393,
          394,
          395,
          396,
          397,
          398,
          399,
          400,
          401,
          402,
          403,
          404,
          405,
          406,
          407,
          408,
          409,
          410,
          411,
          412,
          413,
          414,
          415,
          416,
          417,
          418,
          419,
          420,
          421,
          422,
          423,
          424,
          425,
          426,
          427,
          428,
          429,
          430,
          431,
          432,
          433,
          434,
          435,
          436,
          437,
          438,
          439,
          440,
          441,
          442,
          443,
          444,
          445,
          446,
          447,
          448,
          449,
          450,
          451,
          452,
          453,
          454,
          455,
          456,
          457,
          458,
          459,
          460,
          461,
          462,
          463,
          464,
          465,
          466,
          467,
          468,
          469,
          470,
          471,
          472,
          473,
          474,
          475,
          476,
          477,
          478,
          479,
          480,
          481,
          482,
          483,
          484,
          485,
          486,
          487,
          488,
          489,
          490,
          491,
          492,
          493,
          494,
          495,
          496,
          497,
          498,
          499,
          500,
          501,
          502,
          503,
          504,
          505,
          506,
          507,
          508,
          509,
          510,
          511,
          512,
          513,
          514,
          515,
          516,
          517,
          518,
          519,
          520,
          521,
          522,
          523,
          524,
          525,
          526,
          527,
          528,
          529,
          530,
          531,
          532,
          533,
          534,
          535,
          536,
          537,
          538,
          539,
          540,
          541,
          542,
          543,
          544,
          545,
          546,
          547,
          548,
          549,
          550,
          551,
          552,
          553,
          554,
          555,
          556,
          557,
          558,
          559,
          560,
          561,
          562,
          563,
          564,
          565,
          566,
          567,
          568,
          569,
          570,
          571,
          572,
          573,
          574,
          575,
          576,
          577,
          578,
          579,
          580,
          581,
          582,
          583,
          584,
          585,
          586,
          587,
          588,
          589,
          590,
          591,
          592,
          593,
          594,
          595,
          596,
          597,
          598,
          599,
          600,
          601,
          602,
          603,
          604,
          605,
          606,
          607,
          608,
          609,
          610,
          611,
          612,
          613,
          614,
          615,
          616,
          617,
          618,
          619,
          620,
          621,
          622,
          623,
          624,
          625,
          626,
          627,
          628,
          629,
          630,
          631,
          632,
          633,
          634,
          635,
          636,
          637,
          638,
          639,
          640,
          641,
          642,
          643,
          644,
          645,
          646,
          647,
          648,
          649,
          650,
          651,
          652,
          653,
          654,
          655,
          656,
          657,
          658,
          659
         ],
         "y": [
          71.16847110495489,
          -42.446124892417195,
          66.35355248920867,
          -97.90566080940305,
          -28.168770807916985,
          75.13589212552385,
          75.0048975986186,
          84.17032019336851,
          291.84674592969816,
          148.77855664799353,
          172.7380651634494,
          231.1901090162994,
          439.48765400016003,
          509.7827745950038,
          561.9274242991567,
          663.9060903162348,
          654.6134749752964,
          484.9190661495243,
          249.54104166653394,
          302.11867119869754,
          287.4931515186633,
          144.6348815215066,
          133.4937460389612,
          137.16585374923733,
          98.40240805652412,
          216.92341006310141,
          77.55814637723331,
          -151.05116365739713,
          22.202791727819005,
          119.61286001095776,
          34.533997214759964,
          -55.734553102501444,
          -258.7091486954483,
          -325.56125264391414,
          -283.7751076438397,
          -218.02764952592725,
          -202.08926568342173,
          -219.59723438175502,
          -233.83109400920824,
          -390.997370968363,
          -387.83397387355467,
          -387.79818588295717,
          -327.9933531924367,
          -403.87674887971457,
          -383.0119164159793,
          -381.4417868947989,
          -343.71931987182995,
          -291.2735218208702,
          -182.31671651666213,
          -271.7094399146455,
          -215.24894281280137,
          -204.71062984837386,
          -266.82391028035545,
          -176.47556114275255,
          -124.1533289311318,
          16.19571119949795,
          139.20798645886748,
          122.87910348269794,
          164.37231676245568,
          58.922561448371866,
          71.16847110495489,
          -42.446124892417195,
          66.35355248920867,
          -97.90566080940305,
          -28.168770807916985,
          75.13589212552385,
          75.0048975986186,
          84.17032019336851,
          291.84674592969816,
          148.77855664799353,
          172.7380651634494,
          231.1901090162994,
          439.48765400016003,
          509.7827745950038,
          561.9274242991567,
          663.9060903162348,
          654.6134749752964,
          484.9190661495243,
          249.54104166653394,
          302.11867119869754,
          287.4931515186633,
          144.6348815215066,
          133.4937460389612,
          137.16585374923733,
          98.40240805652412,
          216.92341006310141,
          77.55814637723331,
          -151.05116365739713,
          22.202791727819005,
          119.61286001095776,
          34.533997214759964,
          -55.734553102501444,
          -258.7091486954483,
          -325.56125264391414,
          -283.7751076438397,
          -218.02764952592725,
          -202.08926568342173,
          -219.59723438175502,
          -233.83109400920824,
          -390.997370968363,
          -387.83397387355467,
          -387.79818588295717,
          -327.9933531924367,
          -403.87674887971457,
          -383.0119164159793,
          -381.4417868947989,
          -343.71931987182995,
          -291.2735218208702,
          -182.31671651666213,
          -271.7094399146455,
          -215.24894281280137,
          -204.71062984837386,
          -266.82391028035545,
          -176.47556114275255,
          -124.1533289311318,
          16.19571119949795,
          139.20798645886748,
          122.87910348269794,
          164.37231676245568,
          58.922561448371866,
          71.16847110495489,
          -42.446124892417195,
          66.35355248920867,
          -97.90566080940305,
          -28.168770807916985,
          75.13589212552385,
          75.0048975986186,
          84.17032019336851,
          291.84674592969816,
          148.77855664799353,
          172.7380651634494,
          231.1901090162994,
          439.48765400016003,
          509.7827745950038,
          561.9274242991567,
          663.9060903162348,
          654.6134749752964,
          484.9190661495243,
          249.54104166653394,
          302.11867119869754,
          287.4931515186633,
          144.6348815215066,
          133.4937460389612,
          137.16585374923733,
          98.40240805652412,
          216.92341006310141,
          77.55814637723331,
          -151.05116365739713,
          22.202791727819005,
          119.61286001095776,
          34.533997214759964,
          -55.734553102501444,
          -258.7091486954483,
          -325.56125264391414,
          -283.7751076438397,
          -218.02764952592725,
          -202.08926568342173,
          -219.59723438175502,
          -233.83109400920824,
          -390.997370968363,
          -387.83397387355467,
          -387.79818588295717,
          -327.9933531924367,
          -403.87674887971457,
          -383.0119164159793,
          -381.4417868947989,
          -343.71931987182995,
          -291.2735218208702,
          -182.31671651666213,
          -271.7094399146455,
          -215.24894281280137,
          -204.71062984837386,
          -266.82391028035545,
          -176.47556114275255,
          -124.1533289311318,
          16.19571119949795,
          139.20798645886748,
          122.87910348269794,
          164.37231676245568,
          58.922561448371866,
          71.16847110495489,
          -42.446124892417195,
          66.35355248920867,
          -97.90566080940305,
          -28.168770807916985,
          75.13589212552385,
          75.0048975986186,
          84.17032019336851,
          291.84674592969816,
          148.77855664799353,
          172.7380651634494,
          231.1901090162994,
          439.48765400016003,
          509.7827745950038,
          561.9274242991567,
          663.9060903162348,
          654.6134749752964,
          484.9190661495243,
          249.54104166653394,
          302.11867119869754,
          287.4931515186633,
          144.6348815215066,
          133.4937460389612,
          137.16585374923733,
          98.40240805652412,
          216.92341006310141,
          77.55814637723331,
          -151.05116365739713,
          22.202791727819005,
          119.61286001095776,
          34.533997214759964,
          -55.734553102501444,
          -258.7091486954483,
          -325.56125264391414,
          -283.7751076438397,
          -218.02764952592725,
          -202.08926568342173,
          -219.59723438175502,
          -233.83109400920824,
          -390.997370968363,
          -387.83397387355467,
          -387.79818588295717,
          -327.9933531924367,
          -403.87674887971457,
          -383.0119164159793,
          -381.4417868947989,
          -343.71931987182995,
          -291.2735218208702,
          -182.31671651666213,
          -271.7094399146455,
          -215.24894281280137,
          -204.71062984837386,
          -266.82391028035545,
          -176.47556114275255,
          -124.1533289311318,
          16.19571119949795,
          139.20798645886748,
          122.87910348269794,
          164.37231676245568,
          58.922561448371866,
          71.16847110495489,
          -42.446124892417195,
          66.35355248920867,
          -97.90566080940305,
          -28.168770807916985,
          75.13589212552385,
          75.0048975986186,
          84.17032019336851,
          291.84674592969816,
          148.77855664799353,
          172.7380651634494,
          231.1901090162994,
          439.48765400016003,
          509.7827745950038,
          561.9274242991567,
          663.9060903162348,
          654.6134749752964,
          484.9190661495243,
          249.54104166653394,
          302.11867119869754,
          287.4931515186633,
          144.6348815215066,
          133.4937460389612,
          137.16585374923733,
          98.40240805652412,
          216.92341006310141,
          77.55814637723331,
          -151.05116365739713,
          22.202791727819005,
          119.61286001095776,
          34.533997214759964,
          -55.734553102501444,
          -258.7091486954483,
          -325.56125264391414,
          -283.7751076438397,
          -218.02764952592725,
          -202.08926568342173,
          -219.59723438175502,
          -233.83109400920824,
          -390.997370968363,
          -387.83397387355467,
          -387.79818588295717,
          -327.9933531924367,
          -403.87674887971457,
          -383.0119164159793,
          -381.4417868947989,
          -343.71931987182995,
          -291.2735218208702,
          -182.31671651666213,
          -271.7094399146455,
          -215.24894281280137,
          -204.71062984837386,
          -266.82391028035545,
          -176.47556114275255,
          -124.1533289311318,
          16.19571119949795,
          139.20798645886748,
          122.87910348269794,
          164.37231676245568,
          58.922561448371866,
          71.16847110495489,
          -42.446124892417195,
          66.35355248920867,
          -97.90566080940305,
          -28.168770807916985,
          75.13589212552385,
          75.0048975986186,
          84.17032019336851,
          291.84674592969816,
          148.77855664799353,
          172.7380651634494,
          231.1901090162994,
          439.48765400016003,
          509.7827745950038,
          561.9274242991567,
          663.9060903162348,
          654.6134749752964,
          484.9190661495243,
          249.54104166653394,
          302.11867119869754,
          287.4931515186633,
          144.6348815215066,
          133.4937460389612,
          137.16585374923733,
          98.40240805652412,
          216.92341006310141,
          77.55814637723331,
          -151.05116365739713,
          22.202791727819005,
          119.61286001095776,
          34.533997214759964,
          -55.734553102501444,
          -258.7091486954483,
          -325.56125264391414,
          -283.7751076438397,
          -218.02764952592725,
          -202.08926568342173,
          -219.59723438175502,
          -233.83109400920824,
          -390.997370968363,
          -387.83397387355467,
          -387.79818588295717,
          -327.9933531924367,
          -403.87674887971457,
          -383.0119164159793,
          -381.4417868947989,
          -343.71931987182995,
          -291.2735218208702,
          -182.31671651666213,
          -271.7094399146455,
          -215.24894281280137,
          -204.71062984837386,
          -266.82391028035545,
          -176.47556114275255,
          -124.1533289311318,
          16.19571119949795,
          139.20798645886748,
          122.87910348269794,
          164.37231676245568,
          58.922561448371866,
          71.16847110495489,
          -42.446124892417195,
          66.35355248920867,
          -97.90566080940305,
          -28.168770807916985,
          75.13589212552385,
          75.0048975986186,
          84.17032019336851,
          291.84674592969816,
          148.77855664799353,
          172.7380651634494,
          231.1901090162994,
          439.48765400016003,
          509.7827745950038,
          561.9274242991567,
          663.9060903162348,
          654.6134749752964,
          484.9190661495243,
          249.54104166653394,
          302.11867119869754,
          287.4931515186633,
          144.6348815215066,
          133.4937460389612,
          137.16585374923733,
          98.40240805652412,
          216.92341006310141,
          77.55814637723331,
          -151.05116365739713,
          22.202791727819005,
          119.61286001095776,
          34.533997214759964,
          -55.734553102501444,
          -258.7091486954483,
          -325.56125264391414,
          -283.7751076438397,
          -218.02764952592725,
          -202.08926568342173,
          -219.59723438175502,
          -233.83109400920824,
          -390.997370968363,
          -387.83397387355467,
          -387.79818588295717,
          -327.9933531924367,
          -403.87674887971457,
          -383.0119164159793,
          -381.4417868947989,
          -343.71931987182995,
          -291.2735218208702,
          -182.31671651666213,
          -271.7094399146455,
          -215.24894281280137,
          -204.71062984837386,
          -266.82391028035545,
          -176.47556114275255,
          -124.1533289311318,
          16.19571119949795,
          139.20798645886748,
          122.87910348269794,
          164.37231676245568,
          58.922561448371866,
          71.16847110495489,
          -42.446124892417195,
          66.35355248920867,
          -97.90566080940305,
          -28.168770807916985,
          75.13589212552385,
          75.0048975986186,
          84.17032019336851,
          291.84674592969816,
          148.77855664799353,
          172.7380651634494,
          231.1901090162994,
          439.48765400016003,
          509.7827745950038,
          561.9274242991567,
          663.9060903162348,
          654.6134749752964,
          484.9190661495243,
          249.54104166653394,
          302.11867119869754,
          287.4931515186633,
          144.6348815215066,
          133.4937460389612,
          137.16585374923733,
          98.40240805652412,
          216.92341006310141,
          77.55814637723331,
          -151.05116365739713,
          22.202791727819005,
          119.61286001095776,
          34.533997214759964,
          -55.734553102501444,
          -258.7091486954483,
          -325.56125264391414,
          -283.7751076438397,
          -218.02764952592725,
          -202.08926568342173,
          -219.59723438175502,
          -233.83109400920824,
          -390.997370968363,
          -387.83397387355467,
          -387.79818588295717,
          -327.9933531924367,
          -403.87674887971457,
          -383.0119164159793,
          -381.4417868947989,
          -343.71931987182995,
          -291.2735218208702,
          -182.31671651666213,
          -271.7094399146455,
          -215.24894281280137,
          -204.71062984837386,
          -266.82391028035545,
          -176.47556114275255,
          -124.1533289311318,
          16.19571119949795,
          139.20798645886748,
          122.87910348269794,
          164.37231676245568,
          58.922561448371866,
          71.16847110495489,
          -42.446124892417195,
          66.35355248920867,
          -97.90566080940305,
          -28.168770807916985,
          75.13589212552385,
          75.0048975986186,
          84.17032019336851,
          291.84674592969816,
          148.77855664799353,
          172.7380651634494,
          231.1901090162994,
          439.48765400016003,
          509.7827745950038,
          561.9274242991567,
          663.9060903162348,
          654.6134749752964,
          484.9190661495243,
          249.54104166653394,
          302.11867119869754,
          287.4931515186633,
          144.6348815215066,
          133.4937460389612,
          137.16585374923733,
          98.40240805652412,
          216.92341006310141,
          77.55814637723331,
          -151.05116365739713,
          22.202791727819005,
          119.61286001095776,
          34.533997214759964,
          -55.734553102501444,
          -258.7091486954483,
          -325.56125264391414,
          -283.7751076438397,
          -218.02764952592725,
          -202.08926568342173,
          -219.59723438175502,
          -233.83109400920824,
          -390.997370968363,
          -387.83397387355467,
          -387.79818588295717,
          -327.9933531924367,
          -403.87674887971457,
          -383.0119164159793,
          -381.4417868947989,
          -343.71931987182995,
          -291.2735218208702,
          -182.31671651666213,
          -271.7094399146455,
          -215.24894281280137,
          -204.71062984837386,
          -266.82391028035545,
          -176.47556114275255,
          -124.1533289311318,
          16.19571119949795,
          139.20798645886748,
          122.87910348269794,
          164.37231676245568,
          58.922561448371866,
          71.16847110495489,
          -42.446124892417195,
          66.35355248920867,
          -97.90566080940305,
          -28.168770807916985,
          75.13589212552385,
          75.0048975986186,
          84.17032019336851,
          291.84674592969816,
          148.77855664799353,
          172.7380651634494,
          231.1901090162994,
          439.48765400016003,
          509.7827745950038,
          561.9274242991567,
          663.9060903162348,
          654.6134749752964,
          484.9190661495243,
          249.54104166653394,
          302.11867119869754,
          287.4931515186633,
          144.6348815215066,
          133.4937460389612,
          137.16585374923733,
          98.40240805652412,
          216.92341006310141,
          77.55814637723331,
          -151.05116365739713,
          22.202791727819005,
          119.61286001095776,
          34.533997214759964,
          -55.734553102501444,
          -258.7091486954483,
          -325.56125264391414,
          -283.7751076438397,
          -218.02764952592725,
          -202.08926568342173,
          -219.59723438175502,
          -233.83109400920824,
          -390.997370968363,
          -387.83397387355467,
          -387.79818588295717,
          -327.9933531924367,
          -403.87674887971457,
          -383.0119164159793,
          -381.4417868947989,
          -343.71931987182995,
          -291.2735218208702,
          -182.31671651666213,
          -271.7094399146455,
          -215.24894281280137,
          -204.71062984837386,
          -266.82391028035545,
          -176.47556114275255,
          -124.1533289311318,
          16.19571119949795,
          139.20798645886748,
          122.87910348269794,
          164.37231676245568,
          58.922561448371866,
          71.16847110495489,
          -42.446124892417195,
          66.35355248920867,
          -97.90566080940305,
          -28.168770807916985,
          75.13589212552385,
          75.0048975986186,
          84.17032019336851,
          291.84674592969816,
          148.77855664799353,
          172.7380651634494,
          231.1901090162994,
          439.48765400016003,
          509.7827745950038,
          561.9274242991567,
          663.9060903162348,
          654.6134749752964,
          484.9190661495243,
          249.54104166653394,
          302.11867119869754,
          287.4931515186633,
          144.6348815215066,
          133.4937460389612,
          137.16585374923733,
          98.40240805652412,
          216.92341006310141,
          77.55814637723331,
          -151.05116365739713,
          22.202791727819005,
          119.61286001095776,
          34.533997214759964,
          -55.734553102501444,
          -258.7091486954483,
          -325.56125264391414,
          -283.7751076438397,
          -218.02764952592725,
          -202.08926568342173,
          -219.59723438175502,
          -233.83109400920824,
          -390.997370968363,
          -387.83397387355467,
          -387.79818588295717,
          -327.9933531924367,
          -403.87674887971457,
          -383.0119164159793,
          -381.4417868947989,
          -343.71931987182995,
          -291.2735218208702,
          -182.31671651666213,
          -271.7094399146455,
          -215.24894281280137,
          -204.71062984837386,
          -266.82391028035545,
          -176.47556114275255,
          -124.1533289311318,
          16.19571119949795,
          139.20798645886748,
          122.87910348269794,
          164.37231676245568,
          58.922561448371866
         ]
        },
        {
         "line": {
          "color": "rgb(209, 244, 66)",
          "width": 2
         },
         "mode": "lines",
         "name": "Residual",
         "type": "scatter",
         "x": [
          0,
          1,
          2,
          3,
          4,
          5,
          6,
          7,
          8,
          9,
          10,
          11,
          12,
          13,
          14,
          15,
          16,
          17,
          18,
          19,
          20,
          21,
          22,
          23,
          24,
          25,
          26,
          27,
          28,
          29,
          30,
          31,
          32,
          33,
          34,
          35,
          36,
          37,
          38,
          39,
          40,
          41,
          42,
          43,
          44,
          45,
          46,
          47,
          48,
          49,
          50,
          51,
          52,
          53,
          54,
          55,
          56,
          57,
          58,
          59,
          60,
          61,
          62,
          63,
          64,
          65,
          66,
          67,
          68,
          69,
          70,
          71,
          72,
          73,
          74,
          75,
          76,
          77,
          78,
          79,
          80,
          81,
          82,
          83,
          84,
          85,
          86,
          87,
          88,
          89,
          90,
          91,
          92,
          93,
          94,
          95,
          96,
          97,
          98,
          99,
          100,
          101,
          102,
          103,
          104,
          105,
          106,
          107,
          108,
          109,
          110,
          111,
          112,
          113,
          114,
          115,
          116,
          117,
          118,
          119,
          120,
          121,
          122,
          123,
          124,
          125,
          126,
          127,
          128,
          129,
          130,
          131,
          132,
          133,
          134,
          135,
          136,
          137,
          138,
          139,
          140,
          141,
          142,
          143,
          144,
          145,
          146,
          147,
          148,
          149,
          150,
          151,
          152,
          153,
          154,
          155,
          156,
          157,
          158,
          159,
          160,
          161,
          162,
          163,
          164,
          165,
          166,
          167,
          168,
          169,
          170,
          171,
          172,
          173,
          174,
          175,
          176,
          177,
          178,
          179,
          180,
          181,
          182,
          183,
          184,
          185,
          186,
          187,
          188,
          189,
          190,
          191,
          192,
          193,
          194,
          195,
          196,
          197,
          198,
          199,
          200,
          201,
          202,
          203,
          204,
          205,
          206,
          207,
          208,
          209,
          210,
          211,
          212,
          213,
          214,
          215,
          216,
          217,
          218,
          219,
          220,
          221,
          222,
          223,
          224,
          225,
          226,
          227,
          228,
          229,
          230,
          231,
          232,
          233,
          234,
          235,
          236,
          237,
          238,
          239,
          240,
          241,
          242,
          243,
          244,
          245,
          246,
          247,
          248,
          249,
          250,
          251,
          252,
          253,
          254,
          255,
          256,
          257,
          258,
          259,
          260,
          261,
          262,
          263,
          264,
          265,
          266,
          267,
          268,
          269,
          270,
          271,
          272,
          273,
          274,
          275,
          276,
          277,
          278,
          279,
          280,
          281,
          282,
          283,
          284,
          285,
          286,
          287,
          288,
          289,
          290,
          291,
          292,
          293,
          294,
          295,
          296,
          297,
          298,
          299,
          300,
          301,
          302,
          303,
          304,
          305,
          306,
          307,
          308,
          309,
          310,
          311,
          312,
          313,
          314,
          315,
          316,
          317,
          318,
          319,
          320,
          321,
          322,
          323,
          324,
          325,
          326,
          327,
          328,
          329,
          330,
          331,
          332,
          333,
          334,
          335,
          336,
          337,
          338,
          339,
          340,
          341,
          342,
          343,
          344,
          345,
          346,
          347,
          348,
          349,
          350,
          351,
          352,
          353,
          354,
          355,
          356,
          357,
          358,
          359,
          360,
          361,
          362,
          363,
          364,
          365,
          366,
          367,
          368,
          369,
          370,
          371,
          372,
          373,
          374,
          375,
          376,
          377,
          378,
          379,
          380,
          381,
          382,
          383,
          384,
          385,
          386,
          387,
          388,
          389,
          390,
          391,
          392,
          393,
          394,
          395,
          396,
          397,
          398,
          399,
          400,
          401,
          402,
          403,
          404,
          405,
          406,
          407,
          408,
          409,
          410,
          411,
          412,
          413,
          414,
          415,
          416,
          417,
          418,
          419,
          420,
          421,
          422,
          423,
          424,
          425,
          426,
          427,
          428,
          429,
          430,
          431,
          432,
          433,
          434,
          435,
          436,
          437,
          438,
          439,
          440,
          441,
          442,
          443,
          444,
          445,
          446,
          447,
          448,
          449,
          450,
          451,
          452,
          453,
          454,
          455,
          456,
          457,
          458,
          459,
          460,
          461,
          462,
          463,
          464,
          465,
          466,
          467,
          468,
          469,
          470,
          471,
          472,
          473,
          474,
          475,
          476,
          477,
          478,
          479,
          480,
          481,
          482,
          483,
          484,
          485,
          486,
          487,
          488,
          489,
          490,
          491,
          492,
          493,
          494,
          495,
          496,
          497,
          498,
          499,
          500,
          501,
          502,
          503,
          504,
          505,
          506,
          507,
          508,
          509,
          510,
          511,
          512,
          513,
          514,
          515,
          516,
          517,
          518,
          519,
          520,
          521,
          522,
          523,
          524,
          525,
          526,
          527,
          528,
          529,
          530,
          531,
          532,
          533,
          534,
          535,
          536,
          537,
          538,
          539,
          540,
          541,
          542,
          543,
          544,
          545,
          546,
          547,
          548,
          549,
          550,
          551,
          552,
          553,
          554,
          555,
          556,
          557,
          558,
          559,
          560,
          561,
          562,
          563,
          564,
          565,
          566,
          567,
          568,
          569,
          570,
          571,
          572,
          573,
          574,
          575,
          576,
          577,
          578,
          579,
          580,
          581,
          582,
          583,
          584,
          585,
          586,
          587,
          588,
          589,
          590,
          591,
          592,
          593,
          594,
          595,
          596,
          597,
          598,
          599,
          600,
          601,
          602,
          603,
          604,
          605,
          606,
          607,
          608,
          609,
          610,
          611,
          612,
          613,
          614,
          615,
          616,
          617,
          618,
          619,
          620,
          621,
          622,
          623,
          624,
          625,
          626,
          627,
          628,
          629,
          630,
          631,
          632,
          633,
          634,
          635,
          636,
          637,
          638,
          639,
          640,
          641,
          642,
          643,
          644,
          645,
          646,
          647,
          648,
          649,
          650,
          651,
          652,
          653,
          654,
          655,
          656,
          657,
          658,
          659
         ],
         "y": [
          null,
          null,
          null,
          null,
          null,
          null,
          null,
          null,
          null,
          null,
          null,
          null,
          null,
          null,
          null,
          null,
          null,
          null,
          null,
          null,
          null,
          null,
          null,
          null,
          null,
          null,
          null,
          null,
          null,
          null,
          -1844.1731486790445,
          -1868.2449460556625,
          -1826.7561679073574,
          -1910.2155240699208,
          -1823.0893873854586,
          -1495.3891768985545,
          -1087.846843177375,
          -945.3106204528092,
          -486.4157592774796,
          -986.5206821402414,
          -797.9832599985523,
          -165.65999058350275,
          19.429018449868238,
          29.329096473569507,
          192.04215606051787,
          981.476591049483,
          2989.8311068139387,
          3436.2008228868135,
          2558.384947259938,
          1843.3553830456322,
          3724.842758145595,
          4117.6713253775015,
          3865.145703785697,
          3448.14224838867,
          4301.646477419228,
          4867.113228595017,
          5664.6887312968165,
          5150.657933419317,
          4655.798600518432,
          3214.9742490883996,
          2525.8918074506455,
          109.77893905723525,
          954.5776048669376,
          -39.947507735232946,
          159.7713531175467,
          1293.3358357409518,
          1599.0153218327275,
          232.66805911992765,
          289.5605658981175,
          -914.5980231165679,
          -824.2532995726806,
          -793.3163670033848,
          -523.7048761902711,
          528.9952944474605,
          377.1913477976425,
          1304.0574337150597,
          2280.032829215206,
          2432.222535324962,
          1579.7868689068987,
          1201.930067215586,
          656.8025793313011,
          435.95534012467886,
          547.4921471132454,
          1244.079517406649,
          873.4017690392311,
          1047.527345363506,
          -317.1247222263674,
          -1421.274444586272,
          -643.495384501937,
          -607.5011268781227,
          531.6769621556863,
          106.87595404762877,
          -401.2554381972936,
          -679.7228020847109,
          -376.1511387525081,
          -72.95343770319278,
          -285.81948314642835,
          47.18479695797146,
          565.6967944398416,
          387.776304028713,
          -229.7356429812146,
          -826.7417387708829,
          -1335.3214071139896,
          -2145.4266367217933,
          -1754.869799370866,
          -1880.965145962727,
          -2934.491558836385,
          -3660.640925569155,
          -2574.7796680176048,
          -2081.6828535807717,
          -2004.6000677029492,
          -1540.8808268466767,
          -1874.4878719016133,
          -1444.8041842490702,
          -1420.816237710871,
          -1052.3618201441896,
          -318.47442148979894,
          -20.036393814480803,
          641.2652726503275,
          857.0872526129835,
          1027.9997319365646,
          1826.8128916094493,
          1059.4003603367055,
          740.9537947688601,
          448.0259827496046,
          308.7516419714787,
          24.722238759107015,
          384.29613585015636,
          881.0513710567383,
          1163.0808933781016,
          1235.900072553136,
          1564.916380002636,
          1767.2981289200966,
          1625.7452301452483,
          1878.6932592192218,
          1307.3811050036988,
          720.5900803468612,
          203.59877054965608,
          -351.14430830053914,
          -55.944562395334344,
          -195.39752510353873,
          350.5357322022277,
          103.83995275759463,
          -275.9515149394817,
          -882.8540579691307,
          -785.660135362957,
          -863.6679627730101,
          -1002.2591854822551,
          -460.543995638365,
          -246.89778271121304,
          239.05339568583025,
          180.38989903439077,
          160.29164531802195,
          581.4531261570261,
          234.99771946728453,
          -147.77965820280815,
          -392.97694803247526,
          -412.84545506433255,
          -780.3388880099005,
          -1232.0746957540048,
          -1095.5332596624623,
          -1276.392575520169,
          -1119.9335910118166,
          -662.261599572744,
          -899.7190835178102,
          -1195.6002183000396,
          -1325.1998908252722,
          -1125.3197955228613,
          -1138.330153166092,
          -1148.0076372448975,
          -1318.1458726085443,
          -1223.6252115150594,
          -692.9599257827213,
          -118.56580181674065,
          -154.86231271492227,
          -98.06182639340112,
          -360.60177776801333,
          -394.8733633230511,
          -418.511447390244,
          -151.83689653433498,
          76.41100739674387,
          552.941882551203,
          537.8409187365486,
          720.1993630333506,
          1086.4769221142906,
          904.9776048854486,
          576.5205615558576,
          910.3212638980715,
          732.8953500774522,
          990.7627739143015,
          894.3211568475135,
          524.4277946653672,
          429.9619272627156,
          620.4156576906951,
          837.538412875457,
          896.4323940094679,
          678.7789603272395,
          563.5406611841634,
          704.1122361901658,
          571.5275172980073,
          645.2624910486722,
          214.91027235266426,
          -49.625548770162084,
          89.12609424509293,
          181.1231659309442,
          151.9670039977251,
          -41.314225258604964,
          208.57167589708087,
          -110.09367678616834,
          -32.58242737799354,
          188.8969466674293,
          404.27516979429606,
          420.56888238358766,
          78.15300033755705,
          -162.56428338150016,
          -226.969846930328,
          -190.9808340141139,
          -298.5487062742502,
          -294.5153192463636,
          -46.035259415897315,
          145.62461360181874,
          263.36295798213274,
          229.4656334172028,
          468.98019697592804,
          591.5122045519898,
          527.5551922131567,
          458.28364520348566,
          569.228986818923,
          592.1724105483925,
          661.1504952228535,
          647.5530909546372,
          179.45845615832127,
          -95.75851331845115,
          -155.67682178544794,
          -480.4677356881949,
          -521.5206715691611,
          -559.384531268475,
          -601.6033804396809,
          -570.4481863176698,
          -433.4018374644436,
          -235.65610316822693,
          -143.2724180402365,
          -179.56281499602943,
          -382.5256862561603,
          -674.1048260812796,
          -895.1181174698892,
          -727.2445135324691,
          -751.4325192284666,
          -1078.7969822539508,
          -963.6995878568134,
          -1179.5148262288203,
          -789.5725294955148,
          -1020.2156371763235,
          -991.045097758871,
          -898.3187717763328,
          -1023.8166116986271,
          -1000.7092343003069,
          -863.1957824821595,
          -584.7400519661945,
          -461.0464419110804,
          -464.5292559195156,
          -530.9587548871101,
          -636.7533208985017,
          -767.8992234033265,
          -705.6045203256281,
          -822.4377512240584,
          -595.3126934576804,
          -158.78362574863178,
          26.710249920806035,
          456.0430518403673,
          531.3927192667528,
          656.3757901393203,
          790.2964872912148,
          960.5868992635848,
          1146.4067039589397,
          1465.428201974693,
          1625.2583143472798,
          1578.343269780354,
          1408.4325419976044,
          1714.2604712779078,
          1719.5611252635797,
          1635.7947814037616,
          1346.708154076145,
          1068.310507724558,
          1059.1121820811218,
          851.4772815346546,
          655.778622840687,
          339.27752601580164,
          211.82777204500027,
          298.0676143797119,
          -295.3770239549209,
          -353.210389996769,
          -288.981140617213,
          -589.7597042137978,
          -522.0595205086657,
          -623.3172979727533,
          -1036.866451012044,
          -707.2361419812557,
          -770.4715757700606,
          -532.8547595713997,
          -552.5140686073047,
          -462.5957611812819,
          -511.5513148674509,
          -374.4105795567387,
          -247.64764339207352,
          -476.4523847460975,
          -332.98829213140317,
          -155.10619639165066,
          -380.1017806080109,
          -165.97630224982294,
          113.22646301718123,
          141.80519771385275,
          -165.67240125347274,
          -163.08867088626386,
          -66.87509442957412,
          -23.505160045452953,
          19.15616603440958,
          261.83086013358087,
          294.1876805017097,
          -442.1126020018556,
          -402.941147594596,
          -356.69407082268447,
          -401.73609013381446,
          -418.4919418575825,
          -379.45989793177614,
          -517.7933422755717,
          -204.62761483926266,
          82.49854878567993,
          -69.47777657890654,
          -205.4968300864639,
          -214.78695604927776,
          -214.63361456968207,
          27.78450348646635,
          171.09079991308465,
          377.1523418147879,
          359.62067015022285,
          347.2770290665563,
          295.20429463151527,
          92.21267657978973,
          304.57250046978544,
          367.8049729422953,
          522.1240330262353,
          346.55946549820015,
          471.85910821687025,
          459.7525047346595,
          439.2098708172702,
          323.7729043792955,
          387.00420603033695,
          289.9287501262022,
          396.94417605889714,
          318.40302128336623,
          361.50433363264415,
          419.8322399616509,
          255.96912966553543,
          -99.7429047277102,
          -253.09014596876477,
          -381.53529343284004,
          -332.24657136837754,
          -218.1698376433032,
          -38.12124497402304,
          -34.52911113363568,
          80.49098226243589,
          -55.19583349965349,
          137.67496936264132,
          132.60163664153777,
          36.70075283753552,
          64.62718932245814,
          124.24535169792695,
          -69.82720265457203,
          114.48236591643655,
          140.6867057017862,
          125.22275174192123,
          -114.77560691151069,
          -205.78824909341103,
          -203.80935837597713,
          -230.63012478142207,
          -141.57437814856712,
          50.78055890143759,
          366.7313705744933,
          393.6073039660459,
          463.8823978519234,
          750.8742212685078,
          757.1481837857416,
          722.2348464262279,
          798.7200011684799,
          709.6460405367285,
          908.767223701161,
          1123.9523524172107,
          717.4142270457044,
          161.30433363337215,
          336.6940506821424,
          433.81939134318986,
          736.3121582472072,
          514.4169094373461,
          -154.58050063456193,
          -261.8221523479101,
          -216.26671962592394,
          -376.07791086985594,
          -373.6340472313955,
          -615.7067450282814,
          -481.0747928968492,
          -584.8949618356492,
          -246.0536467885608,
          39.12210085401489,
          -91.2994275253626,
          -43.77002939150958,
          0.8571585413614002,
          -204.92966082831822,
          -291.45823155447056,
          -261.50949451808026,
          -382.5534088230298,
          -683.9411524467312,
          -554.6955691790881,
          -518.6037904659712,
          -535.4205629956838,
          -738.5008444950358,
          -783.7177359522891,
          -760.4817260538441,
          -887.2969345477795,
          -799.4271249652782,
          -741.7278785022419,
          -475.9427689970521,
          -382.36918136025,
          50.97593935685761,
          176.45279591999304,
          136.12482100632752,
          30.60745024965324,
          161.380799061257,
          112.8945893710769,
          -90.06721812326731,
          -104.25291012590378,
          -220.530951196444,
          -439.2397822994166,
          -327.34259230270555,
          -452.4931410701581,
          -574.630782548479,
          -609.9861746853462,
          -306.5563910158406,
          -58.287032643472116,
          -148.55383059149887,
          -78.64633624530296,
          117.25033462037152,
          265.08559237103174,
          246.82697383560054,
          290.0923397798729,
          -48.720048495030255,
          -68.54062274421729,
          146.0233635697884,
          -83.08476582643405,
          -179.43335910942778,
          -42.95247239470025,
          5.646637724085643,
          205.64750954617244,
          285.1060783794202,
          307.10106830774004,
          167.85567359702463,
          87.34404073815455,
          121.20618663319124,
          154.4519428199273,
          297.05238189634684,
          292.4241905589158,
          305.3532185950872,
          217.00690944235572,
          185.01427723462552,
          125.54896081221762,
          149.46459620543823,
          110.66191829560091,
          49.847943727015945,
          -42.53091294194317,
          40.59554488321248,
          -26.668663306490657,
          -31.67099050130514,
          -16.1446407559647,
          -109.37639437299924,
          -70.13025894889154,
          -51.041783879266845,
          -183.39662039706423,
          -183.4322216468429,
          -246.36407044197898,
          -141.5717489719293,
          -172.2563762774518,
          -62.837879632279034,
          -160.45495433128877,
          -4.648244541279681,
          91.31896239338528,
          126.03407199247779,
          129.255179177883,
          108.42987581665035,
          -86.96764050904824,
          108.75720131841382,
          78.76107422286304,
          -178.14926471364902,
          -387.46032871086476,
          -471.39623891371986,
          -518.9325418122028,
          -629.0707459462859,
          -639.7602626383891,
          -490.1352176004801,
          -355.9480860228804,
          -389.0873918159551,
          -330.1432779063568,
          -192.0051815935277,
          -198.38006300572277,
          -212.96657140187625,
          -203.23418071880133,
          -379.90366133932037,
          -282.6789856753631,
          -73.29357971675,
          -273.96770232706353,
          -367.90616249791356,
          -208.23794379236512,
          -158.873608989006,
          23.319263813333293,
          70.58026507855277,
          21.311967257685694,
          -59.42677441136675,
          -122.07723510151112,
          -129.2737322824371,
          -152.05878490348738,
          -40.17141558161683,
          -108.70208447661457,
          -46.18352477555794,
          -113.60037384445008,
          -11.712536341585974,
          -29.242946287412792,
          -49.12193688712301,
          -73.64841006648714,
          371.84271236186237,
          623.3380071099034,
          614.047755351101,
          534.974060730929,
          557.1575612190525,
          672.1441962130675,
          661.8866866074376,
          555.0372867853638,
          426.0887816293389,
          117.10196955350898,
          -0.9556433591767615,
          -62.49737642002941,
          -26.639095473588654,
          -64.80234277274592,
          -41.090612568949815,
          -91.22570137808732,
          62.91173646319264,
          -72.19531076140731,
          -186.808578380195,
          -278.1954902135615,
          -322.45165406607043,
          -378.7102400181167,
          -345.6177850950091,
          -502.53910253445247,
          -903.4472569146985,
          -1170.3157173501336,
          -1314.7790811402976,
          -1458.6295905585691,
          -1590.4457301215039,
          -1550.6025606605263,
          -1390.7656205934547,
          -961.6480653243901,
          -997.9816322276638,
          -1009.7687308041639,
          -978.8123388818427,
          -804.9361285600828,
          -872.7343904526758,
          -676.1021944959575,
          -595.0093050384379,
          16.535057081702618,
          547.4515793189646,
          580.0088773799582,
          1015.2230986638397,
          1110.1117080756972,
          1082.0445891495895,
          491.4664176367974,
          556.2265092062104,
          1057.090770965741,
          899.1117623903706,
          863.763940563987,
          747.7931385588038,
          493.84410444961435,
          844.5224018654392,
          815.2893992672341,
          800.9130620966953,
          1283.4150994931956,
          1184.460746774708,
          974.8385100790953,
          847.9490603395475,
          421.829765271926,
          465.16344569773105,
          399.1223402088242,
          264.7142780204914,
          -570.7526331004416,
          -754.7878434628276,
          -806.4192167872134,
          -801.5361061394652,
          -945.5089692915018,
          -1327.6323581836332,
          -1530.1386079116508,
          -1522.1172298144563,
          -1495.6291830195441,
          -1320.5335321282353,
          -1201.1414047041965,
          -756.6099934423737,
          -543.7838218892813,
          -283.5085232773402,
          -473.024611083447,
          -619.8703862198878,
          -458.6443834021023,
          -64.67585413965183,
          605.6772312584643,
          730.5509435323772,
          775.3399277375274,
          1156.3195068180646,
          2251.799555327331,
          1325.9590094300163,
          1133.310739748643,
          1191.903484031693,
          871.7498361275684,
          166.35488721628525,
          -5.375350297640921,
          955.3368340818997,
          1343.1540669597273,
          816.6197072348654,
          1045.5405369588204,
          873.4514717595223,
          1331.5928371409163,
          1868.0591154555664,
          2075.6398078097927,
          1174.7885771633353,
          944.2052089305564,
          634.9224661417056,
          null,
          null,
          null,
          null,
          null,
          null,
          null,
          null,
          null,
          null,
          null,
          null,
          null,
          null,
          null,
          null,
          null,
          null,
          null,
          null,
          null,
          null,
          null,
          null,
          null,
          null,
          null,
          null,
          null,
          null
         ]
        },
        {
         "line": {
          "color": "rgb(66, 134, 244)",
          "width": 2
         },
         "mode": "lines",
         "name": "Observed",
         "type": "scatter",
         "x": [
          0,
          1,
          2,
          3,
          4,
          5,
          6,
          7,
          8,
          9,
          10,
          11,
          12,
          13,
          14,
          15,
          16,
          17,
          18,
          19,
          20,
          21,
          22,
          23,
          24,
          25,
          26,
          27,
          28,
          29,
          30,
          31,
          32,
          33,
          34,
          35,
          36,
          37,
          38,
          39,
          40,
          41,
          42,
          43,
          44,
          45,
          46,
          47,
          48,
          49,
          50,
          51,
          52,
          53,
          54,
          55,
          56,
          57,
          58,
          59,
          60,
          61,
          62,
          63,
          64,
          65,
          66,
          67,
          68,
          69,
          70,
          71,
          72,
          73,
          74,
          75,
          76,
          77,
          78,
          79,
          80,
          81,
          82,
          83,
          84,
          85,
          86,
          87,
          88,
          89,
          90,
          91,
          92,
          93,
          94,
          95,
          96,
          97,
          98,
          99,
          100,
          101,
          102,
          103,
          104,
          105,
          106,
          107,
          108,
          109,
          110,
          111,
          112,
          113,
          114,
          115,
          116,
          117,
          118,
          119,
          120,
          121,
          122,
          123,
          124,
          125,
          126,
          127,
          128,
          129,
          130,
          131,
          132,
          133,
          134,
          135,
          136,
          137,
          138,
          139,
          140,
          141,
          142,
          143,
          144,
          145,
          146,
          147,
          148,
          149,
          150,
          151,
          152,
          153,
          154,
          155,
          156,
          157,
          158,
          159,
          160,
          161,
          162,
          163,
          164,
          165,
          166,
          167,
          168,
          169,
          170,
          171,
          172,
          173,
          174,
          175,
          176,
          177,
          178,
          179,
          180,
          181,
          182,
          183,
          184,
          185,
          186,
          187,
          188,
          189,
          190,
          191,
          192,
          193,
          194,
          195,
          196,
          197,
          198,
          199,
          200,
          201,
          202,
          203,
          204,
          205,
          206,
          207,
          208,
          209,
          210,
          211,
          212,
          213,
          214,
          215,
          216,
          217,
          218,
          219,
          220,
          221,
          222,
          223,
          224,
          225,
          226,
          227,
          228,
          229,
          230,
          231,
          232,
          233,
          234,
          235,
          236,
          237,
          238,
          239,
          240,
          241,
          242,
          243,
          244,
          245,
          246,
          247,
          248,
          249,
          250,
          251,
          252,
          253,
          254,
          255,
          256,
          257,
          258,
          259,
          260,
          261,
          262,
          263,
          264,
          265,
          266,
          267,
          268,
          269,
          270,
          271,
          272,
          273,
          274,
          275,
          276,
          277,
          278,
          279,
          280,
          281,
          282,
          283,
          284,
          285,
          286,
          287,
          288,
          289,
          290,
          291,
          292,
          293,
          294,
          295,
          296,
          297,
          298,
          299,
          300,
          301,
          302,
          303,
          304,
          305,
          306,
          307,
          308,
          309,
          310,
          311,
          312,
          313,
          314,
          315,
          316,
          317,
          318,
          319,
          320,
          321,
          322,
          323,
          324,
          325,
          326,
          327,
          328,
          329,
          330,
          331,
          332,
          333,
          334,
          335,
          336,
          337,
          338,
          339,
          340,
          341,
          342,
          343,
          344,
          345,
          346,
          347,
          348,
          349,
          350,
          351,
          352,
          353,
          354,
          355,
          356,
          357,
          358,
          359,
          360,
          361,
          362,
          363,
          364,
          365,
          366,
          367,
          368,
          369,
          370,
          371,
          372,
          373,
          374,
          375,
          376,
          377,
          378,
          379,
          380,
          381,
          382,
          383,
          384,
          385,
          386,
          387,
          388,
          389,
          390,
          391,
          392,
          393,
          394,
          395,
          396,
          397,
          398,
          399,
          400,
          401,
          402,
          403,
          404,
          405,
          406,
          407,
          408,
          409,
          410,
          411,
          412,
          413,
          414,
          415,
          416,
          417,
          418,
          419,
          420,
          421,
          422,
          423,
          424,
          425,
          426,
          427,
          428,
          429,
          430,
          431,
          432,
          433,
          434,
          435,
          436,
          437,
          438,
          439,
          440,
          441,
          442,
          443,
          444,
          445,
          446,
          447,
          448,
          449,
          450,
          451,
          452,
          453,
          454,
          455,
          456,
          457,
          458,
          459,
          460,
          461,
          462,
          463,
          464,
          465,
          466,
          467,
          468,
          469,
          470,
          471,
          472,
          473,
          474,
          475,
          476,
          477,
          478,
          479,
          480,
          481,
          482,
          483,
          484,
          485,
          486,
          487,
          488,
          489,
          490,
          491,
          492,
          493,
          494,
          495,
          496,
          497,
          498,
          499,
          500,
          501,
          502,
          503,
          504,
          505,
          506,
          507,
          508,
          509,
          510,
          511,
          512,
          513,
          514,
          515,
          516,
          517,
          518,
          519,
          520,
          521,
          522,
          523,
          524,
          525,
          526,
          527,
          528,
          529,
          530,
          531,
          532,
          533,
          534,
          535,
          536,
          537,
          538,
          539,
          540,
          541,
          542,
          543,
          544,
          545,
          546,
          547,
          548,
          549,
          550,
          551,
          552,
          553,
          554,
          555,
          556,
          557,
          558,
          559,
          560,
          561,
          562,
          563,
          564,
          565,
          566,
          567,
          568,
          569,
          570,
          571,
          572,
          573,
          574,
          575,
          576,
          577,
          578,
          579,
          580,
          581,
          582,
          583,
          584,
          585,
          586,
          587,
          588,
          589,
          590,
          591,
          592,
          593,
          594,
          595,
          596,
          597,
          598,
          599,
          600,
          601,
          602,
          603,
          604,
          605,
          606,
          607,
          608,
          609,
          610,
          611,
          612,
          613,
          614,
          615,
          616,
          617,
          618,
          619,
          620,
          621,
          622,
          623,
          624,
          625,
          626,
          627,
          628,
          629,
          630,
          631,
          632,
          633,
          634,
          635,
          636,
          637,
          638,
          639,
          640,
          641,
          642,
          643,
          644,
          645,
          646,
          647,
          648,
          649,
          650,
          651,
          652,
          653,
          654,
          655,
          656,
          657,
          658,
          659
         ],
         "y": [
          5909.253738347273,
          5866.644499786067,
          5658.646805951579,
          5547.221811805942,
          5827.235680004529,
          5820.642063519375,
          5748.121104280505,
          5890.569037306749,
          6122.311358604307,
          6241.215401678731,
          6502.5593808431595,
          6952.020765214627,
          7240.285579959725,
          7258.382874781856,
          7458.414757038099,
          7227.118230046526,
          7102.39107658024,
          7386.463336391786,
          7244.0399783568055,
          6960.031576527176,
          6554.555889592357,
          6113.264264574333,
          6347.1402022444745,
          6590.110155162141,
          7047.112552616389,
          7461.850969807443,
          7826.848438162768,
          7696.234055591442,
          7827.131551353381,
          8090.706961414423,
          8157.12061592917,
          8194.445675129438,
          8174.598065053007,
          8167.7218578133225,
          8431.992744482315,
          8971.770344226623,
          9555.697055042774,
          9832.286235978865,
          10416.668393032593,
          9887.543386804504,
          10194.25850765683,
          10937.496732534442,
          11291.622579057115,
          11345.150015838088,
          11654.246298835093,
          12577.93035189583,
          14775.059048403487,
          15429.647898831276,
          14804.000106056277,
          14132.601710642339,
          16200.092354788894,
          16730.288683196104,
          16539.760724362503,
          16337.658675465249,
          17362.369487768305,
          18176.445040534494,
          19186.169610256275,
          18716.81145947776,
          18318.874083903385,
          16831.69035647014,
          16219.341431540313,
          13756.405633890898,
          14765.470556031954,
          13652.628406286822,
          13964.861683658302,
          15242.60779660485,
          15579.674561490996,
          14246.326809279137,
          14533.09224733401,
          13207.977744208323,
          13337.513232213194,
          13422.567010480292,
          13877.579910547882,
          14962.379077539552,
          14816.62546783891,
          15790.44614531669,
          16665.2688077382,
          16516.38596170831,
          15299.470658760409,
          14867.467959925685,
          14192.252139563872,
          13695.101799907921,
          13658.61584973284,
          14225.001391134012,
          13678.343443949821,
          13821.791453646538,
          12163.32296559722,
          10679.943137175675,
          11494.871755379161,
          11513.812274693057,
          12472.528148811978,
          11894.038151210543,
          11130.995062939446,
          10724.38599860479,
          11008.63178575679,
          11300.367389716277,
          11009.292808106238,
          11238.781031658229,
          11673.754262195793,
          11283.930538125536,
          10625.622069799076,
          9985.909391786581,
          9495.673632278698,
          8557.56405370818,
          8910.514730367662,
          8718.772985557165,
          7611.002286218681,
          6828.327463351177,
          7913.127095914588,
          8216.651519715004,
          8260.5050100169,
          8656.496373707645,
          8187.7584321186805,
          8624.788575408098,
          8609.2292129383,
          9025.757079268233,
          9802.718758693474,
          10025.76678779922,
          10677.391083654175,
          10737.516565552482,
          10867.512968215166,
          11497.78139608207,
          10791.642741853477,
          10271.704640612517,
          10012.34290769923,
          9929.97994763513,
          9594.672009343749,
          9910.358818937368,
          10552.471359653444,
          10620.163827891985,
          10650.136939168438,
          10980.858877914337,
          11343.977180478278,
          11241.467414556733,
          11521.017952200013,
          11020.070332177618,
          10399.634202342024,
          9705.47006482103,
          8908.174920565885,
          9237.203629508414,
          9059.7413486486,
          9435.669775228638,
          9155.933942166426,
          8767.456078613099,
          8111.543810116839,
          8315.520123393882,
          8077.034957227769,
          7678.897274336678,
          8355.447551464971,
          8623.627348575088,
          8983.274716832539,
          8791.675286156915,
          8530.261887495963,
          8857.240489108073,
          8535.27998779133,
          8206.525321352163,
          7965.430010217683,
          7916.34261848521,
          7517.898248148363,
          6887.522776039158,
          7005.360662200825,
          6796.601292610656,
          6977.662770968884,
          7325.336386033411,
          7077.685461860624,
          6757.906435190125,
          6649.570056047771,
          6892.349425759903,
          6988.220222870914,
          6891.718413377999,
          6779.382299764623,
          6880.031796531265,
          7336.352833091173,
          7993.173746452505,
          8011.290469026133,
          8215.062462895481,
          8079.964366643196,
          8036.063162183466,
          8056.830537172492,
          8212.89902001327,
          8445.13683254687,
          8800.071486919654,
          8888.486728819395,
          8895.16762023534,
          9313.931172827306,
          9221.422056068632,
          8882.861283232156,
          9216.859624774994,
          9239.921222156729,
          9355.907476675322,
          9290.35964742299,
          8988.335162892581,
          9112.22023462272,
          9379.426677940148,
          9656.065965841874,
          9828.8597494018,
          9615.743948307034,
          9343.777481907433,
          9260.789437483407,
          9192.79687065563,
          9265.143065312655,
          8701.13078361202,
          8422.756684929274,
          8550.046166780056,
          8579.873873172772,
          8641.886150401542,
          8282.21851377502,
          8277.625406366718,
          8106.188912609971,
          8254.128463304614,
          8362.053475615578,
          8455.101553257535,
          8232.819020327775,
          7784.482606406806,
          7537.9302916374,
          7486.139521913094,
          7489.087612059258,
          7316.551009348536,
          7255.020113208076,
          7292.843306593192,
          7432.153647526799,
          7499.828363151246,
          7480.842998299717,
          7597.067234055128,
          7690.580575376408,
          7575.5476907345865,
          7491.558551911625,
          7606.309918205721,
          7692.4683367804955,
          7629.21300333469,
          7630.296580175172,
          7132.9023552242525,
          6759.8252251132035,
          6753.589089460512,
          6442.164773967491,
          6501.880616603495,
          6550.608970816553,
          6461.0547344872475,
          6508.827389822967,
          6523.0901277623,
          6717.885852206463,
          6679.93104714231,
          6736.429177464208,
          6359.013820413765,
          6135.543846598103,
          6023.8896670909435,
          6202.87687870321,
          6201.5526190336095,
          6095.5774029908625,
          6081.3805574977605,
          5903.3350651305545,
          6363.429735609233,
          6349.980904651709,
          6452.834153986864,
          6596.6386435730465,
          6570.766852770351,
          6581.029784587335,
          6541.718840951005,
          6573.830823371469,
          6738.8721180935745,
          6705.525898697216,
          6480.199575943745,
          6354.062268322145,
          6218.799424591444,
          6236.444559134059,
          6235.684070801002,
          6318.013231735982,
          6521.050186574161,
          6877.673884476539,
          7402.580819460976,
          7390.090778422766,
          7420.196947077814,
          7346.385614035317,
          7447.723313695186,
          7679.362705305651,
          8071.240982005918,
          8253.338416176684,
          8196.09901702876,
          8021.010655096661,
          8179.726691680431,
          8202.498761161012,
          8133.522836619849,
          7914.756333562005,
          7569.664617535836,
          7590.004859834708,
          7393.8093785787005,
          7247.077235219733,
          6995.192839452979,
          6987.69858203196,
          6986.3893742626715,
          6444.573924300412,
          6393.998556452644,
          6394.536288565238,
          6184.192153670268,
          6305.226968673241,
          6345.0272889532225,
          6055.786321003208,
          6369.941043951965,
          6345.04510208509,
          6466.560189308671,
          6443.114310452302,
          6401.7003608656405,
          6443.7677115674205,
          6399.602282626346,
          6578.968414189755,
          6433.583567491601,
          6552.655532983387,
          6713.807658833619,
          6670.069420563303,
          6713.4146514397535,
          6988.2631792007805,
          7049.057380905901,
          6926.1882488652145,
          6979.345931296861,
          7110.975123691867,
          7240.745144965029,
          7260.337289836386,
          7322.919696562517,
          7112.472917228903,
          6421.470819514182,
          6443.170149740028,
          6348.917552459333,
          6295.955871608836,
          6287.2353689863685,
          6289.49650508535,
          6267.719038462472,
          6441.487443663272,
          6499.971601943516,
          6520.305906167756,
          6481.711958450328,
          6387.062102187686,
          6297.10630147555,
          6336.263500396324,
          6412.2113129532245,
          6658.831353718467,
          6705.600140284551,
          6707.643346377802,
          6634.346988715095,
          6412.473108576098,
          6462.817254197133,
          6521.758676072279,
          6665.873700380448,
          6539.716102934858,
          6578.164624514121,
          6574.020800956236,
          6540.363942092479,
          6447.334767598039,
          6547.189881402392,
          6544.63251383222,
          6555.922073264146,
          6533.448685133508,
          6588.155308965511,
          6586.9564092338005,
          6515.360999924539,
          6213.162666325577,
          6201.288677021769,
          6195.677906977851,
          6226.1260207690675,
          6375.661029701257,
          6437.748762531298,
          6438.221636794063,
          6425.722009587468,
          6385.3872377542475,
          6397.217165889304,
          6434.035994542509,
          6404.876000667324,
          6395.1786999370515,
          6425.40594836004,
          6400.662835858662,
          6400.893078967589,
          6406.251028612429,
          6402.290679530037,
          6325.211437272033,
          6264.195688634453,
          6277.879061625037,
          6311.718670926264,
          6351.602754343141,
          6333.015924337837,
          6369.730653024255,
          6404.235911384491,
          6413.277403035481,
          6506.850121359625,
          6448.400227260435,
          6365.113235244777,
          6354.594868746577,
          6337.526091595159,
          6350.332649825185,
          6289.7193601323725,
          6006.365579261713,
          5494.319742337805,
          5530.634010195516,
          5484.919440832444,
          5534.734346708526,
          5199.94109520589,
          4529.7341362043935,
          4447.044597243776,
          4467.069766823958,
          4248.160182601287,
          4197.0218484647985,
          3756.9321726632156,
          3850.9359188902804,
          3702.8837805173043,
          4057.2945921860774,
          4224.798889200139,
          4074.566444549815,
          4081.6234612502717,
          4120.589503435377,
          3924.2521580205903,
          3904.603216776478,
          3802.154822702279,
          3694.2460291128687,
          3360.0577535520256,
          3385.1274285820373,
          3471.6984966057476,
          3468.016103915769,
          3364.5370162823688,
          3398.5062178926696,
          3360.6047049462545,
          3232.8290393998554,
          3179.0593374669525,
          3217.320694474901,
          3338.0597870837605,
          3508.657608059425,
          3748.438946266989,
          3923.3309426052406,
          3972.1396087827775,
          3851.677453704535,
          3978.056280943766,
          4126.211925575531,
          3773.2598637857213,
          3778.891883893179,
          3717.518933276413,
          3701.742855265371,
          3873.0976776927205,
          3787.8872244049644,
          3756.6091935970267,
          3700.678699184263,
          3824.381087968742,
          3829.1043907331464,
          3784.333248162993,
          3834.1348999003308,
          3885.3312363064815,
          4022.4037756356242,
          4006.822507628478,
          4010.3433117363506,
          3792.036096844144,
          3636.6807815582692,
          3626.334444156507,
          3575.310055370955,
          3582.6045220701276,
          3640.2933370626597,
          3603.4896060903284,
          3603.1108963190554,
          3615.0162402835526,
          3676.048963962315,
          3600.5671484172353,
          3535.8924402909615,
          3552.1442090795886,
          3568.889252260235,
          3554.416967216573,
          3556.4355556935047,
          3571.749735825,
          3544.653609846713,
          3436.9412918349367,
          3397.8775349802277,
          3424.0257292164815,
          3424.2888032742417,
          3416.594531071117,
          3432.0971087290945,
          3424.824032234868,
          3413.9380681213984,
          3419.3179790594336,
          3371.2772503979936,
          3366.1778129508257,
          3455.8028503283163,
          3614.8508350041398,
          3607.855117072525,
          3595.134164029951,
          3577.8738073706327,
          3581.9735733794737,
          3568.821387442703,
          3570.4442012532286,
          3587.674873840409,
          3585.2871700518717,
          3756.6733688645004,
          3900.731708250319,
          3910.910261047882,
          3906.534464631225,
          3925.7113364517268,
          3984.9867935983384,
          3985.1708804270697,
          3793.163629309673,
          3799.540217303013,
          3794.9455016428774,
          3810.446652930447,
          3813.5412836938794,
          3804.940802442856,
          3800.987502450217,
          3723.453458979126,
          3769.1668693491292,
          3839.430915640903,
          3861.3062407765815,
          3871.9730141896607,
          3891.329312946089,
          3892.6368754301884,
          3862.9988702185738,
          3847.33920740142,
          3852.899760318286,
          3850.1382019363696,
          3878.6403578497307,
          3978.641306743275,
          3963.411215936667,
          3968.9576750204974,
          3976.945427989938,
          3995.9720014332643,
          4005.272133340551,
          3981.8002720551817,
          3980.3264992944582,
          3968.46245122984,
          3949.1003203494884,
          3908.236851619739,
          3994.0737158506363,
          4009.1424706244707,
          4057.98130480225,
          4083.9740598408152,
          4088.4294700084174,
          4125.683156324461,
          4649.127833447874,
          5038.385738468254,
          4971.545798205418,
          4980.670549616031,
          5044.045355965486,
          5128.484710430335,
          5241.454285995179,
          5221.160476532499,
          5270.750017079176,
          5129.666959568332,
          5047.457160680199,
          5084.583871902047,
          5078.929244976857,
          5121.256873948458,
          5098.903679622812,
          5218.59722040334,
          5263.827501811347,
          5259.180188799351,
          5313.194743326623,
          5287.273093444004,
          5317.854806459386,
          5532.9746966897565,
          5487.736644192159,
          5422.8773982861085,
          5149.359096159837,
          5165.037288717595,
          5169.575513691476,
          5154.81654336067,
          5200.883942799437,
          5304.5212400299915,
          5362.337862155496,
          5618.7996954496475,
          5694.984820152449,
          5722.166836310573,
          5656.929467735292,
          5864.269775568949,
          5844.480875511197,
          6047.488290597913,
          6290.828123699577,
          6806.48747059431,
          7154.9551372121105,
          7409.110545395556,
          7992.089707485142,
          8054.587950808817,
          7993.425148022656,
          7262.418007899218,
          7325.731918952011,
          7933.9268158052155,
          7906.096424482967,
          7952.526758231092,
          7890.29452589542,
          7702.740478159255,
          7983.344116740006,
          8046.300617381784,
          8128.546958223451,
          8784.562189371667,
          8727.337766359067,
          8648.244324281599,
          8632.743963722436,
          8351.777835872286,
          8543.924060004654,
          8670.265812880712,
          8532.593172662384,
          7850.979304918054,
          7773.4777406099365,
          7751.680285119101,
          7938.729206254168,
          7940.5253349988625,
          7798.498155120784,
          7819.5486367820695,
          7896.830013286613,
          8036.509587763991,
          8169.588231822856,
          8353.217492064297,
          8727.687036371799,
          9095.289101530452,
          9235.846432505909,
          9152.500069336686,
          9148.01395901445,
          9353.22648559646,
          9801.48601844826,
          10724.80500475833,
          10746.900511013211,
          10846.846268886118,
          11315.817028152782,
          12643.58268406806,
          11804.629165520822,
          11679.43835006045,
          11854.537295204322,
          11542.5519109653,
          10688.316669892505,
          10303.947255003688,
          11345.214704756921,
          11759.042504677078,
          11139.493770149711,
          11415.369265018257,
          11311.47674802796,
          11794.10358029435,
          12513.87310001388,
          12648.77722987224,
          11583.33114395624,
          11584.53226697636,
          11428.597803701208,
          10857.026633891062,
          10417.313950106387,
          10355.675152687822,
          9577.424253618532,
          10054.174637386332,
          10472.448828593731,
          10680.276549055909,
          10577.614454422597,
          10450.157570706906,
          10070.725015713168,
          9702.591536684673,
          10016.952398913825,
          9774.724239339514,
          9728.204527019083,
          9484.914105643693,
          9539.378363609236,
          9540.448916710371,
          9857.746978877933,
          10085.104546979139,
          10475.070739547555,
          10784.832144716522,
          10820.892324169692,
          11675.761776815854,
          11757.580574404436,
          11711.54347617361,
          11801.34874174219,
          11819.34219296096,
          11578.771028918314,
          11378.232876254124,
          11540.450291
         ]
        }
       ],
       "layout": {
        "template": {
         "data": {
          "bar": [
           {
            "error_x": {
             "color": "#2a3f5f"
            },
            "error_y": {
             "color": "#2a3f5f"
            },
            "marker": {
             "line": {
              "color": "#E5ECF6",
              "width": 0.5
             }
            },
            "type": "bar"
           }
          ],
          "barpolar": [
           {
            "marker": {
             "line": {
              "color": "#E5ECF6",
              "width": 0.5
             }
            },
            "type": "barpolar"
           }
          ],
          "carpet": [
           {
            "aaxis": {
             "endlinecolor": "#2a3f5f",
             "gridcolor": "white",
             "linecolor": "white",
             "minorgridcolor": "white",
             "startlinecolor": "#2a3f5f"
            },
            "baxis": {
             "endlinecolor": "#2a3f5f",
             "gridcolor": "white",
             "linecolor": "white",
             "minorgridcolor": "white",
             "startlinecolor": "#2a3f5f"
            },
            "type": "carpet"
           }
          ],
          "choropleth": [
           {
            "colorbar": {
             "outlinewidth": 0,
             "ticks": ""
            },
            "type": "choropleth"
           }
          ],
          "contour": [
           {
            "colorbar": {
             "outlinewidth": 0,
             "ticks": ""
            },
            "colorscale": [
             [
              0,
              "#0d0887"
             ],
             [
              0.1111111111111111,
              "#46039f"
             ],
             [
              0.2222222222222222,
              "#7201a8"
             ],
             [
              0.3333333333333333,
              "#9c179e"
             ],
             [
              0.4444444444444444,
              "#bd3786"
             ],
             [
              0.5555555555555556,
              "#d8576b"
             ],
             [
              0.6666666666666666,
              "#ed7953"
             ],
             [
              0.7777777777777778,
              "#fb9f3a"
             ],
             [
              0.8888888888888888,
              "#fdca26"
             ],
             [
              1,
              "#f0f921"
             ]
            ],
            "type": "contour"
           }
          ],
          "contourcarpet": [
           {
            "colorbar": {
             "outlinewidth": 0,
             "ticks": ""
            },
            "type": "contourcarpet"
           }
          ],
          "heatmap": [
           {
            "colorbar": {
             "outlinewidth": 0,
             "ticks": ""
            },
            "colorscale": [
             [
              0,
              "#0d0887"
             ],
             [
              0.1111111111111111,
              "#46039f"
             ],
             [
              0.2222222222222222,
              "#7201a8"
             ],
             [
              0.3333333333333333,
              "#9c179e"
             ],
             [
              0.4444444444444444,
              "#bd3786"
             ],
             [
              0.5555555555555556,
              "#d8576b"
             ],
             [
              0.6666666666666666,
              "#ed7953"
             ],
             [
              0.7777777777777778,
              "#fb9f3a"
             ],
             [
              0.8888888888888888,
              "#fdca26"
             ],
             [
              1,
              "#f0f921"
             ]
            ],
            "type": "heatmap"
           }
          ],
          "heatmapgl": [
           {
            "colorbar": {
             "outlinewidth": 0,
             "ticks": ""
            },
            "colorscale": [
             [
              0,
              "#0d0887"
             ],
             [
              0.1111111111111111,
              "#46039f"
             ],
             [
              0.2222222222222222,
              "#7201a8"
             ],
             [
              0.3333333333333333,
              "#9c179e"
             ],
             [
              0.4444444444444444,
              "#bd3786"
             ],
             [
              0.5555555555555556,
              "#d8576b"
             ],
             [
              0.6666666666666666,
              "#ed7953"
             ],
             [
              0.7777777777777778,
              "#fb9f3a"
             ],
             [
              0.8888888888888888,
              "#fdca26"
             ],
             [
              1,
              "#f0f921"
             ]
            ],
            "type": "heatmapgl"
           }
          ],
          "histogram": [
           {
            "marker": {
             "colorbar": {
              "outlinewidth": 0,
              "ticks": ""
             }
            },
            "type": "histogram"
           }
          ],
          "histogram2d": [
           {
            "colorbar": {
             "outlinewidth": 0,
             "ticks": ""
            },
            "colorscale": [
             [
              0,
              "#0d0887"
             ],
             [
              0.1111111111111111,
              "#46039f"
             ],
             [
              0.2222222222222222,
              "#7201a8"
             ],
             [
              0.3333333333333333,
              "#9c179e"
             ],
             [
              0.4444444444444444,
              "#bd3786"
             ],
             [
              0.5555555555555556,
              "#d8576b"
             ],
             [
              0.6666666666666666,
              "#ed7953"
             ],
             [
              0.7777777777777778,
              "#fb9f3a"
             ],
             [
              0.8888888888888888,
              "#fdca26"
             ],
             [
              1,
              "#f0f921"
             ]
            ],
            "type": "histogram2d"
           }
          ],
          "histogram2dcontour": [
           {
            "colorbar": {
             "outlinewidth": 0,
             "ticks": ""
            },
            "colorscale": [
             [
              0,
              "#0d0887"
             ],
             [
              0.1111111111111111,
              "#46039f"
             ],
             [
              0.2222222222222222,
              "#7201a8"
             ],
             [
              0.3333333333333333,
              "#9c179e"
             ],
             [
              0.4444444444444444,
              "#bd3786"
             ],
             [
              0.5555555555555556,
              "#d8576b"
             ],
             [
              0.6666666666666666,
              "#ed7953"
             ],
             [
              0.7777777777777778,
              "#fb9f3a"
             ],
             [
              0.8888888888888888,
              "#fdca26"
             ],
             [
              1,
              "#f0f921"
             ]
            ],
            "type": "histogram2dcontour"
           }
          ],
          "mesh3d": [
           {
            "colorbar": {
             "outlinewidth": 0,
             "ticks": ""
            },
            "type": "mesh3d"
           }
          ],
          "parcoords": [
           {
            "line": {
             "colorbar": {
              "outlinewidth": 0,
              "ticks": ""
             }
            },
            "type": "parcoords"
           }
          ],
          "pie": [
           {
            "automargin": true,
            "type": "pie"
           }
          ],
          "scatter": [
           {
            "marker": {
             "colorbar": {
              "outlinewidth": 0,
              "ticks": ""
             }
            },
            "type": "scatter"
           }
          ],
          "scatter3d": [
           {
            "line": {
             "colorbar": {
              "outlinewidth": 0,
              "ticks": ""
             }
            },
            "marker": {
             "colorbar": {
              "outlinewidth": 0,
              "ticks": ""
             }
            },
            "type": "scatter3d"
           }
          ],
          "scattercarpet": [
           {
            "marker": {
             "colorbar": {
              "outlinewidth": 0,
              "ticks": ""
             }
            },
            "type": "scattercarpet"
           }
          ],
          "scattergeo": [
           {
            "marker": {
             "colorbar": {
              "outlinewidth": 0,
              "ticks": ""
             }
            },
            "type": "scattergeo"
           }
          ],
          "scattergl": [
           {
            "marker": {
             "colorbar": {
              "outlinewidth": 0,
              "ticks": ""
             }
            },
            "type": "scattergl"
           }
          ],
          "scattermapbox": [
           {
            "marker": {
             "colorbar": {
              "outlinewidth": 0,
              "ticks": ""
             }
            },
            "type": "scattermapbox"
           }
          ],
          "scatterpolar": [
           {
            "marker": {
             "colorbar": {
              "outlinewidth": 0,
              "ticks": ""
             }
            },
            "type": "scatterpolar"
           }
          ],
          "scatterpolargl": [
           {
            "marker": {
             "colorbar": {
              "outlinewidth": 0,
              "ticks": ""
             }
            },
            "type": "scatterpolargl"
           }
          ],
          "scatterternary": [
           {
            "marker": {
             "colorbar": {
              "outlinewidth": 0,
              "ticks": ""
             }
            },
            "type": "scatterternary"
           }
          ],
          "surface": [
           {
            "colorbar": {
             "outlinewidth": 0,
             "ticks": ""
            },
            "colorscale": [
             [
              0,
              "#0d0887"
             ],
             [
              0.1111111111111111,
              "#46039f"
             ],
             [
              0.2222222222222222,
              "#7201a8"
             ],
             [
              0.3333333333333333,
              "#9c179e"
             ],
             [
              0.4444444444444444,
              "#bd3786"
             ],
             [
              0.5555555555555556,
              "#d8576b"
             ],
             [
              0.6666666666666666,
              "#ed7953"
             ],
             [
              0.7777777777777778,
              "#fb9f3a"
             ],
             [
              0.8888888888888888,
              "#fdca26"
             ],
             [
              1,
              "#f0f921"
             ]
            ],
            "type": "surface"
           }
          ],
          "table": [
           {
            "cells": {
             "fill": {
              "color": "#EBF0F8"
             },
             "line": {
              "color": "white"
             }
            },
            "header": {
             "fill": {
              "color": "#C8D4E3"
             },
             "line": {
              "color": "white"
             }
            },
            "type": "table"
           }
          ]
         },
         "layout": {
          "annotationdefaults": {
           "arrowcolor": "#2a3f5f",
           "arrowhead": 0,
           "arrowwidth": 1
          },
          "coloraxis": {
           "colorbar": {
            "outlinewidth": 0,
            "ticks": ""
           }
          },
          "colorscale": {
           "diverging": [
            [
             0,
             "#8e0152"
            ],
            [
             0.1,
             "#c51b7d"
            ],
            [
             0.2,
             "#de77ae"
            ],
            [
             0.3,
             "#f1b6da"
            ],
            [
             0.4,
             "#fde0ef"
            ],
            [
             0.5,
             "#f7f7f7"
            ],
            [
             0.6,
             "#e6f5d0"
            ],
            [
             0.7,
             "#b8e186"
            ],
            [
             0.8,
             "#7fbc41"
            ],
            [
             0.9,
             "#4d9221"
            ],
            [
             1,
             "#276419"
            ]
           ],
           "sequential": [
            [
             0,
             "#0d0887"
            ],
            [
             0.1111111111111111,
             "#46039f"
            ],
            [
             0.2222222222222222,
             "#7201a8"
            ],
            [
             0.3333333333333333,
             "#9c179e"
            ],
            [
             0.4444444444444444,
             "#bd3786"
            ],
            [
             0.5555555555555556,
             "#d8576b"
            ],
            [
             0.6666666666666666,
             "#ed7953"
            ],
            [
             0.7777777777777778,
             "#fb9f3a"
            ],
            [
             0.8888888888888888,
             "#fdca26"
            ],
            [
             1,
             "#f0f921"
            ]
           ],
           "sequentialminus": [
            [
             0,
             "#0d0887"
            ],
            [
             0.1111111111111111,
             "#46039f"
            ],
            [
             0.2222222222222222,
             "#7201a8"
            ],
            [
             0.3333333333333333,
             "#9c179e"
            ],
            [
             0.4444444444444444,
             "#bd3786"
            ],
            [
             0.5555555555555556,
             "#d8576b"
            ],
            [
             0.6666666666666666,
             "#ed7953"
            ],
            [
             0.7777777777777778,
             "#fb9f3a"
            ],
            [
             0.8888888888888888,
             "#fdca26"
            ],
            [
             1,
             "#f0f921"
            ]
           ]
          },
          "colorway": [
           "#636efa",
           "#EF553B",
           "#00cc96",
           "#ab63fa",
           "#FFA15A",
           "#19d3f3",
           "#FF6692",
           "#B6E880",
           "#FF97FF",
           "#FECB52"
          ],
          "font": {
           "color": "#2a3f5f"
          },
          "geo": {
           "bgcolor": "white",
           "lakecolor": "white",
           "landcolor": "#E5ECF6",
           "showlakes": true,
           "showland": true,
           "subunitcolor": "white"
          },
          "hoverlabel": {
           "align": "left"
          },
          "hovermode": "closest",
          "mapbox": {
           "style": "light"
          },
          "paper_bgcolor": "white",
          "plot_bgcolor": "#E5ECF6",
          "polar": {
           "angularaxis": {
            "gridcolor": "white",
            "linecolor": "white",
            "ticks": ""
           },
           "bgcolor": "#E5ECF6",
           "radialaxis": {
            "gridcolor": "white",
            "linecolor": "white",
            "ticks": ""
           }
          },
          "scene": {
           "xaxis": {
            "backgroundcolor": "#E5ECF6",
            "gridcolor": "white",
            "gridwidth": 2,
            "linecolor": "white",
            "showbackground": true,
            "ticks": "",
            "zerolinecolor": "white"
           },
           "yaxis": {
            "backgroundcolor": "#E5ECF6",
            "gridcolor": "white",
            "gridwidth": 2,
            "linecolor": "white",
            "showbackground": true,
            "ticks": "",
            "zerolinecolor": "white"
           },
           "zaxis": {
            "backgroundcolor": "#E5ECF6",
            "gridcolor": "white",
            "gridwidth": 2,
            "linecolor": "white",
            "showbackground": true,
            "ticks": "",
            "zerolinecolor": "white"
           }
          },
          "shapedefaults": {
           "line": {
            "color": "#2a3f5f"
           }
          },
          "ternary": {
           "aaxis": {
            "gridcolor": "white",
            "linecolor": "white",
            "ticks": ""
           },
           "baxis": {
            "gridcolor": "white",
            "linecolor": "white",
            "ticks": ""
           },
           "bgcolor": "#E5ECF6",
           "caxis": {
            "gridcolor": "white",
            "linecolor": "white",
            "ticks": ""
           }
          },
          "title": {
           "x": 0.05
          },
          "xaxis": {
           "automargin": true,
           "gridcolor": "white",
           "linecolor": "white",
           "ticks": "",
           "title": {
            "standoff": 15
           },
           "zerolinecolor": "white",
           "zerolinewidth": 2
          },
          "yaxis": {
           "automargin": true,
           "gridcolor": "white",
           "linecolor": "white",
           "ticks": "",
           "title": {
            "standoff": 15
           },
           "zerolinecolor": "white",
           "zerolinewidth": 2
          }
         }
        },
        "title": {
         "text": "Seasonal decomposition"
        },
        "xaxis": {
         "title": {
          "text": "Time"
         }
        },
        "yaxis": {
         "title": {
          "text": "Price, USD"
         }
        }
       }
      },
      "text/html": [
       "<div>\n",
       "        \n",
       "        \n",
       "            <div id=\"65b05150-f9a1-4f8c-bb83-ed4805fa4640\" class=\"plotly-graph-div\" style=\"height:525px; width:100%;\"></div>\n",
       "            <script type=\"text/javascript\">\n",
       "                require([\"plotly\"], function(Plotly) {\n",
       "                    window.PLOTLYENV=window.PLOTLYENV || {};\n",
       "                    \n",
       "                if (document.getElementById(\"65b05150-f9a1-4f8c-bb83-ed4805fa4640\")) {\n",
       "                    Plotly.newPlot(\n",
       "                        '65b05150-f9a1-4f8c-bb83-ed4805fa4640',\n",
       "                        [{\"line\": {\"color\": \"rgb(244, 146, 65)\", \"width\": 4}, \"mode\": \"lines\", \"name\": \"Trend\", \"type\": \"scatter\", \"x\": [0, 1, 2, 3, 4, 5, 6, 7, 8, 9, 10, 11, 12, 13, 14, 15, 16, 17, 18, 19, 20, 21, 22, 23, 24, 25, 26, 27, 28, 29, 30, 31, 32, 33, 34, 35, 36, 37, 38, 39, 40, 41, 42, 43, 44, 45, 46, 47, 48, 49, 50, 51, 52, 53, 54, 55, 56, 57, 58, 59, 60, 61, 62, 63, 64, 65, 66, 67, 68, 69, 70, 71, 72, 73, 74, 75, 76, 77, 78, 79, 80, 81, 82, 83, 84, 85, 86, 87, 88, 89, 90, 91, 92, 93, 94, 95, 96, 97, 98, 99, 100, 101, 102, 103, 104, 105, 106, 107, 108, 109, 110, 111, 112, 113, 114, 115, 116, 117, 118, 119, 120, 121, 122, 123, 124, 125, 126, 127, 128, 129, 130, 131, 132, 133, 134, 135, 136, 137, 138, 139, 140, 141, 142, 143, 144, 145, 146, 147, 148, 149, 150, 151, 152, 153, 154, 155, 156, 157, 158, 159, 160, 161, 162, 163, 164, 165, 166, 167, 168, 169, 170, 171, 172, 173, 174, 175, 176, 177, 178, 179, 180, 181, 182, 183, 184, 185, 186, 187, 188, 189, 190, 191, 192, 193, 194, 195, 196, 197, 198, 199, 200, 201, 202, 203, 204, 205, 206, 207, 208, 209, 210, 211, 212, 213, 214, 215, 216, 217, 218, 219, 220, 221, 222, 223, 224, 225, 226, 227, 228, 229, 230, 231, 232, 233, 234, 235, 236, 237, 238, 239, 240, 241, 242, 243, 244, 245, 246, 247, 248, 249, 250, 251, 252, 253, 254, 255, 256, 257, 258, 259, 260, 261, 262, 263, 264, 265, 266, 267, 268, 269, 270, 271, 272, 273, 274, 275, 276, 277, 278, 279, 280, 281, 282, 283, 284, 285, 286, 287, 288, 289, 290, 291, 292, 293, 294, 295, 296, 297, 298, 299, 300, 301, 302, 303, 304, 305, 306, 307, 308, 309, 310, 311, 312, 313, 314, 315, 316, 317, 318, 319, 320, 321, 322, 323, 324, 325, 326, 327, 328, 329, 330, 331, 332, 333, 334, 335, 336, 337, 338, 339, 340, 341, 342, 343, 344, 345, 346, 347, 348, 349, 350, 351, 352, 353, 354, 355, 356, 357, 358, 359, 360, 361, 362, 363, 364, 365, 366, 367, 368, 369, 370, 371, 372, 373, 374, 375, 376, 377, 378, 379, 380, 381, 382, 383, 384, 385, 386, 387, 388, 389, 390, 391, 392, 393, 394, 395, 396, 397, 398, 399, 400, 401, 402, 403, 404, 405, 406, 407, 408, 409, 410, 411, 412, 413, 414, 415, 416, 417, 418, 419, 420, 421, 422, 423, 424, 425, 426, 427, 428, 429, 430, 431, 432, 433, 434, 435, 436, 437, 438, 439, 440, 441, 442, 443, 444, 445, 446, 447, 448, 449, 450, 451, 452, 453, 454, 455, 456, 457, 458, 459, 460, 461, 462, 463, 464, 465, 466, 467, 468, 469, 470, 471, 472, 473, 474, 475, 476, 477, 478, 479, 480, 481, 482, 483, 484, 485, 486, 487, 488, 489, 490, 491, 492, 493, 494, 495, 496, 497, 498, 499, 500, 501, 502, 503, 504, 505, 506, 507, 508, 509, 510, 511, 512, 513, 514, 515, 516, 517, 518, 519, 520, 521, 522, 523, 524, 525, 526, 527, 528, 529, 530, 531, 532, 533, 534, 535, 536, 537, 538, 539, 540, 541, 542, 543, 544, 545, 546, 547, 548, 549, 550, 551, 552, 553, 554, 555, 556, 557, 558, 559, 560, 561, 562, 563, 564, 565, 566, 567, 568, 569, 570, 571, 572, 573, 574, 575, 576, 577, 578, 579, 580, 581, 582, 583, 584, 585, 586, 587, 588, 589, 590, 591, 592, 593, 594, 595, 596, 597, 598, 599, 600, 601, 602, 603, 604, 605, 606, 607, 608, 609, 610, 611, 612, 613, 614, 615, 616, 617, 618, 619, 620, 621, 622, 623, 624, 625, 626, 627, 628, 629, 630, 631, 632, 633, 634, 635, 636, 637, 638, 639, 640, 641, 642, 643, 644, 645, 646, 647, 648, 649, 650, 651, 652, 653, 654, 655, 656, 657, 658, 659], \"y\": [null, null, null, null, null, null, null, null, null, null, null, null, null, null, null, null, null, null, null, null, null, null, null, null, null, null, null, null, null, null, 9966.759767393454, 10118.425174287602, 10260.063381655813, 10403.498634527157, 10538.857239511613, 10685.187170651105, 10845.63316390357, 10997.19409081343, 11136.91524631928, 11265.061439913108, 11380.075741528937, 11490.954909000902, 11600.186913799684, 11719.697668244233, 11845.216059190554, 11977.895547741145, 12128.947261461379, 12284.720597765332, 12427.931875313001, 12560.955767511352, 12690.4985394561, 12817.327987666977, 12941.43893085716, 13065.991988219332, 13184.876339280208, 13293.13610073998, 13382.27289250059, 13443.274422575747, 13498.703166622498, 13557.793545933368, 13622.281152984713, 13689.07281972608, 13744.539398675808, 13790.481574831458, 13833.259101348673, 13874.136068738375, 13905.65434205965, 13929.48842996584, 13951.684935506195, 13973.797210676898, 13989.028466622425, 13984.693268467377, 13961.797132737993, 13923.601008497088, 13877.506695742111, 13822.482621285395, 13730.622503547698, 13599.244360233824, 13470.142748186976, 13363.419221511402, 13247.956408713908, 13114.511578261736, 12977.629956580633, 12843.756019978126, 12706.539266854066, 12557.34069821993, 12402.889541446355, 12252.268745419344, 12116.16434815328, 12001.700541560222, 11906.317189441532, 11842.896750265416, 11790.959649832188, 11729.670053333415, 11668.558032153138, 11591.348476945397, 11497.201556936088, 11411.193469082013, 11341.88856176516, 11287.151605065186, 11243.191686653845, 11200.449316440421, 11158.988392585125, 11106.867439309688, 11048.396446154507, 10981.179918414691, 10889.213164926896, 10780.241910741202, 10670.223480448854, 10570.043813210421, 10480.35402053265, 10402.087830402696, 10329.07021430065, 10246.068320799921, 10154.198779580303, 10061.923188212924, 9981.985193724406, 9922.924078131004, 9871.753494241391, 9821.506751491126, 9768.344765173646, 9713.414629365037, 9665.888829027563, 9628.65650665306, 9592.485695757543, 9546.092413538128, 9494.944872986023, 9441.892362893843, 9379.573242667007, 9308.30437786589, 9241.498801451853, 9184.752388895402, 9137.191397558021, 9105.939409816481, 9080.397268681634, 9048.783136857684, 9024.430647019866, 9016.952228121849, 9009.77818719989, 8991.029520705051, 8967.645722233476, 8940.499161504904, 8918.60024336987, 8906.241739803343, 8895.995460029446, 8884.256848693738, 8863.144773623546, 8832.20762347633, 8793.788755375517, 8750.912271275343, 8709.687323931948, 8667.019940225025, 8628.679390873389, 8601.348615594961, 8584.057375967885, 8572.332629080898, 8560.49622393358, 8548.785307931297, 8532.068230167471, 8510.594842761526, 8488.727895736842, 8460.792054013782, 8425.589715173137, 8391.47473448587, 8360.416461794413, 8334.948440384964, 8318.489266744873, 8308.942743103635, 8308.867092553668, 8311.435490537542, 8312.777115185969, 8308.367637894698, 8296.13666915425, 8288.215109411998, 8290.306110672187, 8296.928578089384, 8301.358157952342, 8308.05742202382, 8310.96966780028, 8305.813355099233, 8297.557354045171, 8289.575729260869, 8284.292257593637, 8272.873918011392, 8255.623021520933, 8241.30855905766, 8231.33582407768, 8222.368040683554, 8215.179126149578, 8216.366146113027, 8223.300425412028, 8232.717259210915, 8242.770653359845, 8249.228245654449, 8256.60012866726, 8268.521265076097, 8282.351513004498, 8295.317754573745, 8307.136159626707, 8319.150682158925, 8332.38742274532, 8341.585629737849, 8338.888487660475, 8323.754218785725, 8300.348299185303, 8272.995736340716, 8245.974592656392, 8220.104894127035, 8194.07979766832, 8167.09803067165, 8138.622531733388, 8106.56093656574, 8070.959286639636, 8031.890858713163, 7984.26968266274, 7931.137018369349, 7882.157711756794, 7834.696950004542, 7783.3665264636475, 7729.8759369774525, 7674.363007798535, 7624.26359105207, 7579.370718074951, 7531.963785958915, 7482.080287240397, 7429.434285416229, 7376.994226579969, 7328.3544532076685, 7282.612642748765, 7239.771948026482, 7197.992432033336, 7158.154528914305, 7122.40764871201, 7085.741472388712, 7046.785838586818, 7007.205576973158, 6970.78551562616, 6939.7790114442305, 6914.903259378181, 6897.569403778371, 6882.373484269735, 6865.649590074963, 6849.638439971029, 6839.445167479328, 6837.8174434873, 6843.871892435309, 6855.116494637061, 6868.814818068708, 6882.527639315115, 6896.30158870658, 6910.1118261959255, 6921.812156088448, 6930.708887827873, 6934.0964771507315, 6933.029991050223, 6930.677374152743, 6927.125543912345, 6919.995557283641, 6909.029833671129, 6897.799888805957, 6882.562003098068, 6866.5234493093485, 6857.321843181686, 6849.532794245533, 6843.646671403163, 6841.198411961959, 6835.767778816429, 6830.88497598019, 6828.760842827914, 6826.924907609651, 6824.164061941253, 6819.555710040995, 6814.798275439551, 6812.697667075516, 6816.731108990551, 6823.840429557153, 6830.169367512826, 6837.352981630162, 6846.409207108265, 6856.463591370886, 6870.771609770987, 6885.5262410990445, 6896.041532678297, 6905.230858690993, 6913.904594169566, 6923.773883938845, 6935.017932250876, 6947.188835258047, 6958.1875265036215, 6960.031199797605, 6955.199891068134, 6951.919576297787, 6950.341339462806, 6950.427419026819, 6951.439818113038, 6952.148875726478, 6953.444785556385, 6954.298082450523, 6951.144361092694, 6940.492387431699, 6924.4599079546515, 6906.74224693934, 6888.965473945663, 6871.918522992488, 6854.784828389746, 6834.900060112174, 6810.638927516172, 6784.743535031901, 6758.324455241615, 6730.612397041583, 6702.29865102015, 6676.062074175748, 6652.372996118527, 6632.651827588121, 6615.922793822285, 6600.344214694247, 6586.56764882668, 6576.169770279412, 6568.744195060659, 6561.46475031734, 6558.618145815961, 6560.976741760511, 6564.198215703689, 6568.561457094714, 6570.553994960602, 6568.588970674942, 6568.556912125301, 6568.524216815234, 6567.580891018843, 6567.595928525834, 6567.315061022204, 6567.4744691477335, 6567.188145605306, 6566.681765684054, 6565.4541195475185, 6564.007119660256, 6562.455582994668, 6558.739928465335, 6554.091526005516, 6549.24212469571, 6541.787677003538, 6531.54785323717, 6521.149990629095, 6510.182265176965, 6497.280212637555, 6482.595858170008, 6467.281183090574, 6451.459197192925, 6437.02048022268, 6430.687337119894, 6430.294606662943, 6431.3616051812405, 6433.948079552505, 6435.867431401756, 6437.058899984419, 6438.183111791036, 6438.005213951824, 6435.493488654747, 6429.458550582104, 6416.947446056949, 6401.582276822744, 6387.6771522174495, 6374.229518764692, 6357.447857336066, 6329.603128708888, 6293.039355704264, 6255.546613015975, 6216.990276468745, 6178.643292583536, 6137.632156403159, 6092.826257747193, 6045.877818771816, 6000.499390183384, 5960.2011631328605, 5919.760995701858, 5878.442705391451, 5838.563657516412, 5797.316299286875, 5753.458240783228, 5708.509936219748, 5661.901853664895, 5611.34101856961, 5557.758297435732, 5505.712535069311, 5457.472459521573, 5410.9566409953295, 5364.007279746791, 5316.818171372559, 5266.7485604881895, 5213.402548693475, 5159.405962298613, 5106.834602591755, 5057.131337156767, 5011.085438412458, 4968.089744482795, 4926.894399117613, 4885.425752133304, 4843.8353278528975, 4804.486989705402, 4763.63628865986, 4719.844685660684, 4675.576928235911, 4631.341592167075, 4589.553537225838, 4548.877788491157, 4506.83527753658, 4463.451664765846, 4420.455340669779, 4378.378164847611, 4335.373757135005, 4292.0483807487, 4248.709535847131, 4206.646908041481, 4166.777848214471, 4127.589995842584, 4086.8421495779066, 4043.0159673860912, 3998.2073275174007, 3955.7536571851792, 3919.5639009838587, 3887.880101872188, 3856.44868097323, 3824.6732369304664, 3795.3686677195346, 3775.0469174931645, 3760.878895650926, 3746.065105856263, 3732.5051616891406, 3721.4705902747555, 3714.548525260995, 3710.4067288556334, 3706.8597754565576, 3701.4949835646275, 3690.6574954004222, 3678.452941175966, 3667.333885829271, 3656.051398894313, 3646.0184128350584, 3637.8503817100845, 3630.7684075557945, 3625.2880846269704, 3623.4460201646034, 3623.8244372256313, 3622.82968004364, 3621.8485638999537, 3623.832735276073, 3627.663257925253, 3631.3622442441156, 3636.19202946957, 3642.4250211685976, 3648.7118122426, 3653.577521468744, 3656.1725354683313, 3655.4714145480466, 3652.723003298415, 3650.739124346138, 3650.6376652362287, 3650.5352568281523, 3648.268403449516, 3648.361956288589, 3651.8453390081436, 3654.19470311287, 3655.640053596794, 3655.8037634800257, 3655.3404905839893, 3656.002919905842, 3657.3462048504707, 3658.0201091649715, 3656.9447381877, 3655.937927266301, 3655.8556742406904, 3655.6995994091126, 3654.2458014343138, 3652.0297684665775, 3650.0864382083396, 3649.6969076839086, 3652.0437510107217, 3655.687282194096, 3659.865561050156, 3664.622760903031, 3669.9092926152, 3675.728205777925, 3681.776275682489, 3687.8410754025545, 3693.523177279032, 3699.5617441323175, 3706.6501842713806, 3713.9342686212062, 3720.832231031077, 3727.451035631931, 3733.6717410407573, 3740.1227850070227, 3747.5128920137176, 3756.5589659615935, 3767.451770443493, 3778.7059393239306, 3790.0875901059485, 3806.203653901173, 3829.8605033354725, 3856.1355899663868, 3882.0810420285966, 3908.6765408486026, 3936.8593311564223, 3967.130030598728, 3997.4686480924656, 4025.9791214947927, 4052.46004669955, 4077.244503692433, 4101.903112535614, 4126.933660336686, 4152.34525332088, 4178.019378028174, 4204.347559902612, 4231.926415555299, 4258.435141819418, 4282.726557277845, 4305.966772840115, 4329.19746595865, 4354.352330142536, 4380.269106899468, 4404.772909969908, 4428.055426509151, 4450.736197661357, 4473.570590023551, 4496.228922544207, 4518.993193790339, 4543.0508862627785, 4568.558642906882, 4597.364447875013, 4629.207482768962, 4660.945431697904, 4691.5984245948075, 4723.164424497623, 4756.043160530494, 4790.276518678267, 4828.4655242503395, 4873.357003555955, 4925.533700556678, 4982.70893155962, 5046.645779002074, 5114.890745616249, 5182.440417084179, 5243.469369292218, 5298.821426157558, 5359.544270368675, 5424.867429581294, 5490.463686058947, 5556.136140332088, 5619.838190778175, 5684.575872639174, 5752.678435657112, 5821.616244058236, 5895.865352067569, 5974.57182023677, 6051.5187096200825, 6127.423582604706, 6200.510325715221, 6268.184416599426, 6330.906719107504, 6390.8477811814155, 6444.442415596073, 6491.106925095628, 6535.71215809007, 6580.049412214636, 6625.188077037346, 6668.914018674914, 6712.394267135374, 6758.554721550543, 6806.898876287779, 6857.253748810344, 6909.94224551836, 6967.115111975568, 7029.6607389578685, 7095.066662389715, 7160.611152483314, 7225.012311618524, 7290.852083350526, 7362.098621718371, 7442.727467718849, 7529.81908584293, 7618.8451919881045, 7715.432082009713, 7829.140443070908, 7946.753768464074, 8056.417730618483, 8166.236690277688, 8273.66739047219, 8370.034136127793, 8453.46018918855, 8539.588334556538, 8636.980880831297, 8732.976213921138, 8824.92341218667, 8916.740873536386, 9010.187633221496, 9109.934802104919, 9210.479258234853, 9296.068139618372, 9367.766454021079, 9431.19920250272, 9483.190425663539, 9526.74315470659, 9572.719370930525, 9617.260616592652, 9653.69345122805, 9692.748453108814, 9736.865971399944, 9781.991552394544, 9827.281027570167, 9867.57101083284, 9898.768275985141, 9928.307412318418, 9952.29547474057, 9968.887381495802, 9984.200186012651, 9998.727720856394, 10016.188599862435, 10037.042716526696, 10059.781563634795, 10087.759199476324, 10128.395286198687, 10178.23918139334, 10236.334982020475, 10300.859422519201, 10364.10833509691, 10428.890574495212, 10495.579275685213, 10559.593730450302, 10618.124266317984, 10674.062477548545, null, null, null, null, null, null, null, null, null, null, null, null, null, null, null, null, null, null, null, null, null, null, null, null, null, null, null, null, null, null]}, {\"line\": {\"color\": \"rgb(66, 244, 155)\", \"width\": 2}, \"mode\": \"lines\", \"name\": \"Seasonal\", \"type\": \"scatter\", \"x\": [0, 1, 2, 3, 4, 5, 6, 7, 8, 9, 10, 11, 12, 13, 14, 15, 16, 17, 18, 19, 20, 21, 22, 23, 24, 25, 26, 27, 28, 29, 30, 31, 32, 33, 34, 35, 36, 37, 38, 39, 40, 41, 42, 43, 44, 45, 46, 47, 48, 49, 50, 51, 52, 53, 54, 55, 56, 57, 58, 59, 60, 61, 62, 63, 64, 65, 66, 67, 68, 69, 70, 71, 72, 73, 74, 75, 76, 77, 78, 79, 80, 81, 82, 83, 84, 85, 86, 87, 88, 89, 90, 91, 92, 93, 94, 95, 96, 97, 98, 99, 100, 101, 102, 103, 104, 105, 106, 107, 108, 109, 110, 111, 112, 113, 114, 115, 116, 117, 118, 119, 120, 121, 122, 123, 124, 125, 126, 127, 128, 129, 130, 131, 132, 133, 134, 135, 136, 137, 138, 139, 140, 141, 142, 143, 144, 145, 146, 147, 148, 149, 150, 151, 152, 153, 154, 155, 156, 157, 158, 159, 160, 161, 162, 163, 164, 165, 166, 167, 168, 169, 170, 171, 172, 173, 174, 175, 176, 177, 178, 179, 180, 181, 182, 183, 184, 185, 186, 187, 188, 189, 190, 191, 192, 193, 194, 195, 196, 197, 198, 199, 200, 201, 202, 203, 204, 205, 206, 207, 208, 209, 210, 211, 212, 213, 214, 215, 216, 217, 218, 219, 220, 221, 222, 223, 224, 225, 226, 227, 228, 229, 230, 231, 232, 233, 234, 235, 236, 237, 238, 239, 240, 241, 242, 243, 244, 245, 246, 247, 248, 249, 250, 251, 252, 253, 254, 255, 256, 257, 258, 259, 260, 261, 262, 263, 264, 265, 266, 267, 268, 269, 270, 271, 272, 273, 274, 275, 276, 277, 278, 279, 280, 281, 282, 283, 284, 285, 286, 287, 288, 289, 290, 291, 292, 293, 294, 295, 296, 297, 298, 299, 300, 301, 302, 303, 304, 305, 306, 307, 308, 309, 310, 311, 312, 313, 314, 315, 316, 317, 318, 319, 320, 321, 322, 323, 324, 325, 326, 327, 328, 329, 330, 331, 332, 333, 334, 335, 336, 337, 338, 339, 340, 341, 342, 343, 344, 345, 346, 347, 348, 349, 350, 351, 352, 353, 354, 355, 356, 357, 358, 359, 360, 361, 362, 363, 364, 365, 366, 367, 368, 369, 370, 371, 372, 373, 374, 375, 376, 377, 378, 379, 380, 381, 382, 383, 384, 385, 386, 387, 388, 389, 390, 391, 392, 393, 394, 395, 396, 397, 398, 399, 400, 401, 402, 403, 404, 405, 406, 407, 408, 409, 410, 411, 412, 413, 414, 415, 416, 417, 418, 419, 420, 421, 422, 423, 424, 425, 426, 427, 428, 429, 430, 431, 432, 433, 434, 435, 436, 437, 438, 439, 440, 441, 442, 443, 444, 445, 446, 447, 448, 449, 450, 451, 452, 453, 454, 455, 456, 457, 458, 459, 460, 461, 462, 463, 464, 465, 466, 467, 468, 469, 470, 471, 472, 473, 474, 475, 476, 477, 478, 479, 480, 481, 482, 483, 484, 485, 486, 487, 488, 489, 490, 491, 492, 493, 494, 495, 496, 497, 498, 499, 500, 501, 502, 503, 504, 505, 506, 507, 508, 509, 510, 511, 512, 513, 514, 515, 516, 517, 518, 519, 520, 521, 522, 523, 524, 525, 526, 527, 528, 529, 530, 531, 532, 533, 534, 535, 536, 537, 538, 539, 540, 541, 542, 543, 544, 545, 546, 547, 548, 549, 550, 551, 552, 553, 554, 555, 556, 557, 558, 559, 560, 561, 562, 563, 564, 565, 566, 567, 568, 569, 570, 571, 572, 573, 574, 575, 576, 577, 578, 579, 580, 581, 582, 583, 584, 585, 586, 587, 588, 589, 590, 591, 592, 593, 594, 595, 596, 597, 598, 599, 600, 601, 602, 603, 604, 605, 606, 607, 608, 609, 610, 611, 612, 613, 614, 615, 616, 617, 618, 619, 620, 621, 622, 623, 624, 625, 626, 627, 628, 629, 630, 631, 632, 633, 634, 635, 636, 637, 638, 639, 640, 641, 642, 643, 644, 645, 646, 647, 648, 649, 650, 651, 652, 653, 654, 655, 656, 657, 658, 659], \"y\": [71.16847110495489, -42.446124892417195, 66.35355248920867, -97.90566080940305, -28.168770807916985, 75.13589212552385, 75.0048975986186, 84.17032019336851, 291.84674592969816, 148.77855664799353, 172.7380651634494, 231.1901090162994, 439.48765400016003, 509.7827745950038, 561.9274242991567, 663.9060903162348, 654.6134749752964, 484.9190661495243, 249.54104166653394, 302.11867119869754, 287.4931515186633, 144.6348815215066, 133.4937460389612, 137.16585374923733, 98.40240805652412, 216.92341006310141, 77.55814637723331, -151.05116365739713, 22.202791727819005, 119.61286001095776, 34.533997214759964, -55.734553102501444, -258.7091486954483, -325.56125264391414, -283.7751076438397, -218.02764952592725, -202.08926568342173, -219.59723438175502, -233.83109400920824, -390.997370968363, -387.83397387355467, -387.79818588295717, -327.9933531924367, -403.87674887971457, -383.0119164159793, -381.4417868947989, -343.71931987182995, -291.2735218208702, -182.31671651666213, -271.7094399146455, -215.24894281280137, -204.71062984837386, -266.82391028035545, -176.47556114275255, -124.1533289311318, 16.19571119949795, 139.20798645886748, 122.87910348269794, 164.37231676245568, 58.922561448371866, 71.16847110495489, -42.446124892417195, 66.35355248920867, -97.90566080940305, -28.168770807916985, 75.13589212552385, 75.0048975986186, 84.17032019336851, 291.84674592969816, 148.77855664799353, 172.7380651634494, 231.1901090162994, 439.48765400016003, 509.7827745950038, 561.9274242991567, 663.9060903162348, 654.6134749752964, 484.9190661495243, 249.54104166653394, 302.11867119869754, 287.4931515186633, 144.6348815215066, 133.4937460389612, 137.16585374923733, 98.40240805652412, 216.92341006310141, 77.55814637723331, -151.05116365739713, 22.202791727819005, 119.61286001095776, 34.533997214759964, -55.734553102501444, -258.7091486954483, -325.56125264391414, -283.7751076438397, -218.02764952592725, -202.08926568342173, -219.59723438175502, -233.83109400920824, -390.997370968363, -387.83397387355467, -387.79818588295717, -327.9933531924367, -403.87674887971457, -383.0119164159793, -381.4417868947989, -343.71931987182995, -291.2735218208702, -182.31671651666213, -271.7094399146455, -215.24894281280137, -204.71062984837386, -266.82391028035545, -176.47556114275255, -124.1533289311318, 16.19571119949795, 139.20798645886748, 122.87910348269794, 164.37231676245568, 58.922561448371866, 71.16847110495489, -42.446124892417195, 66.35355248920867, -97.90566080940305, -28.168770807916985, 75.13589212552385, 75.0048975986186, 84.17032019336851, 291.84674592969816, 148.77855664799353, 172.7380651634494, 231.1901090162994, 439.48765400016003, 509.7827745950038, 561.9274242991567, 663.9060903162348, 654.6134749752964, 484.9190661495243, 249.54104166653394, 302.11867119869754, 287.4931515186633, 144.6348815215066, 133.4937460389612, 137.16585374923733, 98.40240805652412, 216.92341006310141, 77.55814637723331, -151.05116365739713, 22.202791727819005, 119.61286001095776, 34.533997214759964, -55.734553102501444, -258.7091486954483, -325.56125264391414, -283.7751076438397, -218.02764952592725, -202.08926568342173, -219.59723438175502, -233.83109400920824, -390.997370968363, -387.83397387355467, -387.79818588295717, -327.9933531924367, -403.87674887971457, -383.0119164159793, -381.4417868947989, -343.71931987182995, -291.2735218208702, -182.31671651666213, -271.7094399146455, -215.24894281280137, -204.71062984837386, -266.82391028035545, -176.47556114275255, -124.1533289311318, 16.19571119949795, 139.20798645886748, 122.87910348269794, 164.37231676245568, 58.922561448371866, 71.16847110495489, -42.446124892417195, 66.35355248920867, -97.90566080940305, -28.168770807916985, 75.13589212552385, 75.0048975986186, 84.17032019336851, 291.84674592969816, 148.77855664799353, 172.7380651634494, 231.1901090162994, 439.48765400016003, 509.7827745950038, 561.9274242991567, 663.9060903162348, 654.6134749752964, 484.9190661495243, 249.54104166653394, 302.11867119869754, 287.4931515186633, 144.6348815215066, 133.4937460389612, 137.16585374923733, 98.40240805652412, 216.92341006310141, 77.55814637723331, -151.05116365739713, 22.202791727819005, 119.61286001095776, 34.533997214759964, -55.734553102501444, -258.7091486954483, -325.56125264391414, -283.7751076438397, -218.02764952592725, -202.08926568342173, -219.59723438175502, -233.83109400920824, -390.997370968363, -387.83397387355467, -387.79818588295717, -327.9933531924367, -403.87674887971457, -383.0119164159793, -381.4417868947989, -343.71931987182995, -291.2735218208702, -182.31671651666213, -271.7094399146455, -215.24894281280137, -204.71062984837386, -266.82391028035545, -176.47556114275255, -124.1533289311318, 16.19571119949795, 139.20798645886748, 122.87910348269794, 164.37231676245568, 58.922561448371866, 71.16847110495489, -42.446124892417195, 66.35355248920867, -97.90566080940305, -28.168770807916985, 75.13589212552385, 75.0048975986186, 84.17032019336851, 291.84674592969816, 148.77855664799353, 172.7380651634494, 231.1901090162994, 439.48765400016003, 509.7827745950038, 561.9274242991567, 663.9060903162348, 654.6134749752964, 484.9190661495243, 249.54104166653394, 302.11867119869754, 287.4931515186633, 144.6348815215066, 133.4937460389612, 137.16585374923733, 98.40240805652412, 216.92341006310141, 77.55814637723331, -151.05116365739713, 22.202791727819005, 119.61286001095776, 34.533997214759964, -55.734553102501444, -258.7091486954483, -325.56125264391414, -283.7751076438397, -218.02764952592725, -202.08926568342173, -219.59723438175502, -233.83109400920824, -390.997370968363, -387.83397387355467, -387.79818588295717, -327.9933531924367, -403.87674887971457, -383.0119164159793, -381.4417868947989, -343.71931987182995, -291.2735218208702, -182.31671651666213, -271.7094399146455, -215.24894281280137, -204.71062984837386, -266.82391028035545, -176.47556114275255, -124.1533289311318, 16.19571119949795, 139.20798645886748, 122.87910348269794, 164.37231676245568, 58.922561448371866, 71.16847110495489, -42.446124892417195, 66.35355248920867, -97.90566080940305, -28.168770807916985, 75.13589212552385, 75.0048975986186, 84.17032019336851, 291.84674592969816, 148.77855664799353, 172.7380651634494, 231.1901090162994, 439.48765400016003, 509.7827745950038, 561.9274242991567, 663.9060903162348, 654.6134749752964, 484.9190661495243, 249.54104166653394, 302.11867119869754, 287.4931515186633, 144.6348815215066, 133.4937460389612, 137.16585374923733, 98.40240805652412, 216.92341006310141, 77.55814637723331, -151.05116365739713, 22.202791727819005, 119.61286001095776, 34.533997214759964, -55.734553102501444, -258.7091486954483, -325.56125264391414, -283.7751076438397, -218.02764952592725, -202.08926568342173, -219.59723438175502, -233.83109400920824, -390.997370968363, -387.83397387355467, -387.79818588295717, -327.9933531924367, -403.87674887971457, -383.0119164159793, -381.4417868947989, -343.71931987182995, -291.2735218208702, -182.31671651666213, -271.7094399146455, -215.24894281280137, -204.71062984837386, -266.82391028035545, -176.47556114275255, -124.1533289311318, 16.19571119949795, 139.20798645886748, 122.87910348269794, 164.37231676245568, 58.922561448371866, 71.16847110495489, -42.446124892417195, 66.35355248920867, -97.90566080940305, -28.168770807916985, 75.13589212552385, 75.0048975986186, 84.17032019336851, 291.84674592969816, 148.77855664799353, 172.7380651634494, 231.1901090162994, 439.48765400016003, 509.7827745950038, 561.9274242991567, 663.9060903162348, 654.6134749752964, 484.9190661495243, 249.54104166653394, 302.11867119869754, 287.4931515186633, 144.6348815215066, 133.4937460389612, 137.16585374923733, 98.40240805652412, 216.92341006310141, 77.55814637723331, -151.05116365739713, 22.202791727819005, 119.61286001095776, 34.533997214759964, -55.734553102501444, -258.7091486954483, -325.56125264391414, -283.7751076438397, -218.02764952592725, -202.08926568342173, -219.59723438175502, -233.83109400920824, -390.997370968363, -387.83397387355467, -387.79818588295717, -327.9933531924367, -403.87674887971457, -383.0119164159793, -381.4417868947989, -343.71931987182995, -291.2735218208702, -182.31671651666213, -271.7094399146455, -215.24894281280137, -204.71062984837386, -266.82391028035545, -176.47556114275255, -124.1533289311318, 16.19571119949795, 139.20798645886748, 122.87910348269794, 164.37231676245568, 58.922561448371866, 71.16847110495489, -42.446124892417195, 66.35355248920867, -97.90566080940305, -28.168770807916985, 75.13589212552385, 75.0048975986186, 84.17032019336851, 291.84674592969816, 148.77855664799353, 172.7380651634494, 231.1901090162994, 439.48765400016003, 509.7827745950038, 561.9274242991567, 663.9060903162348, 654.6134749752964, 484.9190661495243, 249.54104166653394, 302.11867119869754, 287.4931515186633, 144.6348815215066, 133.4937460389612, 137.16585374923733, 98.40240805652412, 216.92341006310141, 77.55814637723331, -151.05116365739713, 22.202791727819005, 119.61286001095776, 34.533997214759964, -55.734553102501444, -258.7091486954483, -325.56125264391414, -283.7751076438397, -218.02764952592725, -202.08926568342173, -219.59723438175502, -233.83109400920824, -390.997370968363, -387.83397387355467, -387.79818588295717, -327.9933531924367, -403.87674887971457, -383.0119164159793, -381.4417868947989, -343.71931987182995, -291.2735218208702, -182.31671651666213, -271.7094399146455, -215.24894281280137, -204.71062984837386, -266.82391028035545, -176.47556114275255, -124.1533289311318, 16.19571119949795, 139.20798645886748, 122.87910348269794, 164.37231676245568, 58.922561448371866, 71.16847110495489, -42.446124892417195, 66.35355248920867, -97.90566080940305, -28.168770807916985, 75.13589212552385, 75.0048975986186, 84.17032019336851, 291.84674592969816, 148.77855664799353, 172.7380651634494, 231.1901090162994, 439.48765400016003, 509.7827745950038, 561.9274242991567, 663.9060903162348, 654.6134749752964, 484.9190661495243, 249.54104166653394, 302.11867119869754, 287.4931515186633, 144.6348815215066, 133.4937460389612, 137.16585374923733, 98.40240805652412, 216.92341006310141, 77.55814637723331, -151.05116365739713, 22.202791727819005, 119.61286001095776, 34.533997214759964, -55.734553102501444, -258.7091486954483, -325.56125264391414, -283.7751076438397, -218.02764952592725, -202.08926568342173, -219.59723438175502, -233.83109400920824, -390.997370968363, -387.83397387355467, -387.79818588295717, -327.9933531924367, -403.87674887971457, -383.0119164159793, -381.4417868947989, -343.71931987182995, -291.2735218208702, -182.31671651666213, -271.7094399146455, -215.24894281280137, -204.71062984837386, -266.82391028035545, -176.47556114275255, -124.1533289311318, 16.19571119949795, 139.20798645886748, 122.87910348269794, 164.37231676245568, 58.922561448371866, 71.16847110495489, -42.446124892417195, 66.35355248920867, -97.90566080940305, -28.168770807916985, 75.13589212552385, 75.0048975986186, 84.17032019336851, 291.84674592969816, 148.77855664799353, 172.7380651634494, 231.1901090162994, 439.48765400016003, 509.7827745950038, 561.9274242991567, 663.9060903162348, 654.6134749752964, 484.9190661495243, 249.54104166653394, 302.11867119869754, 287.4931515186633, 144.6348815215066, 133.4937460389612, 137.16585374923733, 98.40240805652412, 216.92341006310141, 77.55814637723331, -151.05116365739713, 22.202791727819005, 119.61286001095776, 34.533997214759964, -55.734553102501444, -258.7091486954483, -325.56125264391414, -283.7751076438397, -218.02764952592725, -202.08926568342173, -219.59723438175502, -233.83109400920824, -390.997370968363, -387.83397387355467, -387.79818588295717, -327.9933531924367, -403.87674887971457, -383.0119164159793, -381.4417868947989, -343.71931987182995, -291.2735218208702, -182.31671651666213, -271.7094399146455, -215.24894281280137, -204.71062984837386, -266.82391028035545, -176.47556114275255, -124.1533289311318, 16.19571119949795, 139.20798645886748, 122.87910348269794, 164.37231676245568, 58.922561448371866, 71.16847110495489, -42.446124892417195, 66.35355248920867, -97.90566080940305, -28.168770807916985, 75.13589212552385, 75.0048975986186, 84.17032019336851, 291.84674592969816, 148.77855664799353, 172.7380651634494, 231.1901090162994, 439.48765400016003, 509.7827745950038, 561.9274242991567, 663.9060903162348, 654.6134749752964, 484.9190661495243, 249.54104166653394, 302.11867119869754, 287.4931515186633, 144.6348815215066, 133.4937460389612, 137.16585374923733, 98.40240805652412, 216.92341006310141, 77.55814637723331, -151.05116365739713, 22.202791727819005, 119.61286001095776, 34.533997214759964, -55.734553102501444, -258.7091486954483, -325.56125264391414, -283.7751076438397, -218.02764952592725, -202.08926568342173, -219.59723438175502, -233.83109400920824, -390.997370968363, -387.83397387355467, -387.79818588295717, -327.9933531924367, -403.87674887971457, -383.0119164159793, -381.4417868947989, -343.71931987182995, -291.2735218208702, -182.31671651666213, -271.7094399146455, -215.24894281280137, -204.71062984837386, -266.82391028035545, -176.47556114275255, -124.1533289311318, 16.19571119949795, 139.20798645886748, 122.87910348269794, 164.37231676245568, 58.922561448371866]}, {\"line\": {\"color\": \"rgb(209, 244, 66)\", \"width\": 2}, \"mode\": \"lines\", \"name\": \"Residual\", \"type\": \"scatter\", \"x\": [0, 1, 2, 3, 4, 5, 6, 7, 8, 9, 10, 11, 12, 13, 14, 15, 16, 17, 18, 19, 20, 21, 22, 23, 24, 25, 26, 27, 28, 29, 30, 31, 32, 33, 34, 35, 36, 37, 38, 39, 40, 41, 42, 43, 44, 45, 46, 47, 48, 49, 50, 51, 52, 53, 54, 55, 56, 57, 58, 59, 60, 61, 62, 63, 64, 65, 66, 67, 68, 69, 70, 71, 72, 73, 74, 75, 76, 77, 78, 79, 80, 81, 82, 83, 84, 85, 86, 87, 88, 89, 90, 91, 92, 93, 94, 95, 96, 97, 98, 99, 100, 101, 102, 103, 104, 105, 106, 107, 108, 109, 110, 111, 112, 113, 114, 115, 116, 117, 118, 119, 120, 121, 122, 123, 124, 125, 126, 127, 128, 129, 130, 131, 132, 133, 134, 135, 136, 137, 138, 139, 140, 141, 142, 143, 144, 145, 146, 147, 148, 149, 150, 151, 152, 153, 154, 155, 156, 157, 158, 159, 160, 161, 162, 163, 164, 165, 166, 167, 168, 169, 170, 171, 172, 173, 174, 175, 176, 177, 178, 179, 180, 181, 182, 183, 184, 185, 186, 187, 188, 189, 190, 191, 192, 193, 194, 195, 196, 197, 198, 199, 200, 201, 202, 203, 204, 205, 206, 207, 208, 209, 210, 211, 212, 213, 214, 215, 216, 217, 218, 219, 220, 221, 222, 223, 224, 225, 226, 227, 228, 229, 230, 231, 232, 233, 234, 235, 236, 237, 238, 239, 240, 241, 242, 243, 244, 245, 246, 247, 248, 249, 250, 251, 252, 253, 254, 255, 256, 257, 258, 259, 260, 261, 262, 263, 264, 265, 266, 267, 268, 269, 270, 271, 272, 273, 274, 275, 276, 277, 278, 279, 280, 281, 282, 283, 284, 285, 286, 287, 288, 289, 290, 291, 292, 293, 294, 295, 296, 297, 298, 299, 300, 301, 302, 303, 304, 305, 306, 307, 308, 309, 310, 311, 312, 313, 314, 315, 316, 317, 318, 319, 320, 321, 322, 323, 324, 325, 326, 327, 328, 329, 330, 331, 332, 333, 334, 335, 336, 337, 338, 339, 340, 341, 342, 343, 344, 345, 346, 347, 348, 349, 350, 351, 352, 353, 354, 355, 356, 357, 358, 359, 360, 361, 362, 363, 364, 365, 366, 367, 368, 369, 370, 371, 372, 373, 374, 375, 376, 377, 378, 379, 380, 381, 382, 383, 384, 385, 386, 387, 388, 389, 390, 391, 392, 393, 394, 395, 396, 397, 398, 399, 400, 401, 402, 403, 404, 405, 406, 407, 408, 409, 410, 411, 412, 413, 414, 415, 416, 417, 418, 419, 420, 421, 422, 423, 424, 425, 426, 427, 428, 429, 430, 431, 432, 433, 434, 435, 436, 437, 438, 439, 440, 441, 442, 443, 444, 445, 446, 447, 448, 449, 450, 451, 452, 453, 454, 455, 456, 457, 458, 459, 460, 461, 462, 463, 464, 465, 466, 467, 468, 469, 470, 471, 472, 473, 474, 475, 476, 477, 478, 479, 480, 481, 482, 483, 484, 485, 486, 487, 488, 489, 490, 491, 492, 493, 494, 495, 496, 497, 498, 499, 500, 501, 502, 503, 504, 505, 506, 507, 508, 509, 510, 511, 512, 513, 514, 515, 516, 517, 518, 519, 520, 521, 522, 523, 524, 525, 526, 527, 528, 529, 530, 531, 532, 533, 534, 535, 536, 537, 538, 539, 540, 541, 542, 543, 544, 545, 546, 547, 548, 549, 550, 551, 552, 553, 554, 555, 556, 557, 558, 559, 560, 561, 562, 563, 564, 565, 566, 567, 568, 569, 570, 571, 572, 573, 574, 575, 576, 577, 578, 579, 580, 581, 582, 583, 584, 585, 586, 587, 588, 589, 590, 591, 592, 593, 594, 595, 596, 597, 598, 599, 600, 601, 602, 603, 604, 605, 606, 607, 608, 609, 610, 611, 612, 613, 614, 615, 616, 617, 618, 619, 620, 621, 622, 623, 624, 625, 626, 627, 628, 629, 630, 631, 632, 633, 634, 635, 636, 637, 638, 639, 640, 641, 642, 643, 644, 645, 646, 647, 648, 649, 650, 651, 652, 653, 654, 655, 656, 657, 658, 659], \"y\": [null, null, null, null, null, null, null, null, null, null, null, null, null, null, null, null, null, null, null, null, null, null, null, null, null, null, null, null, null, null, -1844.1731486790445, -1868.2449460556625, -1826.7561679073574, -1910.2155240699208, -1823.0893873854586, -1495.3891768985545, -1087.846843177375, -945.3106204528092, -486.4157592774796, -986.5206821402414, -797.9832599985523, -165.65999058350275, 19.429018449868238, 29.329096473569507, 192.04215606051787, 981.476591049483, 2989.8311068139387, 3436.2008228868135, 2558.384947259938, 1843.3553830456322, 3724.842758145595, 4117.6713253775015, 3865.145703785697, 3448.14224838867, 4301.646477419228, 4867.113228595017, 5664.6887312968165, 5150.657933419317, 4655.798600518432, 3214.9742490883996, 2525.8918074506455, 109.77893905723525, 954.5776048669376, -39.947507735232946, 159.7713531175467, 1293.3358357409518, 1599.0153218327275, 232.66805911992765, 289.5605658981175, -914.5980231165679, -824.2532995726806, -793.3163670033848, -523.7048761902711, 528.9952944474605, 377.1913477976425, 1304.0574337150597, 2280.032829215206, 2432.222535324962, 1579.7868689068987, 1201.930067215586, 656.8025793313011, 435.95534012467886, 547.4921471132454, 1244.079517406649, 873.4017690392311, 1047.527345363506, -317.1247222263674, -1421.274444586272, -643.495384501937, -607.5011268781227, 531.6769621556863, 106.87595404762877, -401.2554381972936, -679.7228020847109, -376.1511387525081, -72.95343770319278, -285.81948314642835, 47.18479695797146, 565.6967944398416, 387.776304028713, -229.7356429812146, -826.7417387708829, -1335.3214071139896, -2145.4266367217933, -1754.869799370866, -1880.965145962727, -2934.491558836385, -3660.640925569155, -2574.7796680176048, -2081.6828535807717, -2004.6000677029492, -1540.8808268466767, -1874.4878719016133, -1444.8041842490702, -1420.816237710871, -1052.3618201441896, -318.47442148979894, -20.036393814480803, 641.2652726503275, 857.0872526129835, 1027.9997319365646, 1826.8128916094493, 1059.4003603367055, 740.9537947688601, 448.0259827496046, 308.7516419714787, 24.722238759107015, 384.29613585015636, 881.0513710567383, 1163.0808933781016, 1235.900072553136, 1564.916380002636, 1767.2981289200966, 1625.7452301452483, 1878.6932592192218, 1307.3811050036988, 720.5900803468612, 203.59877054965608, -351.14430830053914, -55.944562395334344, -195.39752510353873, 350.5357322022277, 103.83995275759463, -275.9515149394817, -882.8540579691307, -785.660135362957, -863.6679627730101, -1002.2591854822551, -460.543995638365, -246.89778271121304, 239.05339568583025, 180.38989903439077, 160.29164531802195, 581.4531261570261, 234.99771946728453, -147.77965820280815, -392.97694803247526, -412.84545506433255, -780.3388880099005, -1232.0746957540048, -1095.5332596624623, -1276.392575520169, -1119.9335910118166, -662.261599572744, -899.7190835178102, -1195.6002183000396, -1325.1998908252722, -1125.3197955228613, -1138.330153166092, -1148.0076372448975, -1318.1458726085443, -1223.6252115150594, -692.9599257827213, -118.56580181674065, -154.86231271492227, -98.06182639340112, -360.60177776801333, -394.8733633230511, -418.511447390244, -151.83689653433498, 76.41100739674387, 552.941882551203, 537.8409187365486, 720.1993630333506, 1086.4769221142906, 904.9776048854486, 576.5205615558576, 910.3212638980715, 732.8953500774522, 990.7627739143015, 894.3211568475135, 524.4277946653672, 429.9619272627156, 620.4156576906951, 837.538412875457, 896.4323940094679, 678.7789603272395, 563.5406611841634, 704.1122361901658, 571.5275172980073, 645.2624910486722, 214.91027235266426, -49.625548770162084, 89.12609424509293, 181.1231659309442, 151.9670039977251, -41.314225258604964, 208.57167589708087, -110.09367678616834, -32.58242737799354, 188.8969466674293, 404.27516979429606, 420.56888238358766, 78.15300033755705, -162.56428338150016, -226.969846930328, -190.9808340141139, -298.5487062742502, -294.5153192463636, -46.035259415897315, 145.62461360181874, 263.36295798213274, 229.4656334172028, 468.98019697592804, 591.5122045519898, 527.5551922131567, 458.28364520348566, 569.228986818923, 592.1724105483925, 661.1504952228535, 647.5530909546372, 179.45845615832127, -95.75851331845115, -155.67682178544794, -480.4677356881949, -521.5206715691611, -559.384531268475, -601.6033804396809, -570.4481863176698, -433.4018374644436, -235.65610316822693, -143.2724180402365, -179.56281499602943, -382.5256862561603, -674.1048260812796, -895.1181174698892, -727.2445135324691, -751.4325192284666, -1078.7969822539508, -963.6995878568134, -1179.5148262288203, -789.5725294955148, -1020.2156371763235, -991.045097758871, -898.3187717763328, -1023.8166116986271, -1000.7092343003069, -863.1957824821595, -584.7400519661945, -461.0464419110804, -464.5292559195156, -530.9587548871101, -636.7533208985017, -767.8992234033265, -705.6045203256281, -822.4377512240584, -595.3126934576804, -158.78362574863178, 26.710249920806035, 456.0430518403673, 531.3927192667528, 656.3757901393203, 790.2964872912148, 960.5868992635848, 1146.4067039589397, 1465.428201974693, 1625.2583143472798, 1578.343269780354, 1408.4325419976044, 1714.2604712779078, 1719.5611252635797, 1635.7947814037616, 1346.708154076145, 1068.310507724558, 1059.1121820811218, 851.4772815346546, 655.778622840687, 339.27752601580164, 211.82777204500027, 298.0676143797119, -295.3770239549209, -353.210389996769, -288.981140617213, -589.7597042137978, -522.0595205086657, -623.3172979727533, -1036.866451012044, -707.2361419812557, -770.4715757700606, -532.8547595713997, -552.5140686073047, -462.5957611812819, -511.5513148674509, -374.4105795567387, -247.64764339207352, -476.4523847460975, -332.98829213140317, -155.10619639165066, -380.1017806080109, -165.97630224982294, 113.22646301718123, 141.80519771385275, -165.67240125347274, -163.08867088626386, -66.87509442957412, -23.505160045452953, 19.15616603440958, 261.83086013358087, 294.1876805017097, -442.1126020018556, -402.941147594596, -356.69407082268447, -401.73609013381446, -418.4919418575825, -379.45989793177614, -517.7933422755717, -204.62761483926266, 82.49854878567993, -69.47777657890654, -205.4968300864639, -214.78695604927776, -214.63361456968207, 27.78450348646635, 171.09079991308465, 377.1523418147879, 359.62067015022285, 347.2770290665563, 295.20429463151527, 92.21267657978973, 304.57250046978544, 367.8049729422953, 522.1240330262353, 346.55946549820015, 471.85910821687025, 459.7525047346595, 439.2098708172702, 323.7729043792955, 387.00420603033695, 289.9287501262022, 396.94417605889714, 318.40302128336623, 361.50433363264415, 419.8322399616509, 255.96912966553543, -99.7429047277102, -253.09014596876477, -381.53529343284004, -332.24657136837754, -218.1698376433032, -38.12124497402304, -34.52911113363568, 80.49098226243589, -55.19583349965349, 137.67496936264132, 132.60163664153777, 36.70075283753552, 64.62718932245814, 124.24535169792695, -69.82720265457203, 114.48236591643655, 140.6867057017862, 125.22275174192123, -114.77560691151069, -205.78824909341103, -203.80935837597713, -230.63012478142207, -141.57437814856712, 50.78055890143759, 366.7313705744933, 393.6073039660459, 463.8823978519234, 750.8742212685078, 757.1481837857416, 722.2348464262279, 798.7200011684799, 709.6460405367285, 908.767223701161, 1123.9523524172107, 717.4142270457044, 161.30433363337215, 336.6940506821424, 433.81939134318986, 736.3121582472072, 514.4169094373461, -154.58050063456193, -261.8221523479101, -216.26671962592394, -376.07791086985594, -373.6340472313955, -615.7067450282814, -481.0747928968492, -584.8949618356492, -246.0536467885608, 39.12210085401489, -91.2994275253626, -43.77002939150958, 0.8571585413614002, -204.92966082831822, -291.45823155447056, -261.50949451808026, -382.5534088230298, -683.9411524467312, -554.6955691790881, -518.6037904659712, -535.4205629956838, -738.5008444950358, -783.7177359522891, -760.4817260538441, -887.2969345477795, -799.4271249652782, -741.7278785022419, -475.9427689970521, -382.36918136025, 50.97593935685761, 176.45279591999304, 136.12482100632752, 30.60745024965324, 161.380799061257, 112.8945893710769, -90.06721812326731, -104.25291012590378, -220.530951196444, -439.2397822994166, -327.34259230270555, -452.4931410701581, -574.630782548479, -609.9861746853462, -306.5563910158406, -58.287032643472116, -148.55383059149887, -78.64633624530296, 117.25033462037152, 265.08559237103174, 246.82697383560054, 290.0923397798729, -48.720048495030255, -68.54062274421729, 146.0233635697884, -83.08476582643405, -179.43335910942778, -42.95247239470025, 5.646637724085643, 205.64750954617244, 285.1060783794202, 307.10106830774004, 167.85567359702463, 87.34404073815455, 121.20618663319124, 154.4519428199273, 297.05238189634684, 292.4241905589158, 305.3532185950872, 217.00690944235572, 185.01427723462552, 125.54896081221762, 149.46459620543823, 110.66191829560091, 49.847943727015945, -42.53091294194317, 40.59554488321248, -26.668663306490657, -31.67099050130514, -16.1446407559647, -109.37639437299924, -70.13025894889154, -51.041783879266845, -183.39662039706423, -183.4322216468429, -246.36407044197898, -141.5717489719293, -172.2563762774518, -62.837879632279034, -160.45495433128877, -4.648244541279681, 91.31896239338528, 126.03407199247779, 129.255179177883, 108.42987581665035, -86.96764050904824, 108.75720131841382, 78.76107422286304, -178.14926471364902, -387.46032871086476, -471.39623891371986, -518.9325418122028, -629.0707459462859, -639.7602626383891, -490.1352176004801, -355.9480860228804, -389.0873918159551, -330.1432779063568, -192.0051815935277, -198.38006300572277, -212.96657140187625, -203.23418071880133, -379.90366133932037, -282.6789856753631, -73.29357971675, -273.96770232706353, -367.90616249791356, -208.23794379236512, -158.873608989006, 23.319263813333293, 70.58026507855277, 21.311967257685694, -59.42677441136675, -122.07723510151112, -129.2737322824371, -152.05878490348738, -40.17141558161683, -108.70208447661457, -46.18352477555794, -113.60037384445008, -11.712536341585974, -29.242946287412792, -49.12193688712301, -73.64841006648714, 371.84271236186237, 623.3380071099034, 614.047755351101, 534.974060730929, 557.1575612190525, 672.1441962130675, 661.8866866074376, 555.0372867853638, 426.0887816293389, 117.10196955350898, -0.9556433591767615, -62.49737642002941, -26.639095473588654, -64.80234277274592, -41.090612568949815, -91.22570137808732, 62.91173646319264, -72.19531076140731, -186.808578380195, -278.1954902135615, -322.45165406607043, -378.7102400181167, -345.6177850950091, -502.53910253445247, -903.4472569146985, -1170.3157173501336, -1314.7790811402976, -1458.6295905585691, -1590.4457301215039, -1550.6025606605263, -1390.7656205934547, -961.6480653243901, -997.9816322276638, -1009.7687308041639, -978.8123388818427, -804.9361285600828, -872.7343904526758, -676.1021944959575, -595.0093050384379, 16.535057081702618, 547.4515793189646, 580.0088773799582, 1015.2230986638397, 1110.1117080756972, 1082.0445891495895, 491.4664176367974, 556.2265092062104, 1057.090770965741, 899.1117623903706, 863.763940563987, 747.7931385588038, 493.84410444961435, 844.5224018654392, 815.2893992672341, 800.9130620966953, 1283.4150994931956, 1184.460746774708, 974.8385100790953, 847.9490603395475, 421.829765271926, 465.16344569773105, 399.1223402088242, 264.7142780204914, -570.7526331004416, -754.7878434628276, -806.4192167872134, -801.5361061394652, -945.5089692915018, -1327.6323581836332, -1530.1386079116508, -1522.1172298144563, -1495.6291830195441, -1320.5335321282353, -1201.1414047041965, -756.6099934423737, -543.7838218892813, -283.5085232773402, -473.024611083447, -619.8703862198878, -458.6443834021023, -64.67585413965183, 605.6772312584643, 730.5509435323772, 775.3399277375274, 1156.3195068180646, 2251.799555327331, 1325.9590094300163, 1133.310739748643, 1191.903484031693, 871.7498361275684, 166.35488721628525, -5.375350297640921, 955.3368340818997, 1343.1540669597273, 816.6197072348654, 1045.5405369588204, 873.4514717595223, 1331.5928371409163, 1868.0591154555664, 2075.6398078097927, 1174.7885771633353, 944.2052089305564, 634.9224661417056, null, null, null, null, null, null, null, null, null, null, null, null, null, null, null, null, null, null, null, null, null, null, null, null, null, null, null, null, null, null]}, {\"line\": {\"color\": \"rgb(66, 134, 244)\", \"width\": 2}, \"mode\": \"lines\", \"name\": \"Observed\", \"type\": \"scatter\", \"x\": [0, 1, 2, 3, 4, 5, 6, 7, 8, 9, 10, 11, 12, 13, 14, 15, 16, 17, 18, 19, 20, 21, 22, 23, 24, 25, 26, 27, 28, 29, 30, 31, 32, 33, 34, 35, 36, 37, 38, 39, 40, 41, 42, 43, 44, 45, 46, 47, 48, 49, 50, 51, 52, 53, 54, 55, 56, 57, 58, 59, 60, 61, 62, 63, 64, 65, 66, 67, 68, 69, 70, 71, 72, 73, 74, 75, 76, 77, 78, 79, 80, 81, 82, 83, 84, 85, 86, 87, 88, 89, 90, 91, 92, 93, 94, 95, 96, 97, 98, 99, 100, 101, 102, 103, 104, 105, 106, 107, 108, 109, 110, 111, 112, 113, 114, 115, 116, 117, 118, 119, 120, 121, 122, 123, 124, 125, 126, 127, 128, 129, 130, 131, 132, 133, 134, 135, 136, 137, 138, 139, 140, 141, 142, 143, 144, 145, 146, 147, 148, 149, 150, 151, 152, 153, 154, 155, 156, 157, 158, 159, 160, 161, 162, 163, 164, 165, 166, 167, 168, 169, 170, 171, 172, 173, 174, 175, 176, 177, 178, 179, 180, 181, 182, 183, 184, 185, 186, 187, 188, 189, 190, 191, 192, 193, 194, 195, 196, 197, 198, 199, 200, 201, 202, 203, 204, 205, 206, 207, 208, 209, 210, 211, 212, 213, 214, 215, 216, 217, 218, 219, 220, 221, 222, 223, 224, 225, 226, 227, 228, 229, 230, 231, 232, 233, 234, 235, 236, 237, 238, 239, 240, 241, 242, 243, 244, 245, 246, 247, 248, 249, 250, 251, 252, 253, 254, 255, 256, 257, 258, 259, 260, 261, 262, 263, 264, 265, 266, 267, 268, 269, 270, 271, 272, 273, 274, 275, 276, 277, 278, 279, 280, 281, 282, 283, 284, 285, 286, 287, 288, 289, 290, 291, 292, 293, 294, 295, 296, 297, 298, 299, 300, 301, 302, 303, 304, 305, 306, 307, 308, 309, 310, 311, 312, 313, 314, 315, 316, 317, 318, 319, 320, 321, 322, 323, 324, 325, 326, 327, 328, 329, 330, 331, 332, 333, 334, 335, 336, 337, 338, 339, 340, 341, 342, 343, 344, 345, 346, 347, 348, 349, 350, 351, 352, 353, 354, 355, 356, 357, 358, 359, 360, 361, 362, 363, 364, 365, 366, 367, 368, 369, 370, 371, 372, 373, 374, 375, 376, 377, 378, 379, 380, 381, 382, 383, 384, 385, 386, 387, 388, 389, 390, 391, 392, 393, 394, 395, 396, 397, 398, 399, 400, 401, 402, 403, 404, 405, 406, 407, 408, 409, 410, 411, 412, 413, 414, 415, 416, 417, 418, 419, 420, 421, 422, 423, 424, 425, 426, 427, 428, 429, 430, 431, 432, 433, 434, 435, 436, 437, 438, 439, 440, 441, 442, 443, 444, 445, 446, 447, 448, 449, 450, 451, 452, 453, 454, 455, 456, 457, 458, 459, 460, 461, 462, 463, 464, 465, 466, 467, 468, 469, 470, 471, 472, 473, 474, 475, 476, 477, 478, 479, 480, 481, 482, 483, 484, 485, 486, 487, 488, 489, 490, 491, 492, 493, 494, 495, 496, 497, 498, 499, 500, 501, 502, 503, 504, 505, 506, 507, 508, 509, 510, 511, 512, 513, 514, 515, 516, 517, 518, 519, 520, 521, 522, 523, 524, 525, 526, 527, 528, 529, 530, 531, 532, 533, 534, 535, 536, 537, 538, 539, 540, 541, 542, 543, 544, 545, 546, 547, 548, 549, 550, 551, 552, 553, 554, 555, 556, 557, 558, 559, 560, 561, 562, 563, 564, 565, 566, 567, 568, 569, 570, 571, 572, 573, 574, 575, 576, 577, 578, 579, 580, 581, 582, 583, 584, 585, 586, 587, 588, 589, 590, 591, 592, 593, 594, 595, 596, 597, 598, 599, 600, 601, 602, 603, 604, 605, 606, 607, 608, 609, 610, 611, 612, 613, 614, 615, 616, 617, 618, 619, 620, 621, 622, 623, 624, 625, 626, 627, 628, 629, 630, 631, 632, 633, 634, 635, 636, 637, 638, 639, 640, 641, 642, 643, 644, 645, 646, 647, 648, 649, 650, 651, 652, 653, 654, 655, 656, 657, 658, 659], \"y\": [5909.253738347273, 5866.644499786067, 5658.646805951579, 5547.221811805942, 5827.235680004529, 5820.642063519375, 5748.121104280505, 5890.569037306749, 6122.311358604307, 6241.215401678731, 6502.5593808431595, 6952.020765214627, 7240.285579959725, 7258.382874781856, 7458.414757038099, 7227.118230046526, 7102.39107658024, 7386.463336391786, 7244.0399783568055, 6960.031576527176, 6554.555889592357, 6113.264264574333, 6347.1402022444745, 6590.110155162141, 7047.112552616389, 7461.850969807443, 7826.848438162768, 7696.234055591442, 7827.131551353381, 8090.706961414423, 8157.12061592917, 8194.445675129438, 8174.598065053007, 8167.7218578133225, 8431.992744482315, 8971.770344226623, 9555.697055042774, 9832.286235978865, 10416.668393032593, 9887.543386804504, 10194.25850765683, 10937.496732534442, 11291.622579057115, 11345.150015838088, 11654.246298835093, 12577.93035189583, 14775.059048403487, 15429.647898831276, 14804.000106056277, 14132.601710642339, 16200.092354788894, 16730.288683196104, 16539.760724362503, 16337.658675465249, 17362.369487768305, 18176.445040534494, 19186.169610256275, 18716.81145947776, 18318.874083903385, 16831.69035647014, 16219.341431540313, 13756.405633890898, 14765.470556031954, 13652.628406286822, 13964.861683658302, 15242.60779660485, 15579.674561490996, 14246.326809279137, 14533.09224733401, 13207.977744208323, 13337.513232213194, 13422.567010480292, 13877.579910547882, 14962.379077539552, 14816.62546783891, 15790.44614531669, 16665.2688077382, 16516.38596170831, 15299.470658760409, 14867.467959925685, 14192.252139563872, 13695.101799907921, 13658.61584973284, 14225.001391134012, 13678.343443949821, 13821.791453646538, 12163.32296559722, 10679.943137175675, 11494.871755379161, 11513.812274693057, 12472.528148811978, 11894.038151210543, 11130.995062939446, 10724.38599860479, 11008.63178575679, 11300.367389716277, 11009.292808106238, 11238.781031658229, 11673.754262195793, 11283.930538125536, 10625.622069799076, 9985.909391786581, 9495.673632278698, 8557.56405370818, 8910.514730367662, 8718.772985557165, 7611.002286218681, 6828.327463351177, 7913.127095914588, 8216.651519715004, 8260.5050100169, 8656.496373707645, 8187.7584321186805, 8624.788575408098, 8609.2292129383, 9025.757079268233, 9802.718758693474, 10025.76678779922, 10677.391083654175, 10737.516565552482, 10867.512968215166, 11497.78139608207, 10791.642741853477, 10271.704640612517, 10012.34290769923, 9929.97994763513, 9594.672009343749, 9910.358818937368, 10552.471359653444, 10620.163827891985, 10650.136939168438, 10980.858877914337, 11343.977180478278, 11241.467414556733, 11521.017952200013, 11020.070332177618, 10399.634202342024, 9705.47006482103, 8908.174920565885, 9237.203629508414, 9059.7413486486, 9435.669775228638, 9155.933942166426, 8767.456078613099, 8111.543810116839, 8315.520123393882, 8077.034957227769, 7678.897274336678, 8355.447551464971, 8623.627348575088, 8983.274716832539, 8791.675286156915, 8530.261887495963, 8857.240489108073, 8535.27998779133, 8206.525321352163, 7965.430010217683, 7916.34261848521, 7517.898248148363, 6887.522776039158, 7005.360662200825, 6796.601292610656, 6977.662770968884, 7325.336386033411, 7077.685461860624, 6757.906435190125, 6649.570056047771, 6892.349425759903, 6988.220222870914, 6891.718413377999, 6779.382299764623, 6880.031796531265, 7336.352833091173, 7993.173746452505, 8011.290469026133, 8215.062462895481, 8079.964366643196, 8036.063162183466, 8056.830537172492, 8212.89902001327, 8445.13683254687, 8800.071486919654, 8888.486728819395, 8895.16762023534, 9313.931172827306, 9221.422056068632, 8882.861283232156, 9216.859624774994, 9239.921222156729, 9355.907476675322, 9290.35964742299, 8988.335162892581, 9112.22023462272, 9379.426677940148, 9656.065965841874, 9828.8597494018, 9615.743948307034, 9343.777481907433, 9260.789437483407, 9192.79687065563, 9265.143065312655, 8701.13078361202, 8422.756684929274, 8550.046166780056, 8579.873873172772, 8641.886150401542, 8282.21851377502, 8277.625406366718, 8106.188912609971, 8254.128463304614, 8362.053475615578, 8455.101553257535, 8232.819020327775, 7784.482606406806, 7537.9302916374, 7486.139521913094, 7489.087612059258, 7316.551009348536, 7255.020113208076, 7292.843306593192, 7432.153647526799, 7499.828363151246, 7480.842998299717, 7597.067234055128, 7690.580575376408, 7575.5476907345865, 7491.558551911625, 7606.309918205721, 7692.4683367804955, 7629.21300333469, 7630.296580175172, 7132.9023552242525, 6759.8252251132035, 6753.589089460512, 6442.164773967491, 6501.880616603495, 6550.608970816553, 6461.0547344872475, 6508.827389822967, 6523.0901277623, 6717.885852206463, 6679.93104714231, 6736.429177464208, 6359.013820413765, 6135.543846598103, 6023.8896670909435, 6202.87687870321, 6201.5526190336095, 6095.5774029908625, 6081.3805574977605, 5903.3350651305545, 6363.429735609233, 6349.980904651709, 6452.834153986864, 6596.6386435730465, 6570.766852770351, 6581.029784587335, 6541.718840951005, 6573.830823371469, 6738.8721180935745, 6705.525898697216, 6480.199575943745, 6354.062268322145, 6218.799424591444, 6236.444559134059, 6235.684070801002, 6318.013231735982, 6521.050186574161, 6877.673884476539, 7402.580819460976, 7390.090778422766, 7420.196947077814, 7346.385614035317, 7447.723313695186, 7679.362705305651, 8071.240982005918, 8253.338416176684, 8196.09901702876, 8021.010655096661, 8179.726691680431, 8202.498761161012, 8133.522836619849, 7914.756333562005, 7569.664617535836, 7590.004859834708, 7393.8093785787005, 7247.077235219733, 6995.192839452979, 6987.69858203196, 6986.3893742626715, 6444.573924300412, 6393.998556452644, 6394.536288565238, 6184.192153670268, 6305.226968673241, 6345.0272889532225, 6055.786321003208, 6369.941043951965, 6345.04510208509, 6466.560189308671, 6443.114310452302, 6401.7003608656405, 6443.7677115674205, 6399.602282626346, 6578.968414189755, 6433.583567491601, 6552.655532983387, 6713.807658833619, 6670.069420563303, 6713.4146514397535, 6988.2631792007805, 7049.057380905901, 6926.1882488652145, 6979.345931296861, 7110.975123691867, 7240.745144965029, 7260.337289836386, 7322.919696562517, 7112.472917228903, 6421.470819514182, 6443.170149740028, 6348.917552459333, 6295.955871608836, 6287.2353689863685, 6289.49650508535, 6267.719038462472, 6441.487443663272, 6499.971601943516, 6520.305906167756, 6481.711958450328, 6387.062102187686, 6297.10630147555, 6336.263500396324, 6412.2113129532245, 6658.831353718467, 6705.600140284551, 6707.643346377802, 6634.346988715095, 6412.473108576098, 6462.817254197133, 6521.758676072279, 6665.873700380448, 6539.716102934858, 6578.164624514121, 6574.020800956236, 6540.363942092479, 6447.334767598039, 6547.189881402392, 6544.63251383222, 6555.922073264146, 6533.448685133508, 6588.155308965511, 6586.9564092338005, 6515.360999924539, 6213.162666325577, 6201.288677021769, 6195.677906977851, 6226.1260207690675, 6375.661029701257, 6437.748762531298, 6438.221636794063, 6425.722009587468, 6385.3872377542475, 6397.217165889304, 6434.035994542509, 6404.876000667324, 6395.1786999370515, 6425.40594836004, 6400.662835858662, 6400.893078967589, 6406.251028612429, 6402.290679530037, 6325.211437272033, 6264.195688634453, 6277.879061625037, 6311.718670926264, 6351.602754343141, 6333.015924337837, 6369.730653024255, 6404.235911384491, 6413.277403035481, 6506.850121359625, 6448.400227260435, 6365.113235244777, 6354.594868746577, 6337.526091595159, 6350.332649825185, 6289.7193601323725, 6006.365579261713, 5494.319742337805, 5530.634010195516, 5484.919440832444, 5534.734346708526, 5199.94109520589, 4529.7341362043935, 4447.044597243776, 4467.069766823958, 4248.160182601287, 4197.0218484647985, 3756.9321726632156, 3850.9359188902804, 3702.8837805173043, 4057.2945921860774, 4224.798889200139, 4074.566444549815, 4081.6234612502717, 4120.589503435377, 3924.2521580205903, 3904.603216776478, 3802.154822702279, 3694.2460291128687, 3360.0577535520256, 3385.1274285820373, 3471.6984966057476, 3468.016103915769, 3364.5370162823688, 3398.5062178926696, 3360.6047049462545, 3232.8290393998554, 3179.0593374669525, 3217.320694474901, 3338.0597870837605, 3508.657608059425, 3748.438946266989, 3923.3309426052406, 3972.1396087827775, 3851.677453704535, 3978.056280943766, 4126.211925575531, 3773.2598637857213, 3778.891883893179, 3717.518933276413, 3701.742855265371, 3873.0976776927205, 3787.8872244049644, 3756.6091935970267, 3700.678699184263, 3824.381087968742, 3829.1043907331464, 3784.333248162993, 3834.1348999003308, 3885.3312363064815, 4022.4037756356242, 4006.822507628478, 4010.3433117363506, 3792.036096844144, 3636.6807815582692, 3626.334444156507, 3575.310055370955, 3582.6045220701276, 3640.2933370626597, 3603.4896060903284, 3603.1108963190554, 3615.0162402835526, 3676.048963962315, 3600.5671484172353, 3535.8924402909615, 3552.1442090795886, 3568.889252260235, 3554.416967216573, 3556.4355556935047, 3571.749735825, 3544.653609846713, 3436.9412918349367, 3397.8775349802277, 3424.0257292164815, 3424.2888032742417, 3416.594531071117, 3432.0971087290945, 3424.824032234868, 3413.9380681213984, 3419.3179790594336, 3371.2772503979936, 3366.1778129508257, 3455.8028503283163, 3614.8508350041398, 3607.855117072525, 3595.134164029951, 3577.8738073706327, 3581.9735733794737, 3568.821387442703, 3570.4442012532286, 3587.674873840409, 3585.2871700518717, 3756.6733688645004, 3900.731708250319, 3910.910261047882, 3906.534464631225, 3925.7113364517268, 3984.9867935983384, 3985.1708804270697, 3793.163629309673, 3799.540217303013, 3794.9455016428774, 3810.446652930447, 3813.5412836938794, 3804.940802442856, 3800.987502450217, 3723.453458979126, 3769.1668693491292, 3839.430915640903, 3861.3062407765815, 3871.9730141896607, 3891.329312946089, 3892.6368754301884, 3862.9988702185738, 3847.33920740142, 3852.899760318286, 3850.1382019363696, 3878.6403578497307, 3978.641306743275, 3963.411215936667, 3968.9576750204974, 3976.945427989938, 3995.9720014332643, 4005.272133340551, 3981.8002720551817, 3980.3264992944582, 3968.46245122984, 3949.1003203494884, 3908.236851619739, 3994.0737158506363, 4009.1424706244707, 4057.98130480225, 4083.9740598408152, 4088.4294700084174, 4125.683156324461, 4649.127833447874, 5038.385738468254, 4971.545798205418, 4980.670549616031, 5044.045355965486, 5128.484710430335, 5241.454285995179, 5221.160476532499, 5270.750017079176, 5129.666959568332, 5047.457160680199, 5084.583871902047, 5078.929244976857, 5121.256873948458, 5098.903679622812, 5218.59722040334, 5263.827501811347, 5259.180188799351, 5313.194743326623, 5287.273093444004, 5317.854806459386, 5532.9746966897565, 5487.736644192159, 5422.8773982861085, 5149.359096159837, 5165.037288717595, 5169.575513691476, 5154.81654336067, 5200.883942799437, 5304.5212400299915, 5362.337862155496, 5618.7996954496475, 5694.984820152449, 5722.166836310573, 5656.929467735292, 5864.269775568949, 5844.480875511197, 6047.488290597913, 6290.828123699577, 6806.48747059431, 7154.9551372121105, 7409.110545395556, 7992.089707485142, 8054.587950808817, 7993.425148022656, 7262.418007899218, 7325.731918952011, 7933.9268158052155, 7906.096424482967, 7952.526758231092, 7890.29452589542, 7702.740478159255, 7983.344116740006, 8046.300617381784, 8128.546958223451, 8784.562189371667, 8727.337766359067, 8648.244324281599, 8632.743963722436, 8351.777835872286, 8543.924060004654, 8670.265812880712, 8532.593172662384, 7850.979304918054, 7773.4777406099365, 7751.680285119101, 7938.729206254168, 7940.5253349988625, 7798.498155120784, 7819.5486367820695, 7896.830013286613, 8036.509587763991, 8169.588231822856, 8353.217492064297, 8727.687036371799, 9095.289101530452, 9235.846432505909, 9152.500069336686, 9148.01395901445, 9353.22648559646, 9801.48601844826, 10724.80500475833, 10746.900511013211, 10846.846268886118, 11315.817028152782, 12643.58268406806, 11804.629165520822, 11679.43835006045, 11854.537295204322, 11542.5519109653, 10688.316669892505, 10303.947255003688, 11345.214704756921, 11759.042504677078, 11139.493770149711, 11415.369265018257, 11311.47674802796, 11794.10358029435, 12513.87310001388, 12648.77722987224, 11583.33114395624, 11584.53226697636, 11428.597803701208, 10857.026633891062, 10417.313950106387, 10355.675152687822, 9577.424253618532, 10054.174637386332, 10472.448828593731, 10680.276549055909, 10577.614454422597, 10450.157570706906, 10070.725015713168, 9702.591536684673, 10016.952398913825, 9774.724239339514, 9728.204527019083, 9484.914105643693, 9539.378363609236, 9540.448916710371, 9857.746978877933, 10085.104546979139, 10475.070739547555, 10784.832144716522, 10820.892324169692, 11675.761776815854, 11757.580574404436, 11711.54347617361, 11801.34874174219, 11819.34219296096, 11578.771028918314, 11378.232876254124, 11540.450291]}],\n",
       "                        {\"template\": {\"data\": {\"bar\": [{\"error_x\": {\"color\": \"#2a3f5f\"}, \"error_y\": {\"color\": \"#2a3f5f\"}, \"marker\": {\"line\": {\"color\": \"#E5ECF6\", \"width\": 0.5}}, \"type\": \"bar\"}], \"barpolar\": [{\"marker\": {\"line\": {\"color\": \"#E5ECF6\", \"width\": 0.5}}, \"type\": \"barpolar\"}], \"carpet\": [{\"aaxis\": {\"endlinecolor\": \"#2a3f5f\", \"gridcolor\": \"white\", \"linecolor\": \"white\", \"minorgridcolor\": \"white\", \"startlinecolor\": \"#2a3f5f\"}, \"baxis\": {\"endlinecolor\": \"#2a3f5f\", \"gridcolor\": \"white\", \"linecolor\": \"white\", \"minorgridcolor\": \"white\", \"startlinecolor\": \"#2a3f5f\"}, \"type\": \"carpet\"}], \"choropleth\": [{\"colorbar\": {\"outlinewidth\": 0, \"ticks\": \"\"}, \"type\": \"choropleth\"}], \"contour\": [{\"colorbar\": {\"outlinewidth\": 0, \"ticks\": \"\"}, \"colorscale\": [[0.0, \"#0d0887\"], [0.1111111111111111, \"#46039f\"], [0.2222222222222222, \"#7201a8\"], [0.3333333333333333, \"#9c179e\"], [0.4444444444444444, \"#bd3786\"], [0.5555555555555556, \"#d8576b\"], [0.6666666666666666, \"#ed7953\"], [0.7777777777777778, \"#fb9f3a\"], [0.8888888888888888, \"#fdca26\"], [1.0, \"#f0f921\"]], \"type\": \"contour\"}], \"contourcarpet\": [{\"colorbar\": {\"outlinewidth\": 0, \"ticks\": \"\"}, \"type\": \"contourcarpet\"}], \"heatmap\": [{\"colorbar\": {\"outlinewidth\": 0, \"ticks\": \"\"}, \"colorscale\": [[0.0, \"#0d0887\"], [0.1111111111111111, \"#46039f\"], [0.2222222222222222, \"#7201a8\"], [0.3333333333333333, \"#9c179e\"], [0.4444444444444444, \"#bd3786\"], [0.5555555555555556, \"#d8576b\"], [0.6666666666666666, \"#ed7953\"], [0.7777777777777778, \"#fb9f3a\"], [0.8888888888888888, \"#fdca26\"], [1.0, \"#f0f921\"]], \"type\": \"heatmap\"}], \"heatmapgl\": [{\"colorbar\": {\"outlinewidth\": 0, \"ticks\": \"\"}, \"colorscale\": [[0.0, \"#0d0887\"], [0.1111111111111111, \"#46039f\"], [0.2222222222222222, \"#7201a8\"], [0.3333333333333333, \"#9c179e\"], [0.4444444444444444, \"#bd3786\"], [0.5555555555555556, \"#d8576b\"], [0.6666666666666666, \"#ed7953\"], [0.7777777777777778, \"#fb9f3a\"], [0.8888888888888888, \"#fdca26\"], [1.0, \"#f0f921\"]], \"type\": \"heatmapgl\"}], \"histogram\": [{\"marker\": {\"colorbar\": {\"outlinewidth\": 0, \"ticks\": \"\"}}, \"type\": \"histogram\"}], \"histogram2d\": [{\"colorbar\": {\"outlinewidth\": 0, \"ticks\": \"\"}, \"colorscale\": [[0.0, \"#0d0887\"], [0.1111111111111111, \"#46039f\"], [0.2222222222222222, \"#7201a8\"], [0.3333333333333333, \"#9c179e\"], [0.4444444444444444, \"#bd3786\"], [0.5555555555555556, \"#d8576b\"], [0.6666666666666666, \"#ed7953\"], [0.7777777777777778, \"#fb9f3a\"], [0.8888888888888888, \"#fdca26\"], [1.0, \"#f0f921\"]], \"type\": \"histogram2d\"}], \"histogram2dcontour\": [{\"colorbar\": {\"outlinewidth\": 0, \"ticks\": \"\"}, \"colorscale\": [[0.0, \"#0d0887\"], [0.1111111111111111, \"#46039f\"], [0.2222222222222222, \"#7201a8\"], [0.3333333333333333, \"#9c179e\"], [0.4444444444444444, \"#bd3786\"], [0.5555555555555556, \"#d8576b\"], [0.6666666666666666, \"#ed7953\"], [0.7777777777777778, \"#fb9f3a\"], [0.8888888888888888, \"#fdca26\"], [1.0, \"#f0f921\"]], \"type\": \"histogram2dcontour\"}], \"mesh3d\": [{\"colorbar\": {\"outlinewidth\": 0, \"ticks\": \"\"}, \"type\": \"mesh3d\"}], \"parcoords\": [{\"line\": {\"colorbar\": {\"outlinewidth\": 0, \"ticks\": \"\"}}, \"type\": \"parcoords\"}], \"pie\": [{\"automargin\": true, \"type\": \"pie\"}], \"scatter\": [{\"marker\": {\"colorbar\": {\"outlinewidth\": 0, \"ticks\": \"\"}}, \"type\": \"scatter\"}], \"scatter3d\": [{\"line\": {\"colorbar\": {\"outlinewidth\": 0, \"ticks\": \"\"}}, \"marker\": {\"colorbar\": {\"outlinewidth\": 0, \"ticks\": \"\"}}, \"type\": \"scatter3d\"}], \"scattercarpet\": [{\"marker\": {\"colorbar\": {\"outlinewidth\": 0, \"ticks\": \"\"}}, \"type\": \"scattercarpet\"}], \"scattergeo\": [{\"marker\": {\"colorbar\": {\"outlinewidth\": 0, \"ticks\": \"\"}}, \"type\": \"scattergeo\"}], \"scattergl\": [{\"marker\": {\"colorbar\": {\"outlinewidth\": 0, \"ticks\": \"\"}}, \"type\": \"scattergl\"}], \"scattermapbox\": [{\"marker\": {\"colorbar\": {\"outlinewidth\": 0, \"ticks\": \"\"}}, \"type\": \"scattermapbox\"}], \"scatterpolar\": [{\"marker\": {\"colorbar\": {\"outlinewidth\": 0, \"ticks\": \"\"}}, \"type\": \"scatterpolar\"}], \"scatterpolargl\": [{\"marker\": {\"colorbar\": {\"outlinewidth\": 0, \"ticks\": \"\"}}, \"type\": \"scatterpolargl\"}], \"scatterternary\": [{\"marker\": {\"colorbar\": {\"outlinewidth\": 0, \"ticks\": \"\"}}, \"type\": \"scatterternary\"}], \"surface\": [{\"colorbar\": {\"outlinewidth\": 0, \"ticks\": \"\"}, \"colorscale\": [[0.0, \"#0d0887\"], [0.1111111111111111, \"#46039f\"], [0.2222222222222222, \"#7201a8\"], [0.3333333333333333, \"#9c179e\"], [0.4444444444444444, \"#bd3786\"], [0.5555555555555556, \"#d8576b\"], [0.6666666666666666, \"#ed7953\"], [0.7777777777777778, \"#fb9f3a\"], [0.8888888888888888, \"#fdca26\"], [1.0, \"#f0f921\"]], \"type\": \"surface\"}], \"table\": [{\"cells\": {\"fill\": {\"color\": \"#EBF0F8\"}, \"line\": {\"color\": \"white\"}}, \"header\": {\"fill\": {\"color\": \"#C8D4E3\"}, \"line\": {\"color\": \"white\"}}, \"type\": \"table\"}]}, \"layout\": {\"annotationdefaults\": {\"arrowcolor\": \"#2a3f5f\", \"arrowhead\": 0, \"arrowwidth\": 1}, \"coloraxis\": {\"colorbar\": {\"outlinewidth\": 0, \"ticks\": \"\"}}, \"colorscale\": {\"diverging\": [[0, \"#8e0152\"], [0.1, \"#c51b7d\"], [0.2, \"#de77ae\"], [0.3, \"#f1b6da\"], [0.4, \"#fde0ef\"], [0.5, \"#f7f7f7\"], [0.6, \"#e6f5d0\"], [0.7, \"#b8e186\"], [0.8, \"#7fbc41\"], [0.9, \"#4d9221\"], [1, \"#276419\"]], \"sequential\": [[0.0, \"#0d0887\"], [0.1111111111111111, \"#46039f\"], [0.2222222222222222, \"#7201a8\"], [0.3333333333333333, \"#9c179e\"], [0.4444444444444444, \"#bd3786\"], [0.5555555555555556, \"#d8576b\"], [0.6666666666666666, \"#ed7953\"], [0.7777777777777778, \"#fb9f3a\"], [0.8888888888888888, \"#fdca26\"], [1.0, \"#f0f921\"]], \"sequentialminus\": [[0.0, \"#0d0887\"], [0.1111111111111111, \"#46039f\"], [0.2222222222222222, \"#7201a8\"], [0.3333333333333333, \"#9c179e\"], [0.4444444444444444, \"#bd3786\"], [0.5555555555555556, \"#d8576b\"], [0.6666666666666666, \"#ed7953\"], [0.7777777777777778, \"#fb9f3a\"], [0.8888888888888888, \"#fdca26\"], [1.0, \"#f0f921\"]]}, \"colorway\": [\"#636efa\", \"#EF553B\", \"#00cc96\", \"#ab63fa\", \"#FFA15A\", \"#19d3f3\", \"#FF6692\", \"#B6E880\", \"#FF97FF\", \"#FECB52\"], \"font\": {\"color\": \"#2a3f5f\"}, \"geo\": {\"bgcolor\": \"white\", \"lakecolor\": \"white\", \"landcolor\": \"#E5ECF6\", \"showlakes\": true, \"showland\": true, \"subunitcolor\": \"white\"}, \"hoverlabel\": {\"align\": \"left\"}, \"hovermode\": \"closest\", \"mapbox\": {\"style\": \"light\"}, \"paper_bgcolor\": \"white\", \"plot_bgcolor\": \"#E5ECF6\", \"polar\": {\"angularaxis\": {\"gridcolor\": \"white\", \"linecolor\": \"white\", \"ticks\": \"\"}, \"bgcolor\": \"#E5ECF6\", \"radialaxis\": {\"gridcolor\": \"white\", \"linecolor\": \"white\", \"ticks\": \"\"}}, \"scene\": {\"xaxis\": {\"backgroundcolor\": \"#E5ECF6\", \"gridcolor\": \"white\", \"gridwidth\": 2, \"linecolor\": \"white\", \"showbackground\": true, \"ticks\": \"\", \"zerolinecolor\": \"white\"}, \"yaxis\": {\"backgroundcolor\": \"#E5ECF6\", \"gridcolor\": \"white\", \"gridwidth\": 2, \"linecolor\": \"white\", \"showbackground\": true, \"ticks\": \"\", \"zerolinecolor\": \"white\"}, \"zaxis\": {\"backgroundcolor\": \"#E5ECF6\", \"gridcolor\": \"white\", \"gridwidth\": 2, \"linecolor\": \"white\", \"showbackground\": true, \"ticks\": \"\", \"zerolinecolor\": \"white\"}}, \"shapedefaults\": {\"line\": {\"color\": \"#2a3f5f\"}}, \"ternary\": {\"aaxis\": {\"gridcolor\": \"white\", \"linecolor\": \"white\", \"ticks\": \"\"}, \"baxis\": {\"gridcolor\": \"white\", \"linecolor\": \"white\", \"ticks\": \"\"}, \"bgcolor\": \"#E5ECF6\", \"caxis\": {\"gridcolor\": \"white\", \"linecolor\": \"white\", \"ticks\": \"\"}}, \"title\": {\"x\": 0.05}, \"xaxis\": {\"automargin\": true, \"gridcolor\": \"white\", \"linecolor\": \"white\", \"ticks\": \"\", \"title\": {\"standoff\": 15}, \"zerolinecolor\": \"white\", \"zerolinewidth\": 2}, \"yaxis\": {\"automargin\": true, \"gridcolor\": \"white\", \"linecolor\": \"white\", \"ticks\": \"\", \"title\": {\"standoff\": 15}, \"zerolinecolor\": \"white\", \"zerolinewidth\": 2}}}, \"title\": {\"text\": \"Seasonal decomposition\"}, \"xaxis\": {\"title\": {\"text\": \"Time\"}}, \"yaxis\": {\"title\": {\"text\": \"Price, USD\"}}},\n",
       "                        {\"responsive\": true}\n",
       "                    ).then(function(){\n",
       "                            \n",
       "var gd = document.getElementById('65b05150-f9a1-4f8c-bb83-ed4805fa4640');\n",
       "var x = new MutationObserver(function (mutations, observer) {{\n",
       "        var display = window.getComputedStyle(gd).display;\n",
       "        if (!display || display === 'none') {{\n",
       "            console.log([gd, 'removed!']);\n",
       "            Plotly.purge(gd);\n",
       "            observer.disconnect();\n",
       "        }}\n",
       "}});\n",
       "\n",
       "// Listen for the removal of the full notebook cells\n",
       "var notebookContainer = gd.closest('#notebook-container');\n",
       "if (notebookContainer) {{\n",
       "    x.observe(notebookContainer, {childList: true});\n",
       "}}\n",
       "\n",
       "// Listen for the clearing of the current output cell\n",
       "var outputEl = gd.closest('.output');\n",
       "if (outputEl) {{\n",
       "    x.observe(outputEl, {childList: true});\n",
       "}}\n",
       "\n",
       "                        })\n",
       "                };\n",
       "                });\n",
       "            </script>\n",
       "        </div>"
      ]
     },
     "metadata": {},
     "output_type": "display_data"
    }
   ],
   "source": [
    "trace1 = go.Scatter(x = np.arange(0, len(s.trend), 1),y = s.trend,mode = 'lines',name = 'Trend',\n",
    "    line = dict(color = ('rgb(244, 146, 65)'), width = 4))\n",
    "trace2 = go.Scatter(x = np.arange(0, len(s.seasonal), 1),y = s.seasonal,mode = 'lines',name = 'Seasonal',\n",
    "    line = dict(color = ('rgb(66, 244, 155)'), width = 2))\n",
    "\n",
    "trace3 = go.Scatter(x = np.arange(0, len(s.resid), 1),y = s.resid,mode = 'lines',name = 'Residual',\n",
    "    line = dict(color = ('rgb(209, 244, 66)'), width = 2))\n",
    "\n",
    "trace4 = go.Scatter(x = np.arange(0, len(s.observed), 1),y = s.observed,mode = 'lines',name = 'Observed',\n",
    "    line = dict(color = ('rgb(66, 134, 244)'), width = 2))\n",
    "\n",
    "data = [trace1, trace2, trace3, trace4]\n",
    "layout = dict(title = 'Seasonal decomposition', xaxis = dict(title = 'Time'), yaxis = dict(title = 'Price, USD'))\n",
    "fig = dict(data=data, layout=layout)\n",
    "py.iplot(fig, filename='seasonal_decomposition')"
   ]
  },
  {
   "cell_type": "markdown",
   "metadata": {
    "_cell_guid": "6ff4d4d1-b71c-41c5-86da-fc24ba0d99f2",
    "_uuid": "7f24bdcd4ef464b01aaa7cb2cc59a351b579f7c6"
   },
   "source": [
    "The next thing we do is an examination of the **autocorrelation**. It is it is the similarity between observations as a function of the time lag between them. It is important for finding repeating patterns in the data. "
   ]
  },
  {
   "cell_type": "code",
   "execution_count": 11,
   "metadata": {
    "_cell_guid": "edbcd456-92f3-43ad-a8a7-71885235952c",
    "_uuid": "cdc6e24a71f9e2b22e18cebf5b9ce2cbde2b9931"
   },
   "outputs": [
    {
     "data": {
      "image/png": "[encoded data removed]",
      "text/plain": [
       "<Figure size 1080x504 with 2 Axes>"
      ]
     },
     "metadata": {
      "needs_background": "light"
     },
     "output_type": "display_data"
    }
   ],
   "source": [
    "plt.figure(figsize=(15,7))\n",
    "ax = plt.subplot(211)\n",
    "sm.graphics.tsa.plot_acf(working_data.Weighted_Price.values.squeeze(), lags=48, ax=ax)\n",
    "ax = plt.subplot(212)\n",
    "sm.graphics.tsa.plot_pacf(working_data.Weighted_Price.values.squeeze(), lags=48, ax=ax)\n",
    "plt.tight_layout()\n",
    "plt.show()"
   ]
  },
  {
   "cell_type": "markdown",
   "metadata": {
    "_cell_guid": "cdeb0390-cc75-4127-92bd-9a3d9a951839",
    "_uuid": "091b8085cbdc42fc0bbec0f6283465435d75d52a"
   },
   "source": [
    "Now we need to recover our df_train and df_test datasets:"
   ]
  },
  {
   "cell_type": "code",
   "execution_count": 12,
   "metadata": {
    "_cell_guid": "bc2dde80-4e57-4dbc-99ee-7e75ea277e80",
    "_uuid": "e0c18a544ec36d8eb784590742e79850b694816a"
   },
   "outputs": [],
   "source": [
    "df_train = working_data[:-60]\n",
    "df_test = working_data[-60:]"
   ]
  },
  {
   "cell_type": "markdown",
   "metadata": {
    "_cell_guid": "c26c777e-6d50-4fad-83a7-192cb1f83cc6",
    "_uuid": "d0ee3d170b35a09734d6dbac177a426c3e17dc04"
   },
   "source": [
    "# Data preparation\n",
    "\n",
    "We need to prepare our dataset according to the requirements of the model, as well as to split the dataset into train and test parts. \n",
    "In the next cell, we define a function which creates X inputs and Y labels for our model. In the sequential forecasting, we predict the future value based on some previous and current values. So, our Y label is the value from the next (future) point of time while the X inputs are one or several values from the past. The amount of this values we can set by tuning the parameter *look_back* in our function. If we set it to 1, this means that we predict current value *t* based on the previous value *(t-1)*."
   ]
  },
  {
   "cell_type": "code",
   "execution_count": 13,
   "metadata": {
    "_cell_guid": "d0b98c6a-4e04-46be-b02f-553fbb3cd169",
    "_uuid": "4f52886af240af7df73307d66631a8a83b8650f4"
   },
   "outputs": [],
   "source": [
    "def create_lookback(dataset, look_back=1):\n",
    "    X, Y = [], []\n",
    "    for i in range(len(dataset) - look_back):\n",
    "        a = dataset[i:(i + look_back), 0]\n",
    "        X.append(a)\n",
    "        Y.append(dataset[i + look_back, 0])\n",
    "    return np.array(X), np.array(Y)"
   ]
  },
  {
   "cell_type": "markdown",
   "metadata": {
    "_cell_guid": "a05b3820-0fb1-4cb3-b388-5332d42897c5",
    "_uuid": "fbf150e78040190477d351c42991cd338e92431d"
   },
   "source": [
    "Now we perform **final data preparation**:\n",
    "   1. Reshape the train and test set according to the requirements of the model.\n",
    "   2. Scale the dataset by using the MinMaxScaler because LSTM models are scale sensitive.\n",
    "   3. Apply our *create_lookback* function."
   ]
  },
  {
   "cell_type": "code",
   "execution_count": 14,
   "metadata": {
    "_cell_guid": "42e23593-4dfb-42a5-ace0-3e3779d523e2",
    "_uuid": "81931375dc7bdd7e9f96a89240a8294e55a807cc"
   },
   "outputs": [],
   "source": [
    "from sklearn.preprocessing import MinMaxScaler\n",
    "\n",
    "training_set = df_train.values\n",
    "training_set = np.reshape(training_set, (len(training_set), 1))\n",
    "test_set = df_test.values\n",
    "test_set = np.reshape(test_set, (len(test_set), 1))\n",
    "\n",
    "#scale datasets\n",
    "scaler = MinMaxScaler()\n",
    "training_set = scaler.fit_transform(training_set)\n",
    "test_set = scaler.transform(test_set)\n",
    "\n",
    "# create datasets which are suitable for time series forecasting\n",
    "look_back = 1\n",
    "X_train, Y_train = create_lookback(training_set, look_back)\n",
    "X_test, Y_test = create_lookback(test_set, look_back)\n",
    "\n",
    " # reshape datasets so that they will be ok for the requirements of the LSTM model in Keras\n",
    "X_train = np.reshape(X_train, (len(X_train), 1, X_train.shape[1]))\n",
    "X_test = np.reshape(X_test, (len(X_test), 1, X_test.shape[1]))"
   ]
  },
  {
   "cell_type": "markdown",
   "metadata": {
    "_cell_guid": "9683104c-5f6a-4d23-8537-e3fc5e28feea",
    "_uuid": "1c8f73b21cdebc83c6d7b6ea8ed5ad062de512af"
   },
   "source": [
    "We have tried to train several different models and compare their results. You can found them in the table below.\n",
    "These results were obtained using the following hardware: 4-core CPU, 16 GB RAM and by training each model ten times with different random states.\n",
    "As we can see, the best result is obtained by using the 2-stacked LSTM. Nevertheless, this model is much slower then GRU or 1-layer LSTM. The Autoregressive integrated moving average model (ARIMA) shows the worst results both in performance and training time. We can also see, that the 1-layer LSTM model is not capable to recognize patterns in the data so we need more complex models. We are going to demonstrate 2-layers LSTM neural network in more detail. \n",
    "\n",
    "<table>\n",
    "    <thead>\n",
    "        <tr>\n",
    "            <th>Model</th>\n",
    "            <th>RMSE</th>\n",
    "            <th>Training time, sec</th>\n",
    "        </tr>\n",
    "    </thead>\n",
    "    <tbody>\n",
    "        <tr>\n",
    "            <td>ARIMA</td>\n",
    "            <td>164</td>\n",
    "            <td>166</td>\n",
    "        </tr>\n",
    "        <tr>\n",
    "            <td>1-layer LSTM</td>\n",
    "            <td>91.2 +- (2.2)</td>\n",
    "            <td>21</td>\n",
    "        </tr>\n",
    "        <tr>\n",
    "            <td>Bidirectional 1-layer LSTM</td>\n",
    "            <td>51.6 +- (9.5)</td>\n",
    "            <td>42</td>\n",
    "        </tr>\n",
    "        <tr>\n",
    "            <td>Gated Recurrent Unit (GRU)</td>\n",
    "            <td>32.6 +- (1.5)</td>\n",
    "            <td>16</td>\n",
    "        </tr>   \n",
    "        <tr>\n",
    "            <td>2-layers LSTM</td>\n",
    "            <td>19.5 +- (4.2)</td>\n",
    "            <td>57</td>\n",
    "        </tr>        \n",
    "    </tbody>\n",
    "</table>\n"
   ]
  },
  {
   "cell_type": "markdown",
   "metadata": {
    "_cell_guid": "d87a9f1b-c512-4544-a9ad-2597b80f42ab",
    "_uuid": "17d41a384e7b15fb5563bd7f67b20b247143184d",
    "collapsed": true
   },
   "source": [
    "# Training 2-layers LSTM Neural Network\n",
    "\n",
    "Eventually, we can build and train our model. We use Keras framework for deep learning. \n",
    "Our model consists of two stacked LSTM layers with 256 units each and the densely connected output layer with one neuron. We are using [Adam optimizer](https://arxiv.org/abs/1412.6980) and MSE as a loss. Also, we use an early stopping if the result doesn't improve during 20 training iterations (epochs).\n",
    "We performed several experiments and found that the optimal number of epochs and butch_size is 100 and 16 respectively.\n",
    "Also, it is important to set *shuffle=False* because we don't want to shuffle time series data."
   ]
  },
  {
   "cell_type": "code",
   "execution_count": 15,
   "metadata": {
    "_cell_guid": "ff2bf0e9-18aa-45b6-b2c1-1a43c08e2abc",
    "_uuid": "759bf04dc636fb92287417851c65319545097f29"
   },
   "outputs": [
    {
     "name": "stdout",
     "output_type": "stream",
     "text": [
      "WARNING:tensorflow:From /Users/admin/anaconda3/envs/ML_env/lib/python3.7/site-packages/tensorflow/python/ops/resource_variable_ops.py:435: colocate_with (from tensorflow.python.framework.ops) is deprecated and will be removed in a future version.\n",
      "Instructions for updating:\n",
      "Colocations handled automatically by placer.\n",
      "WARNING:tensorflow:From /Users/admin/anaconda3/envs/ML_env/lib/python3.7/site-packages/tensorflow/python/ops/math_ops.py:3066: to_int32 (from tensorflow.python.ops.math_ops) is deprecated and will be removed in a future version.\n",
      "Instructions for updating:\n",
      "Use tf.cast instead.\n",
      "Train on 599 samples, validate on 59 samples\n",
      "Epoch 1/100\n",
      "599/599 [==============================] - 1s 2ms/step - loss: 0.0658 - val_loss: 0.0527\n",
      "Epoch 2/100\n",
      "599/599 [==============================] - 0s 458us/step - loss: 0.0242 - val_loss: 0.0469\n",
      "Epoch 3/100\n",
      "599/599 [==============================] - 0s 469us/step - loss: 0.0164 - val_loss: 0.0191\n",
      "Epoch 4/100\n",
      "599/599 [==============================] - 0s 450us/step - loss: 0.0049 - val_loss: 0.0026\n",
      "Epoch 5/100\n",
      "599/599 [==============================] - 0s 420us/step - loss: 7.2846e-04 - val_loss: 9.6629e-04\n",
      "Epoch 6/100\n",
      "599/599 [==============================] - 0s 415us/step - loss: 7.4162e-04 - val_loss: 0.0012\n",
      "Epoch 7/100\n",
      "599/599 [==============================] - 0s 454us/step - loss: 6.3962e-04 - val_loss: 0.0013\n",
      "Epoch 8/100\n",
      "599/599 [==============================] - 0s 438us/step - loss: 6.4943e-04 - val_loss: 0.0015\n",
      "Epoch 9/100\n",
      "599/599 [==============================] - 0s 442us/step - loss: 6.4970e-04 - val_loss: 0.0016\n",
      "Epoch 10/100\n",
      "599/599 [==============================] - 0s 435us/step - loss: 6.6279e-04 - val_loss: 0.0018\n",
      "Epoch 11/100\n",
      "599/599 [==============================] - 0s 431us/step - loss: 6.8587e-04 - val_loss: 0.0020\n",
      "Epoch 12/100\n",
      "599/599 [==============================] - 0s 447us/step - loss: 7.1624e-04 - val_loss: 0.0022\n",
      "Epoch 13/100\n",
      "599/599 [==============================] - 0s 455us/step - loss: 7.5376e-04 - val_loss: 0.0024\n",
      "Epoch 14/100\n",
      "599/599 [==============================] - 0s 436us/step - loss: 7.9255e-04 - val_loss: 0.0025\n",
      "Epoch 15/100\n",
      "599/599 [==============================] - 0s 443us/step - loss: 8.3063e-04 - val_loss: 0.0027\n",
      "Epoch 16/100\n",
      "599/599 [==============================] - 0s 452us/step - loss: 8.6420e-04 - val_loss: 0.0028\n",
      "Epoch 17/100\n",
      "599/599 [==============================] - 0s 447us/step - loss: 8.9217e-04 - val_loss: 0.0029\n",
      "Epoch 18/100\n",
      "599/599 [==============================] - 0s 452us/step - loss: 9.1382e-04 - val_loss: 0.0030\n",
      "Epoch 19/100\n",
      "599/599 [==============================] - 0s 514us/step - loss: 9.2966e-04 - val_loss: 0.0030\n",
      "Epoch 20/100\n",
      "599/599 [==============================] - 0s 465us/step - loss: 9.4062e-04 - val_loss: 0.0030\n",
      "Epoch 21/100\n",
      "599/599 [==============================] - 0s 494us/step - loss: 9.4776e-04 - val_loss: 0.0031\n",
      "Epoch 22/100\n",
      "599/599 [==============================] - 0s 490us/step - loss: 9.5210e-04 - val_loss: 0.0031\n",
      "Epoch 23/100\n",
      "599/599 [==============================] - 0s 435us/step - loss: 9.5445e-04 - val_loss: 0.0031\n",
      "Epoch 24/100\n",
      "599/599 [==============================] - 0s 521us/step - loss: 9.5535e-04 - val_loss: 0.0030\n",
      "Epoch 25/100\n",
      "599/599 [==============================] - 0s 446us/step - loss: 9.5516e-04 - val_loss: 0.0030\n",
      "Epoch 00025: early stopping\n"
     ]
    }
   ],
   "source": [
    "# initialize sequential model, add 2 stacked LSTM layers and densely connected output neuron\n",
    "model = Sequential()\n",
    "model.add(LSTM(256, return_sequences=True, input_shape=(X_train.shape[1], X_train.shape[2])))\n",
    "model.add(LSTM(256))\n",
    "model.add(Dense(1))\n",
    "\n",
    "# compile and fit the model\n",
    "model.compile(loss='mean_squared_error', optimizer='adam')\n",
    "history = model.fit(X_train, Y_train, epochs=100, batch_size=16, shuffle=False, \n",
    "                    validation_data=(X_test, Y_test), \n",
    "                    callbacks = [EarlyStopping(monitor='val_loss', min_delta=5e-5, patience=20, verbose=1)])"
   ]
  },
  {
   "cell_type": "code",
   "execution_count": 16,
   "metadata": {
    "_cell_guid": "37c1a750-4421-4b20-ba26-909ab9a0ee41",
    "_uuid": "ac55eec1ad24e59a7a252690539d2dccd6ae88b9"
   },
   "outputs": [
    {
     "data": {
      "application/vnd.plotly.v1+json": {
       "config": {
        "linkText": "Export to plot.ly",
        "plotlyServerURL": "https://plot.ly",
        "showLink": false
       },
       "data": [
        {
         "line": {
          "color": "rgb(66, 244, 155)",
          "dash": "dash",
          "width": 2
         },
         "mode": "lines",
         "name": "Train loss",
         "type": "scatter",
         "x": [
          0,
          1,
          2,
          3,
          4,
          5,
          6,
          7,
          8,
          9,
          10,
          11,
          12,
          13,
          14,
          15,
          16,
          17,
          18,
          19,
          20,
          21,
          22,
          23,
          24
         ],
         "y": [
          0.06582003444563815,
          0.024150100473675235,
          0.016412013488081603,
          0.004941165291561196,
          0.0007284561117515527,
          0.000741623417007502,
          0.0006396212070505562,
          0.0006494287804518523,
          0.0006496978177182153,
          0.0006627883920127305,
          0.0006858741847847982,
          0.0007162400596429756,
          0.0007537613306516192,
          0.0007925501032850008,
          0.0008306252451732876,
          0.000864199439900537,
          0.0008921680126754328,
          0.0009138172894493927,
          0.0009296644053994079,
          0.0009406168086303458,
          0.0009477562099059295,
          0.0009521044188650179,
          0.0009544478196461058,
          0.0009553481468842218,
          0.0009551562193177876
         ]
        },
        {
         "line": {
          "color": "rgb(244, 146, 65)",
          "width": 2
         },
         "mode": "lines",
         "name": "Test loss",
         "type": "scatter",
         "x": [
          0,
          1,
          2,
          3,
          4,
          5,
          6,
          7,
          8,
          9,
          10,
          11,
          12,
          13,
          14,
          15,
          16,
          17,
          18,
          19,
          20,
          21,
          22,
          23,
          24
         ],
         "y": [
          0.05268500997858532,
          0.046861153222241644,
          0.01913827294641632,
          0.0025732190963827957,
          0.0009662881611956884,
          0.0012346690706119445,
          0.0012939533443679496,
          0.0014808754006526985,
          0.0016109942107350897,
          0.0018080867673033628,
          0.0019861334595450406,
          0.002187078648988726,
          0.0023693630187693287,
          0.002541875817923475,
          0.002687740198857451,
          0.002808324088958108,
          0.0029010320105984553,
          0.0029688931338615336,
          0.0030151334299185015,
          0.0030437006528284084,
          0.0030583431668011313,
          0.0030618210804601344,
          0.0030561930034309626,
          0.0030427655733932376,
          0.0030223137651712207
         ]
        }
       ],
       "layout": {
        "template": {
         "data": {
          "bar": [
           {
            "error_x": {
             "color": "#2a3f5f"
            },
            "error_y": {
             "color": "#2a3f5f"
            },
            "marker": {
             "line": {
              "color": "#E5ECF6",
              "width": 0.5
             }
            },
            "type": "bar"
           }
          ],
          "barpolar": [
           {
            "marker": {
             "line": {
              "color": "#E5ECF6",
              "width": 0.5
             }
            },
            "type": "barpolar"
           }
          ],
          "carpet": [
           {
            "aaxis": {
             "endlinecolor": "#2a3f5f",
             "gridcolor": "white",
             "linecolor": "white",
             "minorgridcolor": "white",
             "startlinecolor": "#2a3f5f"
            },
            "baxis": {
             "endlinecolor": "#2a3f5f",
             "gridcolor": "white",
             "linecolor": "white",
             "minorgridcolor": "white",
             "startlinecolor": "#2a3f5f"
            },
            "type": "carpet"
           }
          ],
          "choropleth": [
           {
            "colorbar": {
             "outlinewidth": 0,
             "ticks": ""
            },
            "type": "choropleth"
           }
          ],
          "contour": [
           {
            "colorbar": {
             "outlinewidth": 0,
             "ticks": ""
            },
            "colorscale": [
             [
              0,
              "#0d0887"
             ],
             [
              0.1111111111111111,
              "#46039f"
             ],
             [
              0.2222222222222222,
              "#7201a8"
             ],
             [
              0.3333333333333333,
              "#9c179e"
             ],
             [
              0.4444444444444444,
              "#bd3786"
             ],
             [
              0.5555555555555556,
              "#d8576b"
             ],
             [
              0.6666666666666666,
              "#ed7953"
             ],
             [
              0.7777777777777778,
              "#fb9f3a"
             ],
             [
              0.8888888888888888,
              "#fdca26"
             ],
             [
              1,
              "#f0f921"
             ]
            ],
            "type": "contour"
           }
          ],
          "contourcarpet": [
           {
            "colorbar": {
             "outlinewidth": 0,
             "ticks": ""
            },
            "type": "contourcarpet"
           }
          ],
          "heatmap": [
           {
            "colorbar": {
             "outlinewidth": 0,
             "ticks": ""
            },
            "colorscale": [
             [
              0,
              "#0d0887"
             ],
             [
              0.1111111111111111,
              "#46039f"
             ],
             [
              0.2222222222222222,
              "#7201a8"
             ],
             [
              0.3333333333333333,
              "#9c179e"
             ],
             [
              0.4444444444444444,
              "#bd3786"
             ],
             [
              0.5555555555555556,
              "#d8576b"
             ],
             [
              0.6666666666666666,
              "#ed7953"
             ],
             [
              0.7777777777777778,
              "#fb9f3a"
             ],
             [
              0.8888888888888888,
              "#fdca26"
             ],
             [
              1,
              "#f0f921"
             ]
            ],
            "type": "heatmap"
           }
          ],
          "heatmapgl": [
           {
            "colorbar": {
             "outlinewidth": 0,
             "ticks": ""
            },
            "colorscale": [
             [
              0,
              "#0d0887"
             ],
             [
              0.1111111111111111,
              "#46039f"
             ],
             [
              0.2222222222222222,
              "#7201a8"
             ],
             [
              0.3333333333333333,
              "#9c179e"
             ],
             [
              0.4444444444444444,
              "#bd3786"
             ],
             [
              0.5555555555555556,
              "#d8576b"
             ],
             [
              0.6666666666666666,
              "#ed7953"
             ],
             [
              0.7777777777777778,
              "#fb9f3a"
             ],
             [
              0.8888888888888888,
              "#fdca26"
             ],
             [
              1,
              "#f0f921"
             ]
            ],
            "type": "heatmapgl"
           }
          ],
          "histogram": [
           {
            "marker": {
             "colorbar": {
              "outlinewidth": 0,
              "ticks": ""
             }
            },
            "type": "histogram"
           }
          ],
          "histogram2d": [
           {
            "colorbar": {
             "outlinewidth": 0,
             "ticks": ""
            },
            "colorscale": [
             [
              0,
              "#0d0887"
             ],
             [
              0.1111111111111111,
              "#46039f"
             ],
             [
              0.2222222222222222,
              "#7201a8"
             ],
             [
              0.3333333333333333,
              "#9c179e"
             ],
             [
              0.4444444444444444,
              "#bd3786"
             ],
             [
              0.5555555555555556,
              "#d8576b"
             ],
             [
              0.6666666666666666,
              "#ed7953"
             ],
             [
              0.7777777777777778,
              "#fb9f3a"
             ],
             [
              0.8888888888888888,
              "#fdca26"
             ],
             [
              1,
              "#f0f921"
             ]
            ],
            "type": "histogram2d"
           }
          ],
          "histogram2dcontour": [
           {
            "colorbar": {
             "outlinewidth": 0,
             "ticks": ""
            },
            "colorscale": [
             [
              0,
              "#0d0887"
             ],
             [
              0.1111111111111111,
              "#46039f"
             ],
             [
              0.2222222222222222,
              "#7201a8"
             ],
             [
              0.3333333333333333,
              "#9c179e"
             ],
             [
              0.4444444444444444,
              "#bd3786"
             ],
             [
              0.5555555555555556,
              "#d8576b"
             ],
             [
              0.6666666666666666,
              "#ed7953"
             ],
             [
              0.7777777777777778,
              "#fb9f3a"
             ],
             [
              0.8888888888888888,
              "#fdca26"
             ],
             [
              1,
              "#f0f921"
             ]
            ],
            "type": "histogram2dcontour"
           }
          ],
          "mesh3d": [
           {
            "colorbar": {
             "outlinewidth": 0,
             "ticks": ""
            },
            "type": "mesh3d"
           }
          ],
          "parcoords": [
           {
            "line": {
             "colorbar": {
              "outlinewidth": 0,
              "ticks": ""
             }
            },
            "type": "parcoords"
           }
          ],
          "pie": [
           {
            "automargin": true,
            "type": "pie"
           }
          ],
          "scatter": [
           {
            "marker": {
             "colorbar": {
              "outlinewidth": 0,
              "ticks": ""
             }
            },
            "type": "scatter"
           }
          ],
          "scatter3d": [
           {
            "line": {
             "colorbar": {
              "outlinewidth": 0,
              "ticks": ""
             }
            },
            "marker": {
             "colorbar": {
              "outlinewidth": 0,
              "ticks": ""
             }
            },
            "type": "scatter3d"
           }
          ],
          "scattercarpet": [
           {
            "marker": {
             "colorbar": {
              "outlinewidth": 0,
              "ticks": ""
             }
            },
            "type": "scattercarpet"
           }
          ],
          "scattergeo": [
           {
            "marker": {
             "colorbar": {
              "outlinewidth": 0,
              "ticks": ""
             }
            },
            "type": "scattergeo"
           }
          ],
          "scattergl": [
           {
            "marker": {
             "colorbar": {
              "outlinewidth": 0,
              "ticks": ""
             }
            },
            "type": "scattergl"
           }
          ],
          "scattermapbox": [
           {
            "marker": {
             "colorbar": {
              "outlinewidth": 0,
              "ticks": ""
             }
            },
            "type": "scattermapbox"
           }
          ],
          "scatterpolar": [
           {
            "marker": {
             "colorbar": {
              "outlinewidth": 0,
              "ticks": ""
             }
            },
            "type": "scatterpolar"
           }
          ],
          "scatterpolargl": [
           {
            "marker": {
             "colorbar": {
              "outlinewidth": 0,
              "ticks": ""
             }
            },
            "type": "scatterpolargl"
           }
          ],
          "scatterternary": [
           {
            "marker": {
             "colorbar": {
              "outlinewidth": 0,
              "ticks": ""
             }
            },
            "type": "scatterternary"
           }
          ],
          "surface": [
           {
            "colorbar": {
             "outlinewidth": 0,
             "ticks": ""
            },
            "colorscale": [
             [
              0,
              "#0d0887"
             ],
             [
              0.1111111111111111,
              "#46039f"
             ],
             [
              0.2222222222222222,
              "#7201a8"
             ],
             [
              0.3333333333333333,
              "#9c179e"
             ],
             [
              0.4444444444444444,
              "#bd3786"
             ],
             [
              0.5555555555555556,
              "#d8576b"
             ],
             [
              0.6666666666666666,
              "#ed7953"
             ],
             [
              0.7777777777777778,
              "#fb9f3a"
             ],
             [
              0.8888888888888888,
              "#fdca26"
             ],
             [
              1,
              "#f0f921"
             ]
            ],
            "type": "surface"
           }
          ],
          "table": [
           {
            "cells": {
             "fill": {
              "color": "#EBF0F8"
             },
             "line": {
              "color": "white"
             }
            },
            "header": {
             "fill": {
              "color": "#C8D4E3"
             },
             "line": {
              "color": "white"
             }
            },
            "type": "table"
           }
          ]
         },
         "layout": {
          "annotationdefaults": {
           "arrowcolor": "#2a3f5f",
           "arrowhead": 0,
           "arrowwidth": 1
          },
          "coloraxis": {
           "colorbar": {
            "outlinewidth": 0,
            "ticks": ""
           }
          },
          "colorscale": {
           "diverging": [
            [
             0,
             "#8e0152"
            ],
            [
             0.1,
             "#c51b7d"
            ],
            [
             0.2,
             "#de77ae"
            ],
            [
             0.3,
             "#f1b6da"
            ],
            [
             0.4,
             "#fde0ef"
            ],
            [
             0.5,
             "#f7f7f7"
            ],
            [
             0.6,
             "#e6f5d0"
            ],
            [
             0.7,
             "#b8e186"
            ],
            [
             0.8,
             "#7fbc41"
            ],
            [
             0.9,
             "#4d9221"
            ],
            [
             1,
             "#276419"
            ]
           ],
           "sequential": [
            [
             0,
             "#0d0887"
            ],
            [
             0.1111111111111111,
             "#46039f"
            ],
            [
             0.2222222222222222,
             "#7201a8"
            ],
            [
             0.3333333333333333,
             "#9c179e"
            ],
            [
             0.4444444444444444,
             "#bd3786"
            ],
            [
             0.5555555555555556,
             "#d8576b"
            ],
            [
             0.6666666666666666,
             "#ed7953"
            ],
            [
             0.7777777777777778,
             "#fb9f3a"
            ],
            [
             0.8888888888888888,
             "#fdca26"
            ],
            [
             1,
             "#f0f921"
            ]
           ],
           "sequentialminus": [
            [
             0,
             "#0d0887"
            ],
            [
             0.1111111111111111,
             "#46039f"
            ],
            [
             0.2222222222222222,
             "#7201a8"
            ],
            [
             0.3333333333333333,
             "#9c179e"
            ],
            [
             0.4444444444444444,
             "#bd3786"
            ],
            [
             0.5555555555555556,
             "#d8576b"
            ],
            [
             0.6666666666666666,
             "#ed7953"
            ],
            [
             0.7777777777777778,
             "#fb9f3a"
            ],
            [
             0.8888888888888888,
             "#fdca26"
            ],
            [
             1,
             "#f0f921"
            ]
           ]
          },
          "colorway": [
           "#636efa",
           "#EF553B",
           "#00cc96",
           "#ab63fa",
           "#FFA15A",
           "#19d3f3",
           "#FF6692",
           "#B6E880",
           "#FF97FF",
           "#FECB52"
          ],
          "font": {
           "color": "#2a3f5f"
          },
          "geo": {
           "bgcolor": "white",
           "lakecolor": "white",
           "landcolor": "#E5ECF6",
           "showlakes": true,
           "showland": true,
           "subunitcolor": "white"
          },
          "hoverlabel": {
           "align": "left"
          },
          "hovermode": "closest",
          "mapbox": {
           "style": "light"
          },
          "paper_bgcolor": "white",
          "plot_bgcolor": "#E5ECF6",
          "polar": {
           "angularaxis": {
            "gridcolor": "white",
            "linecolor": "white",
            "ticks": ""
           },
           "bgcolor": "#E5ECF6",
           "radialaxis": {
            "gridcolor": "white",
            "linecolor": "white",
            "ticks": ""
           }
          },
          "scene": {
           "xaxis": {
            "backgroundcolor": "#E5ECF6",
            "gridcolor": "white",
            "gridwidth": 2,
            "linecolor": "white",
            "showbackground": true,
            "ticks": "",
            "zerolinecolor": "white"
           },
           "yaxis": {
            "backgroundcolor": "#E5ECF6",
            "gridcolor": "white",
            "gridwidth": 2,
            "linecolor": "white",
            "showbackground": true,
            "ticks": "",
            "zerolinecolor": "white"
           },
           "zaxis": {
            "backgroundcolor": "#E5ECF6",
            "gridcolor": "white",
            "gridwidth": 2,
            "linecolor": "white",
            "showbackground": true,
            "ticks": "",
            "zerolinecolor": "white"
           }
          },
          "shapedefaults": {
           "line": {
            "color": "#2a3f5f"
           }
          },
          "ternary": {
           "aaxis": {
            "gridcolor": "white",
            "linecolor": "white",
            "ticks": ""
           },
           "baxis": {
            "gridcolor": "white",
            "linecolor": "white",
            "ticks": ""
           },
           "bgcolor": "#E5ECF6",
           "caxis": {
            "gridcolor": "white",
            "linecolor": "white",
            "ticks": ""
           }
          },
          "title": {
           "x": 0.05
          },
          "xaxis": {
           "automargin": true,
           "gridcolor": "white",
           "linecolor": "white",
           "ticks": "",
           "title": {
            "standoff": 15
           },
           "zerolinecolor": "white",
           "zerolinewidth": 2
          },
          "yaxis": {
           "automargin": true,
           "gridcolor": "white",
           "linecolor": "white",
           "ticks": "",
           "title": {
            "standoff": 15
           },
           "zerolinecolor": "white",
           "zerolinewidth": 2
          }
         }
        },
        "title": {
         "text": "Train and Test Loss during training"
        },
        "xaxis": {
         "title": {
          "text": "Epoch number"
         }
        },
        "yaxis": {
         "title": {
          "text": "Loss"
         }
        }
       }
      },
      "text/html": [
       "<div>\n",
       "        \n",
       "        \n",
       "            <div id=\"149fb3a3-30dd-4f33-b28b-047531505bbe\" class=\"plotly-graph-div\" style=\"height:525px; width:100%;\"></div>\n",
       "            <script type=\"text/javascript\">\n",
       "                require([\"plotly\"], function(Plotly) {\n",
       "                    window.PLOTLYENV=window.PLOTLYENV || {};\n",
       "                    \n",
       "                if (document.getElementById(\"149fb3a3-30dd-4f33-b28b-047531505bbe\")) {\n",
       "                    Plotly.newPlot(\n",
       "                        '149fb3a3-30dd-4f33-b28b-047531505bbe',\n",
       "                        [{\"line\": {\"color\": \"rgb(66, 244, 155)\", \"dash\": \"dash\", \"width\": 2}, \"mode\": \"lines\", \"name\": \"Train loss\", \"type\": \"scatter\", \"x\": [0, 1, 2, 3, 4, 5, 6, 7, 8, 9, 10, 11, 12, 13, 14, 15, 16, 17, 18, 19, 20, 21, 22, 23, 24], \"y\": [0.06582003444563815, 0.024150100473675235, 0.016412013488081603, 0.004941165291561196, 0.0007284561117515527, 0.000741623417007502, 0.0006396212070505562, 0.0006494287804518523, 0.0006496978177182153, 0.0006627883920127305, 0.0006858741847847982, 0.0007162400596429756, 0.0007537613306516192, 0.0007925501032850008, 0.0008306252451732876, 0.000864199439900537, 0.0008921680126754328, 0.0009138172894493927, 0.0009296644053994079, 0.0009406168086303458, 0.0009477562099059295, 0.0009521044188650179, 0.0009544478196461058, 0.0009553481468842218, 0.0009551562193177876]}, {\"line\": {\"color\": \"rgb(244, 146, 65)\", \"width\": 2}, \"mode\": \"lines\", \"name\": \"Test loss\", \"type\": \"scatter\", \"x\": [0, 1, 2, 3, 4, 5, 6, 7, 8, 9, 10, 11, 12, 13, 14, 15, 16, 17, 18, 19, 20, 21, 22, 23, 24], \"y\": [0.05268500997858532, 0.046861153222241644, 0.01913827294641632, 0.0025732190963827957, 0.0009662881611956884, 0.0012346690706119445, 0.0012939533443679496, 0.0014808754006526985, 0.0016109942107350897, 0.0018080867673033628, 0.0019861334595450406, 0.002187078648988726, 0.0023693630187693287, 0.002541875817923475, 0.002687740198857451, 0.002808324088958108, 0.0029010320105984553, 0.0029688931338615336, 0.0030151334299185015, 0.0030437006528284084, 0.0030583431668011313, 0.0030618210804601344, 0.0030561930034309626, 0.0030427655733932376, 0.0030223137651712207]}],\n",
       "                        {\"template\": {\"data\": {\"bar\": [{\"error_x\": {\"color\": \"#2a3f5f\"}, \"error_y\": {\"color\": \"#2a3f5f\"}, \"marker\": {\"line\": {\"color\": \"#E5ECF6\", \"width\": 0.5}}, \"type\": \"bar\"}], \"barpolar\": [{\"marker\": {\"line\": {\"color\": \"#E5ECF6\", \"width\": 0.5}}, \"type\": \"barpolar\"}], \"carpet\": [{\"aaxis\": {\"endlinecolor\": \"#2a3f5f\", \"gridcolor\": \"white\", \"linecolor\": \"white\", \"minorgridcolor\": \"white\", \"startlinecolor\": \"#2a3f5f\"}, \"baxis\": {\"endlinecolor\": \"#2a3f5f\", \"gridcolor\": \"white\", \"linecolor\": \"white\", \"minorgridcolor\": \"white\", \"startlinecolor\": \"#2a3f5f\"}, \"type\": \"carpet\"}], \"choropleth\": [{\"colorbar\": {\"outlinewidth\": 0, \"ticks\": \"\"}, \"type\": \"choropleth\"}], \"contour\": [{\"colorbar\": {\"outlinewidth\": 0, \"ticks\": \"\"}, \"colorscale\": [[0.0, \"#0d0887\"], [0.1111111111111111, \"#46039f\"], [0.2222222222222222, \"#7201a8\"], [0.3333333333333333, \"#9c179e\"], [0.4444444444444444, \"#bd3786\"], [0.5555555555555556, \"#d8576b\"], [0.6666666666666666, \"#ed7953\"], [0.7777777777777778, \"#fb9f3a\"], [0.8888888888888888, \"#fdca26\"], [1.0, \"#f0f921\"]], \"type\": \"contour\"}], \"contourcarpet\": [{\"colorbar\": {\"outlinewidth\": 0, \"ticks\": \"\"}, \"type\": \"contourcarpet\"}], \"heatmap\": [{\"colorbar\": {\"outlinewidth\": 0, \"ticks\": \"\"}, \"colorscale\": [[0.0, \"#0d0887\"], [0.1111111111111111, \"#46039f\"], [0.2222222222222222, \"#7201a8\"], [0.3333333333333333, \"#9c179e\"], [0.4444444444444444, \"#bd3786\"], [0.5555555555555556, \"#d8576b\"], [0.6666666666666666, \"#ed7953\"], [0.7777777777777778, \"#fb9f3a\"], [0.8888888888888888, \"#fdca26\"], [1.0, \"#f0f921\"]], \"type\": \"heatmap\"}], \"heatmapgl\": [{\"colorbar\": {\"outlinewidth\": 0, \"ticks\": \"\"}, \"colorscale\": [[0.0, \"#0d0887\"], [0.1111111111111111, \"#46039f\"], [0.2222222222222222, \"#7201a8\"], [0.3333333333333333, \"#9c179e\"], [0.4444444444444444, \"#bd3786\"], [0.5555555555555556, \"#d8576b\"], [0.6666666666666666, \"#ed7953\"], [0.7777777777777778, \"#fb9f3a\"], [0.8888888888888888, \"#fdca26\"], [1.0, \"#f0f921\"]], \"type\": \"heatmapgl\"}], \"histogram\": [{\"marker\": {\"colorbar\": {\"outlinewidth\": 0, \"ticks\": \"\"}}, \"type\": \"histogram\"}], \"histogram2d\": [{\"colorbar\": {\"outlinewidth\": 0, \"ticks\": \"\"}, \"colorscale\": [[0.0, \"#0d0887\"], [0.1111111111111111, \"#46039f\"], [0.2222222222222222, \"#7201a8\"], [0.3333333333333333, \"#9c179e\"], [0.4444444444444444, \"#bd3786\"], [0.5555555555555556, \"#d8576b\"], [0.6666666666666666, \"#ed7953\"], [0.7777777777777778, \"#fb9f3a\"], [0.8888888888888888, \"#fdca26\"], [1.0, \"#f0f921\"]], \"type\": \"histogram2d\"}], \"histogram2dcontour\": [{\"colorbar\": {\"outlinewidth\": 0, \"ticks\": \"\"}, \"colorscale\": [[0.0, \"#0d0887\"], [0.1111111111111111, \"#46039f\"], [0.2222222222222222, \"#7201a8\"], [0.3333333333333333, \"#9c179e\"], [0.4444444444444444, \"#bd3786\"], [0.5555555555555556, \"#d8576b\"], [0.6666666666666666, \"#ed7953\"], [0.7777777777777778, \"#fb9f3a\"], [0.8888888888888888, \"#fdca26\"], [1.0, \"#f0f921\"]], \"type\": \"histogram2dcontour\"}], \"mesh3d\": [{\"colorbar\": {\"outlinewidth\": 0, \"ticks\": \"\"}, \"type\": \"mesh3d\"}], \"parcoords\": [{\"line\": {\"colorbar\": {\"outlinewidth\": 0, \"ticks\": \"\"}}, \"type\": \"parcoords\"}], \"pie\": [{\"automargin\": true, \"type\": \"pie\"}], \"scatter\": [{\"marker\": {\"colorbar\": {\"outlinewidth\": 0, \"ticks\": \"\"}}, \"type\": \"scatter\"}], \"scatter3d\": [{\"line\": {\"colorbar\": {\"outlinewidth\": 0, \"ticks\": \"\"}}, \"marker\": {\"colorbar\": {\"outlinewidth\": 0, \"ticks\": \"\"}}, \"type\": \"scatter3d\"}], \"scattercarpet\": [{\"marker\": {\"colorbar\": {\"outlinewidth\": 0, \"ticks\": \"\"}}, \"type\": \"scattercarpet\"}], \"scattergeo\": [{\"marker\": {\"colorbar\": {\"outlinewidth\": 0, \"ticks\": \"\"}}, \"type\": \"scattergeo\"}], \"scattergl\": [{\"marker\": {\"colorbar\": {\"outlinewidth\": 0, \"ticks\": \"\"}}, \"type\": \"scattergl\"}], \"scattermapbox\": [{\"marker\": {\"colorbar\": {\"outlinewidth\": 0, \"ticks\": \"\"}}, \"type\": \"scattermapbox\"}], \"scatterpolar\": [{\"marker\": {\"colorbar\": {\"outlinewidth\": 0, \"ticks\": \"\"}}, \"type\": \"scatterpolar\"}], \"scatterpolargl\": [{\"marker\": {\"colorbar\": {\"outlinewidth\": 0, \"ticks\": \"\"}}, \"type\": \"scatterpolargl\"}], \"scatterternary\": [{\"marker\": {\"colorbar\": {\"outlinewidth\": 0, \"ticks\": \"\"}}, \"type\": \"scatterternary\"}], \"surface\": [{\"colorbar\": {\"outlinewidth\": 0, \"ticks\": \"\"}, \"colorscale\": [[0.0, \"#0d0887\"], [0.1111111111111111, \"#46039f\"], [0.2222222222222222, \"#7201a8\"], [0.3333333333333333, \"#9c179e\"], [0.4444444444444444, \"#bd3786\"], [0.5555555555555556, \"#d8576b\"], [0.6666666666666666, \"#ed7953\"], [0.7777777777777778, \"#fb9f3a\"], [0.8888888888888888, \"#fdca26\"], [1.0, \"#f0f921\"]], \"type\": \"surface\"}], \"table\": [{\"cells\": {\"fill\": {\"color\": \"#EBF0F8\"}, \"line\": {\"color\": \"white\"}}, \"header\": {\"fill\": {\"color\": \"#C8D4E3\"}, \"line\": {\"color\": \"white\"}}, \"type\": \"table\"}]}, \"layout\": {\"annotationdefaults\": {\"arrowcolor\": \"#2a3f5f\", \"arrowhead\": 0, \"arrowwidth\": 1}, \"coloraxis\": {\"colorbar\": {\"outlinewidth\": 0, \"ticks\": \"\"}}, \"colorscale\": {\"diverging\": [[0, \"#8e0152\"], [0.1, \"#c51b7d\"], [0.2, \"#de77ae\"], [0.3, \"#f1b6da\"], [0.4, \"#fde0ef\"], [0.5, \"#f7f7f7\"], [0.6, \"#e6f5d0\"], [0.7, \"#b8e186\"], [0.8, \"#7fbc41\"], [0.9, \"#4d9221\"], [1, \"#276419\"]], \"sequential\": [[0.0, \"#0d0887\"], [0.1111111111111111, \"#46039f\"], [0.2222222222222222, \"#7201a8\"], [0.3333333333333333, \"#9c179e\"], [0.4444444444444444, \"#bd3786\"], [0.5555555555555556, \"#d8576b\"], [0.6666666666666666, \"#ed7953\"], [0.7777777777777778, \"#fb9f3a\"], [0.8888888888888888, \"#fdca26\"], [1.0, \"#f0f921\"]], \"sequentialminus\": [[0.0, \"#0d0887\"], [0.1111111111111111, \"#46039f\"], [0.2222222222222222, \"#7201a8\"], [0.3333333333333333, \"#9c179e\"], [0.4444444444444444, \"#bd3786\"], [0.5555555555555556, \"#d8576b\"], [0.6666666666666666, \"#ed7953\"], [0.7777777777777778, \"#fb9f3a\"], [0.8888888888888888, \"#fdca26\"], [1.0, \"#f0f921\"]]}, \"colorway\": [\"#636efa\", \"#EF553B\", \"#00cc96\", \"#ab63fa\", \"#FFA15A\", \"#19d3f3\", \"#FF6692\", \"#B6E880\", \"#FF97FF\", \"#FECB52\"], \"font\": {\"color\": \"#2a3f5f\"}, \"geo\": {\"bgcolor\": \"white\", \"lakecolor\": \"white\", \"landcolor\": \"#E5ECF6\", \"showlakes\": true, \"showland\": true, \"subunitcolor\": \"white\"}, \"hoverlabel\": {\"align\": \"left\"}, \"hovermode\": \"closest\", \"mapbox\": {\"style\": \"light\"}, \"paper_bgcolor\": \"white\", \"plot_bgcolor\": \"#E5ECF6\", \"polar\": {\"angularaxis\": {\"gridcolor\": \"white\", \"linecolor\": \"white\", \"ticks\": \"\"}, \"bgcolor\": \"#E5ECF6\", \"radialaxis\": {\"gridcolor\": \"white\", \"linecolor\": \"white\", \"ticks\": \"\"}}, \"scene\": {\"xaxis\": {\"backgroundcolor\": \"#E5ECF6\", \"gridcolor\": \"white\", \"gridwidth\": 2, \"linecolor\": \"white\", \"showbackground\": true, \"ticks\": \"\", \"zerolinecolor\": \"white\"}, \"yaxis\": {\"backgroundcolor\": \"#E5ECF6\", \"gridcolor\": \"white\", \"gridwidth\": 2, \"linecolor\": \"white\", \"showbackground\": true, \"ticks\": \"\", \"zerolinecolor\": \"white\"}, \"zaxis\": {\"backgroundcolor\": \"#E5ECF6\", \"gridcolor\": \"white\", \"gridwidth\": 2, \"linecolor\": \"white\", \"showbackground\": true, \"ticks\": \"\", \"zerolinecolor\": \"white\"}}, \"shapedefaults\": {\"line\": {\"color\": \"#2a3f5f\"}}, \"ternary\": {\"aaxis\": {\"gridcolor\": \"white\", \"linecolor\": \"white\", \"ticks\": \"\"}, \"baxis\": {\"gridcolor\": \"white\", \"linecolor\": \"white\", \"ticks\": \"\"}, \"bgcolor\": \"#E5ECF6\", \"caxis\": {\"gridcolor\": \"white\", \"linecolor\": \"white\", \"ticks\": \"\"}}, \"title\": {\"x\": 0.05}, \"xaxis\": {\"automargin\": true, \"gridcolor\": \"white\", \"linecolor\": \"white\", \"ticks\": \"\", \"title\": {\"standoff\": 15}, \"zerolinecolor\": \"white\", \"zerolinewidth\": 2}, \"yaxis\": {\"automargin\": true, \"gridcolor\": \"white\", \"linecolor\": \"white\", \"ticks\": \"\", \"title\": {\"standoff\": 15}, \"zerolinecolor\": \"white\", \"zerolinewidth\": 2}}}, \"title\": {\"text\": \"Train and Test Loss during training\"}, \"xaxis\": {\"title\": {\"text\": \"Epoch number\"}}, \"yaxis\": {\"title\": {\"text\": \"Loss\"}}},\n",
       "                        {\"responsive\": true}\n",
       "                    ).then(function(){\n",
       "                            \n",
       "var gd = document.getElementById('149fb3a3-30dd-4f33-b28b-047531505bbe');\n",
       "var x = new MutationObserver(function (mutations, observer) {{\n",
       "        var display = window.getComputedStyle(gd).display;\n",
       "        if (!display || display === 'none') {{\n",
       "            console.log([gd, 'removed!']);\n",
       "            Plotly.purge(gd);\n",
       "            observer.disconnect();\n",
       "        }}\n",
       "}});\n",
       "\n",
       "// Listen for the removal of the full notebook cells\n",
       "var notebookContainer = gd.closest('#notebook-container');\n",
       "if (notebookContainer) {{\n",
       "    x.observe(notebookContainer, {childList: true});\n",
       "}}\n",
       "\n",
       "// Listen for the clearing of the current output cell\n",
       "var outputEl = gd.closest('.output');\n",
       "if (outputEl) {{\n",
       "    x.observe(outputEl, {childList: true});\n",
       "}}\n",
       "\n",
       "                        })\n",
       "                };\n",
       "                });\n",
       "            </script>\n",
       "        </div>"
      ]
     },
     "metadata": {},
     "output_type": "display_data"
    }
   ],
   "source": [
    "trace1 = go.Scatter(\n",
    "    x = np.arange(0, len(history.history['loss']), 1),\n",
    "    y = history.history['loss'],\n",
    "    mode = 'lines',\n",
    "    name = 'Train loss',\n",
    "    line = dict(color=('rgb(66, 244, 155)'), width=2, dash='dash')\n",
    ")\n",
    "trace2 = go.Scatter(\n",
    "    x = np.arange(0, len(history.history['val_loss']), 1),\n",
    "    y = history.history['val_loss'],\n",
    "    mode = 'lines',\n",
    "    name = 'Test loss',\n",
    "    line = dict(color=('rgb(244, 146, 65)'), width=2)\n",
    ")\n",
    "\n",
    "data = [trace1, trace2]\n",
    "layout = dict(title = 'Train and Test Loss during training', \n",
    "              xaxis = dict(title = 'Epoch number'), yaxis = dict(title = 'Loss'))\n",
    "fig = dict(data=data, layout=layout)\n",
    "py.iplot(fig, filename='training_process')"
   ]
  },
  {
   "cell_type": "markdown",
   "metadata": {
    "_cell_guid": "5a9c8869-97da-49d4-8bda-0a2844359a68",
    "_uuid": "28ba5854e7e9ff7449a11e8ac809bd078fc52101"
   },
   "source": [
    "We trained our model. You can see that it has good performance even after several iterations. On the plot above, we compare the Train and Test loss on each iteration of the training process. We can see, that after some iterations train and test loss become very similar, which is a good sign (this means we are not overfitting the train set). \n",
    "Below, we use our model to **predict labels for the test set**. Then we inverse original scale of our data. You can see a comparison of true and predicted labels on the chart below. It looks like our model gives good results (lines are very similar)!"
   ]
  },
  {
   "cell_type": "code",
   "execution_count": 17,
   "metadata": {
    "_cell_guid": "f45ff786-e272-4c0b-8327-db25cde237fb",
    "_uuid": "e7245ec9aab788530d749b3855424cc154e1dc59"
   },
   "outputs": [],
   "source": [
    "# add one additional data point to align shapes of the predictions and true labels\n",
    "#X_test = np.append(X_test, scaler.transform(working_data.iloc[-1][0]))\n",
    "X_test = np.append(X_test, scaler.transform(working_data.iloc[-1][0].reshape(1, 1)))\n",
    "X_test = np.reshape(X_test, (len(X_test), 1, 1))\n",
    "\n",
    "# get predictions and then make some transformations to be able to calculate RMSE properly in USD\n",
    "prediction = model.predict(X_test)\n",
    "prediction_inverse = scaler.inverse_transform(prediction.reshape(-1, 1))\n",
    "Y_test_inverse = scaler.inverse_transform(Y_test.reshape(-1, 1))\n",
    "prediction2_inverse = np.array(prediction_inverse[:,0][1:])\n",
    "Y_test2_inverse = np.array(Y_test_inverse[:,0])"
   ]
  },
  {
   "cell_type": "code",
   "execution_count": 18,
   "metadata": {
    "_cell_guid": "136cbe49-8e76-4149-afbe-1e3d19ed23d1",
    "_uuid": "5b07c4ceb60eac5e125580cd41db26191c4695cf"
   },
   "outputs": [
    {
     "data": {
      "application/vnd.plotly.v1+json": {
       "config": {
        "linkText": "Export to plot.ly",
        "plotlyServerURL": "https://plot.ly",
        "showLink": false
       },
       "data": [
        {
         "hoverlabel": {
          "namelength": -1
         },
         "line": {
          "color": "rgb(244, 146, 65)",
          "width": 2
         },
         "mode": "lines",
         "name": "Predicted price",
         "type": "scatter",
         "x": [
          0,
          1,
          2,
          3,
          4,
          5,
          6,
          7,
          8,
          9,
          10,
          11,
          12,
          13,
          14,
          15,
          16,
          17,
          18,
          19,
          20,
          21,
          22,
          23,
          24,
          25,
          26,
          27,
          28,
          29,
          30,
          31,
          32,
          33,
          34,
          35,
          36,
          37,
          38,
          39,
          40,
          41,
          42,
          43,
          44,
          45,
          46,
          47,
          48,
          49,
          50,
          51,
          52,
          53,
          54,
          55,
          56,
          57,
          58
         ],
         "y": [
          8211.0234375,
          8538.6083984375,
          8664.1611328125,
          8589.6923828125,
          8585.685546875,
          8769.134765625,
          9171.05859375,
          10004.05859375,
          10024.076171875,
          10114.6708984375,
          10540.8125,
          11756.521484375,
          10986.8056640625,
          10872.4052734375,
          11032.4443359375,
          10747.4560546875,
          9971.0107421875,
          9623.521484375,
          10567.5830078125,
          10945.1337890625,
          10380.3896484375,
          10631.494140625,
          10536.861328125,
          10977.1826171875,
          11637.169921875,
          11761.3037109375,
          10784.6640625,
          10785.7607421875,
          10643.55078125,
          10123.90234375,
          9725.888671875,
          9670.216796875,
          8969.951171875,
          9398.3486328125,
          9775.708984375,
          9963.7294921875,
          9870.8095703125,
          9755.5634765625,
          9413.251953125,
          9082.2451171875,
          9364.8349609375,
          9147.015625,
          9105.2392578125,
          8887.0390625,
          8935.8447265625,
          8936.8046875,
          9221.619140625,
          9426.2041015625,
          9778.0791015625,
          10058.44921875,
          10091.13671875,
          10869.0478515625,
          10943.798828125,
          10901.732421875,
          10983.806640625,
          11000.2578125,
          10780.5029296875,
          10597.658203125,
          10745.5390625
         ]
        },
        {
         "line": {
          "color": "rgb(66, 244, 155)",
          "width": 2
         },
         "mode": "lines",
         "name": "True price",
         "type": "scatter",
         "x": [
          0,
          1,
          2,
          3,
          4,
          5,
          6,
          7,
          8,
          9,
          10,
          11,
          12,
          13,
          14,
          15,
          16,
          17,
          18,
          19,
          20,
          21,
          22,
          23,
          24,
          25,
          26,
          27,
          28,
          29,
          30,
          31,
          32,
          33,
          34,
          35,
          36,
          37,
          38,
          39,
          40,
          41,
          42,
          43,
          44,
          45,
          46,
          47,
          48,
          49,
          50,
          51,
          52,
          53,
          54,
          55,
          56,
          57,
          58
         ],
         "y": [
          8727.687036371799,
          9095.289101530452,
          9235.846432505909,
          9152.500069336686,
          9148.01395901445,
          9353.22648559646,
          9801.48601844826,
          10724.80500475833,
          10746.900511013211,
          10846.846268886118,
          11315.817028152782,
          12643.58268406806,
          11804.629165520822,
          11679.43835006045,
          11854.537295204322,
          11542.5519109653,
          10688.316669892505,
          10303.947255003688,
          11345.214704756921,
          11759.042504677078,
          11139.493770149711,
          11415.369265018257,
          11311.47674802796,
          11794.10358029435,
          12513.87310001388,
          12648.77722987224,
          11583.33114395624,
          11584.53226697636,
          11428.597803701208,
          10857.026633891062,
          10417.313950106387,
          10355.675152687822,
          9577.424253618532,
          10054.174637386332,
          10472.448828593731,
          10680.276549055909,
          10577.614454422597,
          10450.157570706906,
          10070.725015713168,
          9702.591536684673,
          10016.952398913825,
          9774.724239339514,
          9728.204527019083,
          9484.914105643693,
          9539.378363609236,
          9540.448916710371,
          9857.746978877933,
          10085.104546979139,
          10475.070739547555,
          10784.832144716522,
          10820.892324169692,
          11675.761776815854,
          11757.580574404436,
          11711.54347617361,
          11801.34874174219,
          11819.34219296096,
          11578.771028918314,
          11378.232876254124,
          11540.450291
         ]
        }
       ],
       "layout": {
        "template": {
         "data": {
          "bar": [
           {
            "error_x": {
             "color": "#2a3f5f"
            },
            "error_y": {
             "color": "#2a3f5f"
            },
            "marker": {
             "line": {
              "color": "#E5ECF6",
              "width": 0.5
             }
            },
            "type": "bar"
           }
          ],
          "barpolar": [
           {
            "marker": {
             "line": {
              "color": "#E5ECF6",
              "width": 0.5
             }
            },
            "type": "barpolar"
           }
          ],
          "carpet": [
           {
            "aaxis": {
             "endlinecolor": "#2a3f5f",
             "gridcolor": "white",
             "linecolor": "white",
             "minorgridcolor": "white",
             "startlinecolor": "#2a3f5f"
            },
            "baxis": {
             "endlinecolor": "#2a3f5f",
             "gridcolor": "white",
             "linecolor": "white",
             "minorgridcolor": "white",
             "startlinecolor": "#2a3f5f"
            },
            "type": "carpet"
           }
          ],
          "choropleth": [
           {
            "colorbar": {
             "outlinewidth": 0,
             "ticks": ""
            },
            "type": "choropleth"
           }
          ],
          "contour": [
           {
            "colorbar": {
             "outlinewidth": 0,
             "ticks": ""
            },
            "colorscale": [
             [
              0,
              "#0d0887"
             ],
             [
              0.1111111111111111,
              "#46039f"
             ],
             [
              0.2222222222222222,
              "#7201a8"
             ],
             [
              0.3333333333333333,
              "#9c179e"
             ],
             [
              0.4444444444444444,
              "#bd3786"
             ],
             [
              0.5555555555555556,
              "#d8576b"
             ],
             [
              0.6666666666666666,
              "#ed7953"
             ],
             [
              0.7777777777777778,
              "#fb9f3a"
             ],
             [
              0.8888888888888888,
              "#fdca26"
             ],
             [
              1,
              "#f0f921"
             ]
            ],
            "type": "contour"
           }
          ],
          "contourcarpet": [
           {
            "colorbar": {
             "outlinewidth": 0,
             "ticks": ""
            },
            "type": "contourcarpet"
           }
          ],
          "heatmap": [
           {
            "colorbar": {
             "outlinewidth": 0,
             "ticks": ""
            },
            "colorscale": [
             [
              0,
              "#0d0887"
             ],
             [
              0.1111111111111111,
              "#46039f"
             ],
             [
              0.2222222222222222,
              "#7201a8"
             ],
             [
              0.3333333333333333,
              "#9c179e"
             ],
             [
              0.4444444444444444,
              "#bd3786"
             ],
             [
              0.5555555555555556,
              "#d8576b"
             ],
             [
              0.6666666666666666,
              "#ed7953"
             ],
             [
              0.7777777777777778,
              "#fb9f3a"
             ],
             [
              0.8888888888888888,
              "#fdca26"
             ],
             [
              1,
              "#f0f921"
             ]
            ],
            "type": "heatmap"
           }
          ],
          "heatmapgl": [
           {
            "colorbar": {
             "outlinewidth": 0,
             "ticks": ""
            },
            "colorscale": [
             [
              0,
              "#0d0887"
             ],
             [
              0.1111111111111111,
              "#46039f"
             ],
             [
              0.2222222222222222,
              "#7201a8"
             ],
             [
              0.3333333333333333,
              "#9c179e"
             ],
             [
              0.4444444444444444,
              "#bd3786"
             ],
             [
              0.5555555555555556,
              "#d8576b"
             ],
             [
              0.6666666666666666,
              "#ed7953"
             ],
             [
              0.7777777777777778,
              "#fb9f3a"
             ],
             [
              0.8888888888888888,
              "#fdca26"
             ],
             [
              1,
              "#f0f921"
             ]
            ],
            "type": "heatmapgl"
           }
          ],
          "histogram": [
           {
            "marker": {
             "colorbar": {
              "outlinewidth": 0,
              "ticks": ""
             }
            },
            "type": "histogram"
           }
          ],
          "histogram2d": [
           {
            "colorbar": {
             "outlinewidth": 0,
             "ticks": ""
            },
            "colorscale": [
             [
              0,
              "#0d0887"
             ],
             [
              0.1111111111111111,
              "#46039f"
             ],
             [
              0.2222222222222222,
              "#7201a8"
             ],
             [
              0.3333333333333333,
              "#9c179e"
             ],
             [
              0.4444444444444444,
              "#bd3786"
             ],
             [
              0.5555555555555556,
              "#d8576b"
             ],
             [
              0.6666666666666666,
              "#ed7953"
             ],
             [
              0.7777777777777778,
              "#fb9f3a"
             ],
             [
              0.8888888888888888,
              "#fdca26"
             ],
             [
              1,
              "#f0f921"
             ]
            ],
            "type": "histogram2d"
           }
          ],
          "histogram2dcontour": [
           {
            "colorbar": {
             "outlinewidth": 0,
             "ticks": ""
            },
            "colorscale": [
             [
              0,
              "#0d0887"
             ],
             [
              0.1111111111111111,
              "#46039f"
             ],
             [
              0.2222222222222222,
              "#7201a8"
             ],
             [
              0.3333333333333333,
              "#9c179e"
             ],
             [
              0.4444444444444444,
              "#bd3786"
             ],
             [
              0.5555555555555556,
              "#d8576b"
             ],
             [
              0.6666666666666666,
              "#ed7953"
             ],
             [
              0.7777777777777778,
              "#fb9f3a"
             ],
             [
              0.8888888888888888,
              "#fdca26"
             ],
             [
              1,
              "#f0f921"
             ]
            ],
            "type": "histogram2dcontour"
           }
          ],
          "mesh3d": [
           {
            "colorbar": {
             "outlinewidth": 0,
             "ticks": ""
            },
            "type": "mesh3d"
           }
          ],
          "parcoords": [
           {
            "line": {
             "colorbar": {
              "outlinewidth": 0,
              "ticks": ""
             }
            },
            "type": "parcoords"
           }
          ],
          "pie": [
           {
            "automargin": true,
            "type": "pie"
           }
          ],
          "scatter": [
           {
            "marker": {
             "colorbar": {
              "outlinewidth": 0,
              "ticks": ""
             }
            },
            "type": "scatter"
           }
          ],
          "scatter3d": [
           {
            "line": {
             "colorbar": {
              "outlinewidth": 0,
              "ticks": ""
             }
            },
            "marker": {
             "colorbar": {
              "outlinewidth": 0,
              "ticks": ""
             }
            },
            "type": "scatter3d"
           }
          ],
          "scattercarpet": [
           {
            "marker": {
             "colorbar": {
              "outlinewidth": 0,
              "ticks": ""
             }
            },
            "type": "scattercarpet"
           }
          ],
          "scattergeo": [
           {
            "marker": {
             "colorbar": {
              "outlinewidth": 0,
              "ticks": ""
             }
            },
            "type": "scattergeo"
           }
          ],
          "scattergl": [
           {
            "marker": {
             "colorbar": {
              "outlinewidth": 0,
              "ticks": ""
             }
            },
            "type": "scattergl"
           }
          ],
          "scattermapbox": [
           {
            "marker": {
             "colorbar": {
              "outlinewidth": 0,
              "ticks": ""
             }
            },
            "type": "scattermapbox"
           }
          ],
          "scatterpolar": [
           {
            "marker": {
             "colorbar": {
              "outlinewidth": 0,
              "ticks": ""
             }
            },
            "type": "scatterpolar"
           }
          ],
          "scatterpolargl": [
           {
            "marker": {
             "colorbar": {
              "outlinewidth": 0,
              "ticks": ""
             }
            },
            "type": "scatterpolargl"
           }
          ],
          "scatterternary": [
           {
            "marker": {
             "colorbar": {
              "outlinewidth": 0,
              "ticks": ""
             }
            },
            "type": "scatterternary"
           }
          ],
          "surface": [
           {
            "colorbar": {
             "outlinewidth": 0,
             "ticks": ""
            },
            "colorscale": [
             [
              0,
              "#0d0887"
             ],
             [
              0.1111111111111111,
              "#46039f"
             ],
             [
              0.2222222222222222,
              "#7201a8"
             ],
             [
              0.3333333333333333,
              "#9c179e"
             ],
             [
              0.4444444444444444,
              "#bd3786"
             ],
             [
              0.5555555555555556,
              "#d8576b"
             ],
             [
              0.6666666666666666,
              "#ed7953"
             ],
             [
              0.7777777777777778,
              "#fb9f3a"
             ],
             [
              0.8888888888888888,
              "#fdca26"
             ],
             [
              1,
              "#f0f921"
             ]
            ],
            "type": "surface"
           }
          ],
          "table": [
           {
            "cells": {
             "fill": {
              "color": "#EBF0F8"
             },
             "line": {
              "color": "white"
             }
            },
            "header": {
             "fill": {
              "color": "#C8D4E3"
             },
             "line": {
              "color": "white"
             }
            },
            "type": "table"
           }
          ]
         },
         "layout": {
          "annotationdefaults": {
           "arrowcolor": "#2a3f5f",
           "arrowhead": 0,
           "arrowwidth": 1
          },
          "coloraxis": {
           "colorbar": {
            "outlinewidth": 0,
            "ticks": ""
           }
          },
          "colorscale": {
           "diverging": [
            [
             0,
             "#8e0152"
            ],
            [
             0.1,
             "#c51b7d"
            ],
            [
             0.2,
             "#de77ae"
            ],
            [
             0.3,
             "#f1b6da"
            ],
            [
             0.4,
             "#fde0ef"
            ],
            [
             0.5,
             "#f7f7f7"
            ],
            [
             0.6,
             "#e6f5d0"
            ],
            [
             0.7,
             "#b8e186"
            ],
            [
             0.8,
             "#7fbc41"
            ],
            [
             0.9,
             "#4d9221"
            ],
            [
             1,
             "#276419"
            ]
           ],
           "sequential": [
            [
             0,
             "#0d0887"
            ],
            [
             0.1111111111111111,
             "#46039f"
            ],
            [
             0.2222222222222222,
             "#7201a8"
            ],
            [
             0.3333333333333333,
             "#9c179e"
            ],
            [
             0.4444444444444444,
             "#bd3786"
            ],
            [
             0.5555555555555556,
             "#d8576b"
            ],
            [
             0.6666666666666666,
             "#ed7953"
            ],
            [
             0.7777777777777778,
             "#fb9f3a"
            ],
            [
             0.8888888888888888,
             "#fdca26"
            ],
            [
             1,
             "#f0f921"
            ]
           ],
           "sequentialminus": [
            [
             0,
             "#0d0887"
            ],
            [
             0.1111111111111111,
             "#46039f"
            ],
            [
             0.2222222222222222,
             "#7201a8"
            ],
            [
             0.3333333333333333,
             "#9c179e"
            ],
            [
             0.4444444444444444,
             "#bd3786"
            ],
            [
             0.5555555555555556,
             "#d8576b"
            ],
            [
             0.6666666666666666,
             "#ed7953"
            ],
            [
             0.7777777777777778,
             "#fb9f3a"
            ],
            [
             0.8888888888888888,
             "#fdca26"
            ],
            [
             1,
             "#f0f921"
            ]
           ]
          },
          "colorway": [
           "#636efa",
           "#EF553B",
           "#00cc96",
           "#ab63fa",
           "#FFA15A",
           "#19d3f3",
           "#FF6692",
           "#B6E880",
           "#FF97FF",
           "#FECB52"
          ],
          "font": {
           "color": "#2a3f5f"
          },
          "geo": {
           "bgcolor": "white",
           "lakecolor": "white",
           "landcolor": "#E5ECF6",
           "showlakes": true,
           "showland": true,
           "subunitcolor": "white"
          },
          "hoverlabel": {
           "align": "left"
          },
          "hovermode": "closest",
          "mapbox": {
           "style": "light"
          },
          "paper_bgcolor": "white",
          "plot_bgcolor": "#E5ECF6",
          "polar": {
           "angularaxis": {
            "gridcolor": "white",
            "linecolor": "white",
            "ticks": ""
           },
           "bgcolor": "#E5ECF6",
           "radialaxis": {
            "gridcolor": "white",
            "linecolor": "white",
            "ticks": ""
           }
          },
          "scene": {
           "xaxis": {
            "backgroundcolor": "#E5ECF6",
            "gridcolor": "white",
            "gridwidth": 2,
            "linecolor": "white",
            "showbackground": true,
            "ticks": "",
            "zerolinecolor": "white"
           },
           "yaxis": {
            "backgroundcolor": "#E5ECF6",
            "gridcolor": "white",
            "gridwidth": 2,
            "linecolor": "white",
            "showbackground": true,
            "ticks": "",
            "zerolinecolor": "white"
           },
           "zaxis": {
            "backgroundcolor": "#E5ECF6",
            "gridcolor": "white",
            "gridwidth": 2,
            "linecolor": "white",
            "showbackground": true,
            "ticks": "",
            "zerolinecolor": "white"
           }
          },
          "shapedefaults": {
           "line": {
            "color": "#2a3f5f"
           }
          },
          "ternary": {
           "aaxis": {
            "gridcolor": "white",
            "linecolor": "white",
            "ticks": ""
           },
           "baxis": {
            "gridcolor": "white",
            "linecolor": "white",
            "ticks": ""
           },
           "bgcolor": "#E5ECF6",
           "caxis": {
            "gridcolor": "white",
            "linecolor": "white",
            "ticks": ""
           }
          },
          "title": {
           "x": 0.05
          },
          "xaxis": {
           "automargin": true,
           "gridcolor": "white",
           "linecolor": "white",
           "ticks": "",
           "title": {
            "standoff": 15
           },
           "zerolinecolor": "white",
           "zerolinewidth": 2
          },
          "yaxis": {
           "automargin": true,
           "gridcolor": "white",
           "linecolor": "white",
           "ticks": "",
           "title": {
            "standoff": 15
           },
           "zerolinecolor": "white",
           "zerolinewidth": 2
          }
         }
        },
        "title": {
         "text": "Comparison of true prices (on the test dataset) with prices our model predicted"
        },
        "xaxis": {
         "title": {
          "text": "Day number"
         }
        },
        "yaxis": {
         "title": {
          "text": "Price, USD"
         }
        }
       }
      },
      "text/html": [
       "<div>\n",
       "        \n",
       "        \n",
       "            <div id=\"0776fadb-2dcb-4a41-9298-592abf8c6b00\" class=\"plotly-graph-div\" style=\"height:525px; width:100%;\"></div>\n",
       "            <script type=\"text/javascript\">\n",
       "                require([\"plotly\"], function(Plotly) {\n",
       "                    window.PLOTLYENV=window.PLOTLYENV || {};\n",
       "                    \n",
       "                if (document.getElementById(\"0776fadb-2dcb-4a41-9298-592abf8c6b00\")) {\n",
       "                    Plotly.newPlot(\n",
       "                        '0776fadb-2dcb-4a41-9298-592abf8c6b00',\n",
       "                        [{\"hoverlabel\": {\"namelength\": -1}, \"line\": {\"color\": \"rgb(244, 146, 65)\", \"width\": 2}, \"mode\": \"lines\", \"name\": \"Predicted price\", \"type\": \"scatter\", \"x\": [0, 1, 2, 3, 4, 5, 6, 7, 8, 9, 10, 11, 12, 13, 14, 15, 16, 17, 18, 19, 20, 21, 22, 23, 24, 25, 26, 27, 28, 29, 30, 31, 32, 33, 34, 35, 36, 37, 38, 39, 40, 41, 42, 43, 44, 45, 46, 47, 48, 49, 50, 51, 52, 53, 54, 55, 56, 57, 58], \"y\": [8211.0234375, 8538.6083984375, 8664.1611328125, 8589.6923828125, 8585.685546875, 8769.134765625, 9171.05859375, 10004.05859375, 10024.076171875, 10114.6708984375, 10540.8125, 11756.521484375, 10986.8056640625, 10872.4052734375, 11032.4443359375, 10747.4560546875, 9971.0107421875, 9623.521484375, 10567.5830078125, 10945.1337890625, 10380.3896484375, 10631.494140625, 10536.861328125, 10977.1826171875, 11637.169921875, 11761.3037109375, 10784.6640625, 10785.7607421875, 10643.55078125, 10123.90234375, 9725.888671875, 9670.216796875, 8969.951171875, 9398.3486328125, 9775.708984375, 9963.7294921875, 9870.8095703125, 9755.5634765625, 9413.251953125, 9082.2451171875, 9364.8349609375, 9147.015625, 9105.2392578125, 8887.0390625, 8935.8447265625, 8936.8046875, 9221.619140625, 9426.2041015625, 9778.0791015625, 10058.44921875, 10091.13671875, 10869.0478515625, 10943.798828125, 10901.732421875, 10983.806640625, 11000.2578125, 10780.5029296875, 10597.658203125, 10745.5390625]}, {\"line\": {\"color\": \"rgb(66, 244, 155)\", \"width\": 2}, \"mode\": \"lines\", \"name\": \"True price\", \"type\": \"scatter\", \"x\": [0, 1, 2, 3, 4, 5, 6, 7, 8, 9, 10, 11, 12, 13, 14, 15, 16, 17, 18, 19, 20, 21, 22, 23, 24, 25, 26, 27, 28, 29, 30, 31, 32, 33, 34, 35, 36, 37, 38, 39, 40, 41, 42, 43, 44, 45, 46, 47, 48, 49, 50, 51, 52, 53, 54, 55, 56, 57, 58], \"y\": [8727.687036371799, 9095.289101530452, 9235.846432505909, 9152.500069336686, 9148.01395901445, 9353.22648559646, 9801.48601844826, 10724.80500475833, 10746.900511013211, 10846.846268886118, 11315.817028152782, 12643.58268406806, 11804.629165520822, 11679.43835006045, 11854.537295204322, 11542.5519109653, 10688.316669892505, 10303.947255003688, 11345.214704756921, 11759.042504677078, 11139.493770149711, 11415.369265018257, 11311.47674802796, 11794.10358029435, 12513.87310001388, 12648.77722987224, 11583.33114395624, 11584.53226697636, 11428.597803701208, 10857.026633891062, 10417.313950106387, 10355.675152687822, 9577.424253618532, 10054.174637386332, 10472.448828593731, 10680.276549055909, 10577.614454422597, 10450.157570706906, 10070.725015713168, 9702.591536684673, 10016.952398913825, 9774.724239339514, 9728.204527019083, 9484.914105643693, 9539.378363609236, 9540.448916710371, 9857.746978877933, 10085.104546979139, 10475.070739547555, 10784.832144716522, 10820.892324169692, 11675.761776815854, 11757.580574404436, 11711.54347617361, 11801.34874174219, 11819.34219296096, 11578.771028918314, 11378.232876254124, 11540.450291]}],\n",
       "                        {\"template\": {\"data\": {\"bar\": [{\"error_x\": {\"color\": \"#2a3f5f\"}, \"error_y\": {\"color\": \"#2a3f5f\"}, \"marker\": {\"line\": {\"color\": \"#E5ECF6\", \"width\": 0.5}}, \"type\": \"bar\"}], \"barpolar\": [{\"marker\": {\"line\": {\"color\": \"#E5ECF6\", \"width\": 0.5}}, \"type\": \"barpolar\"}], \"carpet\": [{\"aaxis\": {\"endlinecolor\": \"#2a3f5f\", \"gridcolor\": \"white\", \"linecolor\": \"white\", \"minorgridcolor\": \"white\", \"startlinecolor\": \"#2a3f5f\"}, \"baxis\": {\"endlinecolor\": \"#2a3f5f\", \"gridcolor\": \"white\", \"linecolor\": \"white\", \"minorgridcolor\": \"white\", \"startlinecolor\": \"#2a3f5f\"}, \"type\": \"carpet\"}], \"choropleth\": [{\"colorbar\": {\"outlinewidth\": 0, \"ticks\": \"\"}, \"type\": \"choropleth\"}], \"contour\": [{\"colorbar\": {\"outlinewidth\": 0, \"ticks\": \"\"}, \"colorscale\": [[0.0, \"#0d0887\"], [0.1111111111111111, \"#46039f\"], [0.2222222222222222, \"#7201a8\"], [0.3333333333333333, \"#9c179e\"], [0.4444444444444444, \"#bd3786\"], [0.5555555555555556, \"#d8576b\"], [0.6666666666666666, \"#ed7953\"], [0.7777777777777778, \"#fb9f3a\"], [0.8888888888888888, \"#fdca26\"], [1.0, \"#f0f921\"]], \"type\": \"contour\"}], \"contourcarpet\": [{\"colorbar\": {\"outlinewidth\": 0, \"ticks\": \"\"}, \"type\": \"contourcarpet\"}], \"heatmap\": [{\"colorbar\": {\"outlinewidth\": 0, \"ticks\": \"\"}, \"colorscale\": [[0.0, \"#0d0887\"], [0.1111111111111111, \"#46039f\"], [0.2222222222222222, \"#7201a8\"], [0.3333333333333333, \"#9c179e\"], [0.4444444444444444, \"#bd3786\"], [0.5555555555555556, \"#d8576b\"], [0.6666666666666666, \"#ed7953\"], [0.7777777777777778, \"#fb9f3a\"], [0.8888888888888888, \"#fdca26\"], [1.0, \"#f0f921\"]], \"type\": \"heatmap\"}], \"heatmapgl\": [{\"colorbar\": {\"outlinewidth\": 0, \"ticks\": \"\"}, \"colorscale\": [[0.0, \"#0d0887\"], [0.1111111111111111, \"#46039f\"], [0.2222222222222222, \"#7201a8\"], [0.3333333333333333, \"#9c179e\"], [0.4444444444444444, \"#bd3786\"], [0.5555555555555556, \"#d8576b\"], [0.6666666666666666, \"#ed7953\"], [0.7777777777777778, \"#fb9f3a\"], [0.8888888888888888, \"#fdca26\"], [1.0, \"#f0f921\"]], \"type\": \"heatmapgl\"}], \"histogram\": [{\"marker\": {\"colorbar\": {\"outlinewidth\": 0, \"ticks\": \"\"}}, \"type\": \"histogram\"}], \"histogram2d\": [{\"colorbar\": {\"outlinewidth\": 0, \"ticks\": \"\"}, \"colorscale\": [[0.0, \"#0d0887\"], [0.1111111111111111, \"#46039f\"], [0.2222222222222222, \"#7201a8\"], [0.3333333333333333, \"#9c179e\"], [0.4444444444444444, \"#bd3786\"], [0.5555555555555556, \"#d8576b\"], [0.6666666666666666, \"#ed7953\"], [0.7777777777777778, \"#fb9f3a\"], [0.8888888888888888, \"#fdca26\"], [1.0, \"#f0f921\"]], \"type\": \"histogram2d\"}], \"histogram2dcontour\": [{\"colorbar\": {\"outlinewidth\": 0, \"ticks\": \"\"}, \"colorscale\": [[0.0, \"#0d0887\"], [0.1111111111111111, \"#46039f\"], [0.2222222222222222, \"#7201a8\"], [0.3333333333333333, \"#9c179e\"], [0.4444444444444444, \"#bd3786\"], [0.5555555555555556, \"#d8576b\"], [0.6666666666666666, \"#ed7953\"], [0.7777777777777778, \"#fb9f3a\"], [0.8888888888888888, \"#fdca26\"], [1.0, \"#f0f921\"]], \"type\": \"histogram2dcontour\"}], \"mesh3d\": [{\"colorbar\": {\"outlinewidth\": 0, \"ticks\": \"\"}, \"type\": \"mesh3d\"}], \"parcoords\": [{\"line\": {\"colorbar\": {\"outlinewidth\": 0, \"ticks\": \"\"}}, \"type\": \"parcoords\"}], \"pie\": [{\"automargin\": true, \"type\": \"pie\"}], \"scatter\": [{\"marker\": {\"colorbar\": {\"outlinewidth\": 0, \"ticks\": \"\"}}, \"type\": \"scatter\"}], \"scatter3d\": [{\"line\": {\"colorbar\": {\"outlinewidth\": 0, \"ticks\": \"\"}}, \"marker\": {\"colorbar\": {\"outlinewidth\": 0, \"ticks\": \"\"}}, \"type\": \"scatter3d\"}], \"scattercarpet\": [{\"marker\": {\"colorbar\": {\"outlinewidth\": 0, \"ticks\": \"\"}}, \"type\": \"scattercarpet\"}], \"scattergeo\": [{\"marker\": {\"colorbar\": {\"outlinewidth\": 0, \"ticks\": \"\"}}, \"type\": \"scattergeo\"}], \"scattergl\": [{\"marker\": {\"colorbar\": {\"outlinewidth\": 0, \"ticks\": \"\"}}, \"type\": \"scattergl\"}], \"scattermapbox\": [{\"marker\": {\"colorbar\": {\"outlinewidth\": 0, \"ticks\": \"\"}}, \"type\": \"scattermapbox\"}], \"scatterpolar\": [{\"marker\": {\"colorbar\": {\"outlinewidth\": 0, \"ticks\": \"\"}}, \"type\": \"scatterpolar\"}], \"scatterpolargl\": [{\"marker\": {\"colorbar\": {\"outlinewidth\": 0, \"ticks\": \"\"}}, \"type\": \"scatterpolargl\"}], \"scatterternary\": [{\"marker\": {\"colorbar\": {\"outlinewidth\": 0, \"ticks\": \"\"}}, \"type\": \"scatterternary\"}], \"surface\": [{\"colorbar\": {\"outlinewidth\": 0, \"ticks\": \"\"}, \"colorscale\": [[0.0, \"#0d0887\"], [0.1111111111111111, \"#46039f\"], [0.2222222222222222, \"#7201a8\"], [0.3333333333333333, \"#9c179e\"], [0.4444444444444444, \"#bd3786\"], [0.5555555555555556, \"#d8576b\"], [0.6666666666666666, \"#ed7953\"], [0.7777777777777778, \"#fb9f3a\"], [0.8888888888888888, \"#fdca26\"], [1.0, \"#f0f921\"]], \"type\": \"surface\"}], \"table\": [{\"cells\": {\"fill\": {\"color\": \"#EBF0F8\"}, \"line\": {\"color\": \"white\"}}, \"header\": {\"fill\": {\"color\": \"#C8D4E3\"}, \"line\": {\"color\": \"white\"}}, \"type\": \"table\"}]}, \"layout\": {\"annotationdefaults\": {\"arrowcolor\": \"#2a3f5f\", \"arrowhead\": 0, \"arrowwidth\": 1}, \"coloraxis\": {\"colorbar\": {\"outlinewidth\": 0, \"ticks\": \"\"}}, \"colorscale\": {\"diverging\": [[0, \"#8e0152\"], [0.1, \"#c51b7d\"], [0.2, \"#de77ae\"], [0.3, \"#f1b6da\"], [0.4, \"#fde0ef\"], [0.5, \"#f7f7f7\"], [0.6, \"#e6f5d0\"], [0.7, \"#b8e186\"], [0.8, \"#7fbc41\"], [0.9, \"#4d9221\"], [1, \"#276419\"]], \"sequential\": [[0.0, \"#0d0887\"], [0.1111111111111111, \"#46039f\"], [0.2222222222222222, \"#7201a8\"], [0.3333333333333333, \"#9c179e\"], [0.4444444444444444, \"#bd3786\"], [0.5555555555555556, \"#d8576b\"], [0.6666666666666666, \"#ed7953\"], [0.7777777777777778, \"#fb9f3a\"], [0.8888888888888888, \"#fdca26\"], [1.0, \"#f0f921\"]], \"sequentialminus\": [[0.0, \"#0d0887\"], [0.1111111111111111, \"#46039f\"], [0.2222222222222222, \"#7201a8\"], [0.3333333333333333, \"#9c179e\"], [0.4444444444444444, \"#bd3786\"], [0.5555555555555556, \"#d8576b\"], [0.6666666666666666, \"#ed7953\"], [0.7777777777777778, \"#fb9f3a\"], [0.8888888888888888, \"#fdca26\"], [1.0, \"#f0f921\"]]}, \"colorway\": [\"#636efa\", \"#EF553B\", \"#00cc96\", \"#ab63fa\", \"#FFA15A\", \"#19d3f3\", \"#FF6692\", \"#B6E880\", \"#FF97FF\", \"#FECB52\"], \"font\": {\"color\": \"#2a3f5f\"}, \"geo\": {\"bgcolor\": \"white\", \"lakecolor\": \"white\", \"landcolor\": \"#E5ECF6\", \"showlakes\": true, \"showland\": true, \"subunitcolor\": \"white\"}, \"hoverlabel\": {\"align\": \"left\"}, \"hovermode\": \"closest\", \"mapbox\": {\"style\": \"light\"}, \"paper_bgcolor\": \"white\", \"plot_bgcolor\": \"#E5ECF6\", \"polar\": {\"angularaxis\": {\"gridcolor\": \"white\", \"linecolor\": \"white\", \"ticks\": \"\"}, \"bgcolor\": \"#E5ECF6\", \"radialaxis\": {\"gridcolor\": \"white\", \"linecolor\": \"white\", \"ticks\": \"\"}}, \"scene\": {\"xaxis\": {\"backgroundcolor\": \"#E5ECF6\", \"gridcolor\": \"white\", \"gridwidth\": 2, \"linecolor\": \"white\", \"showbackground\": true, \"ticks\": \"\", \"zerolinecolor\": \"white\"}, \"yaxis\": {\"backgroundcolor\": \"#E5ECF6\", \"gridcolor\": \"white\", \"gridwidth\": 2, \"linecolor\": \"white\", \"showbackground\": true, \"ticks\": \"\", \"zerolinecolor\": \"white\"}, \"zaxis\": {\"backgroundcolor\": \"#E5ECF6\", \"gridcolor\": \"white\", \"gridwidth\": 2, \"linecolor\": \"white\", \"showbackground\": true, \"ticks\": \"\", \"zerolinecolor\": \"white\"}}, \"shapedefaults\": {\"line\": {\"color\": \"#2a3f5f\"}}, \"ternary\": {\"aaxis\": {\"gridcolor\": \"white\", \"linecolor\": \"white\", \"ticks\": \"\"}, \"baxis\": {\"gridcolor\": \"white\", \"linecolor\": \"white\", \"ticks\": \"\"}, \"bgcolor\": \"#E5ECF6\", \"caxis\": {\"gridcolor\": \"white\", \"linecolor\": \"white\", \"ticks\": \"\"}}, \"title\": {\"x\": 0.05}, \"xaxis\": {\"automargin\": true, \"gridcolor\": \"white\", \"linecolor\": \"white\", \"ticks\": \"\", \"title\": {\"standoff\": 15}, \"zerolinecolor\": \"white\", \"zerolinewidth\": 2}, \"yaxis\": {\"automargin\": true, \"gridcolor\": \"white\", \"linecolor\": \"white\", \"ticks\": \"\", \"title\": {\"standoff\": 15}, \"zerolinecolor\": \"white\", \"zerolinewidth\": 2}}}, \"title\": {\"text\": \"Comparison of true prices (on the test dataset) with prices our model predicted\"}, \"xaxis\": {\"title\": {\"text\": \"Day number\"}}, \"yaxis\": {\"title\": {\"text\": \"Price, USD\"}}},\n",
       "                        {\"responsive\": true}\n",
       "                    ).then(function(){\n",
       "                            \n",
       "var gd = document.getElementById('0776fadb-2dcb-4a41-9298-592abf8c6b00');\n",
       "var x = new MutationObserver(function (mutations, observer) {{\n",
       "        var display = window.getComputedStyle(gd).display;\n",
       "        if (!display || display === 'none') {{\n",
       "            console.log([gd, 'removed!']);\n",
       "            Plotly.purge(gd);\n",
       "            observer.disconnect();\n",
       "        }}\n",
       "}});\n",
       "\n",
       "// Listen for the removal of the full notebook cells\n",
       "var notebookContainer = gd.closest('#notebook-container');\n",
       "if (notebookContainer) {{\n",
       "    x.observe(notebookContainer, {childList: true});\n",
       "}}\n",
       "\n",
       "// Listen for the clearing of the current output cell\n",
       "var outputEl = gd.closest('.output');\n",
       "if (outputEl) {{\n",
       "    x.observe(outputEl, {childList: true});\n",
       "}}\n",
       "\n",
       "                        })\n",
       "                };\n",
       "                });\n",
       "            </script>\n",
       "        </div>"
      ]
     },
     "metadata": {},
     "output_type": "display_data"
    }
   ],
   "source": [
    "trace1 = go.Scatter(\n",
    "    x = np.arange(0, len(prediction2_inverse), 1),\n",
    "    y = prediction2_inverse,\n",
    "    mode = 'lines',\n",
    "    name = 'Predicted price',\n",
    "    hoverlabel= dict(namelength=-1),\n",
    "    line = dict(color=('rgb(244, 146, 65)'), width=2)\n",
    ")\n",
    "trace2 = go.Scatter(\n",
    "    x = np.arange(0, len(Y_test2_inverse), 1),\n",
    "    y = Y_test2_inverse,\n",
    "    mode = 'lines',\n",
    "    name = 'True price',\n",
    "    line = dict(color=('rgb(66, 244, 155)'), width=2)\n",
    ")\n",
    "\n",
    "data = [trace1, trace2]\n",
    "layout = dict(title = 'Comparison of true prices (on the test dataset) with prices our model predicted',\n",
    "             xaxis = dict(title = 'Day number'), yaxis = dict(title = 'Price, USD'))\n",
    "fig = dict(data=data, layout=layout)\n",
    "py.iplot(fig, filename='results_demonstrating0')"
   ]
  },
  {
   "cell_type": "markdown",
   "metadata": {
    "_cell_guid": "dfd3f55a-35cf-41c0-8857-63366b915a3f",
    "_uuid": "9f93e523bddca19c8dc95da07d70fde44b3512ee"
   },
   "source": [
    "Below we calculated the **root mean squared error** ([RMSE](https://en.wikipedia.org/wiki/Root-mean-square_deviation)). The meaning of this indicator is what  is the average distance between predicted points on the test set and the actual (true) labels. In other words, it shows the extent of our error. The less this number, the better. We can see, that our model's RMSE is not very big (consider that the price in our data set is in thousands of USD, and we are mistaken only by tens of USD)."
   ]
  },
  {
   "cell_type": "code",
   "execution_count": 19,
   "metadata": {
    "_cell_guid": "f9a48bfc-2b01-4029-8493-3a502bab6de3",
    "_uuid": "b0df1b97b4ac3cf42ea1996771ff9b37466d434c"
   },
   "outputs": [
    {
     "name": "stdout",
     "output_type": "stream",
     "text": [
      "Test RMSE: 724.480\n"
     ]
    }
   ],
   "source": [
    "RMSE = sqrt(mean_squared_error(Y_test2_inverse, prediction2_inverse))\n",
    "print('Test RMSE: %.3f' % RMSE)"
   ]
  },
  {
   "cell_type": "markdown",
   "metadata": {
    "_cell_guid": "26cdf67f-1c0a-4887-9fb8-06413ec61427",
    "_uuid": "cbcd8120a1d96ab758cc03072a658e45c46994fc",
    "collapsed": true
   },
   "source": [
    "Below we extract the convenient format of dates and plot the same chart as above, but with these dates on the X-axis. "
   ]
  },
  {
   "cell_type": "code",
   "execution_count": 20,
   "metadata": {
    "_cell_guid": "66070cca-b765-47f1-90e1-9627acdd747e",
    "_uuid": "6ba9a2815831491b5f6c9065e9a436309467f5ff"
   },
   "outputs": [
    {
     "data": {
      "application/vnd.plotly.v1+json": {
       "config": {
        "linkText": "Export to plot.ly",
        "plotlyServerURL": "https://plot.ly",
        "showLink": false
       },
       "data": [
        {
         "line": {
          "color": "rgb(66, 244, 155)",
          "width": 2
         },
         "name": "Actual Price",
         "type": "scatter",
         "x": [
          "2019-06-13",
          "2019-06-14",
          "2019-06-15",
          "2019-06-16",
          "2019-06-17",
          "2019-06-18",
          "2019-06-19",
          "2019-06-20",
          "2019-06-21",
          "2019-06-22",
          "2019-06-23",
          "2019-06-24",
          "2019-06-25",
          "2019-06-26",
          "2019-06-27",
          "2019-06-28",
          "2019-06-29",
          "2019-06-30",
          "2019-07-01",
          "2019-07-02",
          "2019-07-03",
          "2019-07-04",
          "2019-07-05",
          "2019-07-06",
          "2019-07-07",
          "2019-07-08",
          "2019-07-09",
          "2019-07-10",
          "2019-07-11",
          "2019-07-12",
          "2019-07-13",
          "2019-07-14",
          "2019-07-15",
          "2019-07-16",
          "2019-07-17",
          "2019-07-18",
          "2019-07-19",
          "2019-07-20",
          "2019-07-21",
          "2019-07-22",
          "2019-07-23",
          "2019-07-24",
          "2019-07-25",
          "2019-07-26",
          "2019-07-27",
          "2019-07-28",
          "2019-07-29",
          "2019-07-30",
          "2019-07-31",
          "2019-08-01",
          "2019-08-02",
          "2019-08-03",
          "2019-08-04",
          "2019-08-05",
          "2019-08-06",
          "2019-08-07",
          "2019-08-08",
          "2019-08-09",
          "2019-08-10",
          "2019-08-11",
          "2019-08-12"
         ],
         "y": [
          8727.687036371799,
          9095.289101530452,
          9235.846432505909,
          9152.500069336686,
          9148.01395901445,
          9353.22648559646,
          9801.48601844826,
          10724.80500475833,
          10746.900511013211,
          10846.846268886118,
          11315.817028152782,
          12643.58268406806,
          11804.629165520822,
          11679.43835006045,
          11854.537295204322,
          11542.5519109653,
          10688.316669892505,
          10303.947255003688,
          11345.214704756921,
          11759.042504677078,
          11139.493770149711,
          11415.369265018257,
          11311.47674802796,
          11794.10358029435,
          12513.87310001388,
          12648.77722987224,
          11583.33114395624,
          11584.53226697636,
          11428.597803701208,
          10857.026633891062,
          10417.313950106387,
          10355.675152687822,
          9577.424253618532,
          10054.174637386332,
          10472.448828593731,
          10680.276549055909,
          10577.614454422597,
          10450.157570706906,
          10070.725015713168,
          9702.591536684673,
          10016.952398913825,
          9774.724239339514,
          9728.204527019083,
          9484.914105643693,
          9539.378363609236,
          9540.448916710371,
          9857.746978877933,
          10085.104546979139,
          10475.070739547555,
          10784.832144716522,
          10820.892324169692,
          11675.761776815854,
          11757.580574404436,
          11711.54347617361,
          11801.34874174219,
          11819.34219296096,
          11578.771028918314,
          11378.232876254124,
          11540.450291
         ]
        },
        {
         "line": {
          "color": "rgb(244, 146, 65)",
          "width": 2
         },
         "name": "Predicted Price",
         "type": "scatter",
         "x": [
          "2019-06-13",
          "2019-06-14",
          "2019-06-15",
          "2019-06-16",
          "2019-06-17",
          "2019-06-18",
          "2019-06-19",
          "2019-06-20",
          "2019-06-21",
          "2019-06-22",
          "2019-06-23",
          "2019-06-24",
          "2019-06-25",
          "2019-06-26",
          "2019-06-27",
          "2019-06-28",
          "2019-06-29",
          "2019-06-30",
          "2019-07-01",
          "2019-07-02",
          "2019-07-03",
          "2019-07-04",
          "2019-07-05",
          "2019-07-06",
          "2019-07-07",
          "2019-07-08",
          "2019-07-09",
          "2019-07-10",
          "2019-07-11",
          "2019-07-12",
          "2019-07-13",
          "2019-07-14",
          "2019-07-15",
          "2019-07-16",
          "2019-07-17",
          "2019-07-18",
          "2019-07-19",
          "2019-07-20",
          "2019-07-21",
          "2019-07-22",
          "2019-07-23",
          "2019-07-24",
          "2019-07-25",
          "2019-07-26",
          "2019-07-27",
          "2019-07-28",
          "2019-07-29",
          "2019-07-30",
          "2019-07-31",
          "2019-08-01",
          "2019-08-02",
          "2019-08-03",
          "2019-08-04",
          "2019-08-05",
          "2019-08-06",
          "2019-08-07",
          "2019-08-08",
          "2019-08-09",
          "2019-08-10",
          "2019-08-11",
          "2019-08-12"
         ],
         "y": [
          8211.0234375,
          8538.6083984375,
          8664.1611328125,
          8589.6923828125,
          8585.685546875,
          8769.134765625,
          9171.05859375,
          10004.05859375,
          10024.076171875,
          10114.6708984375,
          10540.8125,
          11756.521484375,
          10986.8056640625,
          10872.4052734375,
          11032.4443359375,
          10747.4560546875,
          9971.0107421875,
          9623.521484375,
          10567.5830078125,
          10945.1337890625,
          10380.3896484375,
          10631.494140625,
          10536.861328125,
          10977.1826171875,
          11637.169921875,
          11761.3037109375,
          10784.6640625,
          10785.7607421875,
          10643.55078125,
          10123.90234375,
          9725.888671875,
          9670.216796875,
          8969.951171875,
          9398.3486328125,
          9775.708984375,
          9963.7294921875,
          9870.8095703125,
          9755.5634765625,
          9413.251953125,
          9082.2451171875,
          9364.8349609375,
          9147.015625,
          9105.2392578125,
          8887.0390625,
          8935.8447265625,
          8936.8046875,
          9221.619140625,
          9426.2041015625,
          9778.0791015625,
          10058.44921875,
          10091.13671875,
          10869.0478515625,
          10943.798828125,
          10901.732421875,
          10983.806640625,
          11000.2578125,
          10780.5029296875,
          10597.658203125,
          10745.5390625
         ]
        }
       ],
       "layout": {
        "template": {
         "data": {
          "bar": [
           {
            "error_x": {
             "color": "#2a3f5f"
            },
            "error_y": {
             "color": "#2a3f5f"
            },
            "marker": {
             "line": {
              "color": "#E5ECF6",
              "width": 0.5
             }
            },
            "type": "bar"
           }
          ],
          "barpolar": [
           {
            "marker": {
             "line": {
              "color": "#E5ECF6",
              "width": 0.5
             }
            },
            "type": "barpolar"
           }
          ],
          "carpet": [
           {
            "aaxis": {
             "endlinecolor": "#2a3f5f",
             "gridcolor": "white",
             "linecolor": "white",
             "minorgridcolor": "white",
             "startlinecolor": "#2a3f5f"
            },
            "baxis": {
             "endlinecolor": "#2a3f5f",
             "gridcolor": "white",
             "linecolor": "white",
             "minorgridcolor": "white",
             "startlinecolor": "#2a3f5f"
            },
            "type": "carpet"
           }
          ],
          "choropleth": [
           {
            "colorbar": {
             "outlinewidth": 0,
             "ticks": ""
            },
            "type": "choropleth"
           }
          ],
          "contour": [
           {
            "colorbar": {
             "outlinewidth": 0,
             "ticks": ""
            },
            "colorscale": [
             [
              0,
              "#0d0887"
             ],
             [
              0.1111111111111111,
              "#46039f"
             ],
             [
              0.2222222222222222,
              "#7201a8"
             ],
             [
              0.3333333333333333,
              "#9c179e"
             ],
             [
              0.4444444444444444,
              "#bd3786"
             ],
             [
              0.5555555555555556,
              "#d8576b"
             ],
             [
              0.6666666666666666,
              "#ed7953"
             ],
             [
              0.7777777777777778,
              "#fb9f3a"
             ],
             [
              0.8888888888888888,
              "#fdca26"
             ],
             [
              1,
              "#f0f921"
             ]
            ],
            "type": "contour"
           }
          ],
          "contourcarpet": [
           {
            "colorbar": {
             "outlinewidth": 0,
             "ticks": ""
            },
            "type": "contourcarpet"
           }
          ],
          "heatmap": [
           {
            "colorbar": {
             "outlinewidth": 0,
             "ticks": ""
            },
            "colorscale": [
             [
              0,
              "#0d0887"
             ],
             [
              0.1111111111111111,
              "#46039f"
             ],
             [
              0.2222222222222222,
              "#7201a8"
             ],
             [
              0.3333333333333333,
              "#9c179e"
             ],
             [
              0.4444444444444444,
              "#bd3786"
             ],
             [
              0.5555555555555556,
              "#d8576b"
             ],
             [
              0.6666666666666666,
              "#ed7953"
             ],
             [
              0.7777777777777778,
              "#fb9f3a"
             ],
             [
              0.8888888888888888,
              "#fdca26"
             ],
             [
              1,
              "#f0f921"
             ]
            ],
            "type": "heatmap"
           }
          ],
          "heatmapgl": [
           {
            "colorbar": {
             "outlinewidth": 0,
             "ticks": ""
            },
            "colorscale": [
             [
              0,
              "#0d0887"
             ],
             [
              0.1111111111111111,
              "#46039f"
             ],
             [
              0.2222222222222222,
              "#7201a8"
             ],
             [
              0.3333333333333333,
              "#9c179e"
             ],
             [
              0.4444444444444444,
              "#bd3786"
             ],
             [
              0.5555555555555556,
              "#d8576b"
             ],
             [
              0.6666666666666666,
              "#ed7953"
             ],
             [
              0.7777777777777778,
              "#fb9f3a"
             ],
             [
              0.8888888888888888,
              "#fdca26"
             ],
             [
              1,
              "#f0f921"
             ]
            ],
            "type": "heatmapgl"
           }
          ],
          "histogram": [
           {
            "marker": {
             "colorbar": {
              "outlinewidth": 0,
              "ticks": ""
             }
            },
            "type": "histogram"
           }
          ],
          "histogram2d": [
           {
            "colorbar": {
             "outlinewidth": 0,
             "ticks": ""
            },
            "colorscale": [
             [
              0,
              "#0d0887"
             ],
             [
              0.1111111111111111,
              "#46039f"
             ],
             [
              0.2222222222222222,
              "#7201a8"
             ],
             [
              0.3333333333333333,
              "#9c179e"
             ],
             [
              0.4444444444444444,
              "#bd3786"
             ],
             [
              0.5555555555555556,
              "#d8576b"
             ],
             [
              0.6666666666666666,
              "#ed7953"
             ],
             [
              0.7777777777777778,
              "#fb9f3a"
             ],
             [
              0.8888888888888888,
              "#fdca26"
             ],
             [
              1,
              "#f0f921"
             ]
            ],
            "type": "histogram2d"
           }
          ],
          "histogram2dcontour": [
           {
            "colorbar": {
             "outlinewidth": 0,
             "ticks": ""
            },
            "colorscale": [
             [
              0,
              "#0d0887"
             ],
             [
              0.1111111111111111,
              "#46039f"
             ],
             [
              0.2222222222222222,
              "#7201a8"
             ],
             [
              0.3333333333333333,
              "#9c179e"
             ],
             [
              0.4444444444444444,
              "#bd3786"
             ],
             [
              0.5555555555555556,
              "#d8576b"
             ],
             [
              0.6666666666666666,
              "#ed7953"
             ],
             [
              0.7777777777777778,
              "#fb9f3a"
             ],
             [
              0.8888888888888888,
              "#fdca26"
             ],
             [
              1,
              "#f0f921"
             ]
            ],
            "type": "histogram2dcontour"
           }
          ],
          "mesh3d": [
           {
            "colorbar": {
             "outlinewidth": 0,
             "ticks": ""
            },
            "type": "mesh3d"
           }
          ],
          "parcoords": [
           {
            "line": {
             "colorbar": {
              "outlinewidth": 0,
              "ticks": ""
             }
            },
            "type": "parcoords"
           }
          ],
          "pie": [
           {
            "automargin": true,
            "type": "pie"
           }
          ],
          "scatter": [
           {
            "marker": {
             "colorbar": {
              "outlinewidth": 0,
              "ticks": ""
             }
            },
            "type": "scatter"
           }
          ],
          "scatter3d": [
           {
            "line": {
             "colorbar": {
              "outlinewidth": 0,
              "ticks": ""
             }
            },
            "marker": {
             "colorbar": {
              "outlinewidth": 0,
              "ticks": ""
             }
            },
            "type": "scatter3d"
           }
          ],
          "scattercarpet": [
           {
            "marker": {
             "colorbar": {
              "outlinewidth": 0,
              "ticks": ""
             }
            },
            "type": "scattercarpet"
           }
          ],
          "scattergeo": [
           {
            "marker": {
             "colorbar": {
              "outlinewidth": 0,
              "ticks": ""
             }
            },
            "type": "scattergeo"
           }
          ],
          "scattergl": [
           {
            "marker": {
             "colorbar": {
              "outlinewidth": 0,
              "ticks": ""
             }
            },
            "type": "scattergl"
           }
          ],
          "scattermapbox": [
           {
            "marker": {
             "colorbar": {
              "outlinewidth": 0,
              "ticks": ""
             }
            },
            "type": "scattermapbox"
           }
          ],
          "scatterpolar": [
           {
            "marker": {
             "colorbar": {
              "outlinewidth": 0,
              "ticks": ""
             }
            },
            "type": "scatterpolar"
           }
          ],
          "scatterpolargl": [
           {
            "marker": {
             "colorbar": {
              "outlinewidth": 0,
              "ticks": ""
             }
            },
            "type": "scatterpolargl"
           }
          ],
          "scatterternary": [
           {
            "marker": {
             "colorbar": {
              "outlinewidth": 0,
              "ticks": ""
             }
            },
            "type": "scatterternary"
           }
          ],
          "surface": [
           {
            "colorbar": {
             "outlinewidth": 0,
             "ticks": ""
            },
            "colorscale": [
             [
              0,
              "#0d0887"
             ],
             [
              0.1111111111111111,
              "#46039f"
             ],
             [
              0.2222222222222222,
              "#7201a8"
             ],
             [
              0.3333333333333333,
              "#9c179e"
             ],
             [
              0.4444444444444444,
              "#bd3786"
             ],
             [
              0.5555555555555556,
              "#d8576b"
             ],
             [
              0.6666666666666666,
              "#ed7953"
             ],
             [
              0.7777777777777778,
              "#fb9f3a"
             ],
             [
              0.8888888888888888,
              "#fdca26"
             ],
             [
              1,
              "#f0f921"
             ]
            ],
            "type": "surface"
           }
          ],
          "table": [
           {
            "cells": {
             "fill": {
              "color": "#EBF0F8"
             },
             "line": {
              "color": "white"
             }
            },
            "header": {
             "fill": {
              "color": "#C8D4E3"
             },
             "line": {
              "color": "white"
             }
            },
            "type": "table"
           }
          ]
         },
         "layout": {
          "annotationdefaults": {
           "arrowcolor": "#2a3f5f",
           "arrowhead": 0,
           "arrowwidth": 1
          },
          "coloraxis": {
           "colorbar": {
            "outlinewidth": 0,
            "ticks": ""
           }
          },
          "colorscale": {
           "diverging": [
            [
             0,
             "#8e0152"
            ],
            [
             0.1,
             "#c51b7d"
            ],
            [
             0.2,
             "#de77ae"
            ],
            [
             0.3,
             "#f1b6da"
            ],
            [
             0.4,
             "#fde0ef"
            ],
            [
             0.5,
             "#f7f7f7"
            ],
            [
             0.6,
             "#e6f5d0"
            ],
            [
             0.7,
             "#b8e186"
            ],
            [
             0.8,
             "#7fbc41"
            ],
            [
             0.9,
             "#4d9221"
            ],
            [
             1,
             "#276419"
            ]
           ],
           "sequential": [
            [
             0,
             "#0d0887"
            ],
            [
             0.1111111111111111,
             "#46039f"
            ],
            [
             0.2222222222222222,
             "#7201a8"
            ],
            [
             0.3333333333333333,
             "#9c179e"
            ],
            [
             0.4444444444444444,
             "#bd3786"
            ],
            [
             0.5555555555555556,
             "#d8576b"
            ],
            [
             0.6666666666666666,
             "#ed7953"
            ],
            [
             0.7777777777777778,
             "#fb9f3a"
            ],
            [
             0.8888888888888888,
             "#fdca26"
            ],
            [
             1,
             "#f0f921"
            ]
           ],
           "sequentialminus": [
            [
             0,
             "#0d0887"
            ],
            [
             0.1111111111111111,
             "#46039f"
            ],
            [
             0.2222222222222222,
             "#7201a8"
            ],
            [
             0.3333333333333333,
             "#9c179e"
            ],
            [
             0.4444444444444444,
             "#bd3786"
            ],
            [
             0.5555555555555556,
             "#d8576b"
            ],
            [
             0.6666666666666666,
             "#ed7953"
            ],
            [
             0.7777777777777778,
             "#fb9f3a"
            ],
            [
             0.8888888888888888,
             "#fdca26"
            ],
            [
             1,
             "#f0f921"
            ]
           ]
          },
          "colorway": [
           "#636efa",
           "#EF553B",
           "#00cc96",
           "#ab63fa",
           "#FFA15A",
           "#19d3f3",
           "#FF6692",
           "#B6E880",
           "#FF97FF",
           "#FECB52"
          ],
          "font": {
           "color": "#2a3f5f"
          },
          "geo": {
           "bgcolor": "white",
           "lakecolor": "white",
           "landcolor": "#E5ECF6",
           "showlakes": true,
           "showland": true,
           "subunitcolor": "white"
          },
          "hoverlabel": {
           "align": "left"
          },
          "hovermode": "closest",
          "mapbox": {
           "style": "light"
          },
          "paper_bgcolor": "white",
          "plot_bgcolor": "#E5ECF6",
          "polar": {
           "angularaxis": {
            "gridcolor": "white",
            "linecolor": "white",
            "ticks": ""
           },
           "bgcolor": "#E5ECF6",
           "radialaxis": {
            "gridcolor": "white",
            "linecolor": "white",
            "ticks": ""
           }
          },
          "scene": {
           "xaxis": {
            "backgroundcolor": "#E5ECF6",
            "gridcolor": "white",
            "gridwidth": 2,
            "linecolor": "white",
            "showbackground": true,
            "ticks": "",
            "zerolinecolor": "white"
           },
           "yaxis": {
            "backgroundcolor": "#E5ECF6",
            "gridcolor": "white",
            "gridwidth": 2,
            "linecolor": "white",
            "showbackground": true,
            "ticks": "",
            "zerolinecolor": "white"
           },
           "zaxis": {
            "backgroundcolor": "#E5ECF6",
            "gridcolor": "white",
            "gridwidth": 2,
            "linecolor": "white",
            "showbackground": true,
            "ticks": "",
            "zerolinecolor": "white"
           }
          },
          "shapedefaults": {
           "line": {
            "color": "#2a3f5f"
           }
          },
          "ternary": {
           "aaxis": {
            "gridcolor": "white",
            "linecolor": "white",
            "ticks": ""
           },
           "baxis": {
            "gridcolor": "white",
            "linecolor": "white",
            "ticks": ""
           },
           "bgcolor": "#E5ECF6",
           "caxis": {
            "gridcolor": "white",
            "linecolor": "white",
            "ticks": ""
           }
          },
          "title": {
           "x": 0.05
          },
          "xaxis": {
           "automargin": true,
           "gridcolor": "white",
           "linecolor": "white",
           "ticks": "",
           "title": {
            "standoff": 15
           },
           "zerolinecolor": "white",
           "zerolinewidth": 2
          },
          "yaxis": {
           "automargin": true,
           "gridcolor": "white",
           "linecolor": "white",
           "ticks": "",
           "title": {
            "standoff": 15
           },
           "zerolinecolor": "white",
           "zerolinewidth": 2
          }
         }
        },
        "title": {
         "text": "Comparison of true prices (on the test dataset) with prices our model predicted, by dates"
        },
        "xaxis": {
         "title": {
          "text": "Date"
         }
        },
        "yaxis": {
         "title": {
          "text": "Price, USD"
         }
        }
       }
      },
      "text/html": [
       "<div>\n",
       "        \n",
       "        \n",
       "            <div id=\"8d2845b1-a4b4-460d-a42e-3c4b40609c56\" class=\"plotly-graph-div\" style=\"height:525px; width:100%;\"></div>\n",
       "            <script type=\"text/javascript\">\n",
       "                require([\"plotly\"], function(Plotly) {\n",
       "                    window.PLOTLYENV=window.PLOTLYENV || {};\n",
       "                    \n",
       "                if (document.getElementById(\"8d2845b1-a4b4-460d-a42e-3c4b40609c56\")) {\n",
       "                    Plotly.newPlot(\n",
       "                        '8d2845b1-a4b4-460d-a42e-3c4b40609c56',\n",
       "                        [{\"line\": {\"color\": \"rgb(66, 244, 155)\", \"width\": 2}, \"name\": \"Actual Price\", \"type\": \"scatter\", \"x\": [\"2019-06-13\", \"2019-06-14\", \"2019-06-15\", \"2019-06-16\", \"2019-06-17\", \"2019-06-18\", \"2019-06-19\", \"2019-06-20\", \"2019-06-21\", \"2019-06-22\", \"2019-06-23\", \"2019-06-24\", \"2019-06-25\", \"2019-06-26\", \"2019-06-27\", \"2019-06-28\", \"2019-06-29\", \"2019-06-30\", \"2019-07-01\", \"2019-07-02\", \"2019-07-03\", \"2019-07-04\", \"2019-07-05\", \"2019-07-06\", \"2019-07-07\", \"2019-07-08\", \"2019-07-09\", \"2019-07-10\", \"2019-07-11\", \"2019-07-12\", \"2019-07-13\", \"2019-07-14\", \"2019-07-15\", \"2019-07-16\", \"2019-07-17\", \"2019-07-18\", \"2019-07-19\", \"2019-07-20\", \"2019-07-21\", \"2019-07-22\", \"2019-07-23\", \"2019-07-24\", \"2019-07-25\", \"2019-07-26\", \"2019-07-27\", \"2019-07-28\", \"2019-07-29\", \"2019-07-30\", \"2019-07-31\", \"2019-08-01\", \"2019-08-02\", \"2019-08-03\", \"2019-08-04\", \"2019-08-05\", \"2019-08-06\", \"2019-08-07\", \"2019-08-08\", \"2019-08-09\", \"2019-08-10\", \"2019-08-11\", \"2019-08-12\"], \"y\": [8727.687036371799, 9095.289101530452, 9235.846432505909, 9152.500069336686, 9148.01395901445, 9353.22648559646, 9801.48601844826, 10724.80500475833, 10746.900511013211, 10846.846268886118, 11315.817028152782, 12643.58268406806, 11804.629165520822, 11679.43835006045, 11854.537295204322, 11542.5519109653, 10688.316669892505, 10303.947255003688, 11345.214704756921, 11759.042504677078, 11139.493770149711, 11415.369265018257, 11311.47674802796, 11794.10358029435, 12513.87310001388, 12648.77722987224, 11583.33114395624, 11584.53226697636, 11428.597803701208, 10857.026633891062, 10417.313950106387, 10355.675152687822, 9577.424253618532, 10054.174637386332, 10472.448828593731, 10680.276549055909, 10577.614454422597, 10450.157570706906, 10070.725015713168, 9702.591536684673, 10016.952398913825, 9774.724239339514, 9728.204527019083, 9484.914105643693, 9539.378363609236, 9540.448916710371, 9857.746978877933, 10085.104546979139, 10475.070739547555, 10784.832144716522, 10820.892324169692, 11675.761776815854, 11757.580574404436, 11711.54347617361, 11801.34874174219, 11819.34219296096, 11578.771028918314, 11378.232876254124, 11540.450291]}, {\"line\": {\"color\": \"rgb(244, 146, 65)\", \"width\": 2}, \"name\": \"Predicted Price\", \"type\": \"scatter\", \"x\": [\"2019-06-13\", \"2019-06-14\", \"2019-06-15\", \"2019-06-16\", \"2019-06-17\", \"2019-06-18\", \"2019-06-19\", \"2019-06-20\", \"2019-06-21\", \"2019-06-22\", \"2019-06-23\", \"2019-06-24\", \"2019-06-25\", \"2019-06-26\", \"2019-06-27\", \"2019-06-28\", \"2019-06-29\", \"2019-06-30\", \"2019-07-01\", \"2019-07-02\", \"2019-07-03\", \"2019-07-04\", \"2019-07-05\", \"2019-07-06\", \"2019-07-07\", \"2019-07-08\", \"2019-07-09\", \"2019-07-10\", \"2019-07-11\", \"2019-07-12\", \"2019-07-13\", \"2019-07-14\", \"2019-07-15\", \"2019-07-16\", \"2019-07-17\", \"2019-07-18\", \"2019-07-19\", \"2019-07-20\", \"2019-07-21\", \"2019-07-22\", \"2019-07-23\", \"2019-07-24\", \"2019-07-25\", \"2019-07-26\", \"2019-07-27\", \"2019-07-28\", \"2019-07-29\", \"2019-07-30\", \"2019-07-31\", \"2019-08-01\", \"2019-08-02\", \"2019-08-03\", \"2019-08-04\", \"2019-08-05\", \"2019-08-06\", \"2019-08-07\", \"2019-08-08\", \"2019-08-09\", \"2019-08-10\", \"2019-08-11\", \"2019-08-12\"], \"y\": [8211.0234375, 8538.6083984375, 8664.1611328125, 8589.6923828125, 8585.685546875, 8769.134765625, 9171.05859375, 10004.05859375, 10024.076171875, 10114.6708984375, 10540.8125, 11756.521484375, 10986.8056640625, 10872.4052734375, 11032.4443359375, 10747.4560546875, 9971.0107421875, 9623.521484375, 10567.5830078125, 10945.1337890625, 10380.3896484375, 10631.494140625, 10536.861328125, 10977.1826171875, 11637.169921875, 11761.3037109375, 10784.6640625, 10785.7607421875, 10643.55078125, 10123.90234375, 9725.888671875, 9670.216796875, 8969.951171875, 9398.3486328125, 9775.708984375, 9963.7294921875, 9870.8095703125, 9755.5634765625, 9413.251953125, 9082.2451171875, 9364.8349609375, 9147.015625, 9105.2392578125, 8887.0390625, 8935.8447265625, 8936.8046875, 9221.619140625, 9426.2041015625, 9778.0791015625, 10058.44921875, 10091.13671875, 10869.0478515625, 10943.798828125, 10901.732421875, 10983.806640625, 11000.2578125, 10780.5029296875, 10597.658203125, 10745.5390625]}],\n",
       "                        {\"template\": {\"data\": {\"bar\": [{\"error_x\": {\"color\": \"#2a3f5f\"}, \"error_y\": {\"color\": \"#2a3f5f\"}, \"marker\": {\"line\": {\"color\": \"#E5ECF6\", \"width\": 0.5}}, \"type\": \"bar\"}], \"barpolar\": [{\"marker\": {\"line\": {\"color\": \"#E5ECF6\", \"width\": 0.5}}, \"type\": \"barpolar\"}], \"carpet\": [{\"aaxis\": {\"endlinecolor\": \"#2a3f5f\", \"gridcolor\": \"white\", \"linecolor\": \"white\", \"minorgridcolor\": \"white\", \"startlinecolor\": \"#2a3f5f\"}, \"baxis\": {\"endlinecolor\": \"#2a3f5f\", \"gridcolor\": \"white\", \"linecolor\": \"white\", \"minorgridcolor\": \"white\", \"startlinecolor\": \"#2a3f5f\"}, \"type\": \"carpet\"}], \"choropleth\": [{\"colorbar\": {\"outlinewidth\": 0, \"ticks\": \"\"}, \"type\": \"choropleth\"}], \"contour\": [{\"colorbar\": {\"outlinewidth\": 0, \"ticks\": \"\"}, \"colorscale\": [[0.0, \"#0d0887\"], [0.1111111111111111, \"#46039f\"], [0.2222222222222222, \"#7201a8\"], [0.3333333333333333, \"#9c179e\"], [0.4444444444444444, \"#bd3786\"], [0.5555555555555556, \"#d8576b\"], [0.6666666666666666, \"#ed7953\"], [0.7777777777777778, \"#fb9f3a\"], [0.8888888888888888, \"#fdca26\"], [1.0, \"#f0f921\"]], \"type\": \"contour\"}], \"contourcarpet\": [{\"colorbar\": {\"outlinewidth\": 0, \"ticks\": \"\"}, \"type\": \"contourcarpet\"}], \"heatmap\": [{\"colorbar\": {\"outlinewidth\": 0, \"ticks\": \"\"}, \"colorscale\": [[0.0, \"#0d0887\"], [0.1111111111111111, \"#46039f\"], [0.2222222222222222, \"#7201a8\"], [0.3333333333333333, \"#9c179e\"], [0.4444444444444444, \"#bd3786\"], [0.5555555555555556, \"#d8576b\"], [0.6666666666666666, \"#ed7953\"], [0.7777777777777778, \"#fb9f3a\"], [0.8888888888888888, \"#fdca26\"], [1.0, \"#f0f921\"]], \"type\": \"heatmap\"}], \"heatmapgl\": [{\"colorbar\": {\"outlinewidth\": 0, \"ticks\": \"\"}, \"colorscale\": [[0.0, \"#0d0887\"], [0.1111111111111111, \"#46039f\"], [0.2222222222222222, \"#7201a8\"], [0.3333333333333333, \"#9c179e\"], [0.4444444444444444, \"#bd3786\"], [0.5555555555555556, \"#d8576b\"], [0.6666666666666666, \"#ed7953\"], [0.7777777777777778, \"#fb9f3a\"], [0.8888888888888888, \"#fdca26\"], [1.0, \"#f0f921\"]], \"type\": \"heatmapgl\"}], \"histogram\": [{\"marker\": {\"colorbar\": {\"outlinewidth\": 0, \"ticks\": \"\"}}, \"type\": \"histogram\"}], \"histogram2d\": [{\"colorbar\": {\"outlinewidth\": 0, \"ticks\": \"\"}, \"colorscale\": [[0.0, \"#0d0887\"], [0.1111111111111111, \"#46039f\"], [0.2222222222222222, \"#7201a8\"], [0.3333333333333333, \"#9c179e\"], [0.4444444444444444, \"#bd3786\"], [0.5555555555555556, \"#d8576b\"], [0.6666666666666666, \"#ed7953\"], [0.7777777777777778, \"#fb9f3a\"], [0.8888888888888888, \"#fdca26\"], [1.0, \"#f0f921\"]], \"type\": \"histogram2d\"}], \"histogram2dcontour\": [{\"colorbar\": {\"outlinewidth\": 0, \"ticks\": \"\"}, \"colorscale\": [[0.0, \"#0d0887\"], [0.1111111111111111, \"#46039f\"], [0.2222222222222222, \"#7201a8\"], [0.3333333333333333, \"#9c179e\"], [0.4444444444444444, \"#bd3786\"], [0.5555555555555556, \"#d8576b\"], [0.6666666666666666, \"#ed7953\"], [0.7777777777777778, \"#fb9f3a\"], [0.8888888888888888, \"#fdca26\"], [1.0, \"#f0f921\"]], \"type\": \"histogram2dcontour\"}], \"mesh3d\": [{\"colorbar\": {\"outlinewidth\": 0, \"ticks\": \"\"}, \"type\": \"mesh3d\"}], \"parcoords\": [{\"line\": {\"colorbar\": {\"outlinewidth\": 0, \"ticks\": \"\"}}, \"type\": \"parcoords\"}], \"pie\": [{\"automargin\": true, \"type\": \"pie\"}], \"scatter\": [{\"marker\": {\"colorbar\": {\"outlinewidth\": 0, \"ticks\": \"\"}}, \"type\": \"scatter\"}], \"scatter3d\": [{\"line\": {\"colorbar\": {\"outlinewidth\": 0, \"ticks\": \"\"}}, \"marker\": {\"colorbar\": {\"outlinewidth\": 0, \"ticks\": \"\"}}, \"type\": \"scatter3d\"}], \"scattercarpet\": [{\"marker\": {\"colorbar\": {\"outlinewidth\": 0, \"ticks\": \"\"}}, \"type\": \"scattercarpet\"}], \"scattergeo\": [{\"marker\": {\"colorbar\": {\"outlinewidth\": 0, \"ticks\": \"\"}}, \"type\": \"scattergeo\"}], \"scattergl\": [{\"marker\": {\"colorbar\": {\"outlinewidth\": 0, \"ticks\": \"\"}}, \"type\": \"scattergl\"}], \"scattermapbox\": [{\"marker\": {\"colorbar\": {\"outlinewidth\": 0, \"ticks\": \"\"}}, \"type\": \"scattermapbox\"}], \"scatterpolar\": [{\"marker\": {\"colorbar\": {\"outlinewidth\": 0, \"ticks\": \"\"}}, \"type\": \"scatterpolar\"}], \"scatterpolargl\": [{\"marker\": {\"colorbar\": {\"outlinewidth\": 0, \"ticks\": \"\"}}, \"type\": \"scatterpolargl\"}], \"scatterternary\": [{\"marker\": {\"colorbar\": {\"outlinewidth\": 0, \"ticks\": \"\"}}, \"type\": \"scatterternary\"}], \"surface\": [{\"colorbar\": {\"outlinewidth\": 0, \"ticks\": \"\"}, \"colorscale\": [[0.0, \"#0d0887\"], [0.1111111111111111, \"#46039f\"], [0.2222222222222222, \"#7201a8\"], [0.3333333333333333, \"#9c179e\"], [0.4444444444444444, \"#bd3786\"], [0.5555555555555556, \"#d8576b\"], [0.6666666666666666, \"#ed7953\"], [0.7777777777777778, \"#fb9f3a\"], [0.8888888888888888, \"#fdca26\"], [1.0, \"#f0f921\"]], \"type\": \"surface\"}], \"table\": [{\"cells\": {\"fill\": {\"color\": \"#EBF0F8\"}, \"line\": {\"color\": \"white\"}}, \"header\": {\"fill\": {\"color\": \"#C8D4E3\"}, \"line\": {\"color\": \"white\"}}, \"type\": \"table\"}]}, \"layout\": {\"annotationdefaults\": {\"arrowcolor\": \"#2a3f5f\", \"arrowhead\": 0, \"arrowwidth\": 1}, \"coloraxis\": {\"colorbar\": {\"outlinewidth\": 0, \"ticks\": \"\"}}, \"colorscale\": {\"diverging\": [[0, \"#8e0152\"], [0.1, \"#c51b7d\"], [0.2, \"#de77ae\"], [0.3, \"#f1b6da\"], [0.4, \"#fde0ef\"], [0.5, \"#f7f7f7\"], [0.6, \"#e6f5d0\"], [0.7, \"#b8e186\"], [0.8, \"#7fbc41\"], [0.9, \"#4d9221\"], [1, \"#276419\"]], \"sequential\": [[0.0, \"#0d0887\"], [0.1111111111111111, \"#46039f\"], [0.2222222222222222, \"#7201a8\"], [0.3333333333333333, \"#9c179e\"], [0.4444444444444444, \"#bd3786\"], [0.5555555555555556, \"#d8576b\"], [0.6666666666666666, \"#ed7953\"], [0.7777777777777778, \"#fb9f3a\"], [0.8888888888888888, \"#fdca26\"], [1.0, \"#f0f921\"]], \"sequentialminus\": [[0.0, \"#0d0887\"], [0.1111111111111111, \"#46039f\"], [0.2222222222222222, \"#7201a8\"], [0.3333333333333333, \"#9c179e\"], [0.4444444444444444, \"#bd3786\"], [0.5555555555555556, \"#d8576b\"], [0.6666666666666666, \"#ed7953\"], [0.7777777777777778, \"#fb9f3a\"], [0.8888888888888888, \"#fdca26\"], [1.0, \"#f0f921\"]]}, \"colorway\": [\"#636efa\", \"#EF553B\", \"#00cc96\", \"#ab63fa\", \"#FFA15A\", \"#19d3f3\", \"#FF6692\", \"#B6E880\", \"#FF97FF\", \"#FECB52\"], \"font\": {\"color\": \"#2a3f5f\"}, \"geo\": {\"bgcolor\": \"white\", \"lakecolor\": \"white\", \"landcolor\": \"#E5ECF6\", \"showlakes\": true, \"showland\": true, \"subunitcolor\": \"white\"}, \"hoverlabel\": {\"align\": \"left\"}, \"hovermode\": \"closest\", \"mapbox\": {\"style\": \"light\"}, \"paper_bgcolor\": \"white\", \"plot_bgcolor\": \"#E5ECF6\", \"polar\": {\"angularaxis\": {\"gridcolor\": \"white\", \"linecolor\": \"white\", \"ticks\": \"\"}, \"bgcolor\": \"#E5ECF6\", \"radialaxis\": {\"gridcolor\": \"white\", \"linecolor\": \"white\", \"ticks\": \"\"}}, \"scene\": {\"xaxis\": {\"backgroundcolor\": \"#E5ECF6\", \"gridcolor\": \"white\", \"gridwidth\": 2, \"linecolor\": \"white\", \"showbackground\": true, \"ticks\": \"\", \"zerolinecolor\": \"white\"}, \"yaxis\": {\"backgroundcolor\": \"#E5ECF6\", \"gridcolor\": \"white\", \"gridwidth\": 2, \"linecolor\": \"white\", \"showbackground\": true, \"ticks\": \"\", \"zerolinecolor\": \"white\"}, \"zaxis\": {\"backgroundcolor\": \"#E5ECF6\", \"gridcolor\": \"white\", \"gridwidth\": 2, \"linecolor\": \"white\", \"showbackground\": true, \"ticks\": \"\", \"zerolinecolor\": \"white\"}}, \"shapedefaults\": {\"line\": {\"color\": \"#2a3f5f\"}}, \"ternary\": {\"aaxis\": {\"gridcolor\": \"white\", \"linecolor\": \"white\", \"ticks\": \"\"}, \"baxis\": {\"gridcolor\": \"white\", \"linecolor\": \"white\", \"ticks\": \"\"}, \"bgcolor\": \"#E5ECF6\", \"caxis\": {\"gridcolor\": \"white\", \"linecolor\": \"white\", \"ticks\": \"\"}}, \"title\": {\"x\": 0.05}, \"xaxis\": {\"automargin\": true, \"gridcolor\": \"white\", \"linecolor\": \"white\", \"ticks\": \"\", \"title\": {\"standoff\": 15}, \"zerolinecolor\": \"white\", \"zerolinewidth\": 2}, \"yaxis\": {\"automargin\": true, \"gridcolor\": \"white\", \"linecolor\": \"white\", \"ticks\": \"\", \"title\": {\"standoff\": 15}, \"zerolinecolor\": \"white\", \"zerolinewidth\": 2}}}, \"title\": {\"text\": \"Comparison of true prices (on the test dataset) with prices our model predicted, by dates\"}, \"xaxis\": {\"title\": {\"text\": \"Date\"}}, \"yaxis\": {\"title\": {\"text\": \"Price, USD\"}}},\n",
       "                        {\"responsive\": true}\n",
       "                    ).then(function(){\n",
       "                            \n",
       "var gd = document.getElementById('8d2845b1-a4b4-460d-a42e-3c4b40609c56');\n",
       "var x = new MutationObserver(function (mutations, observer) {{\n",
       "        var display = window.getComputedStyle(gd).display;\n",
       "        if (!display || display === 'none') {{\n",
       "            console.log([gd, 'removed!']);\n",
       "            Plotly.purge(gd);\n",
       "            observer.disconnect();\n",
       "        }}\n",
       "}});\n",
       "\n",
       "// Listen for the removal of the full notebook cells\n",
       "var notebookContainer = gd.closest('#notebook-container');\n",
       "if (notebookContainer) {{\n",
       "    x.observe(notebookContainer, {childList: true});\n",
       "}}\n",
       "\n",
       "// Listen for the clearing of the current output cell\n",
       "var outputEl = gd.closest('.output');\n",
       "if (outputEl) {{\n",
       "    x.observe(outputEl, {childList: true});\n",
       "}}\n",
       "\n",
       "                        })\n",
       "                };\n",
       "                });\n",
       "            </script>\n",
       "        </div>"
      ]
     },
     "metadata": {},
     "output_type": "display_data"
    }
   ],
   "source": [
    "Test_Dates = Daily_Price[len(Daily_Price)-days_from_train:].index\n",
    "\n",
    "trace1 = go.Scatter(x=Test_Dates, y=Y_test2_inverse, name= 'Actual Price', \n",
    "                   line = dict(color = ('rgb(66, 244, 155)'),width = 2))\n",
    "trace2 = go.Scatter(x=Test_Dates, y=prediction2_inverse, name= 'Predicted Price',\n",
    "                   line = dict(color = ('rgb(244, 146, 65)'),width = 2))\n",
    "data = [trace1, trace2]\n",
    "layout = dict(title = 'Comparison of true prices (on the test dataset) with prices our model predicted, by dates',\n",
    "             xaxis = dict(title = 'Date'), yaxis = dict(title = 'Price, USD'))\n",
    "fig = dict(data=data, layout=layout)\n",
    "py.iplot(fig, filename='results_demonstrating1')"
   ]
  },
  {
   "cell_type": "markdown",
   "metadata": {
    "_cell_guid": "e22df660-fa16-445e-993a-60de28c5c94b",
    "_uuid": "60c5fab473551ab2ee1d71f31d4072c051f497e5"
   },
   "source": [
    "The results we obtained can be improved. For this, we will try the following thing. We get 10 different train and test datasets and train the model on each train test and then test it on the corresponding test dataset. After this, we calculate the RMSE for each pair of train/test dataset. Then we find an average RMSE on all these datasets and subtract this value from each prediction, obtained from our current model. This can improve the performance.\n",
    "\n",
    "We want to demonstrate this approach on the GRU model just to show different models."
   ]
  },
  {
   "cell_type": "markdown",
   "metadata": {
    "_cell_guid": "05e1704d-ec0d-4438-b54b-8379ed6fa23c",
    "_uuid": "cd8a8c76864c4211a5d3b15c9cff9329d030b820"
   },
   "source": [
    "First what we do is to define three functions, which will be acting as subsequent elements in the pipeline. Basically, these functions are very similar to what we do when prepare data and train our previous 2-layers LSTM model."
   ]
  },
  {
   "cell_type": "code",
   "execution_count": 24,
   "metadata": {
    "_cell_guid": "8aba20b1-d14f-41d4-b998-292ce86b749a",
    "_uuid": "3330fc805e6b1a48997e959209924e638a96a0cd"
   },
   "outputs": [],
   "source": [
    "# This function prepares random train/test split, \n",
    "# scales data with MinMaxScaler, create time series labels (Y)\n",
    "def get_split(working_data, n_train, n_test, look_back = 1):\n",
    "    # get a point from which we start to take train dataset and after it - test dataset\n",
    "    start_point = randint(0, (len(working_data)-n_test-n_train))\n",
    "    df_train = working_data[start_point:start_point+n_train]\n",
    "    df_test = working_data[start_point+n_train:start_point+n_train+n_test]\n",
    "\n",
    "    training_set = df_train.values\n",
    "    training_set = np.reshape(training_set, (len(training_set), 1))\n",
    "    test_set = df_test.values\n",
    "    test_set = np.reshape(test_set, (len(test_set), 1))\n",
    "    \n",
    "    # scale datasets\n",
    "    scaler_cv = MinMaxScaler()\n",
    "    training_set = scaler_cv.fit_transform(training_set)\n",
    "    test_set = scaler_cv.transform(test_set)\n",
    "\n",
    "    # create datasets which are suitable for time series forecasting\n",
    "    X_train, Y_train = create_lookback(training_set, look_back)\n",
    "    X_test, Y_test = create_lookback(test_set, look_back)\n",
    "\n",
    "    # reshape datasets so that they will be ok for the requirements of the models in Keras\n",
    "    X_train = np.reshape(X_train, (len(X_train), 1, X_train.shape[1]))\n",
    "    X_test = np.reshape(X_test, (len(X_test), 1, X_test.shape[1]))\n",
    "    \n",
    "    return X_train, Y_train, X_test, Y_test, scaler_cv, start_point\n",
    "\n",
    "# This function takes datasets from the previous function as input and train model using these datasets\n",
    "def train_model(X_train, Y_train, X_test, Y_test):\n",
    "    # initialize sequential model, add bidirectional LSTM layer and densely connected output neuron\n",
    "    model = Sequential()\n",
    "    model.add(GRU(256, input_shape=(X_train.shape[1], X_train.shape[2])))\n",
    "    model.add(Dense(1))\n",
    "    \n",
    "    # compile and fit the model\n",
    "    model.compile(loss='mean_squared_error', optimizer='adam')\n",
    "    model.fit(X_train, Y_train, epochs = 100, batch_size = 16, shuffle = False, \n",
    "                    validation_data=(X_test, Y_test), verbose=0,\n",
    "                    callbacks = [EarlyStopping(monitor='val_loss',min_delta=5e-5,patience=20,verbose=0)])\n",
    "    return model\n",
    "\n",
    "# This function uses trained model and test dataset to calculate RMSE\n",
    "def get_rmse(model, X_test, Y_test, scaler, start_point, working_data, n_train):\n",
    "    # add one additional data point to align shapes of the predictions and true labels\n",
    "    X_test = np.append(X_test, scaler.transform(working_data.iloc[start_point+n_train+len(X_test)][0].reshape(1, 1)))\n",
    "    #X_test = np.append(X_test, scaler.transform(working_data.iloc[start_point+n_train+len(X_test)][0])\n",
    "    X_test = np.reshape(X_test, (len(X_test), 1, 1))\n",
    "    \n",
    "    # get predictions and then make some transformations to be able to calculate RMSE properly in USD\n",
    "    prediction = model.predict(X_test)\n",
    "    prediction_inverse = scaler.inverse_transform(prediction.reshape(-1, 1))\n",
    "    Y_test_inverse = scaler.inverse_transform(Y_test.reshape(-1, 1))\n",
    "    prediction2_inverse = np.array(prediction_inverse[:,0][1:])\n",
    "    Y_test2_inverse = np.array(Y_test_inverse[:,0])\n",
    "    \n",
    "    #calculate RMSE\n",
    "    RMSE = sqrt(mean_squared_error(Y_test2_inverse, prediction2_inverse))\n",
    "    return RMSE, prediction2_inverse"
   ]
  },
  {
   "cell_type": "markdown",
   "metadata": {
    "_cell_guid": "909e984b-61ef-4abf-b65a-891b7d4908c9",
    "_uuid": "06d5746a89836764a1c428b1a584c773f8a288f8"
   },
   "source": [
    "The function below uses all three previous functions to build workflow of calculations and return RMSE and predictions of the model."
   ]
  },
  {
   "cell_type": "code",
   "execution_count": 25,
   "metadata": {
    "_cell_guid": "9123e479-699d-43c3-9d34-48f3ffc0aa78",
    "_uuid": "276d3d0d97c09ec0eaa8a9ffaf6a42a5a0dfab98"
   },
   "outputs": [],
   "source": [
    "def workflow(working_data, get_split, train_model, get_rmse,n_train = 250,n_test = 50,look_back = 1):\n",
    "    X_train, Y_train, X_test, Y_test, scaler, start_point = get_split(working_data, n_train, n_test)\n",
    "    model = train_model(X_train, Y_train, X_test, Y_test)\n",
    "    RMSE, predictions = get_rmse(model, X_test, Y_test, scaler, start_point, working_data, n_train)\n",
    "    return RMSE, predictions"
   ]
  },
  {
   "cell_type": "markdown",
   "metadata": {
    "_cell_guid": "2cf7eb86-7302-4a3a-8a87-3ad6e37dd59c",
    "_uuid": "0e8a965c18bdc163dd4b64aad36da62cb53a59da"
   },
   "source": [
    "Now we can run *workflow* function to calculate RMSE for single GRU model:"
   ]
  },
  {
   "cell_type": "code",
   "execution_count": 26,
   "metadata": {
    "_cell_guid": "e6a94edb-f7ef-4169-8b60-c954ca72fa00",
    "_uuid": "0c521931ebaecc55ec06dc9c2e7c1625e4be0409"
   },
   "outputs": [
    {
     "name": "stdout",
     "output_type": "stream",
     "text": [
      "Test GRU model RMSE: 340.227\n"
     ]
    }
   ],
   "source": [
    "RMSE, predictions = workflow(working_data, get_split, train_model, get_rmse, n_train = 600,n_test = 60)\n",
    "print('Test GRU model RMSE: %.3f' % RMSE)"
   ]
  },
  {
   "cell_type": "code",
   "execution_count": 28,
   "metadata": {
    "_cell_guid": "ddbe71aa-9790-429c-9d14-2eee1b5a1624",
    "_uuid": "153d5a87bd65ceddf75e5e38ff0b231cc3f5ced5"
   },
   "outputs": [],
   "source": [
    "# This function is used to repeat the workflow ten times and to calculate average RMSE\n",
    "def cross_validate(working_data,get_split,train_model,get_rmse,workflow,n_train = 250,n_test = 50,look_back = 1):\n",
    "    rmse_list = []\n",
    "    for i in range(10):\n",
    "        print('Iteration:', i+1)\n",
    "        RMSE, _ = workflow(working_data, get_split, train_model, get_rmse, n_train, n_test, look_back)\n",
    "        rmse_list.append(RMSE)\n",
    "        print('Test RMSE: %.3f' % RMSE)\n",
    "    mean_rmse = np.mean(rmse_list)\n",
    "    return mean_rmse, rmse_list"
   ]
  },
  {
   "cell_type": "markdown",
   "metadata": {
    "_cell_guid": "33b646ec-3fa7-4328-ba16-d3d43f572f92",
    "_uuid": "f6b135efd48b2cb573863d99103b7b4159018ebe"
   },
   "source": [
    "Now we can run *cross_validate* function to trigger calculations:"
   ]
  },
  {
   "cell_type": "code",
   "execution_count": 29,
   "metadata": {
    "_cell_guid": "47f8e6ad-801a-4a9e-b488-303402729c63",
    "_uuid": "2a0a49145e10b4c5f59b447fd5558020d575451d"
   },
   "outputs": [
    {
     "name": "stdout",
     "output_type": "stream",
     "text": [
      "Iteration: 1\n",
      "Test RMSE: 11.309\n",
      "Iteration: 2\n",
      "Test RMSE: 67.892\n",
      "Iteration: 3\n",
      "Test RMSE: 23.588\n",
      "Iteration: 4\n",
      "Test RMSE: 28.252\n",
      "Iteration: 5\n",
      "Test RMSE: 12.609\n",
      "Iteration: 6\n",
      "Test RMSE: 67.518\n",
      "Iteration: 7\n",
      "Test RMSE: 34.978\n",
      "Iteration: 8\n",
      "Test RMSE: 139.074\n",
      "Iteration: 9\n",
      "Test RMSE: 25.356\n",
      "Iteration: 10\n",
      "Test RMSE: 134.877\n",
      "Average RMSE:  54.54513603036364\n",
      "RMSE list: [11.309010851549138, 67.89187326729962, 23.588204892946802, 28.251572881507656, 12.609173706299428, 67.5178860139555, 34.97779350008887, 139.073655348823, 25.355591164182623, 134.87659867698383]\n"
     ]
    }
   ],
   "source": [
    "mean_rmse, rmse_list = cross_validate(working_data, get_split, train_model, get_rmse, workflow)\n",
    "print('Average RMSE: ', mean_rmse)\n",
    "print('RMSE list:', rmse_list)"
   ]
  },
  {
   "cell_type": "markdown",
   "metadata": {
    "_cell_guid": "16de6bbf-a980-4c8f-b836-8ad70144f792",
    "_uuid": "fd54fb9db2f28de26b569b97ba3ec83e68f9168e"
   },
   "source": [
    "Next, we subtract the mean RMSE from each prediction our model produced. Then, we recalculate the RMSE for the model. "
   ]
  },
  {
   "cell_type": "code",
   "execution_count": 30,
   "metadata": {
    "_cell_guid": "a1d7bfe6-b0e7-47df-820c-3374d6319b30",
    "_uuid": "e34adc68468dafb199fdeda7d0b26006cd792d02"
   },
   "outputs": [
    {
     "name": "stdout",
     "output_type": "stream",
     "text": [
      "Test GRU model RMSE_new: 394.380\n"
     ]
    }
   ],
   "source": [
    "predictions_new = predictions - mean_rmse\n",
    "\n",
    "RMSE_new = sqrt(mean_squared_error(Y_test2_inverse, predictions_new))\n",
    "print('Test GRU model RMSE_new: %.3f' % RMSE_new)"
   ]
  },
  {
   "cell_type": "markdown",
   "metadata": {
    "_cell_guid": "9b5b364f-b210-4258-999c-767105fac7a1",
    "_uuid": "d8c9f0a79b027224defca42825dbb3e793a5710e"
   },
   "source": [
    "We can see, that the RMSE has been reduced significantly. This means that our experiment was successful. On the plot below you can see the difference between predictions and true test labels."
   ]
  },
  {
   "cell_type": "code",
   "execution_count": 31,
   "metadata": {
    "_cell_guid": "5420e827-cbda-49ed-90ca-ba6d24425c77",
    "_uuid": "4109814c13d0502097828a71729b1a48b87a4f50"
   },
   "outputs": [
    {
     "data": {
      "application/vnd.plotly.v1+json": {
       "config": {
        "linkText": "Export to plot.ly",
        "plotlyServerURL": "https://plot.ly",
        "showLink": false
       },
       "data": [
        {
         "line": {
          "color": "rgb(66, 244, 155)",
          "width": 2
         },
         "name": "Actual Price",
         "type": "scatter",
         "x": [
          "2019-06-13",
          "2019-06-14",
          "2019-06-15",
          "2019-06-16",
          "2019-06-17",
          "2019-06-18",
          "2019-06-19",
          "2019-06-20",
          "2019-06-21",
          "2019-06-22",
          "2019-06-23",
          "2019-06-24",
          "2019-06-25",
          "2019-06-26",
          "2019-06-27",
          "2019-06-28",
          "2019-06-29",
          "2019-06-30",
          "2019-07-01",
          "2019-07-02",
          "2019-07-03",
          "2019-07-04",
          "2019-07-05",
          "2019-07-06",
          "2019-07-07",
          "2019-07-08",
          "2019-07-09",
          "2019-07-10",
          "2019-07-11",
          "2019-07-12",
          "2019-07-13",
          "2019-07-14",
          "2019-07-15",
          "2019-07-16",
          "2019-07-17",
          "2019-07-18",
          "2019-07-19",
          "2019-07-20",
          "2019-07-21",
          "2019-07-22",
          "2019-07-23",
          "2019-07-24",
          "2019-07-25",
          "2019-07-26",
          "2019-07-27",
          "2019-07-28",
          "2019-07-29",
          "2019-07-30",
          "2019-07-31",
          "2019-08-01",
          "2019-08-02",
          "2019-08-03",
          "2019-08-04",
          "2019-08-05",
          "2019-08-06",
          "2019-08-07",
          "2019-08-08",
          "2019-08-09",
          "2019-08-10",
          "2019-08-11",
          "2019-08-12"
         ],
         "y": [
          8727.687036371799,
          9095.289101530452,
          9235.846432505909,
          9152.500069336686,
          9148.01395901445,
          9353.22648559646,
          9801.48601844826,
          10724.80500475833,
          10746.900511013211,
          10846.846268886118,
          11315.817028152782,
          12643.58268406806,
          11804.629165520822,
          11679.43835006045,
          11854.537295204322,
          11542.5519109653,
          10688.316669892505,
          10303.947255003688,
          11345.214704756921,
          11759.042504677078,
          11139.493770149711,
          11415.369265018257,
          11311.47674802796,
          11794.10358029435,
          12513.87310001388,
          12648.77722987224,
          11583.33114395624,
          11584.53226697636,
          11428.597803701208,
          10857.026633891062,
          10417.313950106387,
          10355.675152687822,
          9577.424253618532,
          10054.174637386332,
          10472.448828593731,
          10680.276549055909,
          10577.614454422597,
          10450.157570706906,
          10070.725015713168,
          9702.591536684673,
          10016.952398913825,
          9774.724239339514,
          9728.204527019083,
          9484.914105643693,
          9539.378363609236,
          9540.448916710371,
          9857.746978877933,
          10085.104546979139,
          10475.070739547555,
          10784.832144716522,
          10820.892324169692,
          11675.761776815854,
          11757.580574404436,
          11711.54347617361,
          11801.34874174219,
          11819.34219296096,
          11578.771028918314,
          11378.232876254124,
          11540.450291
         ]
        },
        {
         "line": {
          "color": "rgb(244, 146, 65)",
          "width": 2
         },
         "name": "Predicted Price",
         "type": "scatter",
         "x": [
          "2019-06-13",
          "2019-06-14",
          "2019-06-15",
          "2019-06-16",
          "2019-06-17",
          "2019-06-18",
          "2019-06-19",
          "2019-06-20",
          "2019-06-21",
          "2019-06-22",
          "2019-06-23",
          "2019-06-24",
          "2019-06-25",
          "2019-06-26",
          "2019-06-27",
          "2019-06-28",
          "2019-06-29",
          "2019-06-30",
          "2019-07-01",
          "2019-07-02",
          "2019-07-03",
          "2019-07-04",
          "2019-07-05",
          "2019-07-06",
          "2019-07-07",
          "2019-07-08",
          "2019-07-09",
          "2019-07-10",
          "2019-07-11",
          "2019-07-12",
          "2019-07-13",
          "2019-07-14",
          "2019-07-15",
          "2019-07-16",
          "2019-07-17",
          "2019-07-18",
          "2019-07-19",
          "2019-07-20",
          "2019-07-21",
          "2019-07-22",
          "2019-07-23",
          "2019-07-24",
          "2019-07-25",
          "2019-07-26",
          "2019-07-27",
          "2019-07-28",
          "2019-07-29",
          "2019-07-30",
          "2019-07-31",
          "2019-08-01",
          "2019-08-02",
          "2019-08-03",
          "2019-08-04",
          "2019-08-05",
          "2019-08-06",
          "2019-08-07",
          "2019-08-08",
          "2019-08-09",
          "2019-08-10",
          "2019-08-11",
          "2019-08-12"
         ],
         "y": [
          8430.4462890625,
          8779.630859375,
          8913.2529296875,
          8834.0126953125,
          8829.7470703125,
          9024.88671875,
          9451.5732421875,
          10332.2939453125,
          10353.3994140625,
          10448.88671875,
          10897.306640625,
          12170.1494140625,
          11365.345703125,
          11245.412109375,
          11413.1689453125,
          11114.32421875,
          10297.4423828125,
          9930.5498046875,
          10925.4365234375,
          11321.66796875,
          10728.6376953125,
          10992.57421875,
          10893.1533203125,
          11355.259765625,
          12045.59765625,
          12175.138671875,
          11153.37109375,
          11154.5205078125,
          11005.236328125,
          10458.6142578125,
          10038.71875,
          9979.9013671875,
          9238.220703125,
          9692.3603515625,
          10091.337890625,
          10289.763671875,
          10191.7314453125,
          10070.0625,
          9708.138671875,
          9357.388671875,
          9656.8798828125,
          9426.083984375,
          9381.7783203125,
          9150.1748046875,
          9202.0078125,
          9203.02734375,
          9505.1689453125,
          9721.8466796875,
          10093.8408203125,
          10389.6357421875,
          10424.087890625,
          11241.890625,
          11320.2685546875,
          11276.1650390625,
          11362.2021484375,
          11379.443359375,
          11149.005859375,
          10957.0341796875,
          11112.3125
         ]
        }
       ],
       "layout": {
        "template": {
         "data": {
          "bar": [
           {
            "error_x": {
             "color": "#2a3f5f"
            },
            "error_y": {
             "color": "#2a3f5f"
            },
            "marker": {
             "line": {
              "color": "#E5ECF6",
              "width": 0.5
             }
            },
            "type": "bar"
           }
          ],
          "barpolar": [
           {
            "marker": {
             "line": {
              "color": "#E5ECF6",
              "width": 0.5
             }
            },
            "type": "barpolar"
           }
          ],
          "carpet": [
           {
            "aaxis": {
             "endlinecolor": "#2a3f5f",
             "gridcolor": "white",
             "linecolor": "white",
             "minorgridcolor": "white",
             "startlinecolor": "#2a3f5f"
            },
            "baxis": {
             "endlinecolor": "#2a3f5f",
             "gridcolor": "white",
             "linecolor": "white",
             "minorgridcolor": "white",
             "startlinecolor": "#2a3f5f"
            },
            "type": "carpet"
           }
          ],
          "choropleth": [
           {
            "colorbar": {
             "outlinewidth": 0,
             "ticks": ""
            },
            "type": "choropleth"
           }
          ],
          "contour": [
           {
            "colorbar": {
             "outlinewidth": 0,
             "ticks": ""
            },
            "colorscale": [
             [
              0,
              "#0d0887"
             ],
             [
              0.1111111111111111,
              "#46039f"
             ],
             [
              0.2222222222222222,
              "#7201a8"
             ],
             [
              0.3333333333333333,
              "#9c179e"
             ],
             [
              0.4444444444444444,
              "#bd3786"
             ],
             [
              0.5555555555555556,
              "#d8576b"
             ],
             [
              0.6666666666666666,
              "#ed7953"
             ],
             [
              0.7777777777777778,
              "#fb9f3a"
             ],
             [
              0.8888888888888888,
              "#fdca26"
             ],
             [
              1,
              "#f0f921"
             ]
            ],
            "type": "contour"
           }
          ],
          "contourcarpet": [
           {
            "colorbar": {
             "outlinewidth": 0,
             "ticks": ""
            },
            "type": "contourcarpet"
           }
          ],
          "heatmap": [
           {
            "colorbar": {
             "outlinewidth": 0,
             "ticks": ""
            },
            "colorscale": [
             [
              0,
              "#0d0887"
             ],
             [
              0.1111111111111111,
              "#46039f"
             ],
             [
              0.2222222222222222,
              "#7201a8"
             ],
             [
              0.3333333333333333,
              "#9c179e"
             ],
             [
              0.4444444444444444,
              "#bd3786"
             ],
             [
              0.5555555555555556,
              "#d8576b"
             ],
             [
              0.6666666666666666,
              "#ed7953"
             ],
             [
              0.7777777777777778,
              "#fb9f3a"
             ],
             [
              0.8888888888888888,
              "#fdca26"
             ],
             [
              1,
              "#f0f921"
             ]
            ],
            "type": "heatmap"
           }
          ],
          "heatmapgl": [
           {
            "colorbar": {
             "outlinewidth": 0,
             "ticks": ""
            },
            "colorscale": [
             [
              0,
              "#0d0887"
             ],
             [
              0.1111111111111111,
              "#46039f"
             ],
             [
              0.2222222222222222,
              "#7201a8"
             ],
             [
              0.3333333333333333,
              "#9c179e"
             ],
             [
              0.4444444444444444,
              "#bd3786"
             ],
             [
              0.5555555555555556,
              "#d8576b"
             ],
             [
              0.6666666666666666,
              "#ed7953"
             ],
             [
              0.7777777777777778,
              "#fb9f3a"
             ],
             [
              0.8888888888888888,
              "#fdca26"
             ],
             [
              1,
              "#f0f921"
             ]
            ],
            "type": "heatmapgl"
           }
          ],
          "histogram": [
           {
            "marker": {
             "colorbar": {
              "outlinewidth": 0,
              "ticks": ""
             }
            },
            "type": "histogram"
           }
          ],
          "histogram2d": [
           {
            "colorbar": {
             "outlinewidth": 0,
             "ticks": ""
            },
            "colorscale": [
             [
              0,
              "#0d0887"
             ],
             [
              0.1111111111111111,
              "#46039f"
             ],
             [
              0.2222222222222222,
              "#7201a8"
             ],
             [
              0.3333333333333333,
              "#9c179e"
             ],
             [
              0.4444444444444444,
              "#bd3786"
             ],
             [
              0.5555555555555556,
              "#d8576b"
             ],
             [
              0.6666666666666666,
              "#ed7953"
             ],
             [
              0.7777777777777778,
              "#fb9f3a"
             ],
             [
              0.8888888888888888,
              "#fdca26"
             ],
             [
              1,
              "#f0f921"
             ]
            ],
            "type": "histogram2d"
           }
          ],
          "histogram2dcontour": [
           {
            "colorbar": {
             "outlinewidth": 0,
             "ticks": ""
            },
            "colorscale": [
             [
              0,
              "#0d0887"
             ],
             [
              0.1111111111111111,
              "#46039f"
             ],
             [
              0.2222222222222222,
              "#7201a8"
             ],
             [
              0.3333333333333333,
              "#9c179e"
             ],
             [
              0.4444444444444444,
              "#bd3786"
             ],
             [
              0.5555555555555556,
              "#d8576b"
             ],
             [
              0.6666666666666666,
              "#ed7953"
             ],
             [
              0.7777777777777778,
              "#fb9f3a"
             ],
             [
              0.8888888888888888,
              "#fdca26"
             ],
             [
              1,
              "#f0f921"
             ]
            ],
            "type": "histogram2dcontour"
           }
          ],
          "mesh3d": [
           {
            "colorbar": {
             "outlinewidth": 0,
             "ticks": ""
            },
            "type": "mesh3d"
           }
          ],
          "parcoords": [
           {
            "line": {
             "colorbar": {
              "outlinewidth": 0,
              "ticks": ""
             }
            },
            "type": "parcoords"
           }
          ],
          "pie": [
           {
            "automargin": true,
            "type": "pie"
           }
          ],
          "scatter": [
           {
            "marker": {
             "colorbar": {
              "outlinewidth": 0,
              "ticks": ""
             }
            },
            "type": "scatter"
           }
          ],
          "scatter3d": [
           {
            "line": {
             "colorbar": {
              "outlinewidth": 0,
              "ticks": ""
             }
            },
            "marker": {
             "colorbar": {
              "outlinewidth": 0,
              "ticks": ""
             }
            },
            "type": "scatter3d"
           }
          ],
          "scattercarpet": [
           {
            "marker": {
             "colorbar": {
              "outlinewidth": 0,
              "ticks": ""
             }
            },
            "type": "scattercarpet"
           }
          ],
          "scattergeo": [
           {
            "marker": {
             "colorbar": {
              "outlinewidth": 0,
              "ticks": ""
             }
            },
            "type": "scattergeo"
           }
          ],
          "scattergl": [
           {
            "marker": {
             "colorbar": {
              "outlinewidth": 0,
              "ticks": ""
             }
            },
            "type": "scattergl"
           }
          ],
          "scattermapbox": [
           {
            "marker": {
             "colorbar": {
              "outlinewidth": 0,
              "ticks": ""
             }
            },
            "type": "scattermapbox"
           }
          ],
          "scatterpolar": [
           {
            "marker": {
             "colorbar": {
              "outlinewidth": 0,
              "ticks": ""
             }
            },
            "type": "scatterpolar"
           }
          ],
          "scatterpolargl": [
           {
            "marker": {
             "colorbar": {
              "outlinewidth": 0,
              "ticks": ""
             }
            },
            "type": "scatterpolargl"
           }
          ],
          "scatterternary": [
           {
            "marker": {
             "colorbar": {
              "outlinewidth": 0,
              "ticks": ""
             }
            },
            "type": "scatterternary"
           }
          ],
          "surface": [
           {
            "colorbar": {
             "outlinewidth": 0,
             "ticks": ""
            },
            "colorscale": [
             [
              0,
              "#0d0887"
             ],
             [
              0.1111111111111111,
              "#46039f"
             ],
             [
              0.2222222222222222,
              "#7201a8"
             ],
             [
              0.3333333333333333,
              "#9c179e"
             ],
             [
              0.4444444444444444,
              "#bd3786"
             ],
             [
              0.5555555555555556,
              "#d8576b"
             ],
             [
              0.6666666666666666,
              "#ed7953"
             ],
             [
              0.7777777777777778,
              "#fb9f3a"
             ],
             [
              0.8888888888888888,
              "#fdca26"
             ],
             [
              1,
              "#f0f921"
             ]
            ],
            "type": "surface"
           }
          ],
          "table": [
           {
            "cells": {
             "fill": {
              "color": "#EBF0F8"
             },
             "line": {
              "color": "white"
             }
            },
            "header": {
             "fill": {
              "color": "#C8D4E3"
             },
             "line": {
              "color": "white"
             }
            },
            "type": "table"
           }
          ]
         },
         "layout": {
          "annotationdefaults": {
           "arrowcolor": "#2a3f5f",
           "arrowhead": 0,
           "arrowwidth": 1
          },
          "coloraxis": {
           "colorbar": {
            "outlinewidth": 0,
            "ticks": ""
           }
          },
          "colorscale": {
           "diverging": [
            [
             0,
             "#8e0152"
            ],
            [
             0.1,
             "#c51b7d"
            ],
            [
             0.2,
             "#de77ae"
            ],
            [
             0.3,
             "#f1b6da"
            ],
            [
             0.4,
             "#fde0ef"
            ],
            [
             0.5,
             "#f7f7f7"
            ],
            [
             0.6,
             "#e6f5d0"
            ],
            [
             0.7,
             "#b8e186"
            ],
            [
             0.8,
             "#7fbc41"
            ],
            [
             0.9,
             "#4d9221"
            ],
            [
             1,
             "#276419"
            ]
           ],
           "sequential": [
            [
             0,
             "#0d0887"
            ],
            [
             0.1111111111111111,
             "#46039f"
            ],
            [
             0.2222222222222222,
             "#7201a8"
            ],
            [
             0.3333333333333333,
             "#9c179e"
            ],
            [
             0.4444444444444444,
             "#bd3786"
            ],
            [
             0.5555555555555556,
             "#d8576b"
            ],
            [
             0.6666666666666666,
             "#ed7953"
            ],
            [
             0.7777777777777778,
             "#fb9f3a"
            ],
            [
             0.8888888888888888,
             "#fdca26"
            ],
            [
             1,
             "#f0f921"
            ]
           ],
           "sequentialminus": [
            [
             0,
             "#0d0887"
            ],
            [
             0.1111111111111111,
             "#46039f"
            ],
            [
             0.2222222222222222,
             "#7201a8"
            ],
            [
             0.3333333333333333,
             "#9c179e"
            ],
            [
             0.4444444444444444,
             "#bd3786"
            ],
            [
             0.5555555555555556,
             "#d8576b"
            ],
            [
             0.6666666666666666,
             "#ed7953"
            ],
            [
             0.7777777777777778,
             "#fb9f3a"
            ],
            [
             0.8888888888888888,
             "#fdca26"
            ],
            [
             1,
             "#f0f921"
            ]
           ]
          },
          "colorway": [
           "#636efa",
           "#EF553B",
           "#00cc96",
           "#ab63fa",
           "#FFA15A",
           "#19d3f3",
           "#FF6692",
           "#B6E880",
           "#FF97FF",
           "#FECB52"
          ],
          "font": {
           "color": "#2a3f5f"
          },
          "geo": {
           "bgcolor": "white",
           "lakecolor": "white",
           "landcolor": "#E5ECF6",
           "showlakes": true,
           "showland": true,
           "subunitcolor": "white"
          },
          "hoverlabel": {
           "align": "left"
          },
          "hovermode": "closest",
          "mapbox": {
           "style": "light"
          },
          "paper_bgcolor": "white",
          "plot_bgcolor": "#E5ECF6",
          "polar": {
           "angularaxis": {
            "gridcolor": "white",
            "linecolor": "white",
            "ticks": ""
           },
           "bgcolor": "#E5ECF6",
           "radialaxis": {
            "gridcolor": "white",
            "linecolor": "white",
            "ticks": ""
           }
          },
          "scene": {
           "xaxis": {
            "backgroundcolor": "#E5ECF6",
            "gridcolor": "white",
            "gridwidth": 2,
            "linecolor": "white",
            "showbackground": true,
            "ticks": "",
            "zerolinecolor": "white"
           },
           "yaxis": {
            "backgroundcolor": "#E5ECF6",
            "gridcolor": "white",
            "gridwidth": 2,
            "linecolor": "white",
            "showbackground": true,
            "ticks": "",
            "zerolinecolor": "white"
           },
           "zaxis": {
            "backgroundcolor": "#E5ECF6",
            "gridcolor": "white",
            "gridwidth": 2,
            "linecolor": "white",
            "showbackground": true,
            "ticks": "",
            "zerolinecolor": "white"
           }
          },
          "shapedefaults": {
           "line": {
            "color": "#2a3f5f"
           }
          },
          "ternary": {
           "aaxis": {
            "gridcolor": "white",
            "linecolor": "white",
            "ticks": ""
           },
           "baxis": {
            "gridcolor": "white",
            "linecolor": "white",
            "ticks": ""
           },
           "bgcolor": "#E5ECF6",
           "caxis": {
            "gridcolor": "white",
            "linecolor": "white",
            "ticks": ""
           }
          },
          "title": {
           "x": 0.05
          },
          "xaxis": {
           "automargin": true,
           "gridcolor": "white",
           "linecolor": "white",
           "ticks": "",
           "title": {
            "standoff": 15
           },
           "zerolinecolor": "white",
           "zerolinewidth": 2
          },
          "yaxis": {
           "automargin": true,
           "gridcolor": "white",
           "linecolor": "white",
           "ticks": "",
           "title": {
            "standoff": 15
           },
           "zerolinecolor": "white",
           "zerolinewidth": 2
          }
         }
        },
        "title": {
         "text": "Comparison of true prices (on the test dataset) with prices our model predicted, by dates"
        },
        "xaxis": {
         "title": {
          "text": "Date"
         }
        },
        "yaxis": {
         "title": {
          "text": "Price, USD"
         }
        }
       }
      },
      "text/html": [
       "<div>\n",
       "        \n",
       "        \n",
       "            <div id=\"b6a9c0e9-24ae-41ac-ae42-63803fa4f709\" class=\"plotly-graph-div\" style=\"height:525px; width:100%;\"></div>\n",
       "            <script type=\"text/javascript\">\n",
       "                require([\"plotly\"], function(Plotly) {\n",
       "                    window.PLOTLYENV=window.PLOTLYENV || {};\n",
       "                    \n",
       "                if (document.getElementById(\"b6a9c0e9-24ae-41ac-ae42-63803fa4f709\")) {\n",
       "                    Plotly.newPlot(\n",
       "                        'b6a9c0e9-24ae-41ac-ae42-63803fa4f709',\n",
       "                        [{\"line\": {\"color\": \"rgb(66, 244, 155)\", \"width\": 2}, \"name\": \"Actual Price\", \"type\": \"scatter\", \"x\": [\"2019-06-13\", \"2019-06-14\", \"2019-06-15\", \"2019-06-16\", \"2019-06-17\", \"2019-06-18\", \"2019-06-19\", \"2019-06-20\", \"2019-06-21\", \"2019-06-22\", \"2019-06-23\", \"2019-06-24\", \"2019-06-25\", \"2019-06-26\", \"2019-06-27\", \"2019-06-28\", \"2019-06-29\", \"2019-06-30\", \"2019-07-01\", \"2019-07-02\", \"2019-07-03\", \"2019-07-04\", \"2019-07-05\", \"2019-07-06\", \"2019-07-07\", \"2019-07-08\", \"2019-07-09\", \"2019-07-10\", \"2019-07-11\", \"2019-07-12\", \"2019-07-13\", \"2019-07-14\", \"2019-07-15\", \"2019-07-16\", \"2019-07-17\", \"2019-07-18\", \"2019-07-19\", \"2019-07-20\", \"2019-07-21\", \"2019-07-22\", \"2019-07-23\", \"2019-07-24\", \"2019-07-25\", \"2019-07-26\", \"2019-07-27\", \"2019-07-28\", \"2019-07-29\", \"2019-07-30\", \"2019-07-31\", \"2019-08-01\", \"2019-08-02\", \"2019-08-03\", \"2019-08-04\", \"2019-08-05\", \"2019-08-06\", \"2019-08-07\", \"2019-08-08\", \"2019-08-09\", \"2019-08-10\", \"2019-08-11\", \"2019-08-12\"], \"y\": [8727.687036371799, 9095.289101530452, 9235.846432505909, 9152.500069336686, 9148.01395901445, 9353.22648559646, 9801.48601844826, 10724.80500475833, 10746.900511013211, 10846.846268886118, 11315.817028152782, 12643.58268406806, 11804.629165520822, 11679.43835006045, 11854.537295204322, 11542.5519109653, 10688.316669892505, 10303.947255003688, 11345.214704756921, 11759.042504677078, 11139.493770149711, 11415.369265018257, 11311.47674802796, 11794.10358029435, 12513.87310001388, 12648.77722987224, 11583.33114395624, 11584.53226697636, 11428.597803701208, 10857.026633891062, 10417.313950106387, 10355.675152687822, 9577.424253618532, 10054.174637386332, 10472.448828593731, 10680.276549055909, 10577.614454422597, 10450.157570706906, 10070.725015713168, 9702.591536684673, 10016.952398913825, 9774.724239339514, 9728.204527019083, 9484.914105643693, 9539.378363609236, 9540.448916710371, 9857.746978877933, 10085.104546979139, 10475.070739547555, 10784.832144716522, 10820.892324169692, 11675.761776815854, 11757.580574404436, 11711.54347617361, 11801.34874174219, 11819.34219296096, 11578.771028918314, 11378.232876254124, 11540.450291]}, {\"line\": {\"color\": \"rgb(244, 146, 65)\", \"width\": 2}, \"name\": \"Predicted Price\", \"type\": \"scatter\", \"x\": [\"2019-06-13\", \"2019-06-14\", \"2019-06-15\", \"2019-06-16\", \"2019-06-17\", \"2019-06-18\", \"2019-06-19\", \"2019-06-20\", \"2019-06-21\", \"2019-06-22\", \"2019-06-23\", \"2019-06-24\", \"2019-06-25\", \"2019-06-26\", \"2019-06-27\", \"2019-06-28\", \"2019-06-29\", \"2019-06-30\", \"2019-07-01\", \"2019-07-02\", \"2019-07-03\", \"2019-07-04\", \"2019-07-05\", \"2019-07-06\", \"2019-07-07\", \"2019-07-08\", \"2019-07-09\", \"2019-07-10\", \"2019-07-11\", \"2019-07-12\", \"2019-07-13\", \"2019-07-14\", \"2019-07-15\", \"2019-07-16\", \"2019-07-17\", \"2019-07-18\", \"2019-07-19\", \"2019-07-20\", \"2019-07-21\", \"2019-07-22\", \"2019-07-23\", \"2019-07-24\", \"2019-07-25\", \"2019-07-26\", \"2019-07-27\", \"2019-07-28\", \"2019-07-29\", \"2019-07-30\", \"2019-07-31\", \"2019-08-01\", \"2019-08-02\", \"2019-08-03\", \"2019-08-04\", \"2019-08-05\", \"2019-08-06\", \"2019-08-07\", \"2019-08-08\", \"2019-08-09\", \"2019-08-10\", \"2019-08-11\", \"2019-08-12\"], \"y\": [8430.4462890625, 8779.630859375, 8913.2529296875, 8834.0126953125, 8829.7470703125, 9024.88671875, 9451.5732421875, 10332.2939453125, 10353.3994140625, 10448.88671875, 10897.306640625, 12170.1494140625, 11365.345703125, 11245.412109375, 11413.1689453125, 11114.32421875, 10297.4423828125, 9930.5498046875, 10925.4365234375, 11321.66796875, 10728.6376953125, 10992.57421875, 10893.1533203125, 11355.259765625, 12045.59765625, 12175.138671875, 11153.37109375, 11154.5205078125, 11005.236328125, 10458.6142578125, 10038.71875, 9979.9013671875, 9238.220703125, 9692.3603515625, 10091.337890625, 10289.763671875, 10191.7314453125, 10070.0625, 9708.138671875, 9357.388671875, 9656.8798828125, 9426.083984375, 9381.7783203125, 9150.1748046875, 9202.0078125, 9203.02734375, 9505.1689453125, 9721.8466796875, 10093.8408203125, 10389.6357421875, 10424.087890625, 11241.890625, 11320.2685546875, 11276.1650390625, 11362.2021484375, 11379.443359375, 11149.005859375, 10957.0341796875, 11112.3125]}],\n",
       "                        {\"template\": {\"data\": {\"bar\": [{\"error_x\": {\"color\": \"#2a3f5f\"}, \"error_y\": {\"color\": \"#2a3f5f\"}, \"marker\": {\"line\": {\"color\": \"#E5ECF6\", \"width\": 0.5}}, \"type\": \"bar\"}], \"barpolar\": [{\"marker\": {\"line\": {\"color\": \"#E5ECF6\", \"width\": 0.5}}, \"type\": \"barpolar\"}], \"carpet\": [{\"aaxis\": {\"endlinecolor\": \"#2a3f5f\", \"gridcolor\": \"white\", \"linecolor\": \"white\", \"minorgridcolor\": \"white\", \"startlinecolor\": \"#2a3f5f\"}, \"baxis\": {\"endlinecolor\": \"#2a3f5f\", \"gridcolor\": \"white\", \"linecolor\": \"white\", \"minorgridcolor\": \"white\", \"startlinecolor\": \"#2a3f5f\"}, \"type\": \"carpet\"}], \"choropleth\": [{\"colorbar\": {\"outlinewidth\": 0, \"ticks\": \"\"}, \"type\": \"choropleth\"}], \"contour\": [{\"colorbar\": {\"outlinewidth\": 0, \"ticks\": \"\"}, \"colorscale\": [[0.0, \"#0d0887\"], [0.1111111111111111, \"#46039f\"], [0.2222222222222222, \"#7201a8\"], [0.3333333333333333, \"#9c179e\"], [0.4444444444444444, \"#bd3786\"], [0.5555555555555556, \"#d8576b\"], [0.6666666666666666, \"#ed7953\"], [0.7777777777777778, \"#fb9f3a\"], [0.8888888888888888, \"#fdca26\"], [1.0, \"#f0f921\"]], \"type\": \"contour\"}], \"contourcarpet\": [{\"colorbar\": {\"outlinewidth\": 0, \"ticks\": \"\"}, \"type\": \"contourcarpet\"}], \"heatmap\": [{\"colorbar\": {\"outlinewidth\": 0, \"ticks\": \"\"}, \"colorscale\": [[0.0, \"#0d0887\"], [0.1111111111111111, \"#46039f\"], [0.2222222222222222, \"#7201a8\"], [0.3333333333333333, \"#9c179e\"], [0.4444444444444444, \"#bd3786\"], [0.5555555555555556, \"#d8576b\"], [0.6666666666666666, \"#ed7953\"], [0.7777777777777778, \"#fb9f3a\"], [0.8888888888888888, \"#fdca26\"], [1.0, \"#f0f921\"]], \"type\": \"heatmap\"}], \"heatmapgl\": [{\"colorbar\": {\"outlinewidth\": 0, \"ticks\": \"\"}, \"colorscale\": [[0.0, \"#0d0887\"], [0.1111111111111111, \"#46039f\"], [0.2222222222222222, \"#7201a8\"], [0.3333333333333333, \"#9c179e\"], [0.4444444444444444, \"#bd3786\"], [0.5555555555555556, \"#d8576b\"], [0.6666666666666666, \"#ed7953\"], [0.7777777777777778, \"#fb9f3a\"], [0.8888888888888888, \"#fdca26\"], [1.0, \"#f0f921\"]], \"type\": \"heatmapgl\"}], \"histogram\": [{\"marker\": {\"colorbar\": {\"outlinewidth\": 0, \"ticks\": \"\"}}, \"type\": \"histogram\"}], \"histogram2d\": [{\"colorbar\": {\"outlinewidth\": 0, \"ticks\": \"\"}, \"colorscale\": [[0.0, \"#0d0887\"], [0.1111111111111111, \"#46039f\"], [0.2222222222222222, \"#7201a8\"], [0.3333333333333333, \"#9c179e\"], [0.4444444444444444, \"#bd3786\"], [0.5555555555555556, \"#d8576b\"], [0.6666666666666666, \"#ed7953\"], [0.7777777777777778, \"#fb9f3a\"], [0.8888888888888888, \"#fdca26\"], [1.0, \"#f0f921\"]], \"type\": \"histogram2d\"}], \"histogram2dcontour\": [{\"colorbar\": {\"outlinewidth\": 0, \"ticks\": \"\"}, \"colorscale\": [[0.0, \"#0d0887\"], [0.1111111111111111, \"#46039f\"], [0.2222222222222222, \"#7201a8\"], [0.3333333333333333, \"#9c179e\"], [0.4444444444444444, \"#bd3786\"], [0.5555555555555556, \"#d8576b\"], [0.6666666666666666, \"#ed7953\"], [0.7777777777777778, \"#fb9f3a\"], [0.8888888888888888, \"#fdca26\"], [1.0, \"#f0f921\"]], \"type\": \"histogram2dcontour\"}], \"mesh3d\": [{\"colorbar\": {\"outlinewidth\": 0, \"ticks\": \"\"}, \"type\": \"mesh3d\"}], \"parcoords\": [{\"line\": {\"colorbar\": {\"outlinewidth\": 0, \"ticks\": \"\"}}, \"type\": \"parcoords\"}], \"pie\": [{\"automargin\": true, \"type\": \"pie\"}], \"scatter\": [{\"marker\": {\"colorbar\": {\"outlinewidth\": 0, \"ticks\": \"\"}}, \"type\": \"scatter\"}], \"scatter3d\": [{\"line\": {\"colorbar\": {\"outlinewidth\": 0, \"ticks\": \"\"}}, \"marker\": {\"colorbar\": {\"outlinewidth\": 0, \"ticks\": \"\"}}, \"type\": \"scatter3d\"}], \"scattercarpet\": [{\"marker\": {\"colorbar\": {\"outlinewidth\": 0, \"ticks\": \"\"}}, \"type\": \"scattercarpet\"}], \"scattergeo\": [{\"marker\": {\"colorbar\": {\"outlinewidth\": 0, \"ticks\": \"\"}}, \"type\": \"scattergeo\"}], \"scattergl\": [{\"marker\": {\"colorbar\": {\"outlinewidth\": 0, \"ticks\": \"\"}}, \"type\": \"scattergl\"}], \"scattermapbox\": [{\"marker\": {\"colorbar\": {\"outlinewidth\": 0, \"ticks\": \"\"}}, \"type\": \"scattermapbox\"}], \"scatterpolar\": [{\"marker\": {\"colorbar\": {\"outlinewidth\": 0, \"ticks\": \"\"}}, \"type\": \"scatterpolar\"}], \"scatterpolargl\": [{\"marker\": {\"colorbar\": {\"outlinewidth\": 0, \"ticks\": \"\"}}, \"type\": \"scatterpolargl\"}], \"scatterternary\": [{\"marker\": {\"colorbar\": {\"outlinewidth\": 0, \"ticks\": \"\"}}, \"type\": \"scatterternary\"}], \"surface\": [{\"colorbar\": {\"outlinewidth\": 0, \"ticks\": \"\"}, \"colorscale\": [[0.0, \"#0d0887\"], [0.1111111111111111, \"#46039f\"], [0.2222222222222222, \"#7201a8\"], [0.3333333333333333, \"#9c179e\"], [0.4444444444444444, \"#bd3786\"], [0.5555555555555556, \"#d8576b\"], [0.6666666666666666, \"#ed7953\"], [0.7777777777777778, \"#fb9f3a\"], [0.8888888888888888, \"#fdca26\"], [1.0, \"#f0f921\"]], \"type\": \"surface\"}], \"table\": [{\"cells\": {\"fill\": {\"color\": \"#EBF0F8\"}, \"line\": {\"color\": \"white\"}}, \"header\": {\"fill\": {\"color\": \"#C8D4E3\"}, \"line\": {\"color\": \"white\"}}, \"type\": \"table\"}]}, \"layout\": {\"annotationdefaults\": {\"arrowcolor\": \"#2a3f5f\", \"arrowhead\": 0, \"arrowwidth\": 1}, \"coloraxis\": {\"colorbar\": {\"outlinewidth\": 0, \"ticks\": \"\"}}, \"colorscale\": {\"diverging\": [[0, \"#8e0152\"], [0.1, \"#c51b7d\"], [0.2, \"#de77ae\"], [0.3, \"#f1b6da\"], [0.4, \"#fde0ef\"], [0.5, \"#f7f7f7\"], [0.6, \"#e6f5d0\"], [0.7, \"#b8e186\"], [0.8, \"#7fbc41\"], [0.9, \"#4d9221\"], [1, \"#276419\"]], \"sequential\": [[0.0, \"#0d0887\"], [0.1111111111111111, \"#46039f\"], [0.2222222222222222, \"#7201a8\"], [0.3333333333333333, \"#9c179e\"], [0.4444444444444444, \"#bd3786\"], [0.5555555555555556, \"#d8576b\"], [0.6666666666666666, \"#ed7953\"], [0.7777777777777778, \"#fb9f3a\"], [0.8888888888888888, \"#fdca26\"], [1.0, \"#f0f921\"]], \"sequentialminus\": [[0.0, \"#0d0887\"], [0.1111111111111111, \"#46039f\"], [0.2222222222222222, \"#7201a8\"], [0.3333333333333333, \"#9c179e\"], [0.4444444444444444, \"#bd3786\"], [0.5555555555555556, \"#d8576b\"], [0.6666666666666666, \"#ed7953\"], [0.7777777777777778, \"#fb9f3a\"], [0.8888888888888888, \"#fdca26\"], [1.0, \"#f0f921\"]]}, \"colorway\": [\"#636efa\", \"#EF553B\", \"#00cc96\", \"#ab63fa\", \"#FFA15A\", \"#19d3f3\", \"#FF6692\", \"#B6E880\", \"#FF97FF\", \"#FECB52\"], \"font\": {\"color\": \"#2a3f5f\"}, \"geo\": {\"bgcolor\": \"white\", \"lakecolor\": \"white\", \"landcolor\": \"#E5ECF6\", \"showlakes\": true, \"showland\": true, \"subunitcolor\": \"white\"}, \"hoverlabel\": {\"align\": \"left\"}, \"hovermode\": \"closest\", \"mapbox\": {\"style\": \"light\"}, \"paper_bgcolor\": \"white\", \"plot_bgcolor\": \"#E5ECF6\", \"polar\": {\"angularaxis\": {\"gridcolor\": \"white\", \"linecolor\": \"white\", \"ticks\": \"\"}, \"bgcolor\": \"#E5ECF6\", \"radialaxis\": {\"gridcolor\": \"white\", \"linecolor\": \"white\", \"ticks\": \"\"}}, \"scene\": {\"xaxis\": {\"backgroundcolor\": \"#E5ECF6\", \"gridcolor\": \"white\", \"gridwidth\": 2, \"linecolor\": \"white\", \"showbackground\": true, \"ticks\": \"\", \"zerolinecolor\": \"white\"}, \"yaxis\": {\"backgroundcolor\": \"#E5ECF6\", \"gridcolor\": \"white\", \"gridwidth\": 2, \"linecolor\": \"white\", \"showbackground\": true, \"ticks\": \"\", \"zerolinecolor\": \"white\"}, \"zaxis\": {\"backgroundcolor\": \"#E5ECF6\", \"gridcolor\": \"white\", \"gridwidth\": 2, \"linecolor\": \"white\", \"showbackground\": true, \"ticks\": \"\", \"zerolinecolor\": \"white\"}}, \"shapedefaults\": {\"line\": {\"color\": \"#2a3f5f\"}}, \"ternary\": {\"aaxis\": {\"gridcolor\": \"white\", \"linecolor\": \"white\", \"ticks\": \"\"}, \"baxis\": {\"gridcolor\": \"white\", \"linecolor\": \"white\", \"ticks\": \"\"}, \"bgcolor\": \"#E5ECF6\", \"caxis\": {\"gridcolor\": \"white\", \"linecolor\": \"white\", \"ticks\": \"\"}}, \"title\": {\"x\": 0.05}, \"xaxis\": {\"automargin\": true, \"gridcolor\": \"white\", \"linecolor\": \"white\", \"ticks\": \"\", \"title\": {\"standoff\": 15}, \"zerolinecolor\": \"white\", \"zerolinewidth\": 2}, \"yaxis\": {\"automargin\": true, \"gridcolor\": \"white\", \"linecolor\": \"white\", \"ticks\": \"\", \"title\": {\"standoff\": 15}, \"zerolinecolor\": \"white\", \"zerolinewidth\": 2}}}, \"title\": {\"text\": \"Comparison of true prices (on the test dataset) with prices our model predicted, by dates\"}, \"xaxis\": {\"title\": {\"text\": \"Date\"}}, \"yaxis\": {\"title\": {\"text\": \"Price, USD\"}}},\n",
       "                        {\"responsive\": true}\n",
       "                    ).then(function(){\n",
       "                            \n",
       "var gd = document.getElementById('b6a9c0e9-24ae-41ac-ae42-63803fa4f709');\n",
       "var x = new MutationObserver(function (mutations, observer) {{\n",
       "        var display = window.getComputedStyle(gd).display;\n",
       "        if (!display || display === 'none') {{\n",
       "            console.log([gd, 'removed!']);\n",
       "            Plotly.purge(gd);\n",
       "            observer.disconnect();\n",
       "        }}\n",
       "}});\n",
       "\n",
       "// Listen for the removal of the full notebook cells\n",
       "var notebookContainer = gd.closest('#notebook-container');\n",
       "if (notebookContainer) {{\n",
       "    x.observe(notebookContainer, {childList: true});\n",
       "}}\n",
       "\n",
       "// Listen for the clearing of the current output cell\n",
       "var outputEl = gd.closest('.output');\n",
       "if (outputEl) {{\n",
       "    x.observe(outputEl, {childList: true});\n",
       "}}\n",
       "\n",
       "                        })\n",
       "                };\n",
       "                });\n",
       "            </script>\n",
       "        </div>"
      ]
     },
     "metadata": {},
     "output_type": "display_data"
    }
   ],
   "source": [
    "trace1 = go.Scatter(x=Test_Dates, y=Y_test2_inverse, name= 'Actual Price', \n",
    "                   line = dict(color = ('rgb(66, 244, 155)'),width = 2))\n",
    "trace2 = go.Scatter(x=Test_Dates, y=predictions_new, name= 'Predicted Price',\n",
    "                   line = dict(color = ('rgb(244, 146, 65)'),width = 2))\n",
    "data = [trace1, trace2]\n",
    "layout = dict(title = 'Comparison of true prices (on the test dataset) with prices our model predicted, by dates',\n",
    "             xaxis = dict(title = 'Date'), yaxis = dict(title = 'Price, USD'))\n",
    "fig = dict(data=data, layout=layout)\n",
    "py.iplot(fig, filename='results_demonstrating2')"
   ]
  },
  {
   "cell_type": "markdown",
   "metadata": {
    "_cell_guid": "2d019594-10af-4bb5-b259-3397a49a5640",
    "_uuid": "e1578f88ce7d3c629d5733ff883e44f1bdf9936e"
   },
   "source": [
    "Let's calculate symmetric mean absolute percentage error ([SMAPE](https://en.wikipedia.org/wiki/Symmetric_mean_absolute_percentage_error)). It will show how good our predictions are in percentage. We define function *symmetric_mean_absolute_percentage_error*, which will perform all necessary calculations."
   ]
  },
  {
   "cell_type": "code",
   "execution_count": 32,
   "metadata": {
    "_cell_guid": "47bfa79a-cb13-4e44-9959-f8841047f586",
    "_uuid": "8e7a59564e01570a0fed588c04ef446b5e5b440e"
   },
   "outputs": [
    {
     "name": "stdout",
     "output_type": "stream",
     "text": [
      "Test SMAPE (percentage): 3.709\n"
     ]
    }
   ],
   "source": [
    "def symmetric_mean_absolute_percentage_error(y_true, y_pred, epsilon = 1e-8): \n",
    "    return np.mean(np.abs(y_pred - y_true) / ((np.abs(y_true) + np.abs(y_pred))/2 + epsilon)) * 100\n",
    "\n",
    "SMAPE = symmetric_mean_absolute_percentage_error(Y_test2_inverse, predictions_new)\n",
    "\n",
    "print('Test SMAPE (percentage): %.3f' % SMAPE)"
   ]
  },
  {
   "cell_type": "markdown",
   "metadata": {
    "_cell_guid": "8f8bae5c-d62a-45f0-859c-90815619d276",
    "_uuid": "93ef101715979d4ea2f7d34f33eede05ef10296a"
   },
   "source": [
    "We can see that our SMAPE is less than 1%, which means that the error of our model is very small. "
   ]
  },
  {
   "cell_type": "markdown",
   "metadata": {
    "_cell_guid": "818fd64b-e427-4e82-bd27-dc02142ca14d",
    "_uuid": "707f32b5e7d08b920158d685c706d8264e5a58ff"
   },
   "source": [
    "In this notebook, we trained the 2-layers Long Short Term Memory Neural Network as well as Gated Recurrent Unit Neural Network using Bitcoin Historical Data. These models can be used to predict future price movements of bitcoin. The performance of the models is quite good. On average, both models considered here, makes an error measured only in tens of USD. \n",
    " \n",
    " \n",
    " *Tags: Bitcoin, neural networks, machine learning, forecast, prediction, LSTM, GRU, RNN*"
   ]
  },
  {
   "cell_type": "code",
   "execution_count": null,
   "metadata": {},
   "outputs": [],
   "source": []
  }
 ],
 "metadata": {
  "kernelspec": {
   "display_name": "Python 3",
   "language": "python",
   "name": "python3"
  },
  "language_info": {
   "codemirror_mode": {
    "name": "ipython",
    "version": 3
   },
   "file_extension": ".py",
   "mimetype": "text/x-python",
   "name": "python",
   "nbconvert_exporter": "python",
   "pygments_lexer": "ipython3",
   "version": "3.5.6"
  }
 },
 "nbformat": 4,
 "nbformat_minor": 1
}

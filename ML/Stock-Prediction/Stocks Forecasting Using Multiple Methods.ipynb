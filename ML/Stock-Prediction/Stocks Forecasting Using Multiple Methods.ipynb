{
 "cells": [
  {
   "cell_type": "markdown",
   "metadata": {
    "colab_type": "text",
    "id": "Lw9oCmvDSV1o"
   },
   "source": [
    "## Loading YahooFinance Dataset\n",
    "Pandas web data reader is an extension of pandas library to communicate with most updated financial data.\n",
    "We will extract Apple Stocks Price using the following codes:"
   ]
  },
  {
   "cell_type": "code",
   "execution_count": 69,
   "metadata": {},
   "outputs": [],
   "source": [
    "import warnings\n",
    "warnings.filterwarnings(\"ignore\")\n",
    "\n",
    "import sys\n",
    "import pandas as pd\n",
    "import datetime\n",
    "\n",
    "from pandas import Series, DataFrame\n",
    "import pandas_datareader.data as web"
   ]
  },
  {
   "cell_type": "code",
   "execution_count": 51,
   "metadata": {},
   "outputs": [
    {
     "data": {
      "text/html": [
       "<div>\n",
       "<style scoped>\n",
       "    .dataframe tbody tr th:only-of-type {\n",
       "        vertical-align: middle;\n",
       "    }\n",
       "\n",
       "    .dataframe tbody tr th {\n",
       "        vertical-align: top;\n",
       "    }\n",
       "\n",
       "    .dataframe thead th {\n",
       "        text-align: right;\n",
       "    }\n",
       "</style>\n",
       "<table border=\"1\" class=\"dataframe\">\n",
       "  <thead>\n",
       "    <tr style=\"text-align: right;\">\n",
       "      <th></th>\n",
       "      <th>High</th>\n",
       "      <th>Low</th>\n",
       "      <th>Open</th>\n",
       "      <th>Close</th>\n",
       "      <th>Volume</th>\n",
       "      <th>Adj Close</th>\n",
       "    </tr>\n",
       "    <tr>\n",
       "      <th>Date</th>\n",
       "      <th></th>\n",
       "      <th></th>\n",
       "      <th></th>\n",
       "      <th></th>\n",
       "      <th></th>\n",
       "      <th></th>\n",
       "    </tr>\n",
       "  </thead>\n",
       "  <tbody>\n",
       "    <tr>\n",
       "      <th>2020-03-02</th>\n",
       "      <td>119.980003</td>\n",
       "      <td>116.029999</td>\n",
       "      <td>119.129997</td>\n",
       "      <td>119.980003</td>\n",
       "      <td>21775900.0</td>\n",
       "      <td>119.980003</td>\n",
       "    </tr>\n",
       "    <tr>\n",
       "      <th>2020-03-03</th>\n",
       "      <td>121.779999</td>\n",
       "      <td>115.150002</td>\n",
       "      <td>121.150002</td>\n",
       "      <td>116.449997</td>\n",
       "      <td>19529700.0</td>\n",
       "      <td>116.449997</td>\n",
       "    </tr>\n",
       "    <tr>\n",
       "      <th>2020-03-04</th>\n",
       "      <td>119.239998</td>\n",
       "      <td>115.480003</td>\n",
       "      <td>118.959999</td>\n",
       "      <td>119.180000</td>\n",
       "      <td>13842100.0</td>\n",
       "      <td>119.180000</td>\n",
       "    </tr>\n",
       "    <tr>\n",
       "      <th>2020-03-05</th>\n",
       "      <td>116.959999</td>\n",
       "      <td>112.110001</td>\n",
       "      <td>116.860001</td>\n",
       "      <td>113.980003</td>\n",
       "      <td>22397200.0</td>\n",
       "      <td>113.980003</td>\n",
       "    </tr>\n",
       "    <tr>\n",
       "      <th>2020-03-06</th>\n",
       "      <td>115.870003</td>\n",
       "      <td>110.320000</td>\n",
       "      <td>110.760002</td>\n",
       "      <td>115.269997</td>\n",
       "      <td>22890000.0</td>\n",
       "      <td>115.269997</td>\n",
       "    </tr>\n",
       "  </tbody>\n",
       "</table>\n",
       "</div>"
      ],
      "text/plain": [
       "                  High         Low        Open       Close      Volume  \\\n",
       "Date                                                                     \n",
       "2020-03-02  119.980003  116.029999  119.129997  119.980003  21775900.0   \n",
       "2020-03-03  121.779999  115.150002  121.150002  116.449997  19529700.0   \n",
       "2020-03-04  119.239998  115.480003  118.959999  119.180000  13842100.0   \n",
       "2020-03-05  116.959999  112.110001  116.860001  113.980003  22397200.0   \n",
       "2020-03-06  115.870003  110.320000  110.760002  115.269997  22890000.0   \n",
       "\n",
       "             Adj Close  \n",
       "Date                    \n",
       "2020-03-02  119.980003  \n",
       "2020-03-03  116.449997  \n",
       "2020-03-04  119.180000  \n",
       "2020-03-05  113.980003  \n",
       "2020-03-06  115.269997  "
      ]
     },
     "execution_count": 51,
     "metadata": {},
     "output_type": "execute_result"
    }
   ],
   "source": [
    "start = datetime.datetime(1950, 1, 1)\n",
    "end = datetime.datetime.now()\n",
    "\n",
    "#df = pd.read_csv('AAPL.csv')\n",
    "\n",
    "df = web.DataReader(\"DIS\", 'yahoo', start, end)\n",
    "df.tail()"
   ]
  },
  {
   "cell_type": "code",
   "execution_count": 52,
   "metadata": {},
   "outputs": [
    {
     "data": {
      "text/html": [
       "<div>\n",
       "<style scoped>\n",
       "    .dataframe tbody tr th:only-of-type {\n",
       "        vertical-align: middle;\n",
       "    }\n",
       "\n",
       "    .dataframe tbody tr th {\n",
       "        vertical-align: top;\n",
       "    }\n",
       "\n",
       "    .dataframe thead th {\n",
       "        text-align: right;\n",
       "    }\n",
       "</style>\n",
       "<table border=\"1\" class=\"dataframe\">\n",
       "  <thead>\n",
       "    <tr style=\"text-align: right;\">\n",
       "      <th></th>\n",
       "      <th>High</th>\n",
       "      <th>Low</th>\n",
       "      <th>Open</th>\n",
       "      <th>Close</th>\n",
       "      <th>Volume</th>\n",
       "      <th>Adj Close</th>\n",
       "    </tr>\n",
       "    <tr>\n",
       "      <th>Date</th>\n",
       "      <th></th>\n",
       "      <th></th>\n",
       "      <th></th>\n",
       "      <th></th>\n",
       "      <th></th>\n",
       "      <th></th>\n",
       "    </tr>\n",
       "  </thead>\n",
       "  <tbody>\n",
       "    <tr>\n",
       "      <th>1962-01-02</th>\n",
       "      <td>0.096026</td>\n",
       "      <td>0.092908</td>\n",
       "      <td>0.092908</td>\n",
       "      <td>0.092908</td>\n",
       "      <td>817400.0</td>\n",
       "      <td>0.035517</td>\n",
       "    </tr>\n",
       "    <tr>\n",
       "      <th>1962-01-03</th>\n",
       "      <td>0.094467</td>\n",
       "      <td>0.092908</td>\n",
       "      <td>0.092908</td>\n",
       "      <td>0.094155</td>\n",
       "      <td>778500.0</td>\n",
       "      <td>0.035994</td>\n",
       "    </tr>\n",
       "    <tr>\n",
       "      <th>1962-01-04</th>\n",
       "      <td>0.094467</td>\n",
       "      <td>0.093532</td>\n",
       "      <td>0.094155</td>\n",
       "      <td>0.094155</td>\n",
       "      <td>934200.0</td>\n",
       "      <td>0.035994</td>\n",
       "    </tr>\n",
       "    <tr>\n",
       "      <th>1962-01-05</th>\n",
       "      <td>0.094779</td>\n",
       "      <td>0.093844</td>\n",
       "      <td>0.094155</td>\n",
       "      <td>0.094467</td>\n",
       "      <td>934200.0</td>\n",
       "      <td>0.036113</td>\n",
       "    </tr>\n",
       "    <tr>\n",
       "      <th>1962-01-08</th>\n",
       "      <td>0.095714</td>\n",
       "      <td>0.092285</td>\n",
       "      <td>0.094467</td>\n",
       "      <td>0.094155</td>\n",
       "      <td>1245600.0</td>\n",
       "      <td>0.035994</td>\n",
       "    </tr>\n",
       "  </tbody>\n",
       "</table>\n",
       "</div>"
      ],
      "text/plain": [
       "                High       Low      Open     Close     Volume  Adj Close\n",
       "Date                                                                    \n",
       "1962-01-02  0.096026  0.092908  0.092908  0.092908   817400.0   0.035517\n",
       "1962-01-03  0.094467  0.092908  0.092908  0.094155   778500.0   0.035994\n",
       "1962-01-04  0.094467  0.093532  0.094155  0.094155   934200.0   0.035994\n",
       "1962-01-05  0.094779  0.093844  0.094155  0.094467   934200.0   0.036113\n",
       "1962-01-08  0.095714  0.092285  0.094467  0.094155  1245600.0   0.035994"
      ]
     },
     "execution_count": 52,
     "metadata": {},
     "output_type": "execute_result"
    }
   ],
   "source": [
    "df.head()"
   ]
  },
  {
   "cell_type": "code",
   "execution_count": 53,
   "metadata": {
    "colab": {
     "base_uri": "https://localhost:8080/",
     "height": 34
    },
    "colab_type": "code",
    "id": "KoOU8TYGFaNU",
    "outputId": "76c33fd3-2325-4964-f3fd-83546b484be9"
   },
   "outputs": [
    {
     "data": {
      "text/plain": [
       "(14645, 6)"
      ]
     },
     "execution_count": 53,
     "metadata": {},
     "output_type": "execute_result"
    }
   ],
   "source": [
    "df.shape"
   ]
  },
  {
   "cell_type": "markdown",
   "metadata": {
    "colab_type": "text",
    "id": "iCPJHJbeIvqu"
   },
   "source": [
    "## Exploring the data"
   ]
  },
  {
   "cell_type": "code",
   "execution_count": 54,
   "metadata": {
    "colab": {
     "base_uri": "https://localhost:8080/",
     "height": 221
    },
    "colab_type": "code",
    "id": "dUFvxTvrI3xC",
    "outputId": "1411e7f7-1ff3-48eb-f62e-5ce09466703d"
   },
   "outputs": [
    {
     "data": {
      "text/plain": [
       "Date\n",
       "2020-02-24    139.999619\n",
       "2020-02-25    139.993734\n",
       "2020-02-26    139.943625\n",
       "2020-02-27    139.850158\n",
       "2020-02-28    139.731716\n",
       "2020-03-02    139.630312\n",
       "2020-03-03    139.517763\n",
       "2020-03-04    139.423965\n",
       "2020-03-05    139.278068\n",
       "2020-03-06    139.138312\n",
       "Name: Adj Close, dtype: float64"
      ]
     },
     "execution_count": 54,
     "metadata": {},
     "output_type": "execute_result"
    }
   ],
   "source": [
    "close_px = df['Adj Close']\n",
    "mavg = close_px.rolling(window=100).mean()\n",
    "mavg.tail(10)"
   ]
  },
  {
   "cell_type": "markdown",
   "metadata": {
    "colab_type": "text",
    "id": "N-mOEyWHSquh"
   },
   "source": [
    "## Exploring Rolling Mean and Return Rate of Stocks\n",
    "In this analysis, we analyse stocks using two key measurements: Rolling Mean and Return Rate.\n",
    "\n",
    "### Rolling Mean (Moving Average) — to determine trend\n",
    "Rolling mean/Moving Average (MA) smooths out price data by creating a constantly updated average price. This is useful to cut down “noise” in our price chart. Furthermore, this Moving Average could act as “Resistance” meaning from the downtrend and uptrend of stocks you could expect it will follow the trend and less likely to deviate outside its resistance point."
   ]
  },
  {
   "cell_type": "code",
   "execution_count": 60,
   "metadata": {
    "colab": {
     "base_uri": "https://localhost:8080/",
     "height": 439
    },
    "colab_type": "code",
    "id": "IiONEZ3NJE-M",
    "outputId": "64276cfa-17ac-400f-abfe-1f475aecc266"
   },
   "outputs": [
    {
     "data": {
      "text/plain": [
       "<matplotlib.legend.Legend at 0x1a20e8da10>"
      ]
     },
     "execution_count": 60,
     "metadata": {},
     "output_type": "execute_result"
    },
    {
     "data": {
      "image/png": "[encoded data removed]",
      "text/plain": [
       "<Figure size 640x480 with 1 Axes>"
      ]
     },
     "metadata": {},
     "output_type": "display_data"
    }
   ],
   "source": [
    "%matplotlib inline\n",
    "import matplotlib.pyplot as plt\n",
    "from matplotlib import style\n",
    "\n",
    "# Adjusting the size of matplotlib\n",
    "import matplotlib as mpl\n",
    "mpl.rc('figure', figsize=(16, 10))\n",
    "mpl.__version__\n",
    "\n",
    "# Adjusting the style of matplotlib\n",
    "style.use('default')\n",
    "\n",
    "close_px.plot(label='AAPL')\n",
    "mavg.plot(label='mavg')\n",
    "plt.yscale('log')\n",
    "plt.legend()"
   ]
  },
  {
   "cell_type": "markdown",
   "metadata": {
    "colab_type": "text",
    "id": "DAJ-f7C9JSwi"
   },
   "source": [
    "## Predicting the stocks price\n",
    "\n",
    "To predict the return of the stocks in the next period - Prediction analysis\n",
    "\n",
    "* Simple Linear Analysis\n",
    "* Quadratic Linear Analysis (QDA)\n",
    "* K Nearest Neighbor (KNN)\n",
    "\n",
    "But first, extracting the necessary columns first from df:\n",
    "\n",
    "* Adj Close\n",
    "* Adj Volume\n",
    "* High Low Percentage\n",
    "* Percent Change"
   ]
  },
  {
   "cell_type": "code",
   "execution_count": 61,
   "metadata": {
    "colab": {
     "base_uri": "https://localhost:8080/",
     "height": 235
    },
    "colab_type": "code",
    "id": "S7bAM8uqJJSY",
    "outputId": "84f0a9c5-0647-4377-91f1-3aae97be4716"
   },
   "outputs": [
    {
     "data": {
      "text/html": [
       "<div>\n",
       "<style scoped>\n",
       "    .dataframe tbody tr th:only-of-type {\n",
       "        vertical-align: middle;\n",
       "    }\n",
       "\n",
       "    .dataframe tbody tr th {\n",
       "        vertical-align: top;\n",
       "    }\n",
       "\n",
       "    .dataframe thead th {\n",
       "        text-align: right;\n",
       "    }\n",
       "</style>\n",
       "<table border=\"1\" class=\"dataframe\">\n",
       "  <thead>\n",
       "    <tr style=\"text-align: right;\">\n",
       "      <th></th>\n",
       "      <th>Adj Close</th>\n",
       "      <th>Volume</th>\n",
       "      <th>HL_PCT</th>\n",
       "      <th>PCT_change</th>\n",
       "    </tr>\n",
       "    <tr>\n",
       "      <th>Date</th>\n",
       "      <th></th>\n",
       "      <th></th>\n",
       "      <th></th>\n",
       "      <th></th>\n",
       "    </tr>\n",
       "  </thead>\n",
       "  <tbody>\n",
       "    <tr>\n",
       "      <th>1962-01-02</th>\n",
       "      <td>0.035517</td>\n",
       "      <td>817400.0</td>\n",
       "      <td>3.355698</td>\n",
       "      <td>0.000000</td>\n",
       "    </tr>\n",
       "    <tr>\n",
       "      <th>1962-01-03</th>\n",
       "      <td>0.035994</td>\n",
       "      <td>778500.0</td>\n",
       "      <td>1.655626</td>\n",
       "      <td>1.342275</td>\n",
       "    </tr>\n",
       "    <tr>\n",
       "      <th>1962-01-04</th>\n",
       "      <td>0.035994</td>\n",
       "      <td>934200.0</td>\n",
       "      <td>0.993382</td>\n",
       "      <td>0.000000</td>\n",
       "    </tr>\n",
       "    <tr>\n",
       "      <th>1962-01-05</th>\n",
       "      <td>0.036113</td>\n",
       "      <td>934200.0</td>\n",
       "      <td>0.990096</td>\n",
       "      <td>0.331130</td>\n",
       "    </tr>\n",
       "    <tr>\n",
       "      <th>1962-01-08</th>\n",
       "      <td>0.035994</td>\n",
       "      <td>1245600.0</td>\n",
       "      <td>3.642382</td>\n",
       "      <td>-0.330037</td>\n",
       "    </tr>\n",
       "  </tbody>\n",
       "</table>\n",
       "</div>"
      ],
      "text/plain": [
       "            Adj Close     Volume    HL_PCT  PCT_change\n",
       "Date                                                  \n",
       "1962-01-02   0.035517   817400.0  3.355698    0.000000\n",
       "1962-01-03   0.035994   778500.0  1.655626    1.342275\n",
       "1962-01-04   0.035994   934200.0  0.993382    0.000000\n",
       "1962-01-05   0.036113   934200.0  0.990096    0.331130\n",
       "1962-01-08   0.035994  1245600.0  3.642382   -0.330037"
      ]
     },
     "execution_count": 61,
     "metadata": {},
     "output_type": "execute_result"
    }
   ],
   "source": [
    "dfreg = df.loc[:,['Adj Close','Volume']]\n",
    "dfreg['HL_PCT'] = (df['High'] - df['Low']) / df['Close'] * 100.0\n",
    "dfreg['PCT_change'] = (df['Close'] - df['Open']) / df['Open'] * 100.0\n",
    "dfreg.head()"
   ]
  },
  {
   "cell_type": "markdown",
   "metadata": {
    "colab_type": "text",
    "id": "imJ41KpsNube"
   },
   "source": [
    "## Pre-processing & Cross Validation\n",
    "Lets clean and process the data using the following steps before putting them into the prediction models:\n",
    "\n",
    "* Drop missing value\n",
    "* Separating the label here, we want to predict the AdjClose\n",
    "* Scale the X so that everyone can have the same distribution for linear regression\n",
    "* Finally We want to find Data Series of late X and early X (train) for model generation and evaluation\n",
    "* Separate label and identify it as y\n",
    "* Separation of training and testing of model by cross validation train test split\n",
    "* Please refer the preparation codes below."
   ]
  },
  {
   "cell_type": "code",
   "execution_count": 62,
   "metadata": {
    "colab": {},
    "colab_type": "code",
    "id": "ClYiDKQvNqQ2"
   },
   "outputs": [],
   "source": [
    "import math\n",
    "import numpy as np\n",
    "from sklearn import preprocessing\n",
    "\n",
    "# Drop missing value\n",
    "dfreg.fillna(value=-99999, inplace=True)\n",
    "\n",
    "# We want to separate 1 percent of the data to forecast\n",
    "forecast_out = int(math.ceil(0.01 * len(dfreg)))\n",
    "\n",
    "# Separating the label here, we want to predict the AdjClose\n",
    "forecast_col = 'Adj Close'\n",
    "dfreg['label'] = dfreg[forecast_col].shift(-forecast_out)\n",
    "X = np.array(dfreg.drop(['label'], 1))\n",
    "\n",
    "# Scale the X so that everyone can have the same distribution for linear regression\n",
    "X = preprocessing.scale(X)\n",
    "\n",
    "# Finally We want to find Data Series of late X and early X (train) for model generation and evaluation\n",
    "X_lately = X[-forecast_out:]\n",
    "X = X[:-forecast_out]\n",
    "\n",
    "# Separate label and identify it as y\n",
    "y = np.array(dfreg['label'])\n",
    "y = y[:-forecast_out]"
   ]
  },
  {
   "cell_type": "markdown",
   "metadata": {
    "colab_type": "text",
    "id": "IPaAdHlbPdFQ"
   },
   "source": [
    "### Load multiple libraries related to models"
   ]
  },
  {
   "cell_type": "code",
   "execution_count": 63,
   "metadata": {
    "colab": {},
    "colab_type": "code",
    "id": "iimR_uZ4Pkf2"
   },
   "outputs": [],
   "source": [
    "from sklearn.linear_model import LinearRegression\n",
    "from sklearn.neighbors import KNeighborsRegressor\n",
    "\n",
    "from sklearn.linear_model import Ridge\n",
    "from sklearn.preprocessing import PolynomialFeatures\n",
    "from sklearn.pipeline import make_pipeline"
   ]
  },
  {
   "cell_type": "markdown",
   "metadata": {
    "colab_type": "text",
    "id": "JA7IuTKTPuJc"
   },
   "source": [
    "## Linear Regression, Quadratic Discriminant Analysis and K Nearest Neighbor (KNN)"
   ]
  },
  {
   "cell_type": "code",
   "execution_count": 64,
   "metadata": {
    "colab": {
     "base_uri": "https://localhost:8080/",
     "height": 68
    },
    "colab_type": "code",
    "id": "H14sJm8yP2Bh",
    "outputId": "4cf99e98-0128-47f1-a1de-22756b573af1"
   },
   "outputs": [
    {
     "data": {
      "text/plain": [
       "KNeighborsRegressor(algorithm='auto', leaf_size=30, metric='minkowski',\n",
       "                    metric_params=None, n_jobs=None, n_neighbors=2, p=2,\n",
       "                    weights='uniform')"
      ]
     },
     "execution_count": 64,
     "metadata": {},
     "output_type": "execute_result"
    }
   ],
   "source": [
    "from sklearn.model_selection import train_test_split\n",
    "from sklearn.pipeline import make_pipeline\n",
    "\n",
    "X_train, X_test, y_train, y_test = train_test_split(X,y, test_size=0.2, random_state=42)\n",
    "\n",
    "# Linear regression\n",
    "clfreg = LinearRegression(n_jobs=-1)\n",
    "clfreg.fit(X_train, y_train)\n",
    "# Quadratic Regression 2\n",
    "clfpoly2 = make_pipeline(PolynomialFeatures(2), Ridge())\n",
    "clfpoly2.fit(X_train, y_train)\n",
    "\n",
    "# Quadratic Regression 3\n",
    "clfpoly3 = make_pipeline(PolynomialFeatures(3), Ridge())\n",
    "clfpoly3.fit(X_train, y_train)\n",
    "\n",
    "# KNN Regression\n",
    "clfknn = KNeighborsRegressor(n_neighbors=2)\n",
    "clfknn.fit(X_train, y_train)"
   ]
  },
  {
   "cell_type": "markdown",
   "metadata": {
    "colab_type": "text",
    "id": "_im1CuU3QQ0F"
   },
   "source": [
    "### Evaluation\n",
    "\n",
    "A simple quick and dirty way to evaluate is to use the score method in each trained model. The score method finds the mean accuracy of self.predict(X) with y of the test data set"
   ]
  },
  {
   "cell_type": "code",
   "execution_count": 65,
   "metadata": {
    "colab": {},
    "colab_type": "code",
    "id": "NUAlGkgeP9sq"
   },
   "outputs": [],
   "source": [
    "confidencereg = clfreg.score(X_test, y_test)\n",
    "confidencepoly2 = clfpoly2.score(X_test,y_test)\n",
    "confidencepoly3 = clfpoly3.score(X_test,y_test)\n",
    "confidenceknn = clfknn.score(X_test, y_test)"
   ]
  },
  {
   "cell_type": "code",
   "execution_count": 66,
   "metadata": {
    "colab": {
     "base_uri": "https://localhost:8080/",
     "height": 102
    },
    "colab_type": "code",
    "id": "P4zJ5O8zQf0g",
    "outputId": "401a8878-e3a7-4fc5-82d6-c4287edbb1f7"
   },
   "outputs": [
    {
     "name": "stdout",
     "output_type": "stream",
     "text": [
      "# results\n",
      "The linear regression confidence is 0.9743721643507911\n",
      "The quadratic regression 2 confidence is 0.9746137724813521\n",
      "The quadratic regression 3 confidence is 0.9750986264254055\n",
      "The KNN confidence is 0.9689795741042722\n"
     ]
    }
   ],
   "source": [
    "print(\"# results\")\n",
    "print('The linear regression confidence is {}'.format(confidencereg))\n",
    "print('The quadratic regression 2 confidence is {}'.format(confidencepoly2))\n",
    "print('The quadratic regression 3 confidence is {}'.format(confidencepoly3))\n",
    "print('The KNN confidence is {}'.format(confidenceknn))"
   ]
  },
  {
   "cell_type": "markdown",
   "metadata": {
    "colab_type": "text",
    "id": "ZYFJ43R5QqXl"
   },
   "source": [
    "Accuracy score (>0.95) for the above models is almost the same\n",
    "\n",
    "Lets go ahead and do some forecasting"
   ]
  },
  {
   "cell_type": "code",
   "execution_count": 67,
   "metadata": {
    "colab": {
     "base_uri": "https://localhost:8080/",
     "height": 136
    },
    "colab_type": "code",
    "id": "qb-0NhAmQpiC",
    "outputId": "a36db2c9-3d7a-4b40-cb0e-354238474c88"
   },
   "outputs": [
    {
     "data": {
      "text/plain": [
       "array([143.26740575, 146.10618215, 146.48212632, 143.63207077,\n",
       "       144.79367982, 140.7321429 , 141.16684727, 142.98079925,\n",
       "       143.18882333, 142.84540291, 143.53643145, 143.94802052,\n",
       "       139.1656446 , 142.40305355, 142.29702234, 144.18040257,\n",
       "       145.87285436, 145.20519912, 144.21993738, 145.73577867,\n",
       "       146.9042295 , 147.53516121, 146.86158362, 143.66496994,\n",
       "       144.14015127, 145.41651538, 146.01517551, 143.64758766,\n",
       "       144.18540937, 144.75221299, 141.07195251, 140.63430167,\n",
       "       140.1771412 , 139.78044943, 140.69553837, 138.84978387,\n",
       "       137.52336544, 137.91276285, 137.02594064, 136.67100206,\n",
       "       135.64792006, 137.75197426, 138.34434385, 135.97865887,\n",
       "       136.7551511 , 136.81160913, 137.62995121, 137.23357375,\n",
       "       137.29367438, 138.39251267, 139.96374418, 138.54647117,\n",
       "       137.84515198, 140.21039118, 138.73586892, 137.79025385,\n",
       "       138.47370348, 138.19010222, 137.16574214, 137.33125874,\n",
       "       137.57939817, 140.37885016, 140.7077068 , 139.12901378,\n",
       "       139.0592222 , 141.02044368, 146.46122744, 144.74213834,\n",
       "       146.8656204 , 157.22337695, 156.1928398 , 153.24104655,\n",
       "       156.03154681, 157.02139082, 155.43532726, 155.43096482,\n",
       "       156.82215288, 158.39180622, 160.94149729, 160.26090691,\n",
       "       160.33674957, 159.31671582, 157.17440303, 156.97033241,\n",
       "       156.02349158, 156.25795721, 154.75309688, 154.52001258,\n",
       "       156.22274148, 156.34294321, 155.91682844, 157.99346761,\n",
       "       157.37041788, 155.78256687, 155.67026914, 156.4766507 ,\n",
       "       154.06566586, 154.54177418, 155.05257574, 155.12792089,\n",
       "       152.98156459, 153.8556107 , 157.56160907, 155.89747811,\n",
       "       155.04034101, 155.08593967, 154.77702108, 154.14308616,\n",
       "       153.91116998, 153.28607092, 154.46726799, 153.62225413,\n",
       "       154.5059943 , 153.7670717 , 152.8967724 , 153.33909969,\n",
       "       151.40260325, 149.20779686, 144.73918482, 147.17569678,\n",
       "       144.86411061, 146.60455716, 147.40702246, 150.50914257,\n",
       "       154.57241793, 150.65637971, 151.8245386 , 150.23635773,\n",
       "       151.69254012, 150.18672026, 151.02328389, 150.04759616,\n",
       "       148.59459352, 148.13866844, 150.22681008, 149.29013425,\n",
       "       148.0041961 , 141.83994017, 136.67937931, 131.75602534,\n",
       "       126.1827443 , 125.70312186, 127.94335754, 124.00374692,\n",
       "       126.85962678, 121.62022619, 122.59581394])"
      ]
     },
     "execution_count": 67,
     "metadata": {},
     "output_type": "execute_result"
    }
   ],
   "source": [
    "forecast_set = clfreg.predict(X_lately)\n",
    "dfreg['Forecast'] = np.nan\n",
    "forecast_set"
   ]
  },
  {
   "cell_type": "markdown",
   "metadata": {
    "colab_type": "text",
    "id": "WsZgsokMRNat"
   },
   "source": [
    "## Plotting the Prediction"
   ]
  },
  {
   "cell_type": "code",
   "execution_count": 68,
   "metadata": {
    "colab": {
     "base_uri": "https://localhost:8080/",
     "height": 431
    },
    "colab_type": "code",
    "id": "mjxpersORKVi",
    "outputId": "7177c336-7f8d-4489-ed07-6a1c9ba6aa35"
   },
   "outputs": [
    {
     "data": {
      "image/png": "[encoded data removed]",
      "text/plain": [
       "<Figure size 640x480 with 1 Axes>"
      ]
     },
     "metadata": {},
     "output_type": "display_data"
    }
   ],
   "source": [
    "last_date = dfreg.iloc[-1].name\n",
    "last_unix = last_date\n",
    "next_unix = last_unix + datetime.timedelta(days=1)\n",
    "\n",
    "for i in forecast_set:\n",
    "    next_date = next_unix\n",
    "    next_unix += datetime.timedelta(days=1)\n",
    "    dfreg.loc[next_date] = [np.nan for _ in range(len(dfreg.columns)-1)]+[i]\n",
    "dfreg['Adj Close'].tail(500).plot()\n",
    "dfreg['Forecast'].tail(500).plot()\n",
    "plt.legend(loc=4)\n",
    "plt.xlabel('Date')\n",
    "plt.ylabel('Price')\n",
    "plt.show()"
   ]
  },
  {
   "cell_type": "code",
   "execution_count": null,
   "metadata": {},
   "outputs": [],
   "source": []
  }
 ],
 "metadata": {
  "colab": {
   "name": "Untitled0.ipynb",
   "provenance": [],
   "version": "0.3.2"
  },
  "kernelspec": {
   "display_name": "Python 3",
   "language": "python",
   "name": "python3"
  },
  "language_info": {
   "codemirror_mode": {
    "name": "ipython",
    "version": 3
   },
   "file_extension": ".py",
   "mimetype": "text/x-python",
   "name": "python",
   "nbconvert_exporter": "python",
   "pygments_lexer": "ipython3",
   "version": "3.7.6"
  }
 },
 "nbformat": 4,
 "nbformat_minor": 1
}

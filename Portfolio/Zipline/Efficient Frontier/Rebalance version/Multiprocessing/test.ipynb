{
 "cells": [
  {
   "cell_type": "code",
   "execution_count": 1,
   "metadata": {
    "collapsed": true
   },
   "outputs": [],
   "source": [
    "%load_ext zipline\n",
    "%load_ext watermark\n",
    "%matplotlib inline\n",
    "%config InlineBackend.figure_format = 'retina'"
   ]
  },
  {
   "cell_type": "code",
   "execution_count": 2,
   "metadata": {
    "collapsed": true
   },
   "outputs": [],
   "source": [
    "# Pandas and numpy for data manipulation\n",
    "import pandas as pd\n",
    "import numpy as np\n",
    "\n",
    "from collections import OrderedDict\n",
    "import pytz\n",
    "\n",
    "# необходимые функции zipline\n",
    "from zipline.api import (order, record, symbol, set_benchmark, order_target_percent, get_open_orders, order_target, \n",
    "                        schedule_function, date_rules, time_rules, order_percent, symbols)\n",
    "# комиссии\n",
    "from zipline.finance import commission\n",
    "\n",
    "# выбор календаря по которому происходит торговля\n",
    "from trading_calendars.always_open import AlwaysOpenCalendar\n",
    "\n",
    "import zipline\n",
    "\n",
    "# ignore warnings\n",
    "import warnings\n",
    "warnings.filterwarnings('ignore')\n",
    "\n",
    "from datetime import datetime, date\n",
    "\n",
    "# aинансовые данные\n",
    "from yahoofinancials import YahooFinancials\n",
    "\n",
    "# отчёт\n",
    "import pyfolio as pf\n",
    "\n",
    "# import helper functions \n",
    "import qf_helper_functions as qf\n",
    "\n",
    "import pypfopt\n",
    "from pypfopt.efficient_frontier import EfficientFrontier\n",
    "from pypfopt import risk_models\n",
    "from pypfopt import expected_returns\n",
    "\n",
    "import pylab\n",
    "\n",
    "from tqdm import tqdm\n",
    "\n",
    "import matplotlib.pyplot as plt\n",
    "from matplotlib.pyplot import figure\n",
    "from matplotlib import style\n",
    "from matplotlib import mlab\n",
    "import matplotlib.dates as mdates\n",
    "import matplotlib.ticker as ticker\n",
    "%matplotlib inline\n",
    "\n",
    "plt.style.use('default')\n",
    "plt.rcParams['figure.figsize'] = [12, 4]\n",
    "plt.rcParams['figure.dpi'] = 200\n",
    "\n",
    "#векторный формат\n",
    "%config InlineBackend.figure_format = 'svg'\n",
    "\n",
    "from tqdm import tqdm"
   ]
  },
  {
   "cell_type": "code",
   "execution_count": 3,
   "metadata": {
    "collapsed": true
   },
   "outputs": [],
   "source": [
    "from multiprocess import Pool\n",
    "from multiprocessing.dummy import Pool as ThreadPool\n",
    "\n",
    "#pool = ThreadPool(4) # Sets the pool size to 4\n",
    "pool = ThreadPool()"
   ]
  },
  {
   "cell_type": "code",
   "execution_count": null,
   "metadata": {
    "collapsed": false
   },
   "outputs": [],
   "source": [
    "def count(n):\n",
    "    n*n*n"
   ]
  },
  {
   "cell_type": "code",
   "execution_count": null,
   "metadata": {
    "collapsed": false
   },
   "outputs": [],
   "source": [
    "results = pool.map(count, range(0,100000000,1))"
   ]
  },
  {
   "cell_type": "code",
   "execution_count": null,
   "metadata": {
    "collapsed": true
   },
   "outputs": [],
   "source": []
  }
 ],
 "metadata": {
  "anaconda-cloud": {},
  "kernelspec": {
   "display_name": "Python [default]",
   "language": "python",
   "name": "python3"
  },
  "language_info": {
   "codemirror_mode": {
    "name": "ipython",
    "version": 3
   },
   "file_extension": ".py",
   "mimetype": "text/x-python",
   "name": "python",
   "nbconvert_exporter": "python",
   "pygments_lexer": "ipython3",
   "version": "3.5.2"
  }
 },
 "nbformat": 4,
 "nbformat_minor": 1
}
